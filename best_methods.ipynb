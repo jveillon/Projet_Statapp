{
 "cells": [
  {
   "cell_type": "code",
   "execution_count": 2,
   "id": "a76213a2-e9af-4a20-90ea-863f8e0372f9",
   "metadata": {
    "tags": []
   },
   "outputs": [],
   "source": [
    "import pandas as pd"
   ]
  },
  {
   "cell_type": "code",
   "execution_count": 6,
   "id": "65e25772-4bc3-4feb-9971-34a1ebf03665",
   "metadata": {
    "tags": []
   },
   "outputs": [],
   "source": [
    "df = pd.read_csv(\"r_squared_all.csv\")"
   ]
  },
  {
   "cell_type": "code",
   "execution_count": 7,
   "id": "98406605-7ff8-43c9-b34c-27ad7cd06ad3",
   "metadata": {
    "tags": []
   },
   "outputs": [
    {
     "data": {
      "text/html": [
       "<div>\n",
       "<style scoped>\n",
       "    .dataframe tbody tr th:only-of-type {\n",
       "        vertical-align: middle;\n",
       "    }\n",
       "\n",
       "    .dataframe tbody tr th {\n",
       "        vertical-align: top;\n",
       "    }\n",
       "\n",
       "    .dataframe thead th {\n",
       "        text-align: right;\n",
       "    }\n",
       "</style>\n",
       "<table border=\"1\" class=\"dataframe\">\n",
       "  <thead>\n",
       "    <tr style=\"text-align: right;\">\n",
       "      <th></th>\n",
       "      <th>outcome</th>\n",
       "      <th>team</th>\n",
       "      <th>r.squared</th>\n",
       "      <th>beatingBaseline</th>\n",
       "    </tr>\n",
       "  </thead>\n",
       "  <tbody>\n",
       "    <tr>\n",
       "      <th>0</th>\n",
       "      <td>eviction</td>\n",
       "      <td>ADSgrp5</td>\n",
       "      <td>1.215839e-11</td>\n",
       "      <td>False</td>\n",
       "    </tr>\n",
       "    <tr>\n",
       "      <th>1</th>\n",
       "      <td>eviction</td>\n",
       "      <td>aemack</td>\n",
       "      <td>3.194527e-02</td>\n",
       "      <td>True</td>\n",
       "    </tr>\n",
       "    <tr>\n",
       "      <th>2</th>\n",
       "      <td>eviction</td>\n",
       "      <td>agalle</td>\n",
       "      <td>-6.261104e-02</td>\n",
       "      <td>False</td>\n",
       "    </tr>\n",
       "    <tr>\n",
       "      <th>3</th>\n",
       "      <td>eviction</td>\n",
       "      <td>alexlibby</td>\n",
       "      <td>-1.770461e-01</td>\n",
       "      <td>False</td>\n",
       "    </tr>\n",
       "    <tr>\n",
       "      <th>4</th>\n",
       "      <td>eviction</td>\n",
       "      <td>alhajri</td>\n",
       "      <td>-7.914023e-03</td>\n",
       "      <td>False</td>\n",
       "    </tr>\n",
       "  </tbody>\n",
       "</table>\n",
       "</div>"
      ],
      "text/plain": [
       "    outcome       team     r.squared  beatingBaseline\n",
       "0  eviction    ADSgrp5  1.215839e-11            False\n",
       "1  eviction     aemack  3.194527e-02             True\n",
       "2  eviction     agalle -6.261104e-02            False\n",
       "3  eviction  alexlibby -1.770461e-01            False\n",
       "4  eviction    alhajri -7.914023e-03            False"
      ]
     },
     "execution_count": 7,
     "metadata": {},
     "output_type": "execute_result"
    }
   ],
   "source": [
    "df.head()"
   ]
  },
  {
   "cell_type": "code",
   "execution_count": 9,
   "id": "d23a24fd-6a41-4c62-9e67-be752a43274a",
   "metadata": {
    "tags": []
   },
   "outputs": [
    {
     "name": "stdout",
     "output_type": "stream",
     "text": [
      "Maximum value of column  r.squared  and its corresponding row values:\n",
      " outcome            materialHardship\n",
      "team                       haixiaow\n",
      "r.squared                  0.231871\n",
      "beatingBaseline                True\n",
      "Name: 860, dtype: object\n"
     ]
    }
   ],
   "source": [
    "col = \"r.squared\"\n",
    "max_x = df.loc[df[col].idxmax()]\n",
    "print(\"Maximum value of column \", col, \" and its corresponding row values:\\n\", max_x)"
   ]
  },
  {
   "cell_type": "code",
   "execution_count": 15,
   "id": "a6101805-0fe8-4ad3-8ad2-811fc4f223cf",
   "metadata": {
    "tags": []
   },
   "outputs": [
    {
     "data": {
      "text/plain": [
       "860    0.231871\n",
       "800    0.228609\n",
       "959    0.228268\n",
       "953    0.223909\n",
       "Name: r.squared, dtype: float64"
      ]
     },
     "execution_count": 15,
     "metadata": {},
     "output_type": "execute_result"
    }
   ],
   "source": [
    "df['r.squared'].nlargest(2)"
   ]
  },
  {
   "cell_type": "code",
   "execution_count": 18,
   "id": "8062fa2a-7d07-4d6c-8659-9796054296c2",
   "metadata": {
    "tags": []
   },
   "outputs": [
    {
     "name": "stdout",
     "output_type": "stream",
     "text": [
      "              outcome      team  r.squared  beatingBaseline\n",
      "860  materialHardship  haixiaow   0.231871             True\n",
      "              outcome     team  r.squared  beatingBaseline\n",
      "800  materialHardship  ADSgrp5   0.228609             True\n",
      "              outcome    team  r.squared  beatingBaseline\n",
      "959  materialHardship  zn2146   0.228268             True\n",
      "              outcome       team  r.squared  beatingBaseline\n",
      "953  materialHardship  wjlei1990   0.223909             True\n"
     ]
    }
   ],
   "source": [
    "print(df.loc[[860]])\n",
    "print(df.loc[[800]])"
   ]
  },
  {
   "cell_type": "code",
   "execution_count": null,
   "id": "ea5fcedc-c9c9-46c3-82a4-466a5f445de3",
   "metadata": {},
   "outputs": [],
   "source": []
  }
 ],
 "metadata": {
  "kernelspec": {
   "display_name": "Python 3 (ipykernel)",
   "language": "python",
   "name": "python3"
  },
  "language_info": {
   "codemirror_mode": {
    "name": "ipython",
    "version": 3
   },
   "file_extension": ".py",
   "mimetype": "text/x-python",
   "name": "python",
   "nbconvert_exporter": "python",
   "pygments_lexer": "ipython3",
   "version": "3.10.8"
  }
 },
 "nbformat": 4,
 "nbformat_minor": 5
}
