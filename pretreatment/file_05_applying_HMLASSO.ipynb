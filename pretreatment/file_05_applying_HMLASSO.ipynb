{
  "cells": [
    {
      "cell_type": "markdown",
      "metadata": {
        "id": "sICiZPzvEqMv"
      },
      "source": [
        "# Application of HMLasso"
      ]
    },
    {
      "cell_type": "markdown",
      "metadata": {
        "id": "ZdBZj93HEwKe"
      },
      "source": [
        "The main goal of this notebook is to use the previously implemented HMLasso to critically reduce the volume of columns."
      ]
    },
    {
      "cell_type": "markdown",
      "metadata": {
        "id": "qolTdJa2GO13"
      },
      "source": [
        "## Imports"
      ]
    },
    {
      "cell_type": "markdown",
      "metadata": {
        "id": "cahBntsE9gah"
      },
      "source": [
        "Please install root/mosek/mosek.lib before starting optimization."
      ]
    },
    {
      "cell_type": "code",
      "execution_count": 1,
      "metadata": {
        "id": "uJ3-jIrPGjcz"
      },
      "outputs": [],
      "source": [
        "!cp \"/content/drive/MyDrive/Statapp/file_04_HMLasso.py\" \"HMLasso.py\""
      ]
    },
    {
      "cell_type": "code",
      "execution_count": 4,
      "metadata": {
        "id": "HAFSMZZ4D3r_"
      },
      "outputs": [],
      "source": [
        "import pandas as pd\n",
        "import numpy as np\n",
        "\n",
        "from sklearn.preprocessing import StandardScaler # To standardize the data\n",
        "\n",
        "import HMLasso as hml # Lasso with High Missing Rate"
      ]
    },
    {
      "cell_type": "code",
      "execution_count": 3,
      "metadata": {
        "colab": {
          "base_uri": "https://localhost:8080/"
        },
        "id": "vOTnMpxJD-Pt",
        "outputId": "942c2217-7219-4485-cddc-cb0d8bffad97"
      },
      "outputs": [
        {
          "output_type": "stream",
          "name": "stderr",
          "text": [
            "<ipython-input-3-1d21f6d3a7c2>:2: DtypeWarning: Columns (2684) have mixed types. Specify dtype option on import or set low_memory=False.\n",
            "  data = pd.read_csv(\"/content/drive/MyDrive/Statapp/data_03.csv\")\n"
          ]
        }
      ],
      "source": [
        "columns_types = pd.read_csv(\"/content/drive/MyDrive/Statapp/data_03_columns_types.csv\")\n",
        "data = pd.read_csv(\"/content/drive/MyDrive/Statapp/data_03.csv\")"
      ]
    },
    {
      "cell_type": "markdown",
      "metadata": {
        "id": "IIiv6RFkEkmM"
      },
      "source": [
        "## Formatting the database"
      ]
    },
    {
      "cell_type": "markdown",
      "metadata": {
        "id": "NrpJ6NoqIhrm"
      },
      "source": [
        "Let us start by spotting temporal variables.\n",
        "\n",
        "We will use the code from a precedent notebook to do so."
      ]
    },
    {
      "cell_type": "code",
      "execution_count": 5,
      "metadata": {
        "id": "cA891PhlH_lp"
      },
      "outputs": [],
      "source": [
        "temporal_variables = {}\n",
        "waves_columns = [col for col in data.columns if \"genetic_\" not in col and col[1] in \"123456789\"]\n",
        "for col in waves_columns:\n",
        "  char = col[0] # R or H\n",
        "  if col[2] in \"01234\":\n",
        "    wave = col[1:3]\n",
        "    suffix = col[3:]\n",
        "  else:\n",
        "    wave = col[1]\n",
        "    suffix = col[2:]\n",
        "  variable = char + 'w' + suffix\n",
        "  \n",
        "  if variable not in temporal_variables.keys():\n",
        "    temporal_variables[variable] = np.zeros((14), dtype=bool)\n",
        "  \n",
        "  temporal_variables[variable][int(wave)-1] = True\n",
        "\n",
        "temporal_variables = pd.DataFrame(temporal_variables)\n",
        "\n",
        "# We manually add \"GHIw\":\n",
        "temporal_variables[\"GHIw\"] = np.ones((14), dtype=bool)\n",
        "waves_columns += [f\"GHI{w}\" for w in range(1,15)]"
      ]
    },
    {
      "cell_type": "markdown",
      "metadata": {
        "id": "qd9uh9tPZgS5"
      },
      "source": [
        "## Don't do this at home !"
      ]
    },
    {
      "cell_type": "markdown",
      "metadata": {
        "id": "meItXT2xZj3y"
      },
      "source": [
        "In this section, we will experiment what happen if we wanted to simply line up all variables from all waves, regardless of whether the variable is present for this wave."
      ]
    },
    {
      "cell_type": "code",
      "execution_count": 6,
      "metadata": {
        "colab": {
          "base_uri": "https://localhost:8080/",
          "height": 299
        },
        "id": "Q_vibw53ZgBz",
        "outputId": "81dff424-7c20-47f0-88ac-60a37d356f9a"
      },
      "outputs": [
        {
          "output_type": "execute_result",
          "data": {
            "text/plain": [
              "   R1MPART  R1MLEN  R1MCURLN  R1MLENM  R1MNEV  H1ANYFIN  H1ANYFAM  R1FAMR  \\\n",
              "0      0.0    20.2       NaN      0.0     0.0       1.0       1.0     1.0   \n",
              "1      0.0    25.8       NaN      0.0     0.0       1.0       1.0     1.0   \n",
              "2      0.0    31.3      31.3      0.0     0.0       1.0       1.0     0.0   \n",
              "3      0.0    31.2      31.2      0.0     0.0       1.0       1.0     1.0   \n",
              "4      0.0     0.0       NaN      0.0     1.0       1.0       1.0     1.0   \n",
              "\n",
              "   R1FINR  H1HHRESP  ...  REXITWV_14.0  REPLDEATH_1.0  REPLDEATH_2.0  \\\n",
              "0     1.0       1.0  ...           0.0            0.0            1.0   \n",
              "1     1.0       1.0  ...           0.0            1.0            0.0   \n",
              "2     1.0       2.0  ...           0.0            0.0            1.0   \n",
              "3     0.0       2.0  ...           0.0            1.0            0.0   \n",
              "4     1.0       1.0  ...           NaN            NaN            NaN   \n",
              "\n",
              "   REPLDEATH_3.0  REPLDEATH_4.0  REPLDEATH_5.0  REPLDEATH_7.0  REXPDEATH_1.0  \\\n",
              "0            0.0            0.0            0.0            0.0            1.0   \n",
              "1            0.0            0.0            0.0            0.0            0.0   \n",
              "2            0.0            0.0            0.0            0.0            1.0   \n",
              "3            0.0            0.0            0.0            0.0            1.0   \n",
              "4            NaN            NaN            NaN            NaN            NaN   \n",
              "\n",
              "   REXPDEATH_2.0  REXPDEATH_7.0  \n",
              "0            0.0            0.0  \n",
              "1            1.0            0.0  \n",
              "2            0.0            0.0  \n",
              "3            0.0            0.0  \n",
              "4            NaN            NaN  \n",
              "\n",
              "[5 rows x 965 columns]"
            ],
            "text/html": [
              "\n",
              "  <div id=\"df-22f9f412-08a9-4528-8e43-8aaddabd2359\">\n",
              "    <div class=\"colab-df-container\">\n",
              "      <div>\n",
              "<style scoped>\n",
              "    .dataframe tbody tr th:only-of-type {\n",
              "        vertical-align: middle;\n",
              "    }\n",
              "\n",
              "    .dataframe tbody tr th {\n",
              "        vertical-align: top;\n",
              "    }\n",
              "\n",
              "    .dataframe thead th {\n",
              "        text-align: right;\n",
              "    }\n",
              "</style>\n",
              "<table border=\"1\" class=\"dataframe\">\n",
              "  <thead>\n",
              "    <tr style=\"text-align: right;\">\n",
              "      <th></th>\n",
              "      <th>R1MPART</th>\n",
              "      <th>R1MLEN</th>\n",
              "      <th>R1MCURLN</th>\n",
              "      <th>R1MLENM</th>\n",
              "      <th>R1MNEV</th>\n",
              "      <th>H1ANYFIN</th>\n",
              "      <th>H1ANYFAM</th>\n",
              "      <th>R1FAMR</th>\n",
              "      <th>R1FINR</th>\n",
              "      <th>H1HHRESP</th>\n",
              "      <th>...</th>\n",
              "      <th>REXITWV_14.0</th>\n",
              "      <th>REPLDEATH_1.0</th>\n",
              "      <th>REPLDEATH_2.0</th>\n",
              "      <th>REPLDEATH_3.0</th>\n",
              "      <th>REPLDEATH_4.0</th>\n",
              "      <th>REPLDEATH_5.0</th>\n",
              "      <th>REPLDEATH_7.0</th>\n",
              "      <th>REXPDEATH_1.0</th>\n",
              "      <th>REXPDEATH_2.0</th>\n",
              "      <th>REXPDEATH_7.0</th>\n",
              "    </tr>\n",
              "  </thead>\n",
              "  <tbody>\n",
              "    <tr>\n",
              "      <th>0</th>\n",
              "      <td>0.0</td>\n",
              "      <td>20.2</td>\n",
              "      <td>NaN</td>\n",
              "      <td>0.0</td>\n",
              "      <td>0.0</td>\n",
              "      <td>1.0</td>\n",
              "      <td>1.0</td>\n",
              "      <td>1.0</td>\n",
              "      <td>1.0</td>\n",
              "      <td>1.0</td>\n",
              "      <td>...</td>\n",
              "      <td>0.0</td>\n",
              "      <td>0.0</td>\n",
              "      <td>1.0</td>\n",
              "      <td>0.0</td>\n",
              "      <td>0.0</td>\n",
              "      <td>0.0</td>\n",
              "      <td>0.0</td>\n",
              "      <td>1.0</td>\n",
              "      <td>0.0</td>\n",
              "      <td>0.0</td>\n",
              "    </tr>\n",
              "    <tr>\n",
              "      <th>1</th>\n",
              "      <td>0.0</td>\n",
              "      <td>25.8</td>\n",
              "      <td>NaN</td>\n",
              "      <td>0.0</td>\n",
              "      <td>0.0</td>\n",
              "      <td>1.0</td>\n",
              "      <td>1.0</td>\n",
              "      <td>1.0</td>\n",
              "      <td>1.0</td>\n",
              "      <td>1.0</td>\n",
              "      <td>...</td>\n",
              "      <td>0.0</td>\n",
              "      <td>1.0</td>\n",
              "      <td>0.0</td>\n",
              "      <td>0.0</td>\n",
              "      <td>0.0</td>\n",
              "      <td>0.0</td>\n",
              "      <td>0.0</td>\n",
              "      <td>0.0</td>\n",
              "      <td>1.0</td>\n",
              "      <td>0.0</td>\n",
              "    </tr>\n",
              "    <tr>\n",
              "      <th>2</th>\n",
              "      <td>0.0</td>\n",
              "      <td>31.3</td>\n",
              "      <td>31.3</td>\n",
              "      <td>0.0</td>\n",
              "      <td>0.0</td>\n",
              "      <td>1.0</td>\n",
              "      <td>1.0</td>\n",
              "      <td>0.0</td>\n",
              "      <td>1.0</td>\n",
              "      <td>2.0</td>\n",
              "      <td>...</td>\n",
              "      <td>0.0</td>\n",
              "      <td>0.0</td>\n",
              "      <td>1.0</td>\n",
              "      <td>0.0</td>\n",
              "      <td>0.0</td>\n",
              "      <td>0.0</td>\n",
              "      <td>0.0</td>\n",
              "      <td>1.0</td>\n",
              "      <td>0.0</td>\n",
              "      <td>0.0</td>\n",
              "    </tr>\n",
              "    <tr>\n",
              "      <th>3</th>\n",
              "      <td>0.0</td>\n",
              "      <td>31.2</td>\n",
              "      <td>31.2</td>\n",
              "      <td>0.0</td>\n",
              "      <td>0.0</td>\n",
              "      <td>1.0</td>\n",
              "      <td>1.0</td>\n",
              "      <td>1.0</td>\n",
              "      <td>0.0</td>\n",
              "      <td>2.0</td>\n",
              "      <td>...</td>\n",
              "      <td>0.0</td>\n",
              "      <td>1.0</td>\n",
              "      <td>0.0</td>\n",
              "      <td>0.0</td>\n",
              "      <td>0.0</td>\n",
              "      <td>0.0</td>\n",
              "      <td>0.0</td>\n",
              "      <td>1.0</td>\n",
              "      <td>0.0</td>\n",
              "      <td>0.0</td>\n",
              "    </tr>\n",
              "    <tr>\n",
              "      <th>4</th>\n",
              "      <td>0.0</td>\n",
              "      <td>0.0</td>\n",
              "      <td>NaN</td>\n",
              "      <td>0.0</td>\n",
              "      <td>1.0</td>\n",
              "      <td>1.0</td>\n",
              "      <td>1.0</td>\n",
              "      <td>1.0</td>\n",
              "      <td>1.0</td>\n",
              "      <td>1.0</td>\n",
              "      <td>...</td>\n",
              "      <td>NaN</td>\n",
              "      <td>NaN</td>\n",
              "      <td>NaN</td>\n",
              "      <td>NaN</td>\n",
              "      <td>NaN</td>\n",
              "      <td>NaN</td>\n",
              "      <td>NaN</td>\n",
              "      <td>NaN</td>\n",
              "      <td>NaN</td>\n",
              "      <td>NaN</td>\n",
              "    </tr>\n",
              "  </tbody>\n",
              "</table>\n",
              "<p>5 rows × 965 columns</p>\n",
              "</div>\n",
              "      <button class=\"colab-df-convert\" onclick=\"convertToInteractive('df-22f9f412-08a9-4528-8e43-8aaddabd2359')\"\n",
              "              title=\"Convert this dataframe to an interactive table.\"\n",
              "              style=\"display:none;\">\n",
              "        \n",
              "  <svg xmlns=\"http://www.w3.org/2000/svg\" height=\"24px\"viewBox=\"0 0 24 24\"\n",
              "       width=\"24px\">\n",
              "    <path d=\"M0 0h24v24H0V0z\" fill=\"none\"/>\n",
              "    <path d=\"M18.56 5.44l.94 2.06.94-2.06 2.06-.94-2.06-.94-.94-2.06-.94 2.06-2.06.94zm-11 1L8.5 8.5l.94-2.06 2.06-.94-2.06-.94L8.5 2.5l-.94 2.06-2.06.94zm10 10l.94 2.06.94-2.06 2.06-.94-2.06-.94-.94-2.06-.94 2.06-2.06.94z\"/><path d=\"M17.41 7.96l-1.37-1.37c-.4-.4-.92-.59-1.43-.59-.52 0-1.04.2-1.43.59L10.3 9.45l-7.72 7.72c-.78.78-.78 2.05 0 2.83L4 21.41c.39.39.9.59 1.41.59.51 0 1.02-.2 1.41-.59l7.78-7.78 2.81-2.81c.8-.78.8-2.07 0-2.86zM5.41 20L4 18.59l7.72-7.72 1.47 1.35L5.41 20z\"/>\n",
              "  </svg>\n",
              "      </button>\n",
              "      \n",
              "  <style>\n",
              "    .colab-df-container {\n",
              "      display:flex;\n",
              "      flex-wrap:wrap;\n",
              "      gap: 12px;\n",
              "    }\n",
              "\n",
              "    .colab-df-convert {\n",
              "      background-color: #E8F0FE;\n",
              "      border: none;\n",
              "      border-radius: 50%;\n",
              "      cursor: pointer;\n",
              "      display: none;\n",
              "      fill: #1967D2;\n",
              "      height: 32px;\n",
              "      padding: 0 0 0 0;\n",
              "      width: 32px;\n",
              "    }\n",
              "\n",
              "    .colab-df-convert:hover {\n",
              "      background-color: #E2EBFA;\n",
              "      box-shadow: 0px 1px 2px rgba(60, 64, 67, 0.3), 0px 1px 3px 1px rgba(60, 64, 67, 0.15);\n",
              "      fill: #174EA6;\n",
              "    }\n",
              "\n",
              "    [theme=dark] .colab-df-convert {\n",
              "      background-color: #3B4455;\n",
              "      fill: #D2E3FC;\n",
              "    }\n",
              "\n",
              "    [theme=dark] .colab-df-convert:hover {\n",
              "      background-color: #434B5C;\n",
              "      box-shadow: 0px 1px 3px 1px rgba(0, 0, 0, 0.15);\n",
              "      filter: drop-shadow(0px 1px 2px rgba(0, 0, 0, 0.3));\n",
              "      fill: #FFFFFF;\n",
              "    }\n",
              "  </style>\n",
              "\n",
              "      <script>\n",
              "        const buttonEl =\n",
              "          document.querySelector('#df-22f9f412-08a9-4528-8e43-8aaddabd2359 button.colab-df-convert');\n",
              "        buttonEl.style.display =\n",
              "          google.colab.kernel.accessAllowed ? 'block' : 'none';\n",
              "\n",
              "        async function convertToInteractive(key) {\n",
              "          const element = document.querySelector('#df-22f9f412-08a9-4528-8e43-8aaddabd2359');\n",
              "          const dataTable =\n",
              "            await google.colab.kernel.invokeFunction('convertToInteractive',\n",
              "                                                     [key], {});\n",
              "          if (!dataTable) return;\n",
              "\n",
              "          const docLinkHtml = 'Like what you see? Visit the ' +\n",
              "            '<a target=\"_blank\" href=https://colab.research.google.com/notebooks/data_table.ipynb>data table notebook</a>'\n",
              "            + ' to learn more about interactive tables.';\n",
              "          element.innerHTML = '';\n",
              "          dataTable['output_type'] = 'display_data';\n",
              "          await google.colab.output.renderOutput(dataTable, element);\n",
              "          const docLink = document.createElement('div');\n",
              "          docLink.innerHTML = docLinkHtml;\n",
              "          element.appendChild(docLink);\n",
              "        }\n",
              "      </script>\n",
              "    </div>\n",
              "  </div>\n",
              "  "
            ]
          },
          "metadata": {},
          "execution_count": 6
        }
      ],
      "source": [
        "columns_wave1 = [col.replace('w', str(1)) for col in temporal_variables.T[0].index[temporal_variables.T[0]]]\n",
        "non_waves_columns = [col for col in data.columns if col not in waves_columns]\n",
        "\n",
        "data_wave1 = data.loc[data[\"INW1\"] == 1, columns_wave1 + non_waves_columns]\n",
        "data_wave1.head()"
      ]
    },
    {
      "cell_type": "code",
      "execution_count": 7,
      "metadata": {
        "id": "_C5XZGnwdJCx"
      },
      "outputs": [],
      "source": [
        "columns_to_drop_in_Xy = [\"HHIDPN\", \"HHID\", \"PN\"] + [f\"INW{w}\" for w in range(1,15)] + [\"genetic_Section_A_or_E\"] + [\"GHI1\"]\n",
        "X = data_wave1.drop(columns=columns_to_drop_in_Xy).values\n",
        "y = data_wave1[\"GHI1\"].values"
      ]
    },
    {
      "cell_type": "code",
      "execution_count": 8,
      "metadata": {
        "colab": {
          "base_uri": "https://localhost:8080/"
        },
        "id": "EUVEj5Z-fs6J",
        "outputId": "b0a6abfc-3e2b-4e8b-e87d-d8dd4a464ccf"
      },
      "outputs": [
        {
          "output_type": "stream",
          "name": "stdout",
          "text": [
            "(12651, 946) (12651,)\n"
          ]
        }
      ],
      "source": [
        "print(X.shape, y.shape)"
      ]
    },
    {
      "cell_type": "code",
      "execution_count": 9,
      "metadata": {
        "id": "B9Q1zA6Gf5dQ"
      },
      "outputs": [],
      "source": [
        "scaler = StandardScaler()#(with_std=False)\n",
        "X = scaler.fit_transform(X)"
      ]
    },
    {
      "cell_type": "code",
      "execution_count": 10,
      "metadata": {
        "colab": {
          "base_uri": "https://localhost:8080/"
        },
        "id": "kBIDhuGTw4bh",
        "outputId": "fefedc7f-1d76-425d-c019-00d9b0c5ec14"
      },
      "outputs": [
        {
          "output_type": "execute_result",
          "data": {
            "text/plain": [
              "array([[-0.17716539, -0.54910809,         nan, ...,  0.91789705,\n",
              "        -0.8697622 , -0.16526982],\n",
              "       [-0.17716539, -0.04533656,         nan, ..., -1.0894468 ,\n",
              "         1.14973955, -0.16526982],\n",
              "       [-0.17716539,  0.44943904,  0.34480223, ...,  0.91789705,\n",
              "        -0.8697622 , -0.16526982],\n",
              "       ...,\n",
              "       [-0.17716539,  0.30550432,  0.20068924, ...,         nan,\n",
              "                nan,         nan],\n",
              "       [-0.17716539,  2.04171688, -2.27625286, ...,  0.91789705,\n",
              "        -0.8697622 , -0.16526982],\n",
              "       [-0.17716539, -0.83697753, -2.27625286, ...,         nan,\n",
              "                nan,         nan]])"
            ]
          },
          "metadata": {},
          "execution_count": 10
        }
      ],
      "source": [
        "X"
      ]
    },
    {
      "cell_type": "code",
      "execution_count": 12,
      "metadata": {
        "id": "WQT-mTQoHQLQ",
        "colab": {
          "base_uri": "https://localhost:8080/"
        },
        "outputId": "62d53498-d5c7-4304-f78e-766b845396a0"
      },
      "outputs": [
        {
          "output_type": "stream",
          "name": "stdout",
          "text": [
            "[Imputing parameters] Starting...\n",
            "[Imputing parameters] R calculated.\n",
            "[Imputing parameters] rho_pair calculated.\n",
            "[Imputing parameters] S_pair calculated.\n",
            "[Imputing parameters] Parameters imputed.\n",
            "[First Problem] Starting...\n",
            "[First Problem] Objective and constraints well-defined.\n",
            "===============================================================================\n",
            "                                     CVXPY                                     \n",
            "                                     v1.3.1                                    \n",
            "===============================================================================\n",
            "(CVXPY) Apr 10 09:49:52 AM: Your problem has 894916 variables, 1 constraints, and 0 parameters.\n",
            "(CVXPY) Apr 10 09:49:52 AM: It is compliant with the following grammars: DCP, DQCP\n",
            "(CVXPY) Apr 10 09:49:52 AM: (If you need to solve this problem multiple times, but with different data, consider using parameters.)\n",
            "(CVXPY) Apr 10 09:49:52 AM: CVXPY will first compile your problem; then, it will invoke a numerical solver to obtain a solution.\n",
            "-------------------------------------------------------------------------------\n",
            "                                  Compilation                                  \n",
            "-------------------------------------------------------------------------------\n",
            "(CVXPY) Apr 10 09:49:52 AM: Compiling problem (target solver=SCS).\n",
            "(CVXPY) Apr 10 09:49:52 AM: Reduction chain: Dcp2Cone -> CvxAttr2Constr -> ConeMatrixStuffing -> SCS\n",
            "(CVXPY) Apr 10 09:49:52 AM: Applying reduction Dcp2Cone\n",
            "(CVXPY) Apr 10 09:49:52 AM: Applying reduction CvxAttr2Constr\n",
            "(CVXPY) Apr 10 09:49:55 AM: Applying reduction ConeMatrixStuffing\n",
            "(CVXPY) Apr 10 09:49:56 AM: Applying reduction SCS\n",
            "(CVXPY) Apr 10 09:49:57 AM: Finished problem compilation (took 4.566e+00 seconds).\n",
            "-------------------------------------------------------------------------------\n",
            "                                Numerical solver                               \n",
            "-------------------------------------------------------------------------------\n",
            "(CVXPY) Apr 10 09:49:57 AM: Invoking solver SCS  to obtain a solution.\n",
            "------------------------------------------------------------------\n",
            "\t       SCS v3.2.2 - Splitting Conic Solver\n",
            "\t(c) Brendan O'Donoghue, Stanford University, 2012\n",
            "------------------------------------------------------------------\n",
            "problem:  variables n: 1342847, constraints m: 1790778\n",
            "cones: \t  z: primal zero / dual free vars: 894916\n",
            "\t  s: psd vars: 895862, ssize: 2\n",
            "settings: eps_abs: 1.0e-05, eps_rel: 1.0e-05, eps_infeas: 1.0e-07\n",
            "\t  alpha: 1.50, scale: 1.00e-01, adaptive_scale: 1\n",
            "\t  max_iters: 100000, normalize: 1, rho_x: 1.00e-06\n",
            "\t  acceleration_lookback: 10, acceleration_interval: 10\n",
            "lin-sys:  sparse-direct-amd-qdldl\n",
            "\t  nnz(A): 2651828, nnz(P): 894916\n",
            "------------------------------------------------------------------\n",
            " iter | pri res | dua res |   gap   |   obj   |  scale  | time (s)\n",
            "------------------------------------------------------------------\n",
            "     0| 9.98e-01  5.57e-01  1.11e+03  6.96e+02  1.00e-01  5.47e+00 \n",
            "   250| 1.03e-04  1.20e-04  1.08e-04  3.14e-01  1.92e-02  3.57e+02 \n",
            "   350| 8.77e-06  2.58e-06  8.12e-08  3.13e-01  1.92e-02  4.97e+02 \n",
            "------------------------------------------------------------------\n",
            "status:  solved\n",
            "timings: total: 4.98e+02s = setup: 3.96e+00s + solve: 4.94e+02s\n",
            "\t lin-sys: 1.75e+01s, cones: 4.67e+02s, accel: 1.58e+00s\n",
            "------------------------------------------------------------------\n",
            "objective = 0.313406\n",
            "------------------------------------------------------------------\n",
            "-------------------------------------------------------------------------------\n",
            "                                    Summary                                    \n",
            "-------------------------------------------------------------------------------\n",
            "(CVXPY) Apr 10 09:58:15 AM: Problem status: optimal\n",
            "(CVXPY) Apr 10 09:58:15 AM: Optimal value: 3.134e-01\n",
            "(CVXPY) Apr 10 09:58:15 AM: Compilation took 4.566e+00 seconds\n",
            "(CVXPY) Apr 10 09:58:15 AM: Solver (including time spent in interface) took 4.976e+02 seconds\n",
            "[First Problem] Problem status: optimal.\n",
            "[First Problem] Problem solved.\n",
            "[Warning] Sigma_opt is not PSD, its minimum eigenvalue is (-1.2185058826133158e-05+0j). Error handled by adding (1.2185058826133158e-05-0j) to each eigenvalue.\n",
            "[Second Problem] Starting...\n",
            "[Second Problem] Objective and constraints well-defined.\n",
            "===============================================================================\n",
            "                                     CVXPY                                     \n",
            "                                     v1.3.1                                    \n",
            "===============================================================================\n",
            "(CVXPY) Apr 10 09:58:16 AM: Your problem has 946 variables, 0 constraints, and 0 parameters.\n",
            "(CVXPY) Apr 10 09:58:16 AM: It is compliant with the following grammars: DCP, DQCP\n",
            "(CVXPY) Apr 10 09:58:16 AM: (If you need to solve this problem multiple times, but with different data, consider using parameters.)\n",
            "(CVXPY) Apr 10 09:58:16 AM: CVXPY will first compile your problem; then, it will invoke a numerical solver to obtain a solution.\n",
            "-------------------------------------------------------------------------------\n",
            "                                  Compilation                                  \n",
            "-------------------------------------------------------------------------------\n",
            "(CVXPY) Apr 10 09:58:16 AM: Compiling problem (target solver=SCS).\n",
            "(CVXPY) Apr 10 09:58:16 AM: Reduction chain: Dcp2Cone -> CvxAttr2Constr -> ConeMatrixStuffing -> SCS\n",
            "(CVXPY) Apr 10 09:58:16 AM: Applying reduction Dcp2Cone\n",
            "(CVXPY) Apr 10 09:58:16 AM: Applying reduction CvxAttr2Constr\n",
            "(CVXPY) Apr 10 09:58:16 AM: Applying reduction ConeMatrixStuffing\n",
            "(CVXPY) Apr 10 09:58:16 AM: Applying reduction SCS\n",
            "(CVXPY) Apr 10 09:58:16 AM: Finished problem compilation (took 2.085e-01 seconds).\n",
            "-------------------------------------------------------------------------------\n",
            "                                Numerical solver                               \n",
            "-------------------------------------------------------------------------------\n",
            "(CVXPY) Apr 10 09:58:16 AM: Invoking solver SCS  to obtain a solution.\n",
            "------------------------------------------------------------------\n",
            "\t       SCS v3.2.2 - Splitting Conic Solver\n",
            "\t(c) Brendan O'Donoghue, Stanford University, 2012\n",
            "------------------------------------------------------------------\n",
            "problem:  variables n: 1892, constraints m: 1892\n",
            "cones: \t  l: linear vars: 1892\n",
            "settings: eps_abs: 1.0e-05, eps_rel: 1.0e-05, eps_infeas: 1.0e-07\n",
            "\t  alpha: 1.50, scale: 1.00e-01, adaptive_scale: 1\n",
            "\t  max_iters: 100000, normalize: 1, rho_x: 1.00e-06\n",
            "\t  acceleration_lookback: 10, acceleration_interval: 10\n",
            "lin-sys:  sparse-direct-amd-qdldl\n",
            "\t  nnz(A): 3784, nnz(P): 447931\n",
            "------------------------------------------------------------------\n",
            " iter | pri res | dua res |   gap   |   obj   |  scale  | time (s)\n",
            "------------------------------------------------------------------\n",
            "     0| 1.41e+03  1.00e+02  1.34e+08 -6.68e+07  1.00e-01  2.47e-01 \n",
            "   125| 7.86e-11  1.11e-13  3.25e-12 -1.62e-12  2.44e+03  4.73e-01 \n",
            "------------------------------------------------------------------\n",
            "status:  solved\n",
            "timings: total: 4.74e-01s = setup: 2.26e-01s + solve: 2.48e-01s\n",
            "\t lin-sys: 1.04e-01s, cones: 6.01e-04s, accel: 3.22e-04s\n",
            "------------------------------------------------------------------\n",
            "objective = -0.000000\n",
            "------------------------------------------------------------------\n",
            "-------------------------------------------------------------------------------\n",
            "                                    Summary                                    \n",
            "-------------------------------------------------------------------------------\n",
            "(CVXPY) Apr 10 09:58:16 AM: Problem status: optimal\n",
            "(CVXPY) Apr 10 09:58:16 AM: Optimal value: 6.181e-07\n",
            "(CVXPY) Apr 10 09:58:16 AM: Compilation took 2.085e-01 seconds\n",
            "(CVXPY) Apr 10 09:58:16 AM: Solver (including time spent in interface) took 5.287e-01 seconds\n",
            "[Second Problem] Problem status: optimal.\n",
            "[Second Problem] Problem solved.\n",
            "\n",
            "Model fitted.\n"
          ]
        }
      ],
      "source": [
        "hml.ERRORS_HANDLING = \"ignore\"\n",
        "lasso = hml.HMLasso(mu = 100, verbose = True)\n",
        "lasso.fit(X, y)"
      ]
    }
  ],
  "metadata": {
    "colab": {
      "machine_shape": "hm",
      "provenance": []
    },
    "gpuClass": "standard",
    "kernelspec": {
      "display_name": "Python 3",
      "name": "python3"
    },
    "language_info": {
      "name": "python"
    }
  },
  "nbformat": 4,
  "nbformat_minor": 0
}