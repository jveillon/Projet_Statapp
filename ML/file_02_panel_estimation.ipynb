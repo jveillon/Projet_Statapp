{
 "cells": [
  {
   "cell_type": "markdown",
   "id": "7c0307ef",
   "metadata": {},
   "source": [
    "Import of libraries"
   ]
  },
  {
   "cell_type": "code",
   "execution_count": 1,
   "id": "747ca7cd",
   "metadata": {},
   "outputs": [],
   "source": [
    "import numpy as np\n",
    "import pandas as pd\n",
    "from sklearn.model_selection import train_test_split\n",
    "from sklearn.preprocessing import StandardScaler # To standardize the data\n",
    "import cvxpy as cp"
   ]
  },
  {
   "cell_type": "markdown",
   "id": "78fbb11d",
   "metadata": {},
   "source": [
    "Import of the HMLasso function"
   ]
  },
  {
   "cell_type": "code",
   "execution_count": 2,
   "id": "e07cd446",
   "metadata": {},
   "outputs": [],
   "source": [
    "### Adapt the path \"C:/Users/Kilian/Desktop/ENSAE/STATAPP\" to run the cell\n",
    "\n",
    "import sys\n",
    "sys.path.insert(1, 'C:/Users/Kilian/Desktop/ENSAE/STATAPP/Projet_Statapp/pretreatment')\n",
    "\n",
    "import file_04_HMLasso as hml"
   ]
  },
  {
   "cell_type": "markdown",
   "id": "bf72f6ac",
   "metadata": {},
   "source": [
    "## Data downloading and separation of the dataset"
   ]
  },
  {
   "cell_type": "markdown",
   "id": "54ca111d",
   "metadata": {},
   "source": [
    "Dataset containing the types of each column from data_03.csv"
   ]
  },
  {
   "cell_type": "code",
   "execution_count": 3,
   "id": "f16325af",
   "metadata": {},
   "outputs": [
    {
     "data": {
      "text/html": [
       "<div>\n",
       "<style scoped>\n",
       "    .dataframe tbody tr th:only-of-type {\n",
       "        vertical-align: middle;\n",
       "    }\n",
       "\n",
       "    .dataframe tbody tr th {\n",
       "        vertical-align: top;\n",
       "    }\n",
       "\n",
       "    .dataframe thead th {\n",
       "        text-align: right;\n",
       "    }\n",
       "</style>\n",
       "<table border=\"1\" class=\"dataframe\">\n",
       "  <thead>\n",
       "    <tr style=\"text-align: right;\">\n",
       "      <th></th>\n",
       "      <th>Name</th>\n",
       "      <th>Type</th>\n",
       "    </tr>\n",
       "  </thead>\n",
       "  <tbody>\n",
       "    <tr>\n",
       "      <th>0</th>\n",
       "      <td>HHIDPN</td>\n",
       "      <td>Cont</td>\n",
       "    </tr>\n",
       "    <tr>\n",
       "      <th>1</th>\n",
       "      <td>HHID</td>\n",
       "      <td>Char</td>\n",
       "    </tr>\n",
       "    <tr>\n",
       "      <th>2</th>\n",
       "      <td>PN</td>\n",
       "      <td>Char</td>\n",
       "    </tr>\n",
       "  </tbody>\n",
       "</table>\n",
       "</div>"
      ],
      "text/plain": [
       "     Name  Type\n",
       "0  HHIDPN  Cont\n",
       "1    HHID  Char\n",
       "2      PN  Char"
      ]
     },
     "execution_count": 3,
     "metadata": {},
     "output_type": "execute_result"
    }
   ],
   "source": [
    "columns_types = pd.read_csv(\"data_03_columns_types.csv\", index_col=0)\n",
    "columns_types.head(3)"
   ]
  },
  {
   "cell_type": "markdown",
   "id": "4bfbe86a",
   "metadata": {},
   "source": [
    "Downloading the data with social and genetic variables."
   ]
  },
  {
   "cell_type": "code",
   "execution_count": 4,
   "id": "015166c6",
   "metadata": {
    "scrolled": true
   },
   "outputs": [
    {
     "name": "stderr",
     "output_type": "stream",
     "text": [
      "C:\\Users\\Kilian\\AppData\\Local\\Temp\\ipykernel_6556\\3952530018.py:1: DtypeWarning: Columns (2684) have mixed types. Specify dtype option on import or set low_memory=False.\n",
      "  data = pd.read_csv(\"data_03.csv\")\n"
     ]
    }
   ],
   "source": [
    "data = pd.read_csv(\"data_03.csv\")"
   ]
  },
  {
   "cell_type": "markdown",
   "id": "b5aec591",
   "metadata": {},
   "source": [
    "The column \"genetic_Section_A_or_E\" have mixed types, so we change its format."
   ]
  },
  {
   "cell_type": "code",
   "execution_count": 5,
   "id": "965a817d",
   "metadata": {},
   "outputs": [],
   "source": [
    "temporary = np.where(data['genetic_Section_A_or_E'] == 'E', 1, np.where(data['genetic_Section_A_or_E'] == 'A', 0, np.nan))"
   ]
  },
  {
   "cell_type": "code",
   "execution_count": 6,
   "id": "02f5d456",
   "metadata": {},
   "outputs": [],
   "source": [
    "data[\"genetic_Section_A_or_E\"] = temporary"
   ]
  },
  {
   "cell_type": "markdown",
   "id": "ac6b4e72",
   "metadata": {},
   "source": [
    "Now we add the health index created by t-SNE"
   ]
  },
  {
   "cell_type": "code",
   "execution_count": 7,
   "id": "9f6a30ae",
   "metadata": {},
   "outputs": [],
   "source": [
    "tSNE_GHI = pd.read_csv(\"data_tSNE_GHI.csv\")"
   ]
  },
  {
   "cell_type": "markdown",
   "id": "379fa4f3",
   "metadata": {},
   "source": [
    "We merge the t-SNE health index to the data"
   ]
  },
  {
   "cell_type": "code",
   "execution_count": 8,
   "id": "c121e8bc",
   "metadata": {},
   "outputs": [],
   "source": [
    "data = data.merge(tSNE_GHI, how ='left', on ='HHIDPN')"
   ]
  },
  {
   "cell_type": "markdown",
   "id": "1bf31a8d",
   "metadata": {},
   "source": [
    "The final outcome to predict is tSNE_GHI14, so we only keep individuals who were interviewed during the last wave (14th wave)"
   ]
  },
  {
   "cell_type": "code",
   "execution_count": 9,
   "id": "f3ebbb5a",
   "metadata": {},
   "outputs": [],
   "source": [
    "data_bis = data[data['tSNE_GHI14'].notna()]"
   ]
  },
  {
   "cell_type": "markdown",
   "id": "1b7ead7a",
   "metadata": {},
   "source": [
    "Number of individuals present in every waves."
   ]
  },
  {
   "cell_type": "code",
   "execution_count": 10,
   "id": "0f7abd54",
   "metadata": {},
   "outputs": [
    {
     "data": {
      "text/plain": [
       "3396"
      ]
     },
     "execution_count": 10,
     "metadata": {},
     "output_type": "execute_result"
    }
   ],
   "source": [
    "tSNE_GHI[~tSNE_GHI.isnull().any(axis=1)].shape[0]"
   ]
  },
  {
   "cell_type": "markdown",
   "id": "ed04aaf5",
   "metadata": {},
   "source": [
    "We select the outcome tSNE_GHI"
   ]
  },
  {
   "cell_type": "code",
   "execution_count": 11,
   "id": "39aa86f3",
   "metadata": {},
   "outputs": [],
   "source": [
    "Y = data_bis[[\"HHIDPN\"]+[\"tSNE_GHI\" + str(i) for i in range (1,15)]]"
   ]
  },
  {
   "cell_type": "markdown",
   "id": "1c563e1a",
   "metadata": {},
   "source": [
    "We drop the previous health index GHIw from the data, which won't be used as outcome.\n",
    "(list_columns_GHI contains the names of GHIw columns).\n",
    "\n",
    "We drop the outcome to create the matrix X."
   ]
  },
  {
   "cell_type": "code",
   "execution_count": 12,
   "id": "559e8cd7",
   "metadata": {},
   "outputs": [],
   "source": [
    "X = data_bis.drop([\"GHI\" + str(i) for i in range (1,15)], axis = 1)\n",
    "X.drop([\"tSNE_GHI\" + str(i) for i in range (1,15)], axis = 1, inplace =True)"
   ]
  },
  {
   "cell_type": "markdown",
   "id": "f228abcf",
   "metadata": {},
   "source": [
    "Now we split the dataset into training, validation and test sets."
   ]
  },
  {
   "cell_type": "code",
   "execution_count": 13,
   "id": "bebb3e11",
   "metadata": {},
   "outputs": [],
   "source": [
    "X_train, X_test, Y_train, Y_test = train_test_split(X, Y, test_size=0.2, random_state=18)\n",
    "X_test, X_valid, Y_test, Y_valid = train_test_split(X_test, Y_test, test_size=0.5, random_state = 6)"
   ]
  },
  {
   "cell_type": "markdown",
   "id": "7be7c060",
   "metadata": {},
   "source": [
    "Smaller sets while coding"
   ]
  },
  {
   "cell_type": "code",
   "execution_count": 14,
   "id": "51094fdd",
   "metadata": {},
   "outputs": [],
   "source": [
    "nb_test, nb_train, nb_valid = len(X_test.index)//10, len(X_train.index)//10, len(X_valid.index)//10\n",
    "X_test, Y_test = X_test.iloc[:nb_test], Y_test.iloc[:nb_test]\n",
    "X_train, Y_train = X_train.iloc[:nb_train], Y_train.iloc[:nb_train]\n",
    "X_valid, Y_valid = X_valid.iloc[:nb_valid], Y_valid.iloc[:nb_valid]"
   ]
  },
  {
   "cell_type": "markdown",
   "id": "43ddedcf",
   "metadata": {},
   "source": [
    "## Machine learning"
   ]
  },
  {
   "cell_type": "markdown",
   "id": "46496dbf",
   "metadata": {},
   "source": [
    "The objective here is to make a dataset where we observe if each variable exists at each wave"
   ]
  },
  {
   "cell_type": "code",
   "execution_count": 130,
   "id": "9cde8436",
   "metadata": {},
   "outputs": [],
   "source": [
    "temporal_variables = {}\n",
    "waves_columns = [col for col in X_train.columns if \"genetic_\" not in col and col[1] in \"123456789\"]\n",
    "for col in waves_columns:\n",
    "  char = col[0] # R or H\n",
    "  if col[2] in \"01234\":\n",
    "    wave = col[1:3]\n",
    "    suffix = col[3:]\n",
    "  else:\n",
    "    wave = col[1]\n",
    "    suffix = col[2:]\n",
    "  variable = char + 'w' + suffix\n",
    "  \n",
    "  if variable not in temporal_variables.keys():\n",
    "    temporal_variables[variable] = np.zeros((14), dtype=bool)\n",
    "  \n",
    "  temporal_variables[variable][int(wave)-1] = True\n",
    "\n",
    "temporal_variables = pd.DataFrame(temporal_variables)\n",
    "\n",
    "# We manually add \"tSNE_GHIw\":\n",
    "temporal_variables[\"tSNE_GHIw\"] = np.ones((14), dtype=bool)\n",
    "waves_columns += [f\"tSNE_GHI{w}\" for w in range(1,15)]"
   ]
  },
  {
   "cell_type": "code",
   "execution_count": 131,
   "id": "8869d3aa",
   "metadata": {},
   "outputs": [],
   "source": [
    "# Timeless data\n",
    "non_waves_columns = [col for col in X_train.columns if col not in waves_columns]\n",
    "To_remove = [\"HHIDPN\",\"PN\",\"HHID\",\"RAHHIDPN\"]+[\"INW\"+str(i+1) for i in range (14)]\n",
    "for x in To_remove:\n",
    "    non_waves_columns.remove(x)"
   ]
  },
  {
   "cell_type": "markdown",
   "id": "184b3d71",
   "metadata": {},
   "source": [
    "We put the explaining variables by wave in a list of dataset Intemporal variables are put in each one of them"
   ]
  },
  {
   "cell_type": "code",
   "execution_count": 132,
   "id": "af029937",
   "metadata": {},
   "outputs": [],
   "source": [
    "liste = []    # len = 14 \n",
    "for i in range(14):\n",
    "    columns_wave_i = [\"HHIDPN\"]+[col.replace('w', str(i+1)) for col in temporal_variables.T[i].index[temporal_variables.T[i]] if col != \"tSNE_GHIw\"]\n",
    "    #Intemporal variables only in the first wave, to avoid duplicated labels issues\n",
    "    if i == 0:\n",
    "        liste.append(X_train.loc[X_train[\"INW\"+str(i+1)] == 1, columns_wave_i + non_waves_columns])\n",
    "    else:\n",
    "        liste.append(X_train.loc[X_train[\"INW\"+str(i+1)] == 1, columns_wave_i])"
   ]
  },
  {
   "cell_type": "code",
   "execution_count": 134,
   "id": "2f71ea9b",
   "metadata": {},
   "outputs": [],
   "source": [
    "#Reduce number of variables to code\n",
    "import random\n",
    "temporal_variables_2 = temporal_variables.iloc[:,[i for i in range(1,30)]+[-i for i in range(1,10)]]\n",
    "non_waves_columns_2 = random.choices(non_waves_columns,k=5)\n",
    "\n",
    "liste = [] \n",
    "for i in range(14):\n",
    "    columns_wave_i = [\"HHIDPN\"]+[col.replace('w', str(i+1)) for col in temporal_variables_2.T[i].index[temporal_variables_2.T[i]] if col != \"tSNE_GHIw\"]\n",
    "    #Add the intemporal variables only to the last wave, to avoid duplicated labels issues\n",
    "    if i == 13:\n",
    "        liste.append(X_train.loc[X_train[\"INW\"+str(i+1)] == 1, columns_wave_i + non_waves_columns_2])\n",
    "    else:\n",
    "        liste.append(X_train.loc[X_train[\"INW\"+str(i+1)] == 1, columns_wave_i])"
   ]
  },
  {
   "cell_type": "markdown",
   "id": "ea850340",
   "metadata": {},
   "source": [
    "We apply the lasso to select variables\n",
    "\n",
    "We start to initialize with a first lasso on the first wave."
   ]
  },
  {
   "cell_type": "code",
   "execution_count": 135,
   "id": "e40daee5",
   "metadata": {},
   "outputs": [],
   "source": [
    "scaler = StandardScaler()#(with_std=False)\n",
    "hml.ERRORS_HANDLING = \"ignore\""
   ]
  },
  {
   "cell_type": "code",
   "execution_count": 136,
   "id": "ee14e135",
   "metadata": {},
   "outputs": [],
   "source": [
    "X_train1 = liste[0].drop(\"HHIDPN\",axis=1)\n",
    "Y_train1 = Y_train.iloc[:,1]\n",
    "Y_train1.dropna(inplace =True)\n",
    "Y_train1 = Y_train1.values\n",
    "Y_train1 = (Y_train1 - np.mean(Y_train1))/np.std(Y_train1)"
   ]
  },
  {
   "cell_type": "code",
   "execution_count": 137,
   "id": "ba2b0e3d",
   "metadata": {},
   "outputs": [],
   "source": [
    "X_train1 = scaler.fit_transform(X_train1)"
   ]
  },
  {
   "cell_type": "code",
   "execution_count": 138,
   "id": "a8b2e43b",
   "metadata": {},
   "outputs": [
    {
     "name": "stdout",
     "output_type": "stream",
     "text": [
      "[Warning] Sigma_opt is not PSD, its minimum eigenvalue is -4.191572837433513e-32. Error handled by adding 4.191572837433513e-32 to each eigenvalue.\n"
     ]
    }
   ],
   "source": [
    "lasso = hml.HMLasso(mu = 100)\n",
    "lasso.fit(X_train1, Y_train1)"
   ]
  },
  {
   "cell_type": "code",
   "execution_count": 139,
   "id": "b33def07",
   "metadata": {},
   "outputs": [],
   "source": [
    "coefficients = np.abs(lasso.beta_opt.copy())\n",
    "\n",
    "var_to_keep = coefficients < 10**(-14)\n",
    "var_to_keep = np.insert(var_to_keep,0,False)"
   ]
  },
  {
   "cell_type": "code",
   "execution_count": 140,
   "id": "08bf3538",
   "metadata": {},
   "outputs": [],
   "source": [
    "entire_data = liste[0]\n",
    "selected = entire_data[entire_data.columns[~var_to_keep]]"
   ]
  },
  {
   "cell_type": "markdown",
   "id": "3b9394e1",
   "metadata": {},
   "source": [
    "function to impute missing data created when merging by mean but without touching Na values already there before the merge."
   ]
  },
  {
   "cell_type": "code",
   "execution_count": 141,
   "id": "3ab72eef",
   "metadata": {},
   "outputs": [],
   "source": [
    "def Na_management(df1, df2, index):\n",
    "    \n",
    "    merged = df1.merge(df2, how='outer', on = index)\n",
    "    \n",
    "    df1_index = df1.set_index(index)\n",
    "    df2_index = df2.set_index(index)\n",
    "    \n",
    "    merged = merged.fillna(merged.mean())\n",
    "    merged = merged.set_index(index)\n",
    "    \n",
    "    df1_index = df1_index.fillna(\"NaN\")\n",
    "    merged.update(df1_index)\n",
    "    \n",
    "    df2_index = df2_index.fillna(\"NaN\")\n",
    "    merged.update(df2_index)\n",
    "    \n",
    "    merged = merged.replace(\"NaN\",np.nan)\n",
    "    \n",
    "    merged = merged.reset_index()\n",
    "    \n",
    "    return merged"
   ]
  },
  {
   "cell_type": "code",
   "execution_count": 142,
   "id": "ec237a27",
   "metadata": {},
   "outputs": [
    {
     "name": "stdout",
     "output_type": "stream",
     "text": [
      "1\n",
      "[Warning] Sigma_opt is not PSD, its minimum eigenvalue is -1.573096423874277e-05. Error handled by adding 1.573096423874277e-05 to each eigenvalue.\n",
      "2\n",
      "[Warning] Sigma_opt is not PSD, its minimum eigenvalue is -1.803057248707625e-05. Error handled by adding 1.803057248707625e-05 to each eigenvalue.\n",
      "3\n",
      "[Warning] Sigma_opt is not PSD, its minimum eigenvalue is -8.055927073979191e-06. Error handled by adding 8.055927073979191e-06 to each eigenvalue.\n",
      "4\n",
      "[Warning] Sigma_opt is not PSD, its minimum eigenvalue is -9.091627608197202e-06. Error handled by adding 9.091627608197202e-06 to each eigenvalue.\n",
      "5\n",
      "[Warning] Sigma_opt is not PSD, its minimum eigenvalue is -1.6339396120395163e-05. Error handled by adding 1.6339396120395163e-05 to each eigenvalue.\n",
      "6\n",
      "[Warning] Sigma_opt is not PSD, its minimum eigenvalue is -1.3017546612335697e-05. Error handled by adding 1.3017546612335697e-05 to each eigenvalue.\n",
      "7\n",
      "[Warning] Sigma_opt is not PSD, its minimum eigenvalue is -1.5193304371221073e-05. Error handled by adding 1.5193304371221073e-05 to each eigenvalue.\n",
      "8\n",
      "[Warning] Sigma_opt is not PSD, its minimum eigenvalue is -2.2549815093950746e-05. Error handled by adding 2.2549815093950746e-05 to each eigenvalue.\n",
      "9\n",
      "[Warning] Sigma_opt is not PSD, its minimum eigenvalue is -7.587535608040266e-06. Error handled by adding 7.587535608040266e-06 to each eigenvalue.\n",
      "10\n",
      "[Warning] Sigma_opt is not PSD, its minimum eigenvalue is -9.43058896458968e-06. Error handled by adding 9.43058896458968e-06 to each eigenvalue.\n",
      "11\n",
      "[Warning] Sigma_opt is not PSD, its minimum eigenvalue is (-0.0001615188872984086+0j). Error handled by adding (0.0001615188872984086-0j) to each eigenvalue.\n",
      "12\n",
      "[Warning] Sigma_opt is not PSD, its minimum eigenvalue is (-1.0592653292741958e-05+0j). Error handled by adding (1.0592653292741958e-05-0j) to each eigenvalue.\n",
      "13\n",
      "[Warning] Sigma_opt is not PSD, its minimum eigenvalue is -1.1774103861577258e-05. Error handled by adding 1.1774103861577258e-05 to each eigenvalue.\n"
     ]
    }
   ],
   "source": [
    "scaler = StandardScaler()#(with_std=False)\n",
    "hml.ERRORS_HANDLING = \"ignore\"\n",
    "\n",
    "for i in range (1,14) :\n",
    "    \n",
    "    print(\"wave\",i+1)\n",
    "    \n",
    "    var_to_select = Na_management(selected, liste[i], \"HHIDPN\")\n",
    "    \n",
    "    Y_train_i = Y_train.iloc[:,[0,i+1]]\n",
    "    X_Y_train = var_to_select.merge(Y_train_i, how = 'left', on = \"HHIDPN\")\n",
    "    \n",
    "    Y_train_i = X_Y_train[f\"tSNE_GHI{i+1}\"]\n",
    "    X_train_i = X_Y_train.drop([f\"tSNE_GHI{i+1}\",\"HHIDPN\"], axis =1)\n",
    "    \n",
    "    Y_train_i = Y_train_i.fillna(Y_train_i.mean())\n",
    "    Y_train_i = Y_train_i.values\n",
    "    Y_train_i = (Y_train_i - np.mean(Y_train_i))/np.std(Y_train_i)\n",
    "    \n",
    "    X_train_i = scaler.fit_transform(X_train_i)\n",
    "    \n",
    "    lasso = hml.HMLasso(mu = 100)\n",
    "    lasso.fit(X_train_i, Y_train_i)\n",
    "    \n",
    "    coefficients = np.abs(lasso.beta_opt.copy())\n",
    "\n",
    "    var_to_keep = coefficients < 10**(-14)\n",
    "    var_to_keep = np.insert(var_to_keep,0,False)\n",
    "    \n",
    "    entire_data = var_to_select\n",
    "    selected = entire_data[entire_data.columns[~var_to_keep]]"
   ]
  },
  {
   "cell_type": "code",
   "execution_count": 124,
   "id": "b89ea322",
   "metadata": {},
   "outputs": [],
   "source": []
  }
 ],
 "metadata": {
  "kernelspec": {
   "display_name": "Python 3 (ipykernel)",
   "language": "python",
   "name": "python3"
  },
  "language_info": {
   "codemirror_mode": {
    "name": "ipython",
    "version": 3
   },
   "file_extension": ".py",
   "mimetype": "text/x-python",
   "name": "python",
   "nbconvert_exporter": "python",
   "pygments_lexer": "ipython3",
   "version": "3.9.13"
  }
 },
 "nbformat": 4,
 "nbformat_minor": 5
}
