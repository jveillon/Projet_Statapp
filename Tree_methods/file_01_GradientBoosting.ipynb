{
  "nbformat": 4,
  "nbformat_minor": 0,
  "metadata": {
    "colab": {
      "provenance": [],
      "machine_shape": "hm"
    },
    "kernelspec": {
      "name": "python3",
      "display_name": "Python 3"
    },
    "language_info": {
      "name": "python"
    },
    "gpuClass": "standard"
  },
  "cells": [
    {
      "cell_type": "markdown",
      "source": [
        "## Libraries imports"
      ],
      "metadata": {
        "id": "XiZJmvr659py"
      }
    },
    {
      "cell_type": "code",
      "source": [
        "!cp \"/content/drive/MyDrive/Statapp/file_04_HMLasso.py\" \"HMLasso.py\""
      ],
      "metadata": {
        "id": "h6VU_3aH5g6B"
      },
      "execution_count": 1,
      "outputs": []
    },
    {
      "cell_type": "code",
      "execution_count": 2,
      "metadata": {
        "id": "GkKr7dG15Rw0"
      },
      "outputs": [],
      "source": [
        "import pandas as pd\n",
        "import numpy as np\n",
        "\n",
        "import matplotlib.pyplot as plt\n",
        "\n",
        "from sklearn.preprocessing import StandardScaler # To standardize the data\n",
        "\n",
        "import HMLasso as hml # Lasso with High Missing Rate"
      ]
    },
    {
      "cell_type": "markdown",
      "source": [
        "## Data imports"
      ],
      "metadata": {
        "id": "wPjFMD8I5_YV"
      }
    },
    {
      "cell_type": "code",
      "source": [
        "columns_types = pd.read_csv(\"/content/drive/MyDrive/Statapp/data_03_columns_types.csv\")\n",
        "data = pd.read_csv(\"/content/drive/MyDrive/Statapp/data_03.csv\")"
      ],
      "metadata": {
        "colab": {
          "base_uri": "https://localhost:8080/"
        },
        "id": "DwEdSp-r56Hd",
        "outputId": "3725817d-48d9-4a64-f8b7-2033f35c6c78"
      },
      "execution_count": 63,
      "outputs": [
        {
          "output_type": "stream",
          "name": "stderr",
          "text": [
            "<ipython-input-63-1d21f6d3a7c2>:2: DtypeWarning: Columns (2684) have mixed types. Specify dtype option on import or set low_memory=False.\n",
            "  data = pd.read_csv(\"/content/drive/MyDrive/Statapp/data_03.csv\")\n"
          ]
        }
      ]
    },
    {
      "cell_type": "code",
      "source": [
        "data_GHI = pd.read_csv(\"/content/drive/MyDrive/Statapp/data_tSNE_GHI.csv\")\n",
        "data_GHI.columns = ['HHIDPN', 'GHI1', 'GHI2', 'GHI3', 'GHI4', 'GHI5', 'GHI6', 'GHI7', 'GHI8', 'GHI9', 'GHI10', 'GHI11', 'GHI12', 'GHI13', 'GHI14']"
      ],
      "metadata": {
        "id": "f5SVB7RMYl67"
      },
      "execution_count": 64,
      "outputs": []
    },
    {
      "cell_type": "markdown",
      "source": [
        "We select users that are present in all waves. It will be easier to select useful variables.\n",
        "\n"
      ],
      "metadata": {
        "id": "bL_795n76K2e"
      }
    },
    {
      "cell_type": "code",
      "source": [
        "criteria = data[\"INW1\"]*data[\"INW2\"]*data[\"INW3\"]*data[\"INW4\"]*data[\"INW5\"]*data[\"INW6\"]*data[\"INW7\"]*data[\"INW8\"]*data[\"INW9\"]*data[\"INW10\"]*data[\"INW11\"]*data[\"INW12\"]*data[\"INW13\"]*data[\"INW14\"]\n",
        "data_all_waves = data.loc[criteria == 1]"
      ],
      "metadata": {
        "id": "1x-MYCWK6mK8"
      },
      "execution_count": 65,
      "outputs": []
    },
    {
      "cell_type": "code",
      "source": [
        "data_all_waves.info(memory_usage=\"deep\")"
      ],
      "metadata": {
        "colab": {
          "base_uri": "https://localhost:8080/"
        },
        "id": "6-vcJoEr64sH",
        "outputId": "de5b2da1-184a-4abb-cb0c-2881acc04f10"
      },
      "execution_count": 66,
      "outputs": [
        {
          "output_type": "stream",
          "name": "stdout",
          "text": [
            "<class 'pandas.core.frame.DataFrame'>\n",
            "Int64Index: 3396 entries, 6 to 24850\n",
            "Columns: 11429 entries, HHIDPN to R14IADL5H_5\n",
            "dtypes: float64(11377), int64(51), object(1)\n",
            "memory usage: 296.3 MB\n"
          ]
        }
      ]
    },
    {
      "cell_type": "code",
      "source": [
        "data_all_waves.head()"
      ],
      "metadata": {
        "colab": {
          "base_uri": "https://localhost:8080/",
          "height": 299
        },
        "id": "MLYDmhfW63TU",
        "outputId": "848a7402-4dcf-4124-fa19-efcd142ff55b"
      },
      "execution_count": 67,
      "outputs": [
        {
          "output_type": "execute_result",
          "data": {
            "text/plain": [
              "      HHIDPN  R1MPART  R2MPART  R3MPART  R4MPART  R5MPART  R6MPART  R7MPART  \\\n",
              "6   10003030      0.0      0.0      0.0      0.0      0.0      0.0      0.0   \n",
              "8   10004040      0.0      0.0      0.0      0.0      0.0      0.0      0.0   \n",
              "10  10013040      0.0      0.0      0.0      0.0      0.0      0.0      0.0   \n",
              "11  10038010      0.0      0.0      0.0      0.0      0.0      0.0      0.0   \n",
              "12  10038040      0.0      0.0      0.0      0.0      0.0      0.0      0.0   \n",
              "\n",
              "    R8MPART  R9MPART  ...  R13IADL5H_2  R13IADL5H_3  R13IADL5H_4  R13IADL5H_5  \\\n",
              "6       0.0      0.0  ...          0.0          0.0          0.0          0.0   \n",
              "8       0.0      0.0  ...          0.0          0.0          0.0          0.0   \n",
              "10      0.0      0.0  ...          0.0          0.0          0.0          0.0   \n",
              "11      0.0      0.0  ...          0.0          0.0          0.0          0.0   \n",
              "12      0.0      0.0  ...          0.0          0.0          0.0          0.0   \n",
              "\n",
              "    R14IADL5H_0  R14IADL5H_1  R14IADL5H_2  R14IADL5H_3  R14IADL5H_4  \\\n",
              "6           1.0          0.0          0.0          0.0          0.0   \n",
              "8           1.0          0.0          0.0          0.0          0.0   \n",
              "10          1.0          0.0          0.0          0.0          0.0   \n",
              "11          1.0          0.0          0.0          0.0          0.0   \n",
              "12          1.0          0.0          0.0          0.0          0.0   \n",
              "\n",
              "    R14IADL5H_5  \n",
              "6           0.0  \n",
              "8           0.0  \n",
              "10          0.0  \n",
              "11          0.0  \n",
              "12          0.0  \n",
              "\n",
              "[5 rows x 11429 columns]"
            ],
            "text/html": [
              "\n",
              "  <div id=\"df-7f379ba0-c7d5-410a-ad54-44f8e67a7363\">\n",
              "    <div class=\"colab-df-container\">\n",
              "      <div>\n",
              "<style scoped>\n",
              "    .dataframe tbody tr th:only-of-type {\n",
              "        vertical-align: middle;\n",
              "    }\n",
              "\n",
              "    .dataframe tbody tr th {\n",
              "        vertical-align: top;\n",
              "    }\n",
              "\n",
              "    .dataframe thead th {\n",
              "        text-align: right;\n",
              "    }\n",
              "</style>\n",
              "<table border=\"1\" class=\"dataframe\">\n",
              "  <thead>\n",
              "    <tr style=\"text-align: right;\">\n",
              "      <th></th>\n",
              "      <th>HHIDPN</th>\n",
              "      <th>R1MPART</th>\n",
              "      <th>R2MPART</th>\n",
              "      <th>R3MPART</th>\n",
              "      <th>R4MPART</th>\n",
              "      <th>R5MPART</th>\n",
              "      <th>R6MPART</th>\n",
              "      <th>R7MPART</th>\n",
              "      <th>R8MPART</th>\n",
              "      <th>R9MPART</th>\n",
              "      <th>...</th>\n",
              "      <th>R13IADL5H_2</th>\n",
              "      <th>R13IADL5H_3</th>\n",
              "      <th>R13IADL5H_4</th>\n",
              "      <th>R13IADL5H_5</th>\n",
              "      <th>R14IADL5H_0</th>\n",
              "      <th>R14IADL5H_1</th>\n",
              "      <th>R14IADL5H_2</th>\n",
              "      <th>R14IADL5H_3</th>\n",
              "      <th>R14IADL5H_4</th>\n",
              "      <th>R14IADL5H_5</th>\n",
              "    </tr>\n",
              "  </thead>\n",
              "  <tbody>\n",
              "    <tr>\n",
              "      <th>6</th>\n",
              "      <td>10003030</td>\n",
              "      <td>0.0</td>\n",
              "      <td>0.0</td>\n",
              "      <td>0.0</td>\n",
              "      <td>0.0</td>\n",
              "      <td>0.0</td>\n",
              "      <td>0.0</td>\n",
              "      <td>0.0</td>\n",
              "      <td>0.0</td>\n",
              "      <td>0.0</td>\n",
              "      <td>...</td>\n",
              "      <td>0.0</td>\n",
              "      <td>0.0</td>\n",
              "      <td>0.0</td>\n",
              "      <td>0.0</td>\n",
              "      <td>1.0</td>\n",
              "      <td>0.0</td>\n",
              "      <td>0.0</td>\n",
              "      <td>0.0</td>\n",
              "      <td>0.0</td>\n",
              "      <td>0.0</td>\n",
              "    </tr>\n",
              "    <tr>\n",
              "      <th>8</th>\n",
              "      <td>10004040</td>\n",
              "      <td>0.0</td>\n",
              "      <td>0.0</td>\n",
              "      <td>0.0</td>\n",
              "      <td>0.0</td>\n",
              "      <td>0.0</td>\n",
              "      <td>0.0</td>\n",
              "      <td>0.0</td>\n",
              "      <td>0.0</td>\n",
              "      <td>0.0</td>\n",
              "      <td>...</td>\n",
              "      <td>0.0</td>\n",
              "      <td>0.0</td>\n",
              "      <td>0.0</td>\n",
              "      <td>0.0</td>\n",
              "      <td>1.0</td>\n",
              "      <td>0.0</td>\n",
              "      <td>0.0</td>\n",
              "      <td>0.0</td>\n",
              "      <td>0.0</td>\n",
              "      <td>0.0</td>\n",
              "    </tr>\n",
              "    <tr>\n",
              "      <th>10</th>\n",
              "      <td>10013040</td>\n",
              "      <td>0.0</td>\n",
              "      <td>0.0</td>\n",
              "      <td>0.0</td>\n",
              "      <td>0.0</td>\n",
              "      <td>0.0</td>\n",
              "      <td>0.0</td>\n",
              "      <td>0.0</td>\n",
              "      <td>0.0</td>\n",
              "      <td>0.0</td>\n",
              "      <td>...</td>\n",
              "      <td>0.0</td>\n",
              "      <td>0.0</td>\n",
              "      <td>0.0</td>\n",
              "      <td>0.0</td>\n",
              "      <td>1.0</td>\n",
              "      <td>0.0</td>\n",
              "      <td>0.0</td>\n",
              "      <td>0.0</td>\n",
              "      <td>0.0</td>\n",
              "      <td>0.0</td>\n",
              "    </tr>\n",
              "    <tr>\n",
              "      <th>11</th>\n",
              "      <td>10038010</td>\n",
              "      <td>0.0</td>\n",
              "      <td>0.0</td>\n",
              "      <td>0.0</td>\n",
              "      <td>0.0</td>\n",
              "      <td>0.0</td>\n",
              "      <td>0.0</td>\n",
              "      <td>0.0</td>\n",
              "      <td>0.0</td>\n",
              "      <td>0.0</td>\n",
              "      <td>...</td>\n",
              "      <td>0.0</td>\n",
              "      <td>0.0</td>\n",
              "      <td>0.0</td>\n",
              "      <td>0.0</td>\n",
              "      <td>1.0</td>\n",
              "      <td>0.0</td>\n",
              "      <td>0.0</td>\n",
              "      <td>0.0</td>\n",
              "      <td>0.0</td>\n",
              "      <td>0.0</td>\n",
              "    </tr>\n",
              "    <tr>\n",
              "      <th>12</th>\n",
              "      <td>10038040</td>\n",
              "      <td>0.0</td>\n",
              "      <td>0.0</td>\n",
              "      <td>0.0</td>\n",
              "      <td>0.0</td>\n",
              "      <td>0.0</td>\n",
              "      <td>0.0</td>\n",
              "      <td>0.0</td>\n",
              "      <td>0.0</td>\n",
              "      <td>0.0</td>\n",
              "      <td>...</td>\n",
              "      <td>0.0</td>\n",
              "      <td>0.0</td>\n",
              "      <td>0.0</td>\n",
              "      <td>0.0</td>\n",
              "      <td>1.0</td>\n",
              "      <td>0.0</td>\n",
              "      <td>0.0</td>\n",
              "      <td>0.0</td>\n",
              "      <td>0.0</td>\n",
              "      <td>0.0</td>\n",
              "    </tr>\n",
              "  </tbody>\n",
              "</table>\n",
              "<p>5 rows × 11429 columns</p>\n",
              "</div>\n",
              "      <button class=\"colab-df-convert\" onclick=\"convertToInteractive('df-7f379ba0-c7d5-410a-ad54-44f8e67a7363')\"\n",
              "              title=\"Convert this dataframe to an interactive table.\"\n",
              "              style=\"display:none;\">\n",
              "        \n",
              "  <svg xmlns=\"http://www.w3.org/2000/svg\" height=\"24px\"viewBox=\"0 0 24 24\"\n",
              "       width=\"24px\">\n",
              "    <path d=\"M0 0h24v24H0V0z\" fill=\"none\"/>\n",
              "    <path d=\"M18.56 5.44l.94 2.06.94-2.06 2.06-.94-2.06-.94-.94-2.06-.94 2.06-2.06.94zm-11 1L8.5 8.5l.94-2.06 2.06-.94-2.06-.94L8.5 2.5l-.94 2.06-2.06.94zm10 10l.94 2.06.94-2.06 2.06-.94-2.06-.94-.94-2.06-.94 2.06-2.06.94z\"/><path d=\"M17.41 7.96l-1.37-1.37c-.4-.4-.92-.59-1.43-.59-.52 0-1.04.2-1.43.59L10.3 9.45l-7.72 7.72c-.78.78-.78 2.05 0 2.83L4 21.41c.39.39.9.59 1.41.59.51 0 1.02-.2 1.41-.59l7.78-7.78 2.81-2.81c.8-.78.8-2.07 0-2.86zM5.41 20L4 18.59l7.72-7.72 1.47 1.35L5.41 20z\"/>\n",
              "  </svg>\n",
              "      </button>\n",
              "      \n",
              "  <style>\n",
              "    .colab-df-container {\n",
              "      display:flex;\n",
              "      flex-wrap:wrap;\n",
              "      gap: 12px;\n",
              "    }\n",
              "\n",
              "    .colab-df-convert {\n",
              "      background-color: #E8F0FE;\n",
              "      border: none;\n",
              "      border-radius: 50%;\n",
              "      cursor: pointer;\n",
              "      display: none;\n",
              "      fill: #1967D2;\n",
              "      height: 32px;\n",
              "      padding: 0 0 0 0;\n",
              "      width: 32px;\n",
              "    }\n",
              "\n",
              "    .colab-df-convert:hover {\n",
              "      background-color: #E2EBFA;\n",
              "      box-shadow: 0px 1px 2px rgba(60, 64, 67, 0.3), 0px 1px 3px 1px rgba(60, 64, 67, 0.15);\n",
              "      fill: #174EA6;\n",
              "    }\n",
              "\n",
              "    [theme=dark] .colab-df-convert {\n",
              "      background-color: #3B4455;\n",
              "      fill: #D2E3FC;\n",
              "    }\n",
              "\n",
              "    [theme=dark] .colab-df-convert:hover {\n",
              "      background-color: #434B5C;\n",
              "      box-shadow: 0px 1px 3px 1px rgba(0, 0, 0, 0.15);\n",
              "      filter: drop-shadow(0px 1px 2px rgba(0, 0, 0, 0.3));\n",
              "      fill: #FFFFFF;\n",
              "    }\n",
              "  </style>\n",
              "\n",
              "      <script>\n",
              "        const buttonEl =\n",
              "          document.querySelector('#df-7f379ba0-c7d5-410a-ad54-44f8e67a7363 button.colab-df-convert');\n",
              "        buttonEl.style.display =\n",
              "          google.colab.kernel.accessAllowed ? 'block' : 'none';\n",
              "\n",
              "        async function convertToInteractive(key) {\n",
              "          const element = document.querySelector('#df-7f379ba0-c7d5-410a-ad54-44f8e67a7363');\n",
              "          const dataTable =\n",
              "            await google.colab.kernel.invokeFunction('convertToInteractive',\n",
              "                                                     [key], {});\n",
              "          if (!dataTable) return;\n",
              "\n",
              "          const docLinkHtml = 'Like what you see? Visit the ' +\n",
              "            '<a target=\"_blank\" href=https://colab.research.google.com/notebooks/data_table.ipynb>data table notebook</a>'\n",
              "            + ' to learn more about interactive tables.';\n",
              "          element.innerHTML = '';\n",
              "          dataTable['output_type'] = 'display_data';\n",
              "          await google.colab.output.renderOutput(dataTable, element);\n",
              "          const docLink = document.createElement('div');\n",
              "          docLink.innerHTML = docLinkHtml;\n",
              "          element.appendChild(docLink);\n",
              "        }\n",
              "      </script>\n",
              "    </div>\n",
              "  </div>\n",
              "  "
            ]
          },
          "metadata": {},
          "execution_count": 67
        }
      ]
    },
    {
      "cell_type": "code",
      "source": [
        "print([col for col in data_all_waves.columns if \"GHI\" in col])"
      ],
      "metadata": {
        "colab": {
          "base_uri": "https://localhost:8080/"
        },
        "id": "jOtNKjjvYfUc",
        "outputId": "545528c0-493b-439f-df99-f242fd3e4c54"
      },
      "execution_count": 68,
      "outputs": [
        {
          "output_type": "stream",
          "name": "stdout",
          "text": [
            "['GHI1', 'GHI2', 'GHI3', 'GHI4', 'GHI5', 'GHI6', 'GHI7', 'GHI8', 'GHI9', 'GHI10', 'GHI11', 'GHI12', 'GHI13', 'GHI14']\n"
          ]
        }
      ]
    },
    {
      "cell_type": "code",
      "source": [
        "data_GHI.head()"
      ],
      "metadata": {
        "colab": {
          "base_uri": "https://localhost:8080/",
          "height": 206
        },
        "id": "2LxaHNsEawYr",
        "outputId": "cf27e531-dbd9-4f2b-a796-00bf62538461"
      },
      "execution_count": 69,
      "outputs": [
        {
          "output_type": "execute_result",
          "data": {
            "text/plain": [
              "     HHIDPN       GHI1       GHI2       GHI3       GHI4       GHI5       GHI6  \\\n",
              "0      1010  46.338680  68.969490        NaN        NaN        NaN        NaN   \n",
              "1      2010  64.833760 -13.297101  27.734835  43.220688  44.066593        NaN   \n",
              "2      3010  22.931510 -66.686300 -29.234972  13.921358 -91.249150 -44.982487   \n",
              "3      3020  87.220850  26.626232  -3.540929 -35.344840   5.839192  15.979321   \n",
              "4  10001010  16.348322  51.236960 -34.807380  16.018581 -20.836510 -49.169600   \n",
              "\n",
              "        GHI7       GHI8        GHI9      GHI10      GHI11      GHI12  \\\n",
              "0        NaN        NaN         NaN        NaN        NaN        NaN   \n",
              "1        NaN        NaN         NaN        NaN        NaN        NaN   \n",
              "2 -73.210106 -93.987110  -26.113197 -49.452682 -13.593910        NaN   \n",
              "3  87.244750   7.659104    7.514696  11.224237   6.606269  85.520730   \n",
              "4 -41.571840 -27.421490  104.275900 -33.672630 -10.305906 -51.743675   \n",
              "\n",
              "       GHI13  GHI14  \n",
              "0        NaN    NaN  \n",
              "1        NaN    NaN  \n",
              "2        NaN    NaN  \n",
              "3        NaN    NaN  \n",
              "4 -60.904327    NaN  "
            ],
            "text/html": [
              "\n",
              "  <div id=\"df-15338e10-ce3e-40bb-b8a7-c740cdbbd2d8\">\n",
              "    <div class=\"colab-df-container\">\n",
              "      <div>\n",
              "<style scoped>\n",
              "    .dataframe tbody tr th:only-of-type {\n",
              "        vertical-align: middle;\n",
              "    }\n",
              "\n",
              "    .dataframe tbody tr th {\n",
              "        vertical-align: top;\n",
              "    }\n",
              "\n",
              "    .dataframe thead th {\n",
              "        text-align: right;\n",
              "    }\n",
              "</style>\n",
              "<table border=\"1\" class=\"dataframe\">\n",
              "  <thead>\n",
              "    <tr style=\"text-align: right;\">\n",
              "      <th></th>\n",
              "      <th>HHIDPN</th>\n",
              "      <th>GHI1</th>\n",
              "      <th>GHI2</th>\n",
              "      <th>GHI3</th>\n",
              "      <th>GHI4</th>\n",
              "      <th>GHI5</th>\n",
              "      <th>GHI6</th>\n",
              "      <th>GHI7</th>\n",
              "      <th>GHI8</th>\n",
              "      <th>GHI9</th>\n",
              "      <th>GHI10</th>\n",
              "      <th>GHI11</th>\n",
              "      <th>GHI12</th>\n",
              "      <th>GHI13</th>\n",
              "      <th>GHI14</th>\n",
              "    </tr>\n",
              "  </thead>\n",
              "  <tbody>\n",
              "    <tr>\n",
              "      <th>0</th>\n",
              "      <td>1010</td>\n",
              "      <td>46.338680</td>\n",
              "      <td>68.969490</td>\n",
              "      <td>NaN</td>\n",
              "      <td>NaN</td>\n",
              "      <td>NaN</td>\n",
              "      <td>NaN</td>\n",
              "      <td>NaN</td>\n",
              "      <td>NaN</td>\n",
              "      <td>NaN</td>\n",
              "      <td>NaN</td>\n",
              "      <td>NaN</td>\n",
              "      <td>NaN</td>\n",
              "      <td>NaN</td>\n",
              "      <td>NaN</td>\n",
              "    </tr>\n",
              "    <tr>\n",
              "      <th>1</th>\n",
              "      <td>2010</td>\n",
              "      <td>64.833760</td>\n",
              "      <td>-13.297101</td>\n",
              "      <td>27.734835</td>\n",
              "      <td>43.220688</td>\n",
              "      <td>44.066593</td>\n",
              "      <td>NaN</td>\n",
              "      <td>NaN</td>\n",
              "      <td>NaN</td>\n",
              "      <td>NaN</td>\n",
              "      <td>NaN</td>\n",
              "      <td>NaN</td>\n",
              "      <td>NaN</td>\n",
              "      <td>NaN</td>\n",
              "      <td>NaN</td>\n",
              "    </tr>\n",
              "    <tr>\n",
              "      <th>2</th>\n",
              "      <td>3010</td>\n",
              "      <td>22.931510</td>\n",
              "      <td>-66.686300</td>\n",
              "      <td>-29.234972</td>\n",
              "      <td>13.921358</td>\n",
              "      <td>-91.249150</td>\n",
              "      <td>-44.982487</td>\n",
              "      <td>-73.210106</td>\n",
              "      <td>-93.987110</td>\n",
              "      <td>-26.113197</td>\n",
              "      <td>-49.452682</td>\n",
              "      <td>-13.593910</td>\n",
              "      <td>NaN</td>\n",
              "      <td>NaN</td>\n",
              "      <td>NaN</td>\n",
              "    </tr>\n",
              "    <tr>\n",
              "      <th>3</th>\n",
              "      <td>3020</td>\n",
              "      <td>87.220850</td>\n",
              "      <td>26.626232</td>\n",
              "      <td>-3.540929</td>\n",
              "      <td>-35.344840</td>\n",
              "      <td>5.839192</td>\n",
              "      <td>15.979321</td>\n",
              "      <td>87.244750</td>\n",
              "      <td>7.659104</td>\n",
              "      <td>7.514696</td>\n",
              "      <td>11.224237</td>\n",
              "      <td>6.606269</td>\n",
              "      <td>85.520730</td>\n",
              "      <td>NaN</td>\n",
              "      <td>NaN</td>\n",
              "    </tr>\n",
              "    <tr>\n",
              "      <th>4</th>\n",
              "      <td>10001010</td>\n",
              "      <td>16.348322</td>\n",
              "      <td>51.236960</td>\n",
              "      <td>-34.807380</td>\n",
              "      <td>16.018581</td>\n",
              "      <td>-20.836510</td>\n",
              "      <td>-49.169600</td>\n",
              "      <td>-41.571840</td>\n",
              "      <td>-27.421490</td>\n",
              "      <td>104.275900</td>\n",
              "      <td>-33.672630</td>\n",
              "      <td>-10.305906</td>\n",
              "      <td>-51.743675</td>\n",
              "      <td>-60.904327</td>\n",
              "      <td>NaN</td>\n",
              "    </tr>\n",
              "  </tbody>\n",
              "</table>\n",
              "</div>\n",
              "      <button class=\"colab-df-convert\" onclick=\"convertToInteractive('df-15338e10-ce3e-40bb-b8a7-c740cdbbd2d8')\"\n",
              "              title=\"Convert this dataframe to an interactive table.\"\n",
              "              style=\"display:none;\">\n",
              "        \n",
              "  <svg xmlns=\"http://www.w3.org/2000/svg\" height=\"24px\"viewBox=\"0 0 24 24\"\n",
              "       width=\"24px\">\n",
              "    <path d=\"M0 0h24v24H0V0z\" fill=\"none\"/>\n",
              "    <path d=\"M18.56 5.44l.94 2.06.94-2.06 2.06-.94-2.06-.94-.94-2.06-.94 2.06-2.06.94zm-11 1L8.5 8.5l.94-2.06 2.06-.94-2.06-.94L8.5 2.5l-.94 2.06-2.06.94zm10 10l.94 2.06.94-2.06 2.06-.94-2.06-.94-.94-2.06-.94 2.06-2.06.94z\"/><path d=\"M17.41 7.96l-1.37-1.37c-.4-.4-.92-.59-1.43-.59-.52 0-1.04.2-1.43.59L10.3 9.45l-7.72 7.72c-.78.78-.78 2.05 0 2.83L4 21.41c.39.39.9.59 1.41.59.51 0 1.02-.2 1.41-.59l7.78-7.78 2.81-2.81c.8-.78.8-2.07 0-2.86zM5.41 20L4 18.59l7.72-7.72 1.47 1.35L5.41 20z\"/>\n",
              "  </svg>\n",
              "      </button>\n",
              "      \n",
              "  <style>\n",
              "    .colab-df-container {\n",
              "      display:flex;\n",
              "      flex-wrap:wrap;\n",
              "      gap: 12px;\n",
              "    }\n",
              "\n",
              "    .colab-df-convert {\n",
              "      background-color: #E8F0FE;\n",
              "      border: none;\n",
              "      border-radius: 50%;\n",
              "      cursor: pointer;\n",
              "      display: none;\n",
              "      fill: #1967D2;\n",
              "      height: 32px;\n",
              "      padding: 0 0 0 0;\n",
              "      width: 32px;\n",
              "    }\n",
              "\n",
              "    .colab-df-convert:hover {\n",
              "      background-color: #E2EBFA;\n",
              "      box-shadow: 0px 1px 2px rgba(60, 64, 67, 0.3), 0px 1px 3px 1px rgba(60, 64, 67, 0.15);\n",
              "      fill: #174EA6;\n",
              "    }\n",
              "\n",
              "    [theme=dark] .colab-df-convert {\n",
              "      background-color: #3B4455;\n",
              "      fill: #D2E3FC;\n",
              "    }\n",
              "\n",
              "    [theme=dark] .colab-df-convert:hover {\n",
              "      background-color: #434B5C;\n",
              "      box-shadow: 0px 1px 3px 1px rgba(0, 0, 0, 0.15);\n",
              "      filter: drop-shadow(0px 1px 2px rgba(0, 0, 0, 0.3));\n",
              "      fill: #FFFFFF;\n",
              "    }\n",
              "  </style>\n",
              "\n",
              "      <script>\n",
              "        const buttonEl =\n",
              "          document.querySelector('#df-15338e10-ce3e-40bb-b8a7-c740cdbbd2d8 button.colab-df-convert');\n",
              "        buttonEl.style.display =\n",
              "          google.colab.kernel.accessAllowed ? 'block' : 'none';\n",
              "\n",
              "        async function convertToInteractive(key) {\n",
              "          const element = document.querySelector('#df-15338e10-ce3e-40bb-b8a7-c740cdbbd2d8');\n",
              "          const dataTable =\n",
              "            await google.colab.kernel.invokeFunction('convertToInteractive',\n",
              "                                                     [key], {});\n",
              "          if (!dataTable) return;\n",
              "\n",
              "          const docLinkHtml = 'Like what you see? Visit the ' +\n",
              "            '<a target=\"_blank\" href=https://colab.research.google.com/notebooks/data_table.ipynb>data table notebook</a>'\n",
              "            + ' to learn more about interactive tables.';\n",
              "          element.innerHTML = '';\n",
              "          dataTable['output_type'] = 'display_data';\n",
              "          await google.colab.output.renderOutput(dataTable, element);\n",
              "          const docLink = document.createElement('div');\n",
              "          docLink.innerHTML = docLinkHtml;\n",
              "          element.appendChild(docLink);\n",
              "        }\n",
              "      </script>\n",
              "    </div>\n",
              "  </div>\n",
              "  "
            ]
          },
          "metadata": {},
          "execution_count": 69
        }
      ]
    },
    {
      "cell_type": "code",
      "source": [
        "data_all_waves = data_all_waves.drop(columns=[f'GHI{wave}' for wave in range(1, 15)])\n",
        "data_all_waves = data_all_waves.drop(columns=[f'INW{wave}' for wave in range(1, 15)])"
      ],
      "metadata": {
        "id": "VPbUQSz2c82s"
      },
      "execution_count": 70,
      "outputs": []
    },
    {
      "cell_type": "code",
      "source": [
        "data = pd.merge(data_all_waves, data_GHI, on = \"HHIDPN\")"
      ],
      "metadata": {
        "id": "lg8IFkCn7ruW"
      },
      "execution_count": 71,
      "outputs": []
    },
    {
      "cell_type": "code",
      "source": [
        "data.info(memory_usage = \"deep\")"
      ],
      "metadata": {
        "colab": {
          "base_uri": "https://localhost:8080/"
        },
        "id": "OGTRKMWy77ZQ",
        "outputId": "34c205be-04ee-4d53-91fe-27313f9fcb4b"
      },
      "execution_count": 72,
      "outputs": [
        {
          "output_type": "stream",
          "name": "stdout",
          "text": [
            "<class 'pandas.core.frame.DataFrame'>\n",
            "Int64Index: 3396 entries, 0 to 3395\n",
            "Columns: 11415 entries, HHIDPN to GHI14\n",
            "dtypes: float64(11377), int64(37), object(1)\n",
            "memory usage: 295.9 MB\n"
          ]
        }
      ]
    },
    {
      "cell_type": "code",
      "source": [
        "data.head()"
      ],
      "metadata": {
        "colab": {
          "base_uri": "https://localhost:8080/",
          "height": 299
        },
        "id": "CcsKwSxT7_aJ",
        "outputId": "67817604-d6bd-47a2-9103-9772adf4f85e"
      },
      "execution_count": 73,
      "outputs": [
        {
          "output_type": "execute_result",
          "data": {
            "text/plain": [
              "     HHIDPN  R1MPART  R2MPART  R3MPART  R4MPART  R5MPART  R6MPART  R7MPART  \\\n",
              "0  10003030      0.0      0.0      0.0      0.0      0.0      0.0      0.0   \n",
              "1  10004040      0.0      0.0      0.0      0.0      0.0      0.0      0.0   \n",
              "2  10013040      0.0      0.0      0.0      0.0      0.0      0.0      0.0   \n",
              "3  10038010      0.0      0.0      0.0      0.0      0.0      0.0      0.0   \n",
              "4  10038040      0.0      0.0      0.0      0.0      0.0      0.0      0.0   \n",
              "\n",
              "   R8MPART  R9MPART  ...       GHI5        GHI6        GHI7       GHI8  \\\n",
              "0      0.0      0.0  ...  55.371532   35.888090   29.299238  22.797500   \n",
              "1      0.0      0.0  ... -91.421400 -112.308880 -105.389435 -90.203280   \n",
              "2      0.0      0.0  ...  49.459797   65.680290   60.154457  39.245720   \n",
              "3      0.0      0.0  ... -57.609745  -47.364265   88.303375 -46.830162   \n",
              "4      0.0      0.0  ... -47.359974  -46.314903  -38.281940 -47.406548   \n",
              "\n",
              "        GHI9      GHI10       GHI11      GHI12       GHI13       GHI14  \n",
              "0  19.358074  77.432846  111.691956  -25.94662  103.435680   -5.838378  \n",
              "1 -83.431940 -93.363850   89.013370 -105.65158 -109.505350  -91.108025  \n",
              "2  51.309025  60.598877   51.426174   46.48843   37.333424  103.510000  \n",
              "3 -78.428740 -66.849754   -7.978823  -23.49985  -65.549740  -62.838780  \n",
              "4  98.821100 -40.059370   -7.615824   92.26157  -80.819400   -9.062362  \n",
              "\n",
              "[5 rows x 11415 columns]"
            ],
            "text/html": [
              "\n",
              "  <div id=\"df-5f483a56-d775-4f0b-9a2f-5663b328e204\">\n",
              "    <div class=\"colab-df-container\">\n",
              "      <div>\n",
              "<style scoped>\n",
              "    .dataframe tbody tr th:only-of-type {\n",
              "        vertical-align: middle;\n",
              "    }\n",
              "\n",
              "    .dataframe tbody tr th {\n",
              "        vertical-align: top;\n",
              "    }\n",
              "\n",
              "    .dataframe thead th {\n",
              "        text-align: right;\n",
              "    }\n",
              "</style>\n",
              "<table border=\"1\" class=\"dataframe\">\n",
              "  <thead>\n",
              "    <tr style=\"text-align: right;\">\n",
              "      <th></th>\n",
              "      <th>HHIDPN</th>\n",
              "      <th>R1MPART</th>\n",
              "      <th>R2MPART</th>\n",
              "      <th>R3MPART</th>\n",
              "      <th>R4MPART</th>\n",
              "      <th>R5MPART</th>\n",
              "      <th>R6MPART</th>\n",
              "      <th>R7MPART</th>\n",
              "      <th>R8MPART</th>\n",
              "      <th>R9MPART</th>\n",
              "      <th>...</th>\n",
              "      <th>GHI5</th>\n",
              "      <th>GHI6</th>\n",
              "      <th>GHI7</th>\n",
              "      <th>GHI8</th>\n",
              "      <th>GHI9</th>\n",
              "      <th>GHI10</th>\n",
              "      <th>GHI11</th>\n",
              "      <th>GHI12</th>\n",
              "      <th>GHI13</th>\n",
              "      <th>GHI14</th>\n",
              "    </tr>\n",
              "  </thead>\n",
              "  <tbody>\n",
              "    <tr>\n",
              "      <th>0</th>\n",
              "      <td>10003030</td>\n",
              "      <td>0.0</td>\n",
              "      <td>0.0</td>\n",
              "      <td>0.0</td>\n",
              "      <td>0.0</td>\n",
              "      <td>0.0</td>\n",
              "      <td>0.0</td>\n",
              "      <td>0.0</td>\n",
              "      <td>0.0</td>\n",
              "      <td>0.0</td>\n",
              "      <td>...</td>\n",
              "      <td>55.371532</td>\n",
              "      <td>35.888090</td>\n",
              "      <td>29.299238</td>\n",
              "      <td>22.797500</td>\n",
              "      <td>19.358074</td>\n",
              "      <td>77.432846</td>\n",
              "      <td>111.691956</td>\n",
              "      <td>-25.94662</td>\n",
              "      <td>103.435680</td>\n",
              "      <td>-5.838378</td>\n",
              "    </tr>\n",
              "    <tr>\n",
              "      <th>1</th>\n",
              "      <td>10004040</td>\n",
              "      <td>0.0</td>\n",
              "      <td>0.0</td>\n",
              "      <td>0.0</td>\n",
              "      <td>0.0</td>\n",
              "      <td>0.0</td>\n",
              "      <td>0.0</td>\n",
              "      <td>0.0</td>\n",
              "      <td>0.0</td>\n",
              "      <td>0.0</td>\n",
              "      <td>...</td>\n",
              "      <td>-91.421400</td>\n",
              "      <td>-112.308880</td>\n",
              "      <td>-105.389435</td>\n",
              "      <td>-90.203280</td>\n",
              "      <td>-83.431940</td>\n",
              "      <td>-93.363850</td>\n",
              "      <td>89.013370</td>\n",
              "      <td>-105.65158</td>\n",
              "      <td>-109.505350</td>\n",
              "      <td>-91.108025</td>\n",
              "    </tr>\n",
              "    <tr>\n",
              "      <th>2</th>\n",
              "      <td>10013040</td>\n",
              "      <td>0.0</td>\n",
              "      <td>0.0</td>\n",
              "      <td>0.0</td>\n",
              "      <td>0.0</td>\n",
              "      <td>0.0</td>\n",
              "      <td>0.0</td>\n",
              "      <td>0.0</td>\n",
              "      <td>0.0</td>\n",
              "      <td>0.0</td>\n",
              "      <td>...</td>\n",
              "      <td>49.459797</td>\n",
              "      <td>65.680290</td>\n",
              "      <td>60.154457</td>\n",
              "      <td>39.245720</td>\n",
              "      <td>51.309025</td>\n",
              "      <td>60.598877</td>\n",
              "      <td>51.426174</td>\n",
              "      <td>46.48843</td>\n",
              "      <td>37.333424</td>\n",
              "      <td>103.510000</td>\n",
              "    </tr>\n",
              "    <tr>\n",
              "      <th>3</th>\n",
              "      <td>10038010</td>\n",
              "      <td>0.0</td>\n",
              "      <td>0.0</td>\n",
              "      <td>0.0</td>\n",
              "      <td>0.0</td>\n",
              "      <td>0.0</td>\n",
              "      <td>0.0</td>\n",
              "      <td>0.0</td>\n",
              "      <td>0.0</td>\n",
              "      <td>0.0</td>\n",
              "      <td>...</td>\n",
              "      <td>-57.609745</td>\n",
              "      <td>-47.364265</td>\n",
              "      <td>88.303375</td>\n",
              "      <td>-46.830162</td>\n",
              "      <td>-78.428740</td>\n",
              "      <td>-66.849754</td>\n",
              "      <td>-7.978823</td>\n",
              "      <td>-23.49985</td>\n",
              "      <td>-65.549740</td>\n",
              "      <td>-62.838780</td>\n",
              "    </tr>\n",
              "    <tr>\n",
              "      <th>4</th>\n",
              "      <td>10038040</td>\n",
              "      <td>0.0</td>\n",
              "      <td>0.0</td>\n",
              "      <td>0.0</td>\n",
              "      <td>0.0</td>\n",
              "      <td>0.0</td>\n",
              "      <td>0.0</td>\n",
              "      <td>0.0</td>\n",
              "      <td>0.0</td>\n",
              "      <td>0.0</td>\n",
              "      <td>...</td>\n",
              "      <td>-47.359974</td>\n",
              "      <td>-46.314903</td>\n",
              "      <td>-38.281940</td>\n",
              "      <td>-47.406548</td>\n",
              "      <td>98.821100</td>\n",
              "      <td>-40.059370</td>\n",
              "      <td>-7.615824</td>\n",
              "      <td>92.26157</td>\n",
              "      <td>-80.819400</td>\n",
              "      <td>-9.062362</td>\n",
              "    </tr>\n",
              "  </tbody>\n",
              "</table>\n",
              "<p>5 rows × 11415 columns</p>\n",
              "</div>\n",
              "      <button class=\"colab-df-convert\" onclick=\"convertToInteractive('df-5f483a56-d775-4f0b-9a2f-5663b328e204')\"\n",
              "              title=\"Convert this dataframe to an interactive table.\"\n",
              "              style=\"display:none;\">\n",
              "        \n",
              "  <svg xmlns=\"http://www.w3.org/2000/svg\" height=\"24px\"viewBox=\"0 0 24 24\"\n",
              "       width=\"24px\">\n",
              "    <path d=\"M0 0h24v24H0V0z\" fill=\"none\"/>\n",
              "    <path d=\"M18.56 5.44l.94 2.06.94-2.06 2.06-.94-2.06-.94-.94-2.06-.94 2.06-2.06.94zm-11 1L8.5 8.5l.94-2.06 2.06-.94-2.06-.94L8.5 2.5l-.94 2.06-2.06.94zm10 10l.94 2.06.94-2.06 2.06-.94-2.06-.94-.94-2.06-.94 2.06-2.06.94z\"/><path d=\"M17.41 7.96l-1.37-1.37c-.4-.4-.92-.59-1.43-.59-.52 0-1.04.2-1.43.59L10.3 9.45l-7.72 7.72c-.78.78-.78 2.05 0 2.83L4 21.41c.39.39.9.59 1.41.59.51 0 1.02-.2 1.41-.59l7.78-7.78 2.81-2.81c.8-.78.8-2.07 0-2.86zM5.41 20L4 18.59l7.72-7.72 1.47 1.35L5.41 20z\"/>\n",
              "  </svg>\n",
              "      </button>\n",
              "      \n",
              "  <style>\n",
              "    .colab-df-container {\n",
              "      display:flex;\n",
              "      flex-wrap:wrap;\n",
              "      gap: 12px;\n",
              "    }\n",
              "\n",
              "    .colab-df-convert {\n",
              "      background-color: #E8F0FE;\n",
              "      border: none;\n",
              "      border-radius: 50%;\n",
              "      cursor: pointer;\n",
              "      display: none;\n",
              "      fill: #1967D2;\n",
              "      height: 32px;\n",
              "      padding: 0 0 0 0;\n",
              "      width: 32px;\n",
              "    }\n",
              "\n",
              "    .colab-df-convert:hover {\n",
              "      background-color: #E2EBFA;\n",
              "      box-shadow: 0px 1px 2px rgba(60, 64, 67, 0.3), 0px 1px 3px 1px rgba(60, 64, 67, 0.15);\n",
              "      fill: #174EA6;\n",
              "    }\n",
              "\n",
              "    [theme=dark] .colab-df-convert {\n",
              "      background-color: #3B4455;\n",
              "      fill: #D2E3FC;\n",
              "    }\n",
              "\n",
              "    [theme=dark] .colab-df-convert:hover {\n",
              "      background-color: #434B5C;\n",
              "      box-shadow: 0px 1px 3px 1px rgba(0, 0, 0, 0.15);\n",
              "      filter: drop-shadow(0px 1px 2px rgba(0, 0, 0, 0.3));\n",
              "      fill: #FFFFFF;\n",
              "    }\n",
              "  </style>\n",
              "\n",
              "      <script>\n",
              "        const buttonEl =\n",
              "          document.querySelector('#df-5f483a56-d775-4f0b-9a2f-5663b328e204 button.colab-df-convert');\n",
              "        buttonEl.style.display =\n",
              "          google.colab.kernel.accessAllowed ? 'block' : 'none';\n",
              "\n",
              "        async function convertToInteractive(key) {\n",
              "          const element = document.querySelector('#df-5f483a56-d775-4f0b-9a2f-5663b328e204');\n",
              "          const dataTable =\n",
              "            await google.colab.kernel.invokeFunction('convertToInteractive',\n",
              "                                                     [key], {});\n",
              "          if (!dataTable) return;\n",
              "\n",
              "          const docLinkHtml = 'Like what you see? Visit the ' +\n",
              "            '<a target=\"_blank\" href=https://colab.research.google.com/notebooks/data_table.ipynb>data table notebook</a>'\n",
              "            + ' to learn more about interactive tables.';\n",
              "          element.innerHTML = '';\n",
              "          dataTable['output_type'] = 'display_data';\n",
              "          await google.colab.output.renderOutput(dataTable, element);\n",
              "          const docLink = document.createElement('div');\n",
              "          docLink.innerHTML = docLinkHtml;\n",
              "          element.appendChild(docLink);\n",
              "        }\n",
              "      </script>\n",
              "    </div>\n",
              "  </div>\n",
              "  "
            ]
          },
          "metadata": {},
          "execution_count": 73
        }
      ]
    },
    {
      "cell_type": "markdown",
      "source": [
        "## First idea: couples (HHIDPN, wave) are individuals"
      ],
      "metadata": {
        "id": "7Kah1bjQ8I0G"
      }
    },
    {
      "cell_type": "markdown",
      "source": [
        "### Format database"
      ],
      "metadata": {
        "id": "BHQkX2y2OYY6"
      }
    },
    {
      "cell_type": "markdown",
      "source": [
        "We first select variables that are present in all waves"
      ],
      "metadata": {
        "id": "3kaaYhz08gez"
      }
    },
    {
      "cell_type": "code",
      "source": [
        "temporal_variables = {}\n",
        "waves_columns = [col for col in data.columns if \"genetic_\" not in col and col[1] in \"123456789\"]\n",
        "for col in waves_columns:\n",
        "  char = col[0] # R or H\n",
        "  if col[2] in \"01234\":\n",
        "    wave = col[1:3]\n",
        "    suffix = col[3:]\n",
        "  else:\n",
        "    wave = col[1]\n",
        "    suffix = col[2:]\n",
        "  variable = char + 'w' + suffix\n",
        "  \n",
        "  if variable not in temporal_variables.keys():\n",
        "    temporal_variables[variable] = np.zeros((14), dtype=bool)\n",
        "  \n",
        "  temporal_variables[variable][int(wave)-1] = True\n",
        "\n",
        "temporal_variables = pd.DataFrame(temporal_variables)\n",
        "\n",
        "# We manually add \"GHIw\":\n",
        "temporal_variables[\"GHIw\"] = np.ones((14), dtype=bool)\n",
        "waves_columns += [f\"GHI{w}\" for w in range(1,15)]"
      ],
      "metadata": {
        "id": "o-70BoOC8Q5R"
      },
      "execution_count": 74,
      "outputs": []
    },
    {
      "cell_type": "code",
      "source": [
        "temporal_variables.head()"
      ],
      "metadata": {
        "colab": {
          "base_uri": "https://localhost:8080/",
          "height": 299
        },
        "id": "dwEwgYCS8_OP",
        "outputId": "3d84f5e4-c087-45f0-ef3b-dd4826705e8f"
      },
      "execution_count": 75,
      "outputs": [
        {
          "output_type": "execute_result",
          "data": {
            "text/plain": [
              "   RwMPART  RwMLEN  RwMCURLN  RwMLENM  RwMNEV  HwANYFIN  HwANYFAM  RwFAMR  \\\n",
              "0     True    True      True     True    True      True      True    True   \n",
              "1     True    True      True     True    True      True      True    True   \n",
              "2     True    True      True     True    True      True      True    True   \n",
              "3     True    True      True     True    True      True      True    True   \n",
              "4     True    True      True     True    True      True      True    True   \n",
              "\n",
              "   RwFINR  HwHHRESP  ...  RwADL6A_4.0  RwADL6A_5.0  RwADL6A_6.0  RwIADL5H_0  \\\n",
              "0    True      True  ...        False        False        False       False   \n",
              "1    True      True  ...         True         True         True       False   \n",
              "2    True      True  ...         True         True         True        True   \n",
              "3    True      True  ...         True         True         True        True   \n",
              "4    True      True  ...         True         True         True        True   \n",
              "\n",
              "   RwIADL5H_1  RwIADL5H_2  RwIADL5H_3  RwIADL5H_4  RwIADL5H_5  GHIw  \n",
              "0       False       False       False       False       False  True  \n",
              "1       False       False       False       False       False  True  \n",
              "2        True        True        True        True        True  True  \n",
              "3        True        True        True        True        True  True  \n",
              "4        True        True        True        True        True  True  \n",
              "\n",
              "[5 rows x 1138 columns]"
            ],
            "text/html": [
              "\n",
              "  <div id=\"df-1a00ed1f-023d-4cb2-a36f-d7ce4856ea4e\">\n",
              "    <div class=\"colab-df-container\">\n",
              "      <div>\n",
              "<style scoped>\n",
              "    .dataframe tbody tr th:only-of-type {\n",
              "        vertical-align: middle;\n",
              "    }\n",
              "\n",
              "    .dataframe tbody tr th {\n",
              "        vertical-align: top;\n",
              "    }\n",
              "\n",
              "    .dataframe thead th {\n",
              "        text-align: right;\n",
              "    }\n",
              "</style>\n",
              "<table border=\"1\" class=\"dataframe\">\n",
              "  <thead>\n",
              "    <tr style=\"text-align: right;\">\n",
              "      <th></th>\n",
              "      <th>RwMPART</th>\n",
              "      <th>RwMLEN</th>\n",
              "      <th>RwMCURLN</th>\n",
              "      <th>RwMLENM</th>\n",
              "      <th>RwMNEV</th>\n",
              "      <th>HwANYFIN</th>\n",
              "      <th>HwANYFAM</th>\n",
              "      <th>RwFAMR</th>\n",
              "      <th>RwFINR</th>\n",
              "      <th>HwHHRESP</th>\n",
              "      <th>...</th>\n",
              "      <th>RwADL6A_4.0</th>\n",
              "      <th>RwADL6A_5.0</th>\n",
              "      <th>RwADL6A_6.0</th>\n",
              "      <th>RwIADL5H_0</th>\n",
              "      <th>RwIADL5H_1</th>\n",
              "      <th>RwIADL5H_2</th>\n",
              "      <th>RwIADL5H_3</th>\n",
              "      <th>RwIADL5H_4</th>\n",
              "      <th>RwIADL5H_5</th>\n",
              "      <th>GHIw</th>\n",
              "    </tr>\n",
              "  </thead>\n",
              "  <tbody>\n",
              "    <tr>\n",
              "      <th>0</th>\n",
              "      <td>True</td>\n",
              "      <td>True</td>\n",
              "      <td>True</td>\n",
              "      <td>True</td>\n",
              "      <td>True</td>\n",
              "      <td>True</td>\n",
              "      <td>True</td>\n",
              "      <td>True</td>\n",
              "      <td>True</td>\n",
              "      <td>True</td>\n",
              "      <td>...</td>\n",
              "      <td>False</td>\n",
              "      <td>False</td>\n",
              "      <td>False</td>\n",
              "      <td>False</td>\n",
              "      <td>False</td>\n",
              "      <td>False</td>\n",
              "      <td>False</td>\n",
              "      <td>False</td>\n",
              "      <td>False</td>\n",
              "      <td>True</td>\n",
              "    </tr>\n",
              "    <tr>\n",
              "      <th>1</th>\n",
              "      <td>True</td>\n",
              "      <td>True</td>\n",
              "      <td>True</td>\n",
              "      <td>True</td>\n",
              "      <td>True</td>\n",
              "      <td>True</td>\n",
              "      <td>True</td>\n",
              "      <td>True</td>\n",
              "      <td>True</td>\n",
              "      <td>True</td>\n",
              "      <td>...</td>\n",
              "      <td>True</td>\n",
              "      <td>True</td>\n",
              "      <td>True</td>\n",
              "      <td>False</td>\n",
              "      <td>False</td>\n",
              "      <td>False</td>\n",
              "      <td>False</td>\n",
              "      <td>False</td>\n",
              "      <td>False</td>\n",
              "      <td>True</td>\n",
              "    </tr>\n",
              "    <tr>\n",
              "      <th>2</th>\n",
              "      <td>True</td>\n",
              "      <td>True</td>\n",
              "      <td>True</td>\n",
              "      <td>True</td>\n",
              "      <td>True</td>\n",
              "      <td>True</td>\n",
              "      <td>True</td>\n",
              "      <td>True</td>\n",
              "      <td>True</td>\n",
              "      <td>True</td>\n",
              "      <td>...</td>\n",
              "      <td>True</td>\n",
              "      <td>True</td>\n",
              "      <td>True</td>\n",
              "      <td>True</td>\n",
              "      <td>True</td>\n",
              "      <td>True</td>\n",
              "      <td>True</td>\n",
              "      <td>True</td>\n",
              "      <td>True</td>\n",
              "      <td>True</td>\n",
              "    </tr>\n",
              "    <tr>\n",
              "      <th>3</th>\n",
              "      <td>True</td>\n",
              "      <td>True</td>\n",
              "      <td>True</td>\n",
              "      <td>True</td>\n",
              "      <td>True</td>\n",
              "      <td>True</td>\n",
              "      <td>True</td>\n",
              "      <td>True</td>\n",
              "      <td>True</td>\n",
              "      <td>True</td>\n",
              "      <td>...</td>\n",
              "      <td>True</td>\n",
              "      <td>True</td>\n",
              "      <td>True</td>\n",
              "      <td>True</td>\n",
              "      <td>True</td>\n",
              "      <td>True</td>\n",
              "      <td>True</td>\n",
              "      <td>True</td>\n",
              "      <td>True</td>\n",
              "      <td>True</td>\n",
              "    </tr>\n",
              "    <tr>\n",
              "      <th>4</th>\n",
              "      <td>True</td>\n",
              "      <td>True</td>\n",
              "      <td>True</td>\n",
              "      <td>True</td>\n",
              "      <td>True</td>\n",
              "      <td>True</td>\n",
              "      <td>True</td>\n",
              "      <td>True</td>\n",
              "      <td>True</td>\n",
              "      <td>True</td>\n",
              "      <td>...</td>\n",
              "      <td>True</td>\n",
              "      <td>True</td>\n",
              "      <td>True</td>\n",
              "      <td>True</td>\n",
              "      <td>True</td>\n",
              "      <td>True</td>\n",
              "      <td>True</td>\n",
              "      <td>True</td>\n",
              "      <td>True</td>\n",
              "      <td>True</td>\n",
              "    </tr>\n",
              "  </tbody>\n",
              "</table>\n",
              "<p>5 rows × 1138 columns</p>\n",
              "</div>\n",
              "      <button class=\"colab-df-convert\" onclick=\"convertToInteractive('df-1a00ed1f-023d-4cb2-a36f-d7ce4856ea4e')\"\n",
              "              title=\"Convert this dataframe to an interactive table.\"\n",
              "              style=\"display:none;\">\n",
              "        \n",
              "  <svg xmlns=\"http://www.w3.org/2000/svg\" height=\"24px\"viewBox=\"0 0 24 24\"\n",
              "       width=\"24px\">\n",
              "    <path d=\"M0 0h24v24H0V0z\" fill=\"none\"/>\n",
              "    <path d=\"M18.56 5.44l.94 2.06.94-2.06 2.06-.94-2.06-.94-.94-2.06-.94 2.06-2.06.94zm-11 1L8.5 8.5l.94-2.06 2.06-.94-2.06-.94L8.5 2.5l-.94 2.06-2.06.94zm10 10l.94 2.06.94-2.06 2.06-.94-2.06-.94-.94-2.06-.94 2.06-2.06.94z\"/><path d=\"M17.41 7.96l-1.37-1.37c-.4-.4-.92-.59-1.43-.59-.52 0-1.04.2-1.43.59L10.3 9.45l-7.72 7.72c-.78.78-.78 2.05 0 2.83L4 21.41c.39.39.9.59 1.41.59.51 0 1.02-.2 1.41-.59l7.78-7.78 2.81-2.81c.8-.78.8-2.07 0-2.86zM5.41 20L4 18.59l7.72-7.72 1.47 1.35L5.41 20z\"/>\n",
              "  </svg>\n",
              "      </button>\n",
              "      \n",
              "  <style>\n",
              "    .colab-df-container {\n",
              "      display:flex;\n",
              "      flex-wrap:wrap;\n",
              "      gap: 12px;\n",
              "    }\n",
              "\n",
              "    .colab-df-convert {\n",
              "      background-color: #E8F0FE;\n",
              "      border: none;\n",
              "      border-radius: 50%;\n",
              "      cursor: pointer;\n",
              "      display: none;\n",
              "      fill: #1967D2;\n",
              "      height: 32px;\n",
              "      padding: 0 0 0 0;\n",
              "      width: 32px;\n",
              "    }\n",
              "\n",
              "    .colab-df-convert:hover {\n",
              "      background-color: #E2EBFA;\n",
              "      box-shadow: 0px 1px 2px rgba(60, 64, 67, 0.3), 0px 1px 3px 1px rgba(60, 64, 67, 0.15);\n",
              "      fill: #174EA6;\n",
              "    }\n",
              "\n",
              "    [theme=dark] .colab-df-convert {\n",
              "      background-color: #3B4455;\n",
              "      fill: #D2E3FC;\n",
              "    }\n",
              "\n",
              "    [theme=dark] .colab-df-convert:hover {\n",
              "      background-color: #434B5C;\n",
              "      box-shadow: 0px 1px 3px 1px rgba(0, 0, 0, 0.15);\n",
              "      filter: drop-shadow(0px 1px 2px rgba(0, 0, 0, 0.3));\n",
              "      fill: #FFFFFF;\n",
              "    }\n",
              "  </style>\n",
              "\n",
              "      <script>\n",
              "        const buttonEl =\n",
              "          document.querySelector('#df-1a00ed1f-023d-4cb2-a36f-d7ce4856ea4e button.colab-df-convert');\n",
              "        buttonEl.style.display =\n",
              "          google.colab.kernel.accessAllowed ? 'block' : 'none';\n",
              "\n",
              "        async function convertToInteractive(key) {\n",
              "          const element = document.querySelector('#df-1a00ed1f-023d-4cb2-a36f-d7ce4856ea4e');\n",
              "          const dataTable =\n",
              "            await google.colab.kernel.invokeFunction('convertToInteractive',\n",
              "                                                     [key], {});\n",
              "          if (!dataTable) return;\n",
              "\n",
              "          const docLinkHtml = 'Like what you see? Visit the ' +\n",
              "            '<a target=\"_blank\" href=https://colab.research.google.com/notebooks/data_table.ipynb>data table notebook</a>'\n",
              "            + ' to learn more about interactive tables.';\n",
              "          element.innerHTML = '';\n",
              "          dataTable['output_type'] = 'display_data';\n",
              "          await google.colab.output.renderOutput(dataTable, element);\n",
              "          const docLink = document.createElement('div');\n",
              "          docLink.innerHTML = docLinkHtml;\n",
              "          element.appendChild(docLink);\n",
              "        }\n",
              "      </script>\n",
              "    </div>\n",
              "  </div>\n",
              "  "
            ]
          },
          "metadata": {},
          "execution_count": 75
        }
      ]
    },
    {
      "cell_type": "markdown",
      "source": [
        "Variables present in each waves are the following ones:"
      ],
      "metadata": {
        "id": "PjvxgjlY-fhw"
      }
    },
    {
      "cell_type": "code",
      "source": [
        "variables_in_all_waves = [col for col in temporal_variables.columns if temporal_variables[col].sum()==14]"
      ],
      "metadata": {
        "id": "yAEIRze3-fQm"
      },
      "execution_count": 76,
      "outputs": []
    },
    {
      "cell_type": "markdown",
      "source": [
        "Variables that are independant from the waves are the following ones:"
      ],
      "metadata": {
        "id": "JkaG11Wq-4yd"
      }
    },
    {
      "cell_type": "code",
      "source": [
        "non_waves_columns = [col for col in data.columns if col not in waves_columns]"
      ],
      "metadata": {
        "id": "jpbUlxMU-xVH"
      },
      "execution_count": 77,
      "outputs": []
    },
    {
      "cell_type": "code",
      "source": [
        "def get_wave(df, wave):\n",
        "  variables_of_wave = [var.replace('w', str(wave)) for var in variables_in_all_waves]\n",
        "  returned_df = df[variables_of_wave + non_waves_columns]\n",
        "  returned_df.columns = variables_in_all_waves + non_waves_columns\n",
        "  returned_df[\"Wave\"] = wave\n",
        "\n",
        "  return returned_df"
      ],
      "metadata": {
        "id": "_sIF50Nz-_DJ"
      },
      "execution_count": 78,
      "outputs": []
    },
    {
      "cell_type": "markdown",
      "source": [
        "### Lasso selection"
      ],
      "metadata": {
        "id": "9N-ViEZMOjCU"
      }
    },
    {
      "cell_type": "code",
      "source": [
        "data_for_lasso = pd.concat([get_wave(data, wave) for wave in range(1, 15)])\n",
        "data_for_lasso = data_for_lasso.reset_index()\n",
        "\n",
        "# We drop the variable \"genetic_Section_A_or_E\"\n",
        "data_for_lasso = data_for_lasso.drop(columns = \"genetic_Section_A_or_E\")"
      ],
      "metadata": {
        "id": "zhW5EPBfDFm1"
      },
      "execution_count": null,
      "outputs": []
    },
    {
      "cell_type": "code",
      "source": [
        "X = data_for_lasso.drop(columns = [\"GHIw\", \"HHIDPN\", \"PN\", \"HHID\"]).values\n",
        "y = data_for_lasso[\"GHIw\"].values"
      ],
      "metadata": {
        "id": "MkT4msVAEHjK"
      },
      "execution_count": 105,
      "outputs": []
    },
    {
      "cell_type": "code",
      "source": [
        "data_for_lasso[\"GHIw\"].plot.density()"
      ],
      "metadata": {
        "colab": {
          "base_uri": "https://localhost:8080/",
          "height": 447
        },
        "id": "Zhvm_ISYEaZU",
        "outputId": "7b68a9a4-bddf-4208-d1be-8590e04e8905"
      },
      "execution_count": 106,
      "outputs": [
        {
          "output_type": "execute_result",
          "data": {
            "text/plain": [
              "<Axes: ylabel='Density'>"
            ]
          },
          "metadata": {},
          "execution_count": 106
        },
        {
          "output_type": "display_data",
          "data": {
            "text/plain": [
              "<Figure size 640x480 with 1 Axes>"
            ],
            "image/png": "[encoded data removed]"
          },
          "metadata": {}
        }
      ]
    },
    {
      "cell_type": "code",
      "source": [
        "y_scaled = y - y.mean()\n",
        "\n",
        "scaler_X = StandardScaler()\n",
        "X_scaled = scaler_X.fit_transform(X)"
      ],
      "metadata": {
        "id": "rGtwiUFFEW2n"
      },
      "execution_count": null,
      "outputs": []
    },
    {
      "cell_type": "code",
      "source": [
        "hml.ERRORS_HANDLING = \"ignore\"\n",
        "lasso = hml.HMLasso(mu=100, verbose=True)\n",
        "lasso.fit(X_scaled, y_scaled)"
      ],
      "metadata": {
        "colab": {
          "base_uri": "https://localhost:8080/"
        },
        "id": "SaQPo1zrDz3I",
        "outputId": "0667586a-d913-414b-97ba-b7b846781c2b"
      },
      "execution_count": 110,
      "outputs": [
        {
          "output_type": "stream",
          "name": "stdout",
          "text": [
            "[Imputing parameters] Starting...\n",
            "[Imputing parameters] R calculated.\n",
            "[Imputing parameters] rho_pair calculated.\n",
            "[Imputing parameters] S_pair calculated.\n",
            "[Imputing parameters] Parameters imputed.\n",
            "[First Problem] Starting...\n",
            "[First Problem] Objective and constraints well-defined.\n",
            "===============================================================================\n",
            "                                     CVXPY                                     \n",
            "                                     v1.3.1                                    \n",
            "===============================================================================\n",
            "(CVXPY) Apr 27 12:23:17 AM: Your problem has 592900 variables, 1 constraints, and 0 parameters.\n",
            "(CVXPY) Apr 27 12:23:17 AM: It is compliant with the following grammars: DCP, DQCP\n",
            "(CVXPY) Apr 27 12:23:17 AM: (If you need to solve this problem multiple times, but with different data, consider using parameters.)\n",
            "(CVXPY) Apr 27 12:23:17 AM: CVXPY will first compile your problem; then, it will invoke a numerical solver to obtain a solution.\n",
            "-------------------------------------------------------------------------------\n",
            "                                  Compilation                                  \n",
            "-------------------------------------------------------------------------------\n",
            "(CVXPY) Apr 27 12:23:17 AM: Compiling problem (target solver=SCS).\n",
            "(CVXPY) Apr 27 12:23:17 AM: Reduction chain: Dcp2Cone -> CvxAttr2Constr -> ConeMatrixStuffing -> SCS\n",
            "(CVXPY) Apr 27 12:23:17 AM: Applying reduction Dcp2Cone\n",
            "(CVXPY) Apr 27 12:23:17 AM: Applying reduction CvxAttr2Constr\n",
            "(CVXPY) Apr 27 12:23:19 AM: Applying reduction ConeMatrixStuffing\n",
            "(CVXPY) Apr 27 12:23:20 AM: Applying reduction SCS\n",
            "(CVXPY) Apr 27 12:23:21 AM: Finished problem compilation (took 4.229e+00 seconds).\n",
            "-------------------------------------------------------------------------------\n",
            "                                Numerical solver                               \n",
            "-------------------------------------------------------------------------------\n",
            "(CVXPY) Apr 27 12:23:21 AM: Invoking solver SCS  to obtain a solution.\n",
            "------------------------------------------------------------------\n",
            "\t       SCS v3.2.3 - Splitting Conic Solver\n",
            "\t(c) Brendan O'Donoghue, Stanford University, 2012\n",
            "------------------------------------------------------------------\n",
            "problem:  variables n: 889735, constraints m: 1186570\n",
            "cones: \t  z: primal zero / dual free vars: 592900\n",
            "\t  s: psd vars: 593670, ssize: 2\n",
            "settings: eps_abs: 1.0e-05, eps_rel: 1.0e-05, eps_infeas: 1.0e-07\n",
            "\t  alpha: 1.50, scale: 1.00e-01, adaptive_scale: 1\n",
            "\t  max_iters: 100000, normalize: 1, rho_x: 1.00e-06\n",
            "\t  acceleration_lookback: 10, acceleration_interval: 10\n",
            "lin-sys:  sparse-direct-amd-qdldl\n",
            "\t  nnz(A): 1634127, nnz(P): 592900\n",
            "------------------------------------------------------------------\n",
            " iter | pri res | dua res |   gap   |   obj   |  scale  | time (s)\n",
            "------------------------------------------------------------------\n",
            "     0| 9.98e-01  5.64e-01  7.46e+02  4.43e+02  1.00e-01  4.50e+00 \n",
            "   225| 2.33e-06  3.79e-07  3.71e-08  2.44e-01  2.82e-02  2.41e+02 \n",
            "------------------------------------------------------------------\n",
            "status:  solved\n",
            "timings: total: 2.41e+02s = setup: 3.13e+00s + solve: 2.38e+02s\n",
            "\t lin-sys: 1.33e+01s, cones: 2.18e+02s, accel: 1.25e+00s\n",
            "------------------------------------------------------------------\n",
            "objective = 0.243654\n",
            "------------------------------------------------------------------\n",
            "-------------------------------------------------------------------------------\n",
            "                                    Summary                                    \n",
            "-------------------------------------------------------------------------------\n",
            "(CVXPY) Apr 27 12:27:22 AM: Problem status: optimal\n",
            "(CVXPY) Apr 27 12:27:22 AM: Optimal value: 2.437e-01\n",
            "(CVXPY) Apr 27 12:27:22 AM: Compilation took 4.229e+00 seconds\n",
            "(CVXPY) Apr 27 12:27:22 AM: Solver (including time spent in interface) took 2.414e+02 seconds\n",
            "[First Problem] Problem status: optimal.\n",
            "[First Problem] Problem solved.\n",
            "[Warning] Sigma_opt is not PSD, its minimum eigenvalue is (-4.166433357948675e-06+0j). Error handled by adding (4.166433357948675e-06-0j) to each eigenvalue.\n",
            "[Second Problem] Starting...\n",
            "[Second Problem] Objective and constraints well-defined.\n",
            "===============================================================================\n",
            "                                     CVXPY                                     \n",
            "                                     v1.3.1                                    \n",
            "===============================================================================\n",
            "(CVXPY) Apr 27 12:27:23 AM: Your problem has 770 variables, 0 constraints, and 0 parameters.\n",
            "(CVXPY) Apr 27 12:27:23 AM: It is compliant with the following grammars: DCP, DQCP\n",
            "(CVXPY) Apr 27 12:27:23 AM: (If you need to solve this problem multiple times, but with different data, consider using parameters.)\n",
            "(CVXPY) Apr 27 12:27:23 AM: CVXPY will first compile your problem; then, it will invoke a numerical solver to obtain a solution.\n",
            "-------------------------------------------------------------------------------\n",
            "                                  Compilation                                  \n",
            "-------------------------------------------------------------------------------\n",
            "(CVXPY) Apr 27 12:27:23 AM: Compiling problem (target solver=SCS).\n",
            "(CVXPY) Apr 27 12:27:23 AM: Reduction chain: Dcp2Cone -> CvxAttr2Constr -> ConeMatrixStuffing -> SCS\n",
            "(CVXPY) Apr 27 12:27:23 AM: Applying reduction Dcp2Cone\n",
            "(CVXPY) Apr 27 12:27:23 AM: Applying reduction CvxAttr2Constr\n",
            "(CVXPY) Apr 27 12:27:23 AM: Applying reduction ConeMatrixStuffing\n",
            "(CVXPY) Apr 27 12:27:23 AM: Applying reduction SCS\n",
            "(CVXPY) Apr 27 12:27:23 AM: Finished problem compilation (took 2.136e-01 seconds).\n",
            "-------------------------------------------------------------------------------\n",
            "                                Numerical solver                               \n",
            "-------------------------------------------------------------------------------\n",
            "(CVXPY) Apr 27 12:27:23 AM: Invoking solver SCS  to obtain a solution.\n",
            "------------------------------------------------------------------\n",
            "\t       SCS v3.2.3 - Splitting Conic Solver\n",
            "\t(c) Brendan O'Donoghue, Stanford University, 2012\n",
            "------------------------------------------------------------------\n",
            "problem:  variables n: 1540, constraints m: 1540\n",
            "cones: \t  l: linear vars: 1540\n",
            "settings: eps_abs: 1.0e-05, eps_rel: 1.0e-05, eps_infeas: 1.0e-07\n",
            "\t  alpha: 1.50, scale: 1.00e-01, adaptive_scale: 1\n",
            "\t  max_iters: 100000, normalize: 1, rho_x: 1.00e-06\n",
            "\t  acceleration_lookback: 10, acceleration_interval: 10\n",
            "lin-sys:  sparse-direct-amd-qdldl\n",
            "\t  nnz(A): 3080, nnz(P): 296835\n",
            "------------------------------------------------------------------\n",
            " iter | pri res | dua res |   gap   |   obj   |  scale  | time (s)\n",
            "------------------------------------------------------------------\n",
            "     0| 1.42e+03  1.00e+02  1.09e+08 -5.44e+07  1.00e-01  2.17e-01 \n",
            "   125| 2.69e-09  1.31e-12  2.13e-06 -1.07e-06  7.17e+02  4.17e-01 \n",
            "------------------------------------------------------------------\n",
            "status:  solved\n",
            "timings: total: 4.17e-01s = setup: 1.90e-01s + solve: 2.27e-01s\n",
            "\t lin-sys: 1.08e-01s, cones: 8.25e-04s, accel: 4.74e-04s\n",
            "------------------------------------------------------------------\n",
            "objective = -0.000001\n",
            "------------------------------------------------------------------\n",
            "-------------------------------------------------------------------------------\n",
            "                                    Summary                                    \n",
            "-------------------------------------------------------------------------------\n",
            "(CVXPY) Apr 27 12:27:24 AM: Problem status: optimal\n",
            "(CVXPY) Apr 27 12:27:24 AM: Optimal value: 3.702e-05\n",
            "(CVXPY) Apr 27 12:27:24 AM: Compilation took 2.136e-01 seconds\n",
            "(CVXPY) Apr 27 12:27:24 AM: Solver (including time spent in interface) took 4.740e-01 seconds\n",
            "[Second Problem] Problem status: optimal.\n",
            "[Second Problem] Problem solved.\n",
            "\n",
            "Model fitted.\n"
          ]
        }
      ]
    },
    {
      "cell_type": "markdown",
      "source": [
        "We arbitrarly select all variables whose coefficient is greater (in modulus) than 1e-9"
      ],
      "metadata": {
        "id": "08fw1i0eHtmL"
      }
    },
    {
      "cell_type": "code",
      "source": [
        "columns_for_lasso = data_for_lasso.drop(columns = [\"GHIw\", \"HHIDPN\", \"PN\", \"HHID\"]).columns"
      ],
      "metadata": {
        "id": "0KAOvamaHajK"
      },
      "execution_count": 139,
      "outputs": []
    },
    {
      "cell_type": "code",
      "source": [
        "criteria = pd.Series(abs(lasso.beta_opt) > 1e-9)\n",
        "columns_to_keep = list(pd.Series(columns_for_lasso)[criteria.index[criteria]])"
      ],
      "metadata": {
        "id": "EMtcdWLqLxyC"
      },
      "execution_count": 149,
      "outputs": []
    },
    {
      "cell_type": "markdown",
      "source": [
        "### Gradient boosting"
      ],
      "metadata": {
        "id": "2CoqHbUQOmbA"
      }
    },
    {
      "cell_type": "code",
      "source": [
        "data_for_boosting = data_for_lasso[columns_to_keep + [\"GHIw\", \"HHIDPN\", \"PN\", \"HHID\"]]"
      ],
      "metadata": {
        "id": "agZJ4863MSCa"
      },
      "execution_count": 150,
      "outputs": []
    },
    {
      "cell_type": "code",
      "source": [
        "data_for_boosting.shape"
      ],
      "metadata": {
        "colab": {
          "base_uri": "https://localhost:8080/"
        },
        "id": "I1-7TukFMhif",
        "outputId": "3d2a2179-251e-42d1-a32f-d9ba18c9b62e"
      },
      "execution_count": 151,
      "outputs": [
        {
          "output_type": "execute_result",
          "data": {
            "text/plain": [
              "(47544, 112)"
            ]
          },
          "metadata": {},
          "execution_count": 151
        }
      ]
    },
    {
      "cell_type": "code",
      "source": [
        "from sklearn.ensemble import HistGradientBoostingRegressor"
      ],
      "metadata": {
        "id": "WzZsyQWqOoWA"
      },
      "execution_count": 152,
      "outputs": []
    },
    {
      "cell_type": "code",
      "source": [
        "X = data_for_boosting.drop(columns = [\"GHIw\", \"HHIDPN\", \"PN\", \"HHID\"]).values\n",
        "y = data_for_boosting[\"GHIw\"].values\n",
        "\n",
        "y_scaled = y - y.mean()\n",
        "\n",
        "scaler = StandardScaler()\n",
        "X_scaled = scaler.fit_transform(X)"
      ],
      "metadata": {
        "id": "UWrxbAg_POa2"
      },
      "execution_count": 153,
      "outputs": []
    },
    {
      "cell_type": "code",
      "source": [
        "from sklearn.model_selection import train_test_split\n",
        "X_train, X_test, y_train, y_test = train_test_split(X_scaled, y_scaled, test_size = 0.2, random_state = 5)"
      ],
      "metadata": {
        "id": "AoozHGdAQVEV"
      },
      "execution_count": 172,
      "outputs": []
    },
    {
      "cell_type": "code",
      "source": [
        "from sklearn.model_selection import GridSearchCV\n",
        "\n",
        "params = {\"learning_rate\" : [0.05, 0.1, 0.2, 0.3, 0.5, 1.0],\n",
        "          \"max_iter\" : [100, 500, 1000, 2000],\n",
        "          \"max_leaf_nodes\" : [31, 100]}\n",
        "\n",
        "grid = GridSearchCV(estimator = HistGradientBoostingRegressor(),\n",
        "                    param_grid = params,\n",
        "                    scoring = \"r2\",\n",
        "                    n_jobs = -1,\n",
        "                    cv = 5,\n",
        "                    verbose = 5)\n",
        "\n",
        "grid.fit(X_train, y_train)"
      ],
      "metadata": {
        "colab": {
          "base_uri": "https://localhost:8080/",
          "height": 134
        },
        "id": "QqZwqZ12Q2-P",
        "outputId": "a4c9d9ae-f485-440f-979b-1051f437727d"
      },
      "execution_count": 187,
      "outputs": [
        {
          "output_type": "stream",
          "name": "stdout",
          "text": [
            "Fitting 5 folds for each of 48 candidates, totalling 240 fits\n"
          ]
        },
        {
          "output_type": "execute_result",
          "data": {
            "text/plain": [
              "GridSearchCV(cv=5, estimator=HistGradientBoostingRegressor(), n_jobs=-1,\n",
              "             param_grid={'learning_rate': [0.05, 0.1, 0.2, 0.3, 0.5, 1.0],\n",
              "                         'max_iter': [100, 500, 1000, 2000],\n",
              "                         'max_leaf_nodes': [31, 100]},\n",
              "             scoring='r2', verbose=5)"
            ],
            "text/html": [
              "<style>#sk-container-id-13 {color: black;background-color: white;}#sk-container-id-13 pre{padding: 0;}#sk-container-id-13 div.sk-toggleable {background-color: white;}#sk-container-id-13 label.sk-toggleable__label {cursor: pointer;display: block;width: 100%;margin-bottom: 0;padding: 0.3em;box-sizing: border-box;text-align: center;}#sk-container-id-13 label.sk-toggleable__label-arrow:before {content: \"▸\";float: left;margin-right: 0.25em;color: #696969;}#sk-container-id-13 label.sk-toggleable__label-arrow:hover:before {color: black;}#sk-container-id-13 div.sk-estimator:hover label.sk-toggleable__label-arrow:before {color: black;}#sk-container-id-13 div.sk-toggleable__content {max-height: 0;max-width: 0;overflow: hidden;text-align: left;background-color: #f0f8ff;}#sk-container-id-13 div.sk-toggleable__content pre {margin: 0.2em;color: black;border-radius: 0.25em;background-color: #f0f8ff;}#sk-container-id-13 input.sk-toggleable__control:checked~div.sk-toggleable__content {max-height: 200px;max-width: 100%;overflow: auto;}#sk-container-id-13 input.sk-toggleable__control:checked~label.sk-toggleable__label-arrow:before {content: \"▾\";}#sk-container-id-13 div.sk-estimator input.sk-toggleable__control:checked~label.sk-toggleable__label {background-color: #d4ebff;}#sk-container-id-13 div.sk-label input.sk-toggleable__control:checked~label.sk-toggleable__label {background-color: #d4ebff;}#sk-container-id-13 input.sk-hidden--visually {border: 0;clip: rect(1px 1px 1px 1px);clip: rect(1px, 1px, 1px, 1px);height: 1px;margin: -1px;overflow: hidden;padding: 0;position: absolute;width: 1px;}#sk-container-id-13 div.sk-estimator {font-family: monospace;background-color: #f0f8ff;border: 1px dotted black;border-radius: 0.25em;box-sizing: border-box;margin-bottom: 0.5em;}#sk-container-id-13 div.sk-estimator:hover {background-color: #d4ebff;}#sk-container-id-13 div.sk-parallel-item::after {content: \"\";width: 100%;border-bottom: 1px solid gray;flex-grow: 1;}#sk-container-id-13 div.sk-label:hover label.sk-toggleable__label {background-color: #d4ebff;}#sk-container-id-13 div.sk-serial::before {content: \"\";position: absolute;border-left: 1px solid gray;box-sizing: border-box;top: 0;bottom: 0;left: 50%;z-index: 0;}#sk-container-id-13 div.sk-serial {display: flex;flex-direction: column;align-items: center;background-color: white;padding-right: 0.2em;padding-left: 0.2em;position: relative;}#sk-container-id-13 div.sk-item {position: relative;z-index: 1;}#sk-container-id-13 div.sk-parallel {display: flex;align-items: stretch;justify-content: center;background-color: white;position: relative;}#sk-container-id-13 div.sk-item::before, #sk-container-id-13 div.sk-parallel-item::before {content: \"\";position: absolute;border-left: 1px solid gray;box-sizing: border-box;top: 0;bottom: 0;left: 50%;z-index: -1;}#sk-container-id-13 div.sk-parallel-item {display: flex;flex-direction: column;z-index: 1;position: relative;background-color: white;}#sk-container-id-13 div.sk-parallel-item:first-child::after {align-self: flex-end;width: 50%;}#sk-container-id-13 div.sk-parallel-item:last-child::after {align-self: flex-start;width: 50%;}#sk-container-id-13 div.sk-parallel-item:only-child::after {width: 0;}#sk-container-id-13 div.sk-dashed-wrapped {border: 1px dashed gray;margin: 0 0.4em 0.5em 0.4em;box-sizing: border-box;padding-bottom: 0.4em;background-color: white;}#sk-container-id-13 div.sk-label label {font-family: monospace;font-weight: bold;display: inline-block;line-height: 1.2em;}#sk-container-id-13 div.sk-label-container {text-align: center;}#sk-container-id-13 div.sk-container {/* jupyter's `normalize.less` sets `[hidden] { display: none; }` but bootstrap.min.css set `[hidden] { display: none !important; }` so we also need the `!important` here to be able to override the default hidden behavior on the sphinx rendered scikit-learn.org. See: https://github.com/scikit-learn/scikit-learn/issues/21755 */display: inline-block !important;position: relative;}#sk-container-id-13 div.sk-text-repr-fallback {display: none;}</style><div id=\"sk-container-id-13\" class=\"sk-top-container\"><div class=\"sk-text-repr-fallback\"><pre>GridSearchCV(cv=5, estimator=HistGradientBoostingRegressor(), n_jobs=-1,\n",
              "             param_grid={&#x27;learning_rate&#x27;: [0.05, 0.1, 0.2, 0.3, 0.5, 1.0],\n",
              "                         &#x27;max_iter&#x27;: [100, 500, 1000, 2000],\n",
              "                         &#x27;max_leaf_nodes&#x27;: [31, 100]},\n",
              "             scoring=&#x27;r2&#x27;, verbose=5)</pre><b>In a Jupyter environment, please rerun this cell to show the HTML representation or trust the notebook. <br />On GitHub, the HTML representation is unable to render, please try loading this page with nbviewer.org.</b></div><div class=\"sk-container\" hidden><div class=\"sk-item sk-dashed-wrapped\"><div class=\"sk-label-container\"><div class=\"sk-label sk-toggleable\"><input class=\"sk-toggleable__control sk-hidden--visually\" id=\"sk-estimator-id-15\" type=\"checkbox\" ><label for=\"sk-estimator-id-15\" class=\"sk-toggleable__label sk-toggleable__label-arrow\">GridSearchCV</label><div class=\"sk-toggleable__content\"><pre>GridSearchCV(cv=5, estimator=HistGradientBoostingRegressor(), n_jobs=-1,\n",
              "             param_grid={&#x27;learning_rate&#x27;: [0.05, 0.1, 0.2, 0.3, 0.5, 1.0],\n",
              "                         &#x27;max_iter&#x27;: [100, 500, 1000, 2000],\n",
              "                         &#x27;max_leaf_nodes&#x27;: [31, 100]},\n",
              "             scoring=&#x27;r2&#x27;, verbose=5)</pre></div></div></div><div class=\"sk-parallel\"><div class=\"sk-parallel-item\"><div class=\"sk-item\"><div class=\"sk-label-container\"><div class=\"sk-label sk-toggleable\"><input class=\"sk-toggleable__control sk-hidden--visually\" id=\"sk-estimator-id-16\" type=\"checkbox\" ><label for=\"sk-estimator-id-16\" class=\"sk-toggleable__label sk-toggleable__label-arrow\">estimator: HistGradientBoostingRegressor</label><div class=\"sk-toggleable__content\"><pre>HistGradientBoostingRegressor()</pre></div></div></div><div class=\"sk-serial\"><div class=\"sk-item\"><div class=\"sk-estimator sk-toggleable\"><input class=\"sk-toggleable__control sk-hidden--visually\" id=\"sk-estimator-id-17\" type=\"checkbox\" ><label for=\"sk-estimator-id-17\" class=\"sk-toggleable__label sk-toggleable__label-arrow\">HistGradientBoostingRegressor</label><div class=\"sk-toggleable__content\"><pre>HistGradientBoostingRegressor()</pre></div></div></div></div></div></div></div></div></div></div>"
            ]
          },
          "metadata": {},
          "execution_count": 187
        }
      ]
    },
    {
      "cell_type": "code",
      "source": [
        "results = pd.DataFrame(grid.cv_results_)\n",
        "results = results.drop(columns = [col for col in results.columns if \"split\" in col]+[\"params\"]).sort_values(\"rank_test_score\")\n",
        "results.head()"
      ],
      "metadata": {
        "colab": {
          "base_uri": "https://localhost:8080/",
          "height": 206
        },
        "id": "iII34Y-xUd-T",
        "outputId": "e1b528d5-3c46-4ffc-9e16-3f2e71cf1664"
      },
      "execution_count": 189,
      "outputs": [
        {
          "output_type": "execute_result",
          "data": {
            "text/plain": [
              "    mean_fit_time  std_fit_time  mean_score_time  std_score_time  \\\n",
              "7       24.770315      3.487579         0.749571        0.240712   \n",
              "11      13.871222      1.783630         0.387445        0.065120   \n",
              "3       20.105510      4.805623         0.611283        0.156409   \n",
              "5       21.292338      6.905940         0.702577        0.211307   \n",
              "15      11.397437      1.163469         0.334472        0.022021   \n",
              "\n",
              "   param_learning_rate param_max_iter param_max_leaf_nodes  mean_test_score  \\\n",
              "7                 0.05           2000                  100         0.211774   \n",
              "11                 0.1            500                  100         0.207428   \n",
              "3                 0.05            500                  100         0.206051   \n",
              "5                 0.05           1000                  100         0.204851   \n",
              "15                 0.1           2000                  100         0.203847   \n",
              "\n",
              "    std_test_score  rank_test_score  \n",
              "7         0.004945                1  \n",
              "11        0.003496                2  \n",
              "3         0.005055                3  \n",
              "5         0.008835                4  \n",
              "15        0.004698                5  "
            ],
            "text/html": [
              "\n",
              "  <div id=\"df-56b306bd-bdf9-425a-8843-7728059da9e8\">\n",
              "    <div class=\"colab-df-container\">\n",
              "      <div>\n",
              "<style scoped>\n",
              "    .dataframe tbody tr th:only-of-type {\n",
              "        vertical-align: middle;\n",
              "    }\n",
              "\n",
              "    .dataframe tbody tr th {\n",
              "        vertical-align: top;\n",
              "    }\n",
              "\n",
              "    .dataframe thead th {\n",
              "        text-align: right;\n",
              "    }\n",
              "</style>\n",
              "<table border=\"1\" class=\"dataframe\">\n",
              "  <thead>\n",
              "    <tr style=\"text-align: right;\">\n",
              "      <th></th>\n",
              "      <th>mean_fit_time</th>\n",
              "      <th>std_fit_time</th>\n",
              "      <th>mean_score_time</th>\n",
              "      <th>std_score_time</th>\n",
              "      <th>param_learning_rate</th>\n",
              "      <th>param_max_iter</th>\n",
              "      <th>param_max_leaf_nodes</th>\n",
              "      <th>mean_test_score</th>\n",
              "      <th>std_test_score</th>\n",
              "      <th>rank_test_score</th>\n",
              "    </tr>\n",
              "  </thead>\n",
              "  <tbody>\n",
              "    <tr>\n",
              "      <th>7</th>\n",
              "      <td>24.770315</td>\n",
              "      <td>3.487579</td>\n",
              "      <td>0.749571</td>\n",
              "      <td>0.240712</td>\n",
              "      <td>0.05</td>\n",
              "      <td>2000</td>\n",
              "      <td>100</td>\n",
              "      <td>0.211774</td>\n",
              "      <td>0.004945</td>\n",
              "      <td>1</td>\n",
              "    </tr>\n",
              "    <tr>\n",
              "      <th>11</th>\n",
              "      <td>13.871222</td>\n",
              "      <td>1.783630</td>\n",
              "      <td>0.387445</td>\n",
              "      <td>0.065120</td>\n",
              "      <td>0.1</td>\n",
              "      <td>500</td>\n",
              "      <td>100</td>\n",
              "      <td>0.207428</td>\n",
              "      <td>0.003496</td>\n",
              "      <td>2</td>\n",
              "    </tr>\n",
              "    <tr>\n",
              "      <th>3</th>\n",
              "      <td>20.105510</td>\n",
              "      <td>4.805623</td>\n",
              "      <td>0.611283</td>\n",
              "      <td>0.156409</td>\n",
              "      <td>0.05</td>\n",
              "      <td>500</td>\n",
              "      <td>100</td>\n",
              "      <td>0.206051</td>\n",
              "      <td>0.005055</td>\n",
              "      <td>3</td>\n",
              "    </tr>\n",
              "    <tr>\n",
              "      <th>5</th>\n",
              "      <td>21.292338</td>\n",
              "      <td>6.905940</td>\n",
              "      <td>0.702577</td>\n",
              "      <td>0.211307</td>\n",
              "      <td>0.05</td>\n",
              "      <td>1000</td>\n",
              "      <td>100</td>\n",
              "      <td>0.204851</td>\n",
              "      <td>0.008835</td>\n",
              "      <td>4</td>\n",
              "    </tr>\n",
              "    <tr>\n",
              "      <th>15</th>\n",
              "      <td>11.397437</td>\n",
              "      <td>1.163469</td>\n",
              "      <td>0.334472</td>\n",
              "      <td>0.022021</td>\n",
              "      <td>0.1</td>\n",
              "      <td>2000</td>\n",
              "      <td>100</td>\n",
              "      <td>0.203847</td>\n",
              "      <td>0.004698</td>\n",
              "      <td>5</td>\n",
              "    </tr>\n",
              "  </tbody>\n",
              "</table>\n",
              "</div>\n",
              "      <button class=\"colab-df-convert\" onclick=\"convertToInteractive('df-56b306bd-bdf9-425a-8843-7728059da9e8')\"\n",
              "              title=\"Convert this dataframe to an interactive table.\"\n",
              "              style=\"display:none;\">\n",
              "        \n",
              "  <svg xmlns=\"http://www.w3.org/2000/svg\" height=\"24px\"viewBox=\"0 0 24 24\"\n",
              "       width=\"24px\">\n",
              "    <path d=\"M0 0h24v24H0V0z\" fill=\"none\"/>\n",
              "    <path d=\"M18.56 5.44l.94 2.06.94-2.06 2.06-.94-2.06-.94-.94-2.06-.94 2.06-2.06.94zm-11 1L8.5 8.5l.94-2.06 2.06-.94-2.06-.94L8.5 2.5l-.94 2.06-2.06.94zm10 10l.94 2.06.94-2.06 2.06-.94-2.06-.94-.94-2.06-.94 2.06-2.06.94z\"/><path d=\"M17.41 7.96l-1.37-1.37c-.4-.4-.92-.59-1.43-.59-.52 0-1.04.2-1.43.59L10.3 9.45l-7.72 7.72c-.78.78-.78 2.05 0 2.83L4 21.41c.39.39.9.59 1.41.59.51 0 1.02-.2 1.41-.59l7.78-7.78 2.81-2.81c.8-.78.8-2.07 0-2.86zM5.41 20L4 18.59l7.72-7.72 1.47 1.35L5.41 20z\"/>\n",
              "  </svg>\n",
              "      </button>\n",
              "      \n",
              "  <style>\n",
              "    .colab-df-container {\n",
              "      display:flex;\n",
              "      flex-wrap:wrap;\n",
              "      gap: 12px;\n",
              "    }\n",
              "\n",
              "    .colab-df-convert {\n",
              "      background-color: #E8F0FE;\n",
              "      border: none;\n",
              "      border-radius: 50%;\n",
              "      cursor: pointer;\n",
              "      display: none;\n",
              "      fill: #1967D2;\n",
              "      height: 32px;\n",
              "      padding: 0 0 0 0;\n",
              "      width: 32px;\n",
              "    }\n",
              "\n",
              "    .colab-df-convert:hover {\n",
              "      background-color: #E2EBFA;\n",
              "      box-shadow: 0px 1px 2px rgba(60, 64, 67, 0.3), 0px 1px 3px 1px rgba(60, 64, 67, 0.15);\n",
              "      fill: #174EA6;\n",
              "    }\n",
              "\n",
              "    [theme=dark] .colab-df-convert {\n",
              "      background-color: #3B4455;\n",
              "      fill: #D2E3FC;\n",
              "    }\n",
              "\n",
              "    [theme=dark] .colab-df-convert:hover {\n",
              "      background-color: #434B5C;\n",
              "      box-shadow: 0px 1px 3px 1px rgba(0, 0, 0, 0.15);\n",
              "      filter: drop-shadow(0px 1px 2px rgba(0, 0, 0, 0.3));\n",
              "      fill: #FFFFFF;\n",
              "    }\n",
              "  </style>\n",
              "\n",
              "      <script>\n",
              "        const buttonEl =\n",
              "          document.querySelector('#df-56b306bd-bdf9-425a-8843-7728059da9e8 button.colab-df-convert');\n",
              "        buttonEl.style.display =\n",
              "          google.colab.kernel.accessAllowed ? 'block' : 'none';\n",
              "\n",
              "        async function convertToInteractive(key) {\n",
              "          const element = document.querySelector('#df-56b306bd-bdf9-425a-8843-7728059da9e8');\n",
              "          const dataTable =\n",
              "            await google.colab.kernel.invokeFunction('convertToInteractive',\n",
              "                                                     [key], {});\n",
              "          if (!dataTable) return;\n",
              "\n",
              "          const docLinkHtml = 'Like what you see? Visit the ' +\n",
              "            '<a target=\"_blank\" href=https://colab.research.google.com/notebooks/data_table.ipynb>data table notebook</a>'\n",
              "            + ' to learn more about interactive tables.';\n",
              "          element.innerHTML = '';\n",
              "          dataTable['output_type'] = 'display_data';\n",
              "          await google.colab.output.renderOutput(dataTable, element);\n",
              "          const docLink = document.createElement('div');\n",
              "          docLink.innerHTML = docLinkHtml;\n",
              "          element.appendChild(docLink);\n",
              "        }\n",
              "      </script>\n",
              "    </div>\n",
              "  </div>\n",
              "  "
            ]
          },
          "metadata": {},
          "execution_count": 189
        }
      ]
    },
    {
      "cell_type": "markdown",
      "source": [
        "These results above say that maybe we could try an even greater model."
      ],
      "metadata": {
        "id": "q5vJrI4aW4Br"
      }
    },
    {
      "cell_type": "code",
      "source": [
        "params = {\"learning_rate\" : [0.01, 0.05, 0.1],\n",
        "          \"max_iter\" : [500, 1000, 2000],\n",
        "          \"max_leaf_nodes\" : [100, 200]}\n",
        "\n",
        "grid = GridSearchCV(estimator = HistGradientBoostingRegressor(),\n",
        "                    param_grid = params,\n",
        "                    scoring = \"r2\",\n",
        "                    n_jobs = -1,\n",
        "                    cv = 5,\n",
        "                    verbose = 5)\n",
        "\n",
        "grid.fit(X_train, y_train)\n",
        "\n",
        "results = pd.DataFrame(grid.cv_results_)\n",
        "results = results.drop(columns = [col for col in results.columns if \"split\" in col]+[\"params\"]).sort_values(\"rank_test_score\")\n",
        "results.head()"
      ],
      "metadata": {
        "colab": {
          "base_uri": "https://localhost:8080/",
          "height": 223
        },
        "id": "RWZZSTmIW3uV",
        "outputId": "42afdd94-c989-4c2f-f0e6-2ee12fc0c291"
      },
      "execution_count": 190,
      "outputs": [
        {
          "output_type": "stream",
          "name": "stdout",
          "text": [
            "Fitting 5 folds for each of 18 candidates, totalling 90 fits\n"
          ]
        },
        {
          "output_type": "execute_result",
          "data": {
            "text/plain": [
              "    mean_fit_time  std_fit_time  mean_score_time  std_score_time  \\\n",
              "9       34.371790      7.426177         0.772651        0.177897   \n",
              "7       34.782594      5.653461         0.849768        0.319940   \n",
              "5      116.297439     16.279735         2.344506        0.317973   \n",
              "10      23.658371      3.062607         0.820179        0.209685   \n",
              "11      29.270612      2.644396         0.615418        0.140716   \n",
              "\n",
              "   param_learning_rate param_max_iter param_max_leaf_nodes  mean_test_score  \\\n",
              "9                 0.05           1000                  200         0.217263   \n",
              "7                 0.05            500                  200         0.216299   \n",
              "5                 0.01           2000                  200         0.212783   \n",
              "10                0.05           2000                  100         0.212388   \n",
              "11                0.05           2000                  200         0.211975   \n",
              "\n",
              "    std_test_score  rank_test_score  \n",
              "9         0.004511                1  \n",
              "7         0.004148                2  \n",
              "5         0.006183                3  \n",
              "10        0.004854                4  \n",
              "11        0.007054                5  "
            ],
            "text/html": [
              "\n",
              "  <div id=\"df-574ec9a9-727d-4ba5-baf0-df6741251e53\">\n",
              "    <div class=\"colab-df-container\">\n",
              "      <div>\n",
              "<style scoped>\n",
              "    .dataframe tbody tr th:only-of-type {\n",
              "        vertical-align: middle;\n",
              "    }\n",
              "\n",
              "    .dataframe tbody tr th {\n",
              "        vertical-align: top;\n",
              "    }\n",
              "\n",
              "    .dataframe thead th {\n",
              "        text-align: right;\n",
              "    }\n",
              "</style>\n",
              "<table border=\"1\" class=\"dataframe\">\n",
              "  <thead>\n",
              "    <tr style=\"text-align: right;\">\n",
              "      <th></th>\n",
              "      <th>mean_fit_time</th>\n",
              "      <th>std_fit_time</th>\n",
              "      <th>mean_score_time</th>\n",
              "      <th>std_score_time</th>\n",
              "      <th>param_learning_rate</th>\n",
              "      <th>param_max_iter</th>\n",
              "      <th>param_max_leaf_nodes</th>\n",
              "      <th>mean_test_score</th>\n",
              "      <th>std_test_score</th>\n",
              "      <th>rank_test_score</th>\n",
              "    </tr>\n",
              "  </thead>\n",
              "  <tbody>\n",
              "    <tr>\n",
              "      <th>9</th>\n",
              "      <td>34.371790</td>\n",
              "      <td>7.426177</td>\n",
              "      <td>0.772651</td>\n",
              "      <td>0.177897</td>\n",
              "      <td>0.05</td>\n",
              "      <td>1000</td>\n",
              "      <td>200</td>\n",
              "      <td>0.217263</td>\n",
              "      <td>0.004511</td>\n",
              "      <td>1</td>\n",
              "    </tr>\n",
              "    <tr>\n",
              "      <th>7</th>\n",
              "      <td>34.782594</td>\n",
              "      <td>5.653461</td>\n",
              "      <td>0.849768</td>\n",
              "      <td>0.319940</td>\n",
              "      <td>0.05</td>\n",
              "      <td>500</td>\n",
              "      <td>200</td>\n",
              "      <td>0.216299</td>\n",
              "      <td>0.004148</td>\n",
              "      <td>2</td>\n",
              "    </tr>\n",
              "    <tr>\n",
              "      <th>5</th>\n",
              "      <td>116.297439</td>\n",
              "      <td>16.279735</td>\n",
              "      <td>2.344506</td>\n",
              "      <td>0.317973</td>\n",
              "      <td>0.01</td>\n",
              "      <td>2000</td>\n",
              "      <td>200</td>\n",
              "      <td>0.212783</td>\n",
              "      <td>0.006183</td>\n",
              "      <td>3</td>\n",
              "    </tr>\n",
              "    <tr>\n",
              "      <th>10</th>\n",
              "      <td>23.658371</td>\n",
              "      <td>3.062607</td>\n",
              "      <td>0.820179</td>\n",
              "      <td>0.209685</td>\n",
              "      <td>0.05</td>\n",
              "      <td>2000</td>\n",
              "      <td>100</td>\n",
              "      <td>0.212388</td>\n",
              "      <td>0.004854</td>\n",
              "      <td>4</td>\n",
              "    </tr>\n",
              "    <tr>\n",
              "      <th>11</th>\n",
              "      <td>29.270612</td>\n",
              "      <td>2.644396</td>\n",
              "      <td>0.615418</td>\n",
              "      <td>0.140716</td>\n",
              "      <td>0.05</td>\n",
              "      <td>2000</td>\n",
              "      <td>200</td>\n",
              "      <td>0.211975</td>\n",
              "      <td>0.007054</td>\n",
              "      <td>5</td>\n",
              "    </tr>\n",
              "  </tbody>\n",
              "</table>\n",
              "</div>\n",
              "      <button class=\"colab-df-convert\" onclick=\"convertToInteractive('df-574ec9a9-727d-4ba5-baf0-df6741251e53')\"\n",
              "              title=\"Convert this dataframe to an interactive table.\"\n",
              "              style=\"display:none;\">\n",
              "        \n",
              "  <svg xmlns=\"http://www.w3.org/2000/svg\" height=\"24px\"viewBox=\"0 0 24 24\"\n",
              "       width=\"24px\">\n",
              "    <path d=\"M0 0h24v24H0V0z\" fill=\"none\"/>\n",
              "    <path d=\"M18.56 5.44l.94 2.06.94-2.06 2.06-.94-2.06-.94-.94-2.06-.94 2.06-2.06.94zm-11 1L8.5 8.5l.94-2.06 2.06-.94-2.06-.94L8.5 2.5l-.94 2.06-2.06.94zm10 10l.94 2.06.94-2.06 2.06-.94-2.06-.94-.94-2.06-.94 2.06-2.06.94z\"/><path d=\"M17.41 7.96l-1.37-1.37c-.4-.4-.92-.59-1.43-.59-.52 0-1.04.2-1.43.59L10.3 9.45l-7.72 7.72c-.78.78-.78 2.05 0 2.83L4 21.41c.39.39.9.59 1.41.59.51 0 1.02-.2 1.41-.59l7.78-7.78 2.81-2.81c.8-.78.8-2.07 0-2.86zM5.41 20L4 18.59l7.72-7.72 1.47 1.35L5.41 20z\"/>\n",
              "  </svg>\n",
              "      </button>\n",
              "      \n",
              "  <style>\n",
              "    .colab-df-container {\n",
              "      display:flex;\n",
              "      flex-wrap:wrap;\n",
              "      gap: 12px;\n",
              "    }\n",
              "\n",
              "    .colab-df-convert {\n",
              "      background-color: #E8F0FE;\n",
              "      border: none;\n",
              "      border-radius: 50%;\n",
              "      cursor: pointer;\n",
              "      display: none;\n",
              "      fill: #1967D2;\n",
              "      height: 32px;\n",
              "      padding: 0 0 0 0;\n",
              "      width: 32px;\n",
              "    }\n",
              "\n",
              "    .colab-df-convert:hover {\n",
              "      background-color: #E2EBFA;\n",
              "      box-shadow: 0px 1px 2px rgba(60, 64, 67, 0.3), 0px 1px 3px 1px rgba(60, 64, 67, 0.15);\n",
              "      fill: #174EA6;\n",
              "    }\n",
              "\n",
              "    [theme=dark] .colab-df-convert {\n",
              "      background-color: #3B4455;\n",
              "      fill: #D2E3FC;\n",
              "    }\n",
              "\n",
              "    [theme=dark] .colab-df-convert:hover {\n",
              "      background-color: #434B5C;\n",
              "      box-shadow: 0px 1px 3px 1px rgba(0, 0, 0, 0.15);\n",
              "      filter: drop-shadow(0px 1px 2px rgba(0, 0, 0, 0.3));\n",
              "      fill: #FFFFFF;\n",
              "    }\n",
              "  </style>\n",
              "\n",
              "      <script>\n",
              "        const buttonEl =\n",
              "          document.querySelector('#df-574ec9a9-727d-4ba5-baf0-df6741251e53 button.colab-df-convert');\n",
              "        buttonEl.style.display =\n",
              "          google.colab.kernel.accessAllowed ? 'block' : 'none';\n",
              "\n",
              "        async function convertToInteractive(key) {\n",
              "          const element = document.querySelector('#df-574ec9a9-727d-4ba5-baf0-df6741251e53');\n",
              "          const dataTable =\n",
              "            await google.colab.kernel.invokeFunction('convertToInteractive',\n",
              "                                                     [key], {});\n",
              "          if (!dataTable) return;\n",
              "\n",
              "          const docLinkHtml = 'Like what you see? Visit the ' +\n",
              "            '<a target=\"_blank\" href=https://colab.research.google.com/notebooks/data_table.ipynb>data table notebook</a>'\n",
              "            + ' to learn more about interactive tables.';\n",
              "          element.innerHTML = '';\n",
              "          dataTable['output_type'] = 'display_data';\n",
              "          await google.colab.output.renderOutput(dataTable, element);\n",
              "          const docLink = document.createElement('div');\n",
              "          docLink.innerHTML = docLinkHtml;\n",
              "          element.appendChild(docLink);\n",
              "        }\n",
              "      </script>\n",
              "    </div>\n",
              "  </div>\n",
              "  "
            ]
          },
          "metadata": {},
          "execution_count": 190
        }
      ]
    },
    {
      "cell_type": "markdown",
      "source": [
        "According to the results above, we re-train a booster with the right parameters."
      ],
      "metadata": {
        "id": "FhaB1TN8b0FD"
      }
    },
    {
      "cell_type": "code",
      "source": [
        "booster = HistGradientBoostingRegressor(loss = \"squared_error\",\n",
        "                                        learning_rate = 0.05,\n",
        "                                        max_iter = 1000,\n",
        "                                        max_leaf_nodes = 200)\n",
        "booster.fit(X_train, y_train)"
      ],
      "metadata": {
        "colab": {
          "base_uri": "https://localhost:8080/",
          "height": 92
        },
        "id": "X-K7w72BOrzO",
        "outputId": "444e8a1a-4716-4c95-85ff-5a5ec6c490ec"
      },
      "execution_count": 191,
      "outputs": [
        {
          "output_type": "execute_result",
          "data": {
            "text/plain": [
              "HistGradientBoostingRegressor(learning_rate=0.05, max_iter=1000,\n",
              "                              max_leaf_nodes=200)"
            ],
            "text/html": [
              "<style>#sk-container-id-14 {color: black;background-color: white;}#sk-container-id-14 pre{padding: 0;}#sk-container-id-14 div.sk-toggleable {background-color: white;}#sk-container-id-14 label.sk-toggleable__label {cursor: pointer;display: block;width: 100%;margin-bottom: 0;padding: 0.3em;box-sizing: border-box;text-align: center;}#sk-container-id-14 label.sk-toggleable__label-arrow:before {content: \"▸\";float: left;margin-right: 0.25em;color: #696969;}#sk-container-id-14 label.sk-toggleable__label-arrow:hover:before {color: black;}#sk-container-id-14 div.sk-estimator:hover label.sk-toggleable__label-arrow:before {color: black;}#sk-container-id-14 div.sk-toggleable__content {max-height: 0;max-width: 0;overflow: hidden;text-align: left;background-color: #f0f8ff;}#sk-container-id-14 div.sk-toggleable__content pre {margin: 0.2em;color: black;border-radius: 0.25em;background-color: #f0f8ff;}#sk-container-id-14 input.sk-toggleable__control:checked~div.sk-toggleable__content {max-height: 200px;max-width: 100%;overflow: auto;}#sk-container-id-14 input.sk-toggleable__control:checked~label.sk-toggleable__label-arrow:before {content: \"▾\";}#sk-container-id-14 div.sk-estimator input.sk-toggleable__control:checked~label.sk-toggleable__label {background-color: #d4ebff;}#sk-container-id-14 div.sk-label input.sk-toggleable__control:checked~label.sk-toggleable__label {background-color: #d4ebff;}#sk-container-id-14 input.sk-hidden--visually {border: 0;clip: rect(1px 1px 1px 1px);clip: rect(1px, 1px, 1px, 1px);height: 1px;margin: -1px;overflow: hidden;padding: 0;position: absolute;width: 1px;}#sk-container-id-14 div.sk-estimator {font-family: monospace;background-color: #f0f8ff;border: 1px dotted black;border-radius: 0.25em;box-sizing: border-box;margin-bottom: 0.5em;}#sk-container-id-14 div.sk-estimator:hover {background-color: #d4ebff;}#sk-container-id-14 div.sk-parallel-item::after {content: \"\";width: 100%;border-bottom: 1px solid gray;flex-grow: 1;}#sk-container-id-14 div.sk-label:hover label.sk-toggleable__label {background-color: #d4ebff;}#sk-container-id-14 div.sk-serial::before {content: \"\";position: absolute;border-left: 1px solid gray;box-sizing: border-box;top: 0;bottom: 0;left: 50%;z-index: 0;}#sk-container-id-14 div.sk-serial {display: flex;flex-direction: column;align-items: center;background-color: white;padding-right: 0.2em;padding-left: 0.2em;position: relative;}#sk-container-id-14 div.sk-item {position: relative;z-index: 1;}#sk-container-id-14 div.sk-parallel {display: flex;align-items: stretch;justify-content: center;background-color: white;position: relative;}#sk-container-id-14 div.sk-item::before, #sk-container-id-14 div.sk-parallel-item::before {content: \"\";position: absolute;border-left: 1px solid gray;box-sizing: border-box;top: 0;bottom: 0;left: 50%;z-index: -1;}#sk-container-id-14 div.sk-parallel-item {display: flex;flex-direction: column;z-index: 1;position: relative;background-color: white;}#sk-container-id-14 div.sk-parallel-item:first-child::after {align-self: flex-end;width: 50%;}#sk-container-id-14 div.sk-parallel-item:last-child::after {align-self: flex-start;width: 50%;}#sk-container-id-14 div.sk-parallel-item:only-child::after {width: 0;}#sk-container-id-14 div.sk-dashed-wrapped {border: 1px dashed gray;margin: 0 0.4em 0.5em 0.4em;box-sizing: border-box;padding-bottom: 0.4em;background-color: white;}#sk-container-id-14 div.sk-label label {font-family: monospace;font-weight: bold;display: inline-block;line-height: 1.2em;}#sk-container-id-14 div.sk-label-container {text-align: center;}#sk-container-id-14 div.sk-container {/* jupyter's `normalize.less` sets `[hidden] { display: none; }` but bootstrap.min.css set `[hidden] { display: none !important; }` so we also need the `!important` here to be able to override the default hidden behavior on the sphinx rendered scikit-learn.org. See: https://github.com/scikit-learn/scikit-learn/issues/21755 */display: inline-block !important;position: relative;}#sk-container-id-14 div.sk-text-repr-fallback {display: none;}</style><div id=\"sk-container-id-14\" class=\"sk-top-container\"><div class=\"sk-text-repr-fallback\"><pre>HistGradientBoostingRegressor(learning_rate=0.05, max_iter=1000,\n",
              "                              max_leaf_nodes=200)</pre><b>In a Jupyter environment, please rerun this cell to show the HTML representation or trust the notebook. <br />On GitHub, the HTML representation is unable to render, please try loading this page with nbviewer.org.</b></div><div class=\"sk-container\" hidden><div class=\"sk-item\"><div class=\"sk-estimator sk-toggleable\"><input class=\"sk-toggleable__control sk-hidden--visually\" id=\"sk-estimator-id-18\" type=\"checkbox\" checked><label for=\"sk-estimator-id-18\" class=\"sk-toggleable__label sk-toggleable__label-arrow\">HistGradientBoostingRegressor</label><div class=\"sk-toggleable__content\"><pre>HistGradientBoostingRegressor(learning_rate=0.05, max_iter=1000,\n",
              "                              max_leaf_nodes=200)</pre></div></div></div></div></div>"
            ]
          },
          "metadata": {},
          "execution_count": 191
        }
      ]
    },
    {
      "cell_type": "code",
      "source": [
        "print(\"train score : \", str(booster.score(X_train, y_train)))\n",
        "print(\"test score : \", str(booster.score(X_test, y_test)))"
      ],
      "metadata": {
        "colab": {
          "base_uri": "https://localhost:8080/"
        },
        "id": "FnFZI5ZbPmhq",
        "outputId": "8b86c485-45ce-4bbc-ed8f-7105a574fb63"
      },
      "execution_count": 192,
      "outputs": [
        {
          "output_type": "stream",
          "name": "stdout",
          "text": [
            "train score :  0.5200100079727117\n",
            "test score :  0.20455680862304393\n"
          ]
        }
      ]
    },
    {
      "cell_type": "markdown",
      "source": [
        "We shall compare these results with a simple linear regression"
      ],
      "metadata": {
        "id": "I5eo9E9ugx48"
      }
    },
    {
      "cell_type": "code",
      "source": [
        "from sklearn.experimental import enable_iterative_imputer\n",
        "from sklearn.impute import IterativeImputer"
      ],
      "metadata": {
        "id": "JxRyT-_Oh5Z3"
      },
      "execution_count": 196,
      "outputs": []
    },
    {
      "cell_type": "code",
      "source": [
        "imputer = IterativeImputer(verbose=2)\n",
        "X_imputed = imputer.fit_transform(X_train)"
      ],
      "metadata": {
        "colab": {
          "base_uri": "https://localhost:8080/"
        },
        "id": "gDLx8Rb0hth1",
        "outputId": "5fdd9dc8-a67c-448b-ea74-c9ce5c7be523"
      },
      "execution_count": 198,
      "outputs": [
        {
          "output_type": "stream",
          "name": "stdout",
          "text": [
            "[IterativeImputer] Completing matrix with shape (38035, 108)\n",
            "[IterativeImputer] Ending imputation round 1/10, elapsed time 56.07\n",
            "[IterativeImputer] Change: 10.968134686900058, scaled tolerance: 0.09804537032215214 \n",
            "[IterativeImputer] Ending imputation round 2/10, elapsed time 111.92\n",
            "[IterativeImputer] Change: 2.246495578352265, scaled tolerance: 0.09804537032215214 \n",
            "[IterativeImputer] Ending imputation round 3/10, elapsed time 165.42\n",
            "[IterativeImputer] Change: 1.7471293314737866, scaled tolerance: 0.09804537032215214 \n",
            "[IterativeImputer] Ending imputation round 4/10, elapsed time 221.69\n",
            "[IterativeImputer] Change: 1.268221945923569, scaled tolerance: 0.09804537032215214 \n",
            "[IterativeImputer] Ending imputation round 5/10, elapsed time 280.74\n",
            "[IterativeImputer] Change: 0.9321360588003254, scaled tolerance: 0.09804537032215214 \n",
            "[IterativeImputer] Ending imputation round 6/10, elapsed time 333.94\n",
            "[IterativeImputer] Change: 0.6993041065365622, scaled tolerance: 0.09804537032215214 \n",
            "[IterativeImputer] Ending imputation round 7/10, elapsed time 386.54\n",
            "[IterativeImputer] Change: 0.616837296019901, scaled tolerance: 0.09804537032215214 \n",
            "[IterativeImputer] Ending imputation round 8/10, elapsed time 439.37\n",
            "[IterativeImputer] Change: 0.5633289522741838, scaled tolerance: 0.09804537032215214 \n",
            "[IterativeImputer] Ending imputation round 9/10, elapsed time 492.27\n",
            "[IterativeImputer] Change: 0.511451031224925, scaled tolerance: 0.09804537032215214 \n",
            "[IterativeImputer] Ending imputation round 10/10, elapsed time 543.84\n",
            "[IterativeImputer] Change: 0.46578480162477565, scaled tolerance: 0.09804537032215214 \n"
          ]
        },
        {
          "output_type": "stream",
          "name": "stderr",
          "text": [
            "/usr/local/lib/python3.9/dist-packages/sklearn/impute/_iterative.py:785: ConvergenceWarning: [IterativeImputer] Early stopping criterion not reached.\n",
            "  warnings.warn(\n"
          ]
        }
      ]
    },
    {
      "cell_type": "code",
      "source": [
        "X_test_imputed = imputer.fit_transform(X_test)"
      ],
      "metadata": {
        "colab": {
          "base_uri": "https://localhost:8080/"
        },
        "id": "VHxKoTUWkUAl",
        "outputId": "06a0ade2-cf54-42a0-e95e-f5e3813bb947"
      },
      "execution_count": 200,
      "outputs": [
        {
          "output_type": "stream",
          "name": "stdout",
          "text": [
            "[IterativeImputer] Completing matrix with shape (9509, 108)\n",
            "[IterativeImputer] Ending imputation round 1/10, elapsed time 20.77\n",
            "[IterativeImputer] Change: 6.043710808357461, scaled tolerance: 0.08458915406333499 \n",
            "[IterativeImputer] Ending imputation round 2/10, elapsed time 37.44\n",
            "[IterativeImputer] Change: 1.4389058062150775, scaled tolerance: 0.08458915406333499 \n",
            "[IterativeImputer] Ending imputation round 3/10, elapsed time 56.66\n",
            "[IterativeImputer] Change: 1.0191940158186308, scaled tolerance: 0.08458915406333499 \n",
            "[IterativeImputer] Ending imputation round 4/10, elapsed time 74.79\n",
            "[IterativeImputer] Change: 0.7482123742696806, scaled tolerance: 0.08458915406333499 \n",
            "[IterativeImputer] Ending imputation round 5/10, elapsed time 93.32\n",
            "[IterativeImputer] Change: 0.5627613757797728, scaled tolerance: 0.08458915406333499 \n",
            "[IterativeImputer] Ending imputation round 6/10, elapsed time 110.73\n",
            "[IterativeImputer] Change: 0.4502921404889489, scaled tolerance: 0.08458915406333499 \n",
            "[IterativeImputer] Ending imputation round 7/10, elapsed time 128.21\n",
            "[IterativeImputer] Change: 0.40533530379648786, scaled tolerance: 0.08458915406333499 \n",
            "[IterativeImputer] Ending imputation round 8/10, elapsed time 145.87\n",
            "[IterativeImputer] Change: 0.36567148560036594, scaled tolerance: 0.08458915406333499 \n",
            "[IterativeImputer] Ending imputation round 9/10, elapsed time 164.40\n",
            "[IterativeImputer] Change: 0.33062628119327353, scaled tolerance: 0.08458915406333499 \n",
            "[IterativeImputer] Ending imputation round 10/10, elapsed time 182.05\n",
            "[IterativeImputer] Change: 0.2995749155583596, scaled tolerance: 0.08458915406333499 \n"
          ]
        },
        {
          "output_type": "stream",
          "name": "stderr",
          "text": [
            "/usr/local/lib/python3.9/dist-packages/sklearn/impute/_iterative.py:785: ConvergenceWarning: [IterativeImputer] Early stopping criterion not reached.\n",
            "  warnings.warn(\n"
          ]
        }
      ]
    },
    {
      "cell_type": "code",
      "source": [
        "from sklearn.linear_model import Ridge\n",
        "alpha = 0.1\n",
        "ridge = Ridge(alpha = alpha)\n",
        "ridge.fit(X_imputed, y_train)\n",
        "\n",
        "from sklearn.metrics import r2_score\n",
        "print(\"Ridge, alpha = \" + str(alpha))\n",
        "print(\"train score : \" + str(r2_score(y_train, ridge.predict(X_imputed))))\n",
        "print(\"test score : \" + str(r2_score(y_test, ridge.predict(X_test_imputed))))"
      ],
      "metadata": {
        "colab": {
          "base_uri": "https://localhost:8080/"
        },
        "id": "eRTkNdh7gxgM",
        "outputId": "bc89c69d-0330-41a2-a4b0-cfc7adf48919"
      },
      "execution_count": 207,
      "outputs": [
        {
          "output_type": "stream",
          "name": "stdout",
          "text": [
            "Ridge, alpha = 0.1\n",
            "train score : 0.13863279157031327\n",
            "test score : 0.12352014083694585\n"
          ]
        }
      ]
    },
    {
      "cell_type": "code",
      "source": [
        "from sklearn.linear_model import Lasso\n",
        "alpha = 0.1\n",
        "lasso = Lasso(alpha = alpha)\n",
        "lasso.fit(X_imputed, y_train)\n",
        "\n",
        "from sklearn.metrics import r2_score\n",
        "print(\"Lasso, alpha = \" + str(alpha))\n",
        "print(\"train score : \" + str(r2_score(y_train, lasso.predict(X_imputed))))\n",
        "print(\"test score : \" + str(r2_score(y_test, lasso.predict(X_test_imputed))))"
      ],
      "metadata": {
        "colab": {
          "base_uri": "https://localhost:8080/"
        },
        "id": "kJHGZPFulJRr",
        "outputId": "527d008b-a20c-44ff-b6f3-7719a3113b3f"
      },
      "execution_count": 206,
      "outputs": [
        {
          "output_type": "stream",
          "name": "stdout",
          "text": [
            "Lasso, alpha = 0.1\n",
            "train score : 0.1374190410422953\n",
            "test score : 0.12424316978952143\n"
          ]
        }
      ]
    }
  ]
}