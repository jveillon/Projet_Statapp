{
  "nbformat": 4,
  "nbformat_minor": 0,
  "metadata": {
    "colab": {
      "provenance": [],
      "machine_shape": "hm",
      "gpuType": "T4"
    },
    "kernelspec": {
      "name": "python3",
      "display_name": "Python 3"
    },
    "language_info": {
      "name": "python"
    },
    "gpuClass": "standard",
    "accelerator": "GPU"
  },
  "cells": [
    {
      "cell_type": "markdown",
      "source": [
        "The goal of this notebook is to get started with xgboost and apply it to our data."
      ],
      "metadata": {
        "id": "xTaN1HZW4bzF"
      }
    },
    {
      "cell_type": "markdown",
      "source": [
        "## Libraries imports"
      ],
      "metadata": {
        "id": "qn60zhr34k8Q"
      }
    },
    {
      "cell_type": "code",
      "source": [
        "!cp \"/content/drive/MyDrive/Statapp/file_04_HMLasso.py\" \"HMLasso.py\"\n",
        "!cp \"/content/drive/MyDrive/Statapp/manipulate_data.py\" \"manipulate_data.py\""
      ],
      "metadata": {
        "id": "WSl7LwPhCWg-"
      },
      "execution_count": 1,
      "outputs": []
    },
    {
      "cell_type": "code",
      "source": [
        "import pandas as pd\n",
        "import numpy as np\n",
        "\n",
        "import matplotlib.pyplot as plt\n",
        "\n",
        "from sklearn.preprocessing import StandardScaler # To standardize the data\n",
        "from sklearn.model_selection import train_test_split\n",
        "from sklearn.model_selection import GridSearchCV\n",
        "from sklearn.metrics import r2_score\n",
        "from sklearn.metrics import mean_squared_error\n",
        "from sklearn.metrics import recall_score\n",
        "from sklearn.metrics import precision_score\n",
        "from sklearn.metrics import f1_score\n",
        "\n",
        "import xgboost as xgb # eXtreme Gradient Boosting\n",
        "import HMLasso as hml # Lasso with High Missing Rate\n",
        "import manipulate_data as manip # Useful functions\n",
        "\n",
        "import time # To measure elapsed time during simulation"
      ],
      "metadata": {
        "id": "QcWrrHIO5Mub"
      },
      "execution_count": 23,
      "outputs": []
    },
    {
      "cell_type": "markdown",
      "source": [
        "## Data imports"
      ],
      "metadata": {
        "id": "4wQxywQeFup_"
      }
    },
    {
      "cell_type": "code",
      "source": [
        "columns_types = pd.read_csv(\"/content/drive/MyDrive/Statapp/data_03_columns_types.csv\")\n",
        "data = pd.read_csv(\"/content/drive/MyDrive/Statapp/data_03.csv\")\n",
        "data.info(memory_usage=\"deep\")"
      ],
      "metadata": {
        "colab": {
          "base_uri": "https://localhost:8080/"
        },
        "id": "prYeZzhzFxRG",
        "outputId": "232cae56-d064-4000-d011-2f124d0d2995"
      },
      "execution_count": 3,
      "outputs": [
        {
          "output_type": "stream",
          "name": "stderr",
          "text": [
            "<ipython-input-3-01047b267827>:2: DtypeWarning: Columns (4146) have mixed types. Specify dtype option on import or set low_memory=False.\n",
            "  data = pd.read_csv(\"/content/drive/MyDrive/Statapp/data_03.csv\")\n"
          ]
        },
        {
          "output_type": "stream",
          "name": "stdout",
          "text": [
            "<class 'pandas.core.frame.DataFrame'>\n",
            "RangeIndex: 42232 entries, 0 to 42231\n",
            "Columns: 4161 entries, HHIDPN to GHI14\n",
            "dtypes: float64(4061), int64(99), object(1)\n",
            "memory usage: 1.3 GB\n"
          ]
        }
      ]
    },
    {
      "cell_type": "markdown",
      "source": [
        "## Trying XGBoost"
      ],
      "metadata": {
        "id": "DXHRrq2rC9_c"
      }
    },
    {
      "cell_type": "markdown",
      "source": [
        "This section is dedicated to the use of XGBoost as a regressor to predict the index."
      ],
      "metadata": {
        "id": "yMoyOpRn9gB7"
      }
    },
    {
      "cell_type": "markdown",
      "source": [
        "### Using HMLasso"
      ],
      "metadata": {
        "id": "aIuWDm_KJOau"
      }
    },
    {
      "cell_type": "markdown",
      "source": [
        "To speed up the calculations, we made the choice to use the HMLasso to select only a few variables that could be useful. To achieve this subgoal, we first proceed to training the HMLasso on (X, y) where X is the matrix of (HHIDPN, wave) individuals and y is the GHIw."
      ],
      "metadata": {
        "id": "fzomLmy29ewC"
      }
    },
    {
      "cell_type": "code",
      "source": [
        "# Get (X, y)\n",
        "untimed_data = manip.drop_time(data, keep_genetic=False)\n",
        "print(untimed_data.info(memory_usage=\"deep\"))\n",
        "\n",
        "X = untimed_data.drop(columns=[\"HHIDPN\", \"GHIw\"]).values\n",
        "y = untimed_data[\"GHIw\"].values\n",
        "\n",
        "y_scaled = y - y.mean()\n",
        "X_scaled = StandardScaler().fit_transform(X)\n",
        "\n",
        "# Fit the HMLasso\n",
        "hml.ERRORS_HANDLING = \"ignore\"\n",
        "lasso = hml.HMLasso(mu = 100, verbose = False)\n",
        "lasso.fit(X_scaled, y_scaled)\n",
        "\n",
        "# The lasso dropped some columns. We save the ones that we shall not drop\n",
        "columns_for_lasso = untimed_data.drop(columns = [\"HHIDPN\", \"GHIw\"]).columns\n",
        "criteria = pd.Series(abs(lasso.beta_opt) > 1e-9)\n",
        "columns_to_keep = list(pd.Series(columns_for_lasso)[criteria.index[criteria]])\n",
        "\n",
        "# Loading only individuals present in all waves.\n",
        "waves = [1,2,3,4,5,6,7,8,9,10,11,12,13,14]\n",
        "columns_to_keep_for_each_wave = [var.replace('w', str(wave)) for var in columns_to_keep for wave in waves] + [var for var in data.columns if 'genetic_' in var]\n",
        "working_data = manip.get_sample(data, waves = waves)\n",
        "\n",
        "# We finally select columns agreed by the lasso\n",
        "working_data = working_data[['HHIDPN'] + columns_to_keep_for_each_wave + [f'GHI{wave}' for wave in range(1, 15)]]\n",
        "print(working_data.info(memory_usage=\"deep\"))\n",
        "\n",
        "# Formatting the database and making sure categorical variables are categorical.\n",
        "variables_per_type = manip.get_columns_types(working_data, columns_types)\n",
        "\n",
        "working_data[variables_per_type[\"Char\"]] = working_data[variables_per_type[\"Char\"]].astype('category')\n",
        "working_data[variables_per_type[\"Categ\"]] = working_data[variables_per_type[\"Categ\"]].astype('category')\n",
        "\n",
        "print(working_data.info(memory_usage=\"deep\"))\n",
        "\n",
        "FeatureTypes = []\n",
        "for col in working_data.dtypes:\n",
        "  if col == \"category\":\n",
        "    FeatureTypes.append('c') # 'c' for categorical\n",
        "  else:\n",
        "    FeatureTypes.append('q') # 'q' for quantitative"
      ],
      "metadata": {
        "colab": {
          "base_uri": "https://localhost:8080/"
        },
        "id": "Xchd7Go69R9U",
        "outputId": "9962e6eb-f986-457e-f1a7-aab8a3f2f036"
      },
      "execution_count": 4,
      "outputs": [
        {
          "output_type": "stream",
          "name": "stdout",
          "text": [
            "<class 'pandas.core.frame.DataFrame'>\n",
            "RangeIndex: 264618 entries, 0 to 264617\n",
            "Columns: 192 entries, HHIDPN to GHIw\n",
            "dtypes: float64(190), int64(2)\n",
            "memory usage: 387.6 MB\n",
            "None\n",
            "[Warning] Sigma_opt is not PSD, its minimum eigenvalue is -9.6303479229307e-06. Error handled by adding 9.6303479229307e-06 to each eigenvalue.\n",
            "<class 'pandas.core.frame.DataFrame'>\n",
            "RangeIndex: 3396 entries, 0 to 3395\n",
            "Columns: 1500 entries, HHIDPN to GHI14\n",
            "dtypes: float64(1498), int64(1), object(1)\n",
            "memory usage: 39.0 MB\n",
            "None\n",
            "<class 'pandas.core.frame.DataFrame'>\n",
            "RangeIndex: 3396 entries, 0 to 3395\n",
            "Columns: 1500 entries, HHIDPN to GHI14\n",
            "dtypes: category(855), float64(644), int64(1)\n",
            "memory usage: 19.7 MB\n",
            "None\n"
          ]
        }
      ]
    },
    {
      "cell_type": "markdown",
      "source": [
        "### XGBoost Regressor"
      ],
      "metadata": {
        "id": "uOqBpAxOJcNG"
      }
    },
    {
      "cell_type": "code",
      "source": [
        "def train_model(working_data, data_to_use=\"all\", simulation=\"short\", params_grid=None, how=\"regressor\", n_bins=5, random_state=None, verbose=False):\n",
        "  \"\"\"\n",
        "  Main function to train XGBoost model.\n",
        "  \n",
        "  inputs:\n",
        "  - working_data: the database on which the estimator will be trained and tested.\n",
        "  - data_to_use:\n",
        "     > 'all' = socioeconomic data, genetic data, precedent GHI are used for prediction\n",
        "     > 'socio' = only socioeconomic data are used\n",
        "     > 'sociogenetic' = only socioeconomic and genetic data are used\n",
        "     > 'socioghi' = only socioeconomic data and precedent GHI are used\n",
        "  - simulation:\n",
        "     > 'short' = only a few hyperparameters will be tested. Does not take more than 10 minutes.\n",
        "     > 'long' = a lot of hyperparameters will be tested. Can take up to 3h.\n",
        "  - params_grid: the parameters to cross validate. If this option is specified, simulation is ignored.\n",
        "  - how:\n",
        "     > 'regressor' = a XGBRegressor will be trained.\n",
        "     > 'classifier' = a XGBClassifier will be trained.\n",
        "    n_bins: number of bins for the classifier. Ignored if how == 'regressor'.\n",
        "  - random_state: the random_state used in the split train/test.\n",
        "  - verbose: True or False\n",
        "\n",
        "  Preferred use: before using this function, apply lasso to select relevant columns.\n",
        "  \"\"\"\n",
        "  assert how in [\"regressor\", \"classifier\"]\n",
        "  if verbose:\n",
        "    print(how, \" model will be fitted.\")\n",
        "\n",
        "  ##############################################################################\n",
        "  # Creating (X, y)\n",
        "  ##############################################################################\n",
        "\n",
        "  ##################### 'data_to_use' handling #################################\n",
        "  message = {'all' : \"Socioeconomic data, genetic data, precedent GHI will be used for prediction.\",\n",
        "             'socio' : \"Only socioeconomic data will be used for prediction.\",\n",
        "             'sociogenetic' : \"Only socioeconomic data and genetic data will be used for prediction.\",\n",
        "             'socioghi' : \"Only socioeconomic data and precedent GHI will be used for prediction.\"}\n",
        "\n",
        "  basic_columns = [\"genetic_VERSION\", \"genetic_Section_A_or_E\", \"HHIDPN\", \"GHI14\"]\n",
        "  genetic_columns = [col for col in working_data.columns if 'genetic_' in col and col != 'genetic_VERSION' and col != 'genetic_Section_A_or_E']\n",
        "  GHI_columns = [f'GHI{wave}' for wave in range(1, 14)]\n",
        "\n",
        "  if data_to_use == 'all':\n",
        "    columns_to_delete = basic_columns\n",
        "  elif data_to_use == 'socio':\n",
        "    columns_to_delete = basic_columns + genetic_columns + GHI_columns\n",
        "  elif data_to_use == 'sociogenetic':\n",
        "    columns_to_delete = basic_columns + GHI_columns\n",
        "  elif data_to_use == 'socioghi':\n",
        "    columns_to_delete = basic_columns + genetic_columns\n",
        "  \n",
        "  if verbose:\n",
        "    print(message[data_to_use])\n",
        "\n",
        "  if data_to_use in ['all', 'socio', 'sociogenetic', 'socioghi']:\n",
        "    X = working_data.drop(columns = columns_to_delete)\n",
        "  elif data_to_use == 'ghi':\n",
        "    X = working_data[GHI_columns]\n",
        "\n",
        "  ############################### select y #####################################\n",
        "  if how == \"regressor\":\n",
        "    y = working_data[\"GHI14\"]\n",
        "  if how == \"classifier\":\n",
        "    y = pd.cut(working_data[\"GHI14\"], n_bins, labels=list(range(n_bins)))\n",
        "\n",
        "  # Splitting into Training and Testing sets\n",
        "  X_train, X_test, y_train, y_test = train_test_split(X, y, test_size=0.2, random_state=random_state)\n",
        "\n",
        "  ##############################################################################\n",
        "  # Performing cross-validation to train and fine-tune the model\n",
        "  ##############################################################################\n",
        "\n",
        "  ############################# select model ###################################\n",
        "  if how == \"regressor\":\n",
        "    model = xgb.XGBRegressor(tree_method='gpu_hist', enable_categorical=True, FeatureTypes=FeatureTypes)\n",
        "  if how == \"classifier\":\n",
        "    model = xgb.XGBClassifier(tree_method='gpu_hist', enable_categorical=True, FeatureTypes=FeatureTypes)\n",
        "\n",
        "  if params_grid is None:\n",
        "    if simulation == 'long':\n",
        "      params_grid = {\"eta\" : [0.1, 0.05, 0.03, 0.01], # learning rate\n",
        "                    \"lambda\" : [1, 0.5, 2], # coefficient for L2 penalization\n",
        "                    \"alpha\" : [0, 0.5, 1], # coefficient for L1 penalization\n",
        "                    \"max_depth\" : [3, 4, 5], # max depth of trees\n",
        "                    \"n_estimators\" : [100, 200] # number of trees\n",
        "                    }\n",
        "    elif simulation == 'short':\n",
        "      params_grid = {\"eta\" : [0.05, 0.03], # learning rate\n",
        "                    \"lambda\" : [1, 0.5], # coefficient for L2 penalization\n",
        "                    \"alpha\" : [0.5, 1], # coefficient for L1 penalization\n",
        "                    \"max_depth\" : [3, 4], # max depth of trees\n",
        "                    \"n_estimators\" : [100] # number of trees\n",
        "                    }\n",
        "\n",
        "  ########################### select scoring method ############################\n",
        "  if how == \"regressor\":\n",
        "    scoring = 'r2'\n",
        "  if how == \"classifier\":\n",
        "    scoring = 'accuracy'\n",
        "\n",
        "  ########################### Training the model ###############################\n",
        "  grid = GridSearchCV(model, params_grid, refit = True, verbose = verbose, n_jobs=-1, scoring=scoring) \n",
        "  grid.fit(X_train, y_train)\n",
        "\n",
        "  results = pd.DataFrame(grid.cv_results_)\n",
        "\n",
        "  if verbose:\n",
        "    print(\"Model refitted with best hyperparameters.\")\n",
        "    print(\"Best parameters : \" + str(grid.best_params_))\n",
        "    print(\"R2 score on train : \", str(grid.score(X_train, y_train)))\n",
        "    print(\"R2 score on test : \", str(grid.score(X_test, y_test)))\n",
        "  \n",
        "  # Storing results\n",
        "  final_results = {}\n",
        "  final_results[\"data\"] = data_to_use\n",
        "  final_results[\"best_parameters\"] = list(grid.best_params_.items())\n",
        "\n",
        "  y_train_pred = grid.predict(X_train)\n",
        "  y_test_pred = grid.predict(X_test)\n",
        "  if how == \"regressor\":\n",
        "    final_results[\"r2_train\"] = grid.score(X_train, y_train)\n",
        "    final_results[\"r2_test\"] = grid.score(X_test, y_test)\n",
        "    final_results[\"rmse_train\"] = np.sqrt(mean_squared_error(y_train, y_train_pred))\n",
        "    final_results[\"rmse_test\"] = np.sqrt(mean_squared_error(y_test, y_test_pred))\n",
        "\n",
        "  if how == \"classifier\":\n",
        "    final_results[\"accuracy_train\"] = grid.score(X_train, y_train)\n",
        "    final_results[\"accuracy_test\"] = grid.score(X_test, y_test)\n",
        "\n",
        "    final_results[\"recall_train\"] = np.nan\n",
        "    final_results[\"recall_test\"] = np.nan\n",
        "    final_results[\"precision_train\"] = np.nan\n",
        "    final_results[\"precision_test\"] = np.nan\n",
        "    final_results[\"f1_train\"] = np.nan\n",
        "    final_results[\"f1_test\"] = np.nan\n",
        "    if n_bins == 2:\n",
        "      final_results[\"recall_train\"] = recall_score(y_train, y_train_pred)\n",
        "      final_results[\"recall_test\"] = recall_score(y_test, y_test_pred)\n",
        "      final_results[\"precision_train\"] = precision_score(y_train, y_train_pred)\n",
        "      final_results[\"precision_test\"] = precision_score(y_test, y_test_pred)\n",
        "      final_results[\"f1_train\"] = f1_score(y_train, y_train_pred)\n",
        "      final_results[\"f1_test\"] = f1_score(y_test, y_test_pred)\n",
        "\n",
        "      \n",
        "    \n",
        "    recall_score\n",
        "\n",
        "  return final_results"
      ],
      "metadata": {
        "id": "3-u9vy50gawa"
      },
      "execution_count": 27,
      "outputs": []
    },
    {
      "cell_type": "code",
      "source": [
        "# SHORT SIMULATION\n",
        "params_grid_short = {\"eta\" : [0.05, 0.03], # learning rate\n",
        "              \"lambda\" : [1], # coefficient for L2 penalization\n",
        "              \"alpha\" : [0.5], # coefficient for L1 penalization\n",
        "              \"max_depth\" : [3], # max depth of trees\n",
        "              \"n_estimators\" : [100] # number of trees\n",
        "              }\n",
        "\n",
        "# LONG SIMULATION\n",
        "params_grid_long = {\"eta\" : [0.05, 0.03], # learning rate\n",
        "               \"lambda\" : [1, 0.5], # coefficient for L2 penalization\n",
        "               \"alpha\" : [0.5, 1], # coefficient for L1 penalization\n",
        "               \"max_depth\" : [3, 4], # max depth of trees\n",
        "               \"n_estimators\" : [100] # number of trees\n",
        "              }\n",
        "\n",
        "# OVERFITTED SIMULATION\n",
        "params_grid_overfitted = {\"eta\" : [0.01], # learning rate\n",
        "               \"lambda\" : [0.1], # coefficient for L2 penalization\n",
        "               \"alpha\" : [0], # coefficient for L1 penalization\n",
        "               \"max_depth\" : [10], # max depth of trees\n",
        "               \"n_estimators\" : [200] # number of trees\n",
        "              }\n",
        "\n",
        "params_grid = {\"short\" : params_grid_short, \"long\" : params_grid_long, \"overfitted\" : params_grid_overfitted}"
      ],
      "metadata": {
        "id": "0bKcPA2quO_h"
      },
      "execution_count": 16,
      "outputs": []
    },
    {
      "cell_type": "code",
      "source": [
        "# Initialize the parameters of the simulation\n",
        "results_regression = {\"Iteration\" : [], \"Data_used\" : [], \"best_parameters\" : [], \"r2_train\" : [], \"r2_test\" : [], \"rmse_train\" : [], \"rmse_test\" : []}\n",
        "speed = \"short\"\n",
        "number_of_simulations = 2\n",
        "\n",
        "t0 = time.time()\n",
        "for iteration in range(number_of_simulations):\n",
        "\n",
        "  t_beginning = time.time()\n",
        "\n",
        "  # We train the model and store the results.\n",
        "  for data_to_use in ['all', 'socio', 'sociogenetic', 'socioghi', 'ghi']:\n",
        "    result = train_model(working_data, data_to_use=data_to_use, random_state=None, params_grid=params_grid[speed], how=\"regressor\")\n",
        "    results_regression[\"Iteration\"].append(iteration)\n",
        "    results_regression[\"Data_used\"].append(data_to_use)\n",
        "    results_regression[\"best_parameters\"].append(result[\"best_parameters\"])\n",
        "    results_regression[\"r2_train\"].append(result[\"r2_train\"])\n",
        "    results_regression[\"r2_test\"].append(result[\"r2_test\"])\n",
        "    results_regression[\"rmse_train\"].append(result[\"rmse_train\"])\n",
        "    results_regression[\"rmse_test\"].append(result[\"rmse_test\"])\n",
        "    \n",
        "  t_end = time.time()\n",
        "\n",
        "  print(\"iteration: \", iteration, \" - elapsed_time: \", t_end - t_beginning)\n",
        "\n",
        "print(\"Simulation completed.\")\n",
        "print(\"Overall elapsed_time = \", time.time() - t0)\n",
        "\n",
        "# Storing the results\n",
        "results_regression = pd.DataFrame(results_regression).sort_values(\"r2_test\", ascending=False)\n",
        "results_regression.to_csv(\"XGBoost_regression_simulation.csv\", index=False)\n",
        "\n",
        "# Display \n",
        "results_regression.groupby([\"Data_used\"])[\"r2_test\", \"rmse_test\"].agg({\"mean\", \"std\", \"count\", \"max\", \"min\"})"
      ],
      "metadata": {
        "id": "9AOlOe5dkXYu",
        "colab": {
          "base_uri": "https://localhost:8080/",
          "height": 893
        },
        "outputId": "171426a7-4eb8-4e25-de3a-eef1a7248982"
      },
      "execution_count": 7,
      "outputs": [
        {
          "output_type": "stream",
          "name": "stdout",
          "text": [
            "[18:06:24] WARNING: ../src/learner.cc:767: \n",
            "Parameters: { \"FeatureTypes\" } are not used.\n",
            "\n",
            "[18:06:46] WARNING: ../src/learner.cc:767: \n",
            "Parameters: { \"FeatureTypes\" } are not used.\n",
            "\n",
            "[18:07:08] WARNING: ../src/learner.cc:767: \n",
            "Parameters: { \"FeatureTypes\" } are not used.\n",
            "\n",
            "[18:07:29] WARNING: ../src/learner.cc:767: \n",
            "Parameters: { \"FeatureTypes\" } are not used.\n",
            "\n",
            "[18:07:33] WARNING: ../src/learner.cc:767: \n",
            "Parameters: { \"FeatureTypes\" } are not used.\n",
            "\n",
            "iteration:  0  - elapsed_time:  93.84320068359375\n",
            "[18:07:53] WARNING: ../src/learner.cc:767: \n",
            "Parameters: { \"FeatureTypes\" } are not used.\n",
            "\n",
            "[18:08:14] WARNING: ../src/learner.cc:767: \n",
            "Parameters: { \"FeatureTypes\" } are not used.\n",
            "\n",
            "[18:08:36] WARNING: ../src/learner.cc:767: \n",
            "Parameters: { \"FeatureTypes\" } are not used.\n",
            "\n",
            "[18:08:58] WARNING: ../src/learner.cc:767: \n",
            "Parameters: { \"FeatureTypes\" } are not used.\n",
            "\n",
            "[18:09:02] WARNING: ../src/learner.cc:767: \n",
            "Parameters: { \"FeatureTypes\" } are not used.\n",
            "\n",
            "iteration:  1  - elapsed_time:  88.74873161315918\n",
            "Simulation completed.\n",
            "Overall elapsed_time =  182.59534859657288\n"
          ]
        },
        {
          "output_type": "stream",
          "name": "stderr",
          "text": [
            "<ipython-input-7-8c06933a4728>:34: FutureWarning: Indexing with multiple keys (implicitly converted to a tuple of keys) will be deprecated, use a list instead.\n",
            "  results.groupby([\"Data_used\"])[\"r2_test\", \"rmse_test\"].agg({\"mean\", \"std\", \"count\", \"max\", \"min\"})\n"
          ]
        },
        {
          "output_type": "execute_result",
          "data": {
            "text/plain": [
              "               r2_test                                      rmse_test  \\\n",
              "                   min       max       std count      mean        min   \n",
              "Data_used                                                               \n",
              "all           0.349777  0.401533  0.036597     2  0.375655  40.674771   \n",
              "ghi           0.296411  0.358583  0.043962     2  0.327497  42.738468   \n",
              "socio         0.208040  0.228494  0.014463     2  0.218267  47.556871   \n",
              "sociogenetic  0.170668  0.196625  0.018355     2  0.183646  47.675164   \n",
              "socioghi      0.309594  0.320150  0.007464     2  0.314872  42.365068   \n",
              "\n",
              "                                                    \n",
              "                    max       std count       mean  \n",
              "Data_used                                           \n",
              "all           43.938082  2.307509     2  42.306426  \n",
              "ghi           43.897434  0.819513     2  43.317951  \n",
              "socio         47.836186  0.197505     2  47.696528  \n",
              "sociogenetic  49.036692  0.962745     2  48.355928  \n",
              "socioghi      42.678120  0.221361     2  42.521594  "
            ],
            "text/html": [
              "\n",
              "  <div id=\"df-591a491e-76a9-4411-aafe-0ee01917462b\">\n",
              "    <div class=\"colab-df-container\">\n",
              "      <div>\n",
              "<style scoped>\n",
              "    .dataframe tbody tr th:only-of-type {\n",
              "        vertical-align: middle;\n",
              "    }\n",
              "\n",
              "    .dataframe tbody tr th {\n",
              "        vertical-align: top;\n",
              "    }\n",
              "\n",
              "    .dataframe thead tr th {\n",
              "        text-align: left;\n",
              "    }\n",
              "\n",
              "    .dataframe thead tr:last-of-type th {\n",
              "        text-align: right;\n",
              "    }\n",
              "</style>\n",
              "<table border=\"1\" class=\"dataframe\">\n",
              "  <thead>\n",
              "    <tr>\n",
              "      <th></th>\n",
              "      <th colspan=\"5\" halign=\"left\">r2_test</th>\n",
              "      <th colspan=\"5\" halign=\"left\">rmse_test</th>\n",
              "    </tr>\n",
              "    <tr>\n",
              "      <th></th>\n",
              "      <th>min</th>\n",
              "      <th>max</th>\n",
              "      <th>std</th>\n",
              "      <th>count</th>\n",
              "      <th>mean</th>\n",
              "      <th>min</th>\n",
              "      <th>max</th>\n",
              "      <th>std</th>\n",
              "      <th>count</th>\n",
              "      <th>mean</th>\n",
              "    </tr>\n",
              "    <tr>\n",
              "      <th>Data_used</th>\n",
              "      <th></th>\n",
              "      <th></th>\n",
              "      <th></th>\n",
              "      <th></th>\n",
              "      <th></th>\n",
              "      <th></th>\n",
              "      <th></th>\n",
              "      <th></th>\n",
              "      <th></th>\n",
              "      <th></th>\n",
              "    </tr>\n",
              "  </thead>\n",
              "  <tbody>\n",
              "    <tr>\n",
              "      <th>all</th>\n",
              "      <td>0.349777</td>\n",
              "      <td>0.401533</td>\n",
              "      <td>0.036597</td>\n",
              "      <td>2</td>\n",
              "      <td>0.375655</td>\n",
              "      <td>40.674771</td>\n",
              "      <td>43.938082</td>\n",
              "      <td>2.307509</td>\n",
              "      <td>2</td>\n",
              "      <td>42.306426</td>\n",
              "    </tr>\n",
              "    <tr>\n",
              "      <th>ghi</th>\n",
              "      <td>0.296411</td>\n",
              "      <td>0.358583</td>\n",
              "      <td>0.043962</td>\n",
              "      <td>2</td>\n",
              "      <td>0.327497</td>\n",
              "      <td>42.738468</td>\n",
              "      <td>43.897434</td>\n",
              "      <td>0.819513</td>\n",
              "      <td>2</td>\n",
              "      <td>43.317951</td>\n",
              "    </tr>\n",
              "    <tr>\n",
              "      <th>socio</th>\n",
              "      <td>0.208040</td>\n",
              "      <td>0.228494</td>\n",
              "      <td>0.014463</td>\n",
              "      <td>2</td>\n",
              "      <td>0.218267</td>\n",
              "      <td>47.556871</td>\n",
              "      <td>47.836186</td>\n",
              "      <td>0.197505</td>\n",
              "      <td>2</td>\n",
              "      <td>47.696528</td>\n",
              "    </tr>\n",
              "    <tr>\n",
              "      <th>sociogenetic</th>\n",
              "      <td>0.170668</td>\n",
              "      <td>0.196625</td>\n",
              "      <td>0.018355</td>\n",
              "      <td>2</td>\n",
              "      <td>0.183646</td>\n",
              "      <td>47.675164</td>\n",
              "      <td>49.036692</td>\n",
              "      <td>0.962745</td>\n",
              "      <td>2</td>\n",
              "      <td>48.355928</td>\n",
              "    </tr>\n",
              "    <tr>\n",
              "      <th>socioghi</th>\n",
              "      <td>0.309594</td>\n",
              "      <td>0.320150</td>\n",
              "      <td>0.007464</td>\n",
              "      <td>2</td>\n",
              "      <td>0.314872</td>\n",
              "      <td>42.365068</td>\n",
              "      <td>42.678120</td>\n",
              "      <td>0.221361</td>\n",
              "      <td>2</td>\n",
              "      <td>42.521594</td>\n",
              "    </tr>\n",
              "  </tbody>\n",
              "</table>\n",
              "</div>\n",
              "      <button class=\"colab-df-convert\" onclick=\"convertToInteractive('df-591a491e-76a9-4411-aafe-0ee01917462b')\"\n",
              "              title=\"Convert this dataframe to an interactive table.\"\n",
              "              style=\"display:none;\">\n",
              "        \n",
              "  <svg xmlns=\"http://www.w3.org/2000/svg\" height=\"24px\"viewBox=\"0 0 24 24\"\n",
              "       width=\"24px\">\n",
              "    <path d=\"M0 0h24v24H0V0z\" fill=\"none\"/>\n",
              "    <path d=\"M18.56 5.44l.94 2.06.94-2.06 2.06-.94-2.06-.94-.94-2.06-.94 2.06-2.06.94zm-11 1L8.5 8.5l.94-2.06 2.06-.94-2.06-.94L8.5 2.5l-.94 2.06-2.06.94zm10 10l.94 2.06.94-2.06 2.06-.94-2.06-.94-.94-2.06-.94 2.06-2.06.94z\"/><path d=\"M17.41 7.96l-1.37-1.37c-.4-.4-.92-.59-1.43-.59-.52 0-1.04.2-1.43.59L10.3 9.45l-7.72 7.72c-.78.78-.78 2.05 0 2.83L4 21.41c.39.39.9.59 1.41.59.51 0 1.02-.2 1.41-.59l7.78-7.78 2.81-2.81c.8-.78.8-2.07 0-2.86zM5.41 20L4 18.59l7.72-7.72 1.47 1.35L5.41 20z\"/>\n",
              "  </svg>\n",
              "      </button>\n",
              "      \n",
              "  <style>\n",
              "    .colab-df-container {\n",
              "      display:flex;\n",
              "      flex-wrap:wrap;\n",
              "      gap: 12px;\n",
              "    }\n",
              "\n",
              "    .colab-df-convert {\n",
              "      background-color: #E8F0FE;\n",
              "      border: none;\n",
              "      border-radius: 50%;\n",
              "      cursor: pointer;\n",
              "      display: none;\n",
              "      fill: #1967D2;\n",
              "      height: 32px;\n",
              "      padding: 0 0 0 0;\n",
              "      width: 32px;\n",
              "    }\n",
              "\n",
              "    .colab-df-convert:hover {\n",
              "      background-color: #E2EBFA;\n",
              "      box-shadow: 0px 1px 2px rgba(60, 64, 67, 0.3), 0px 1px 3px 1px rgba(60, 64, 67, 0.15);\n",
              "      fill: #174EA6;\n",
              "    }\n",
              "\n",
              "    [theme=dark] .colab-df-convert {\n",
              "      background-color: #3B4455;\n",
              "      fill: #D2E3FC;\n",
              "    }\n",
              "\n",
              "    [theme=dark] .colab-df-convert:hover {\n",
              "      background-color: #434B5C;\n",
              "      box-shadow: 0px 1px 3px 1px rgba(0, 0, 0, 0.15);\n",
              "      filter: drop-shadow(0px 1px 2px rgba(0, 0, 0, 0.3));\n",
              "      fill: #FFFFFF;\n",
              "    }\n",
              "  </style>\n",
              "\n",
              "      <script>\n",
              "        const buttonEl =\n",
              "          document.querySelector('#df-591a491e-76a9-4411-aafe-0ee01917462b button.colab-df-convert');\n",
              "        buttonEl.style.display =\n",
              "          google.colab.kernel.accessAllowed ? 'block' : 'none';\n",
              "\n",
              "        async function convertToInteractive(key) {\n",
              "          const element = document.querySelector('#df-591a491e-76a9-4411-aafe-0ee01917462b');\n",
              "          const dataTable =\n",
              "            await google.colab.kernel.invokeFunction('convertToInteractive',\n",
              "                                                     [key], {});\n",
              "          if (!dataTable) return;\n",
              "\n",
              "          const docLinkHtml = 'Like what you see? Visit the ' +\n",
              "            '<a target=\"_blank\" href=https://colab.research.google.com/notebooks/data_table.ipynb>data table notebook</a>'\n",
              "            + ' to learn more about interactive tables.';\n",
              "          element.innerHTML = '';\n",
              "          dataTable['output_type'] = 'display_data';\n",
              "          await google.colab.output.renderOutput(dataTable, element);\n",
              "          const docLink = document.createElement('div');\n",
              "          docLink.innerHTML = docLinkHtml;\n",
              "          element.appendChild(docLink);\n",
              "        }\n",
              "      </script>\n",
              "    </div>\n",
              "  </div>\n",
              "  "
            ]
          },
          "metadata": {},
          "execution_count": 7
        }
      ]
    },
    {
      "cell_type": "markdown",
      "source": [
        "### XGBoost Classifier"
      ],
      "metadata": {
        "id": "cP7gTYWc1RAQ"
      }
    },
    {
      "cell_type": "markdown",
      "source": [
        "Another way to see the problem is to see whether or not XGBoost is able to classify people with respect to their health.\n",
        "\n",
        "At the end of section 'Using HMLasso', we have the working_data. Let us construct a new variable, namely 'GHC' for 'Global Health Class' with 5 categories."
      ],
      "metadata": {
        "id": "BADurjcX1WUi"
      }
    },
    {
      "cell_type": "code",
      "source": [
        "# Initialize the parameters of the simulation\n",
        "results_classification = {\"Iteration\": [], \"n_bins\": [], \"best_parameters\": [], \n",
        "                          \"accuracy_train\" : [], \"accuracy_test\": [],\n",
        "                          \"recall_train\": [], \"recall_test\": [],\n",
        "                          \"precision_train\": [], \"precision_test\": [],\n",
        "                          \"f1_train\": [], \"f1_test\": []}\n",
        "speed = \"short\"\n",
        "number_of_simulations = 10\n",
        "n_bins_max = 11\n",
        "\n",
        "t0 = time.time()\n",
        "for iteration in range(4, 4+number_of_simulations):\n",
        "\n",
        "  t_beginning = time.time()\n",
        "\n",
        "  # We train the model and store the results.\n",
        "  for n_bins in range(2, n_bins_max):\n",
        "    result = train_model(working_data, data_to_use='all', random_state=None, params_grid=params_grid[speed], how=\"classifier\", n_bins=n_bins)\n",
        "    results_classification[\"Iteration\"].append(iteration)\n",
        "    results_classification[\"n_bins\"].append(n_bins)\n",
        "    results_classification[\"best_parameters\"].append(result[\"best_parameters\"])\n",
        "    results_classification[\"accuracy_train\"].append(result[\"accuracy_train\"])\n",
        "    results_classification[\"accuracy_test\"].append(result[\"accuracy_test\"])\n",
        "    \n",
        "    results_classification[\"recall_train\"].append(result[\"recall_train\"])\n",
        "    results_classification[\"recall_test\"].append(result[\"recall_test\"])\n",
        "    results_classification[\"precision_train\"].append(result[\"precision_train\"])\n",
        "    results_classification[\"precision_test\"].append(result[\"precision_test\"])\n",
        "    results_classification[\"f1_train\"].append(result[\"f1_train\"])\n",
        "    results_classification[\"f1_test\"].append(result[\"f1_test\"])\n",
        "    \n",
        "  t_end = time.time()\n",
        "\n",
        "  print(\"iteration: \", iteration, \" - elapsed_time: \", t_end - t_beginning)\n",
        "\n",
        "print(\"Simulation completed.\")\n",
        "print(\"Overall elapsed_time = \", time.time() - t0)\n",
        "\n",
        "# Storing the results\n",
        "results_classification = pd.DataFrame(results_classification).sort_values(\"accuracy_test\", ascending=False)\n",
        "results_classification.to_csv(\"XGBoost_classification_simulation.csv\", index=False)\n",
        "\n",
        "# Display \n",
        "results_classification.groupby([\"n_bins\"])[\"accuracy_test\"].agg({\"mean\", \"std\", \"count\", \"max\", \"min\"})"
      ],
      "metadata": {
        "id": "uQEZUPG9Lzsd"
      },
      "execution_count": null,
      "outputs": []
    },
    {
      "cell_type": "code",
      "source": [
        "results_classification.groupby([\"n_bins\"])[\"accuracy_test\"].mean().plot()\n",
        "plt.grid()\n",
        "plt.xlabel(\"Number of classes\")\n",
        "plt.ylabel(\"Accuracy on test set\")\n",
        "plt.title(\"Accuracy w.r.t number of classes\")\n",
        "plt.show()"
      ],
      "metadata": {
        "colab": {
          "base_uri": "https://localhost:8080/",
          "height": 472
        },
        "id": "1UGEhzIHkOnT",
        "outputId": "370002fd-1025-4afd-d005-582cb7acbf72"
      },
      "execution_count": 71,
      "outputs": [
        {
          "output_type": "display_data",
          "data": {
            "text/plain": [
              "<Figure size 640x480 with 1 Axes>"
            ],
            "image/png": "[encoded data removed]"
          },
          "metadata": {}
        }
      ]
    }
  ]
}