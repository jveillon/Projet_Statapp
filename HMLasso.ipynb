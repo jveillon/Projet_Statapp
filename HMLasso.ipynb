{
  "nbformat": 4,
  "nbformat_minor": 0,
  "metadata": {
    "colab": {
      "provenance": [],
      "machine_shape": "hm"
    },
    "kernelspec": {
      "name": "python3",
      "display_name": "Python 3"
    },
    "language_info": {
      "name": "python"
    },
    "gpuClass": "standard"
  },
  "cells": [
    {
      "cell_type": "markdown",
      "source": [
        "# Implementation of the Lasso With High Missing Rate."
      ],
      "metadata": {
        "id": "wm5MwpWa5oim"
      }
    },
    {
      "cell_type": "markdown",
      "source": [
        "The goal of this notebook is to implement the lasso with high missing rate described [here](https://www.ijcai.org/proceedings/2019/0491.pdf). "
      ],
      "metadata": {
        "id": "BMpYFpPn5v0U"
      }
    },
    {
      "cell_type": "markdown",
      "source": [
        "## Imports"
      ],
      "metadata": {
        "id": "ZZL0jO1Q7HvS"
      }
    },
    {
      "cell_type": "code",
      "source": [
        "# Imports\n",
        "import numpy as np\n",
        "import pandas as pd\n",
        "\n",
        "import cvxpy as cp\n",
        "from sklearn.preprocessing import StandardScaler"
      ],
      "metadata": {
        "id": "pVnwGrET6JQB"
      },
      "execution_count": 2,
      "outputs": []
    },
    {
      "cell_type": "code",
      "source": [
        "help(StandardScaler)"
      ],
      "metadata": {
        "id": "zRG6NqSrhXW1"
      },
      "execution_count": null,
      "outputs": []
    },
    {
      "cell_type": "markdown",
      "source": [
        "## HMLasso"
      ],
      "metadata": {
        "id": "6FEfUyv87Lsl"
      }
    },
    {
      "cell_type": "code",
      "source": [
        "class HMLasso():\n",
        "  \"\"\"\n",
        "  Lasso regularization that performs well with high missing rate.\n",
        "\n",
        "  mu is the hypermarameter of the model.\n",
        "  \"\"\"\n",
        "\n",
        "  def __init__(self, mu=1):\n",
        "    self.mu = mu\n",
        "    self.S_pair = None\n",
        "    self.rho_pair = None\n",
        "    self.R = None\n",
        "  \n",
        "  def fit(self, X, y):\n",
        "    \"\"\"\n",
        "    Fit the HMLasso on (X, y).\n",
        "    X must be a mean-centered numpy array.\n",
        "    \"\"\"\n",
        "    \n",
        "    assert type(X) == np.ndarray\n",
        "    assert type(y) == np.ndarray\n",
        "    assert X.shape[0] == y.shape[0]\n",
        "    assert len(y.shape) == 1\n",
        "\n",
        "    \n",
        "    self.__verify_centering__(X) # Veryfing whether X is well centered.\n",
        "\n",
        "    # self.S_pair, self.rho_pair, self.R = self.__impute_params__(self, X, y)\n",
        "\n",
        "    print(\"Model fitted\")\n",
        "\n",
        "  def __verify_centering__(self, X, tolerance=1e-8):\n",
        "    for col in range(X.shape[1]):\n",
        "      current_mean = X[:, col].mean()\n",
        "      if abs(current_mean) > tolerance:\n",
        "        raise Exception(f\"Data is not centered: column {col} has mean of {current_mean}\")\n",
        "  \n",
        "  def __impute_params__(self, X, y):\n",
        "    n, p = X.shape\n",
        "    S_pair = np.zeros((p, p))\n",
        "    rho_pair = np.zeros((p, 1))\n",
        "    R = np.zeros((p, p))\n",
        "\n",
        "    for j in range(p):\n",
        "      for k in range(p):\n",
        "        I_jk = [i for i in range(n) if ~np.isnan(X[i, j]) and ~np.isnan(X[i, k])]\n",
        "        n_jk = len(I_jk)\n",
        "\n",
        "        # Matrix of weights\n",
        "        R[j, k] = n_jk/n \n",
        "\n",
        "        # Pairwise covariance matrix of X\n",
        "        for i in I_jk:\n",
        "          S_pair[j, k] += X[i, j]*X[i, k]\n",
        "        S_pair[j, k] /= n_jk\n",
        "\n",
        "        # Pairwise covariance vector of X and y\n",
        "        if k==j:\n",
        "          for i in I_jk:\n",
        "            rho_pair[j, 0] += X[i, j]*y[i]\n",
        "          rho_pair[j, 0] /= n_jk\n",
        "\n",
        "    return S_pair, rho_pair, R\n",
        "\n",
        "lasso = HMLasso(mu=2)\n",
        "X = np.array([[1, 2], [-1, -2]])\n",
        "y = np.array([3, 5])\n",
        "lasso.fit(X,y)\n",
        "\n"
      ],
      "metadata": {
        "id": "sSdRL-Gm9xgh",
        "colab": {
          "base_uri": "https://localhost:8080/"
        },
        "outputId": "25416ba4-26e5-4beb-c917-d8bdbe1f8c0c"
      },
      "execution_count": 44,
      "outputs": [
        {
          "output_type": "stream",
          "name": "stdout",
          "text": [
            "Model fitted\n"
          ]
        }
      ]
    },
    {
      "cell_type": "code",
      "source": [
        "# Test\n",
        "rho_pair = np.array([1, 2])\n",
        "R = np.array([[1, 2], [2, 4]])\n",
        "S_pair = np.array([[3, 6], [7, 5]])\n",
        "mu = 1\n",
        "\n",
        "## First problem\n",
        "\n",
        "# Variable to optimize\n",
        "n = R.shape[0]\n",
        "print(n)\n",
        "Sigma = cp.Variable((n, n), PSD=True)\n",
        "\n",
        "# Objective to minimize\n",
        "obj = cp.Minimize(cp.sum_squares(cp.multiply(R, Sigma-S_pair)))\n",
        "\n",
        "# Constraints\n",
        "constraints = [Sigma >> 0] # We want Sigma to be semi definite positive.\n",
        "\n",
        "# Solve the optimization problem\n",
        "prob = cp.Problem(obj, constraints)\n",
        "prob.solve()\n",
        "\n",
        "Sigma_opt = Sigma.value\n",
        "\n",
        "print(Sigma_opt)\n",
        "print(np.linalg.eig(Sigma_opt))\n",
        "\n",
        "## Second problem\n",
        "beta = cp.Variable(n)\n",
        "obj2 = cp.Minimize(0.5 * cp.quad_form(beta, Sigma_opt) - rho_pair.T @ beta + mu * cp.norm1(beta))\n",
        "\n",
        "# Solving\n",
        "prob2 = cp.Problem(obj2, constraints)\n",
        "prob2.solve()\n",
        "\n",
        "beta_opt = beta.value\n",
        "\n",
        "print(Sigma_opt, beta_opt)"
      ],
      "metadata": {
        "colab": {
          "base_uri": "https://localhost:8080/"
        },
        "id": "5mmg3-ifVCFy",
        "outputId": "f5cb4eb7-9cb8-4d5d-bc52-00470e672093"
      },
      "execution_count": 9,
      "outputs": [
        {
          "output_type": "stream",
          "name": "stdout",
          "text": [
            "2\n",
            "[[6.11942845 5.65628764]\n",
            " [5.65628764 5.22819903]]\n",
            "(array([1.13476275e+01, 3.78141962e-10]), array([[ 0.73434966, -0.67877138],\n",
            "       [ 0.67877138,  0.73434966]]))\n",
            "[[6.11942845 5.65628764]\n",
            " [5.65628764 5.22819903]] [6.60623935e-07 1.91269526e-01]\n"
          ]
        }
      ]
    },
    {
      "cell_type": "code",
      "source": [
        "Sigma_opt[0, 1]=np.nan"
      ],
      "metadata": {
        "id": "sC2d7YzgVwJz"
      },
      "execution_count": 24,
      "outputs": []
    },
    {
      "cell_type": "code",
      "source": [
        "y = np.array([3, 5])"
      ],
      "metadata": {
        "id": "5KEq7ub4tP-l"
      },
      "execution_count": 35,
      "outputs": []
    },
    {
      "cell_type": "code",
      "source": [
        "len(y.shape)"
      ],
      "metadata": {
        "colab": {
          "base_uri": "https://localhost:8080/"
        },
        "id": "4R5jaREav5Qi",
        "outputId": "7565fe16-e44b-4600-9aba-e24dd24b260d"
      },
      "execution_count": 40,
      "outputs": [
        {
          "output_type": "execute_result",
          "data": {
            "text/plain": [
              "1"
            ]
          },
          "metadata": {},
          "execution_count": 40
        }
      ]
    }
  ]
}