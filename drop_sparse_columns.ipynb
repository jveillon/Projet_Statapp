{
  "nbformat": 4,
  "nbformat_minor": 0,
  "metadata": {
    "colab": {
      "provenance": [],
      "machine_shape": "hm"
    },
    "kernelspec": {
      "name": "python3",
      "display_name": "Python 3"
    },
    "language_info": {
      "name": "python"
    },
    "gpuClass": "premium"
  },
  "cells": [
    {
      "cell_type": "markdown",
      "source": [
        "# Dropping of sparse columns"
      ],
      "metadata": {
        "id": "vptNZJvdx_t1"
      }
    },
    {
      "cell_type": "markdown",
      "source": [
        "The main goal of this notebook is to deal with missing values in the dataset, that forbid us to perform most of machine learning algorithms.\n",
        "\n",
        "We'll first import the database and get rid of some columns that only contain one value (thus providing no information whatsoever).\n",
        "We'll then drop columns that present more than 65% missing values (the threshold of 65% being chosen so that genetic variables, with a missing values ratio of 64%, are not overlooked)."
      ],
      "metadata": {
        "id": "FyPgb6FQzeu9"
      }
    },
    {
      "cell_type": "markdown",
      "source": [
        "## Libraries imports"
      ],
      "metadata": {
        "id": "-hseGhuOyENb"
      }
    },
    {
      "cell_type": "code",
      "execution_count": null,
      "metadata": {
        "id": "WedXhY31r8LW"
      },
      "outputs": [],
      "source": [
        "# Basic imports\n",
        "import pandas as pd\n",
        "import numpy as np\n",
        "\n",
        "# Import to find the wave related to each variable\n",
        "import re\n",
        "\n",
        "# Imports to impute missing values\n",
        "from sklearn.impute import SimpleImputer\n",
        "import scipy\n",
        "\n",
        "import matplotlib.pyplot as plt\n",
        "import seaborn as sns"
      ]
    },
    {
      "cell_type": "markdown",
      "source": [
        "## Data import"
      ],
      "metadata": {
        "id": "QsRi-F93yudP"
      }
    },
    {
      "cell_type": "code",
      "source": [
        "data = pd.read_csv(\"/content/drive/MyDrive/data_without_AE.csv\")"
      ],
      "metadata": {
        "colab": {
          "base_uri": "https://localhost:8080/"
        },
        "id": "3-Z9vAfIshSa",
        "outputId": "c08aea33-2396-43cc-ee9a-0c72d81ccaad"
      },
      "execution_count": null,
      "outputs": [
        {
          "output_type": "stream",
          "name": "stderr",
          "text": [
            "<ipython-input-2-9a43259a351d>:1: DtypeWarning: Columns (1379,1380,1382,1388,1391,15103) have mixed types. Specify dtype option on import or set low_memory=False.\n",
            "  data = pd.read_csv(\"/content/drive/MyDrive/data_without_AE.csv\")\n"
          ]
        }
      ]
    },
    {
      "cell_type": "code",
      "source": [
        "data.info(memory_usage=\"deep\")"
      ],
      "metadata": {
        "colab": {
          "base_uri": "https://localhost:8080/"
        },
        "id": "XUx8BhKmvVtd",
        "outputId": "180e66a3-c917-4f3b-f190-1b7d0e71b7d3"
      },
      "execution_count": null,
      "outputs": [
        {
          "output_type": "stream",
          "name": "stdout",
          "text": [
            "<class 'pandas.core.frame.DataFrame'>\n",
            "RangeIndex: 42233 entries, 0 to 42232\n",
            "Columns: 15104 entries, HHIDPN to genetic_Section_A_or_E\n",
            "dtypes: float64(14977), int64(111), object(16)\n",
            "memory usage: 4.8 GB\n"
          ]
        }
      ]
    },
    {
      "cell_type": "code",
      "source": [
        "data.head()"
      ],
      "metadata": {
        "colab": {
          "base_uri": "https://localhost:8080/",
          "height": 299
        },
        "id": "rsj85N-kwKcB",
        "outputId": "e4edb793-45ec-4834-83b6-afc467289060"
      },
      "execution_count": null,
      "outputs": [
        {
          "output_type": "execute_result",
          "data": {
            "text/plain": [
              "     HHIDPN  S1HHIDPN  R1MSTAT  R1MPART  S1BMONTH  S1BYEAR  S1BDATE  S1BFLAG  \\\n",
              "0      1010       0.0      5.0      0.0       NaN      NaN      NaN      NaN   \n",
              "1      2010       0.0      7.0      0.0       NaN      NaN      NaN      NaN   \n",
              "2      3010    3020.0      1.0      0.0       9.0   1938.0  -7778.0      0.0   \n",
              "3      3020    3010.0      1.0      0.0       1.0   1936.0  -8752.0      0.0   \n",
              "4  10001010       0.0      8.0      0.0       NaN      NaN      NaN      NaN   \n",
              "\n",
              "   S1COHBYR  S1HRSAMP  ...  genetic_4_PP_COGENT17  genetic_4_SBP_COGENT17  \\\n",
              "0       NaN       NaN  ...                    NaN                     NaN   \n",
              "1       NaN       NaN  ...                    NaN                     NaN   \n",
              "2       3.0       1.0  ...               -0.58662                -0.66936   \n",
              "3       3.0       1.0  ...               -0.06204                -0.70205   \n",
              "4       NaN       NaN  ...                    NaN                     NaN   \n",
              "\n",
              "   genetic_4_EGFR_CKDGEN19  genetic_4_EGFRTE_CKDGEN19  \\\n",
              "0                      NaN                        NaN   \n",
              "1                      NaN                        NaN   \n",
              "2                  1.04423                    1.02390   \n",
              "3                 -1.06050                   -1.08282   \n",
              "4                      NaN                        NaN   \n",
              "\n",
              "   genetic_4_EA3_W23_SSGAC18  genetic_4_HBA1CAA_MAGIC17  \\\n",
              "0                        NaN                        NaN   \n",
              "1                        NaN                        NaN   \n",
              "2                    1.53372                    0.47688   \n",
              "3                    0.85439                   -0.62488   \n",
              "4                        NaN                        NaN   \n",
              "\n",
              "   genetic_4_HBA1CEA_MAGIC17  genetic_4_GCOG2_CHARGE18  genetic_VERSION  \\\n",
              "0                        NaN                       NaN              NaN   \n",
              "1                        NaN                       NaN              NaN   \n",
              "2                   -1.28083                  -1.51568              4.3   \n",
              "3                   -1.29031                   0.40118              4.3   \n",
              "4                        NaN                       NaN              NaN   \n",
              "\n",
              "   genetic_Section_A_or_E  \n",
              "0                     NaN  \n",
              "1                     NaN  \n",
              "2                       E  \n",
              "3                       E  \n",
              "4                     NaN  \n",
              "\n",
              "[5 rows x 10824 columns]"
            ],
            "text/html": [
              "\n",
              "  <div id=\"df-87d3132a-f940-4541-b64d-192dd473c5a9\">\n",
              "    <div class=\"colab-df-container\">\n",
              "      <div>\n",
              "<style scoped>\n",
              "    .dataframe tbody tr th:only-of-type {\n",
              "        vertical-align: middle;\n",
              "    }\n",
              "\n",
              "    .dataframe tbody tr th {\n",
              "        vertical-align: top;\n",
              "    }\n",
              "\n",
              "    .dataframe thead th {\n",
              "        text-align: right;\n",
              "    }\n",
              "</style>\n",
              "<table border=\"1\" class=\"dataframe\">\n",
              "  <thead>\n",
              "    <tr style=\"text-align: right;\">\n",
              "      <th></th>\n",
              "      <th>HHIDPN</th>\n",
              "      <th>S1HHIDPN</th>\n",
              "      <th>R1MSTAT</th>\n",
              "      <th>R1MPART</th>\n",
              "      <th>S1BMONTH</th>\n",
              "      <th>S1BYEAR</th>\n",
              "      <th>S1BDATE</th>\n",
              "      <th>S1BFLAG</th>\n",
              "      <th>S1COHBYR</th>\n",
              "      <th>S1HRSAMP</th>\n",
              "      <th>...</th>\n",
              "      <th>genetic_4_PP_COGENT17</th>\n",
              "      <th>genetic_4_SBP_COGENT17</th>\n",
              "      <th>genetic_4_EGFR_CKDGEN19</th>\n",
              "      <th>genetic_4_EGFRTE_CKDGEN19</th>\n",
              "      <th>genetic_4_EA3_W23_SSGAC18</th>\n",
              "      <th>genetic_4_HBA1CAA_MAGIC17</th>\n",
              "      <th>genetic_4_HBA1CEA_MAGIC17</th>\n",
              "      <th>genetic_4_GCOG2_CHARGE18</th>\n",
              "      <th>genetic_VERSION</th>\n",
              "      <th>genetic_Section_A_or_E</th>\n",
              "    </tr>\n",
              "  </thead>\n",
              "  <tbody>\n",
              "    <tr>\n",
              "      <th>0</th>\n",
              "      <td>1010</td>\n",
              "      <td>0.0</td>\n",
              "      <td>5.0</td>\n",
              "      <td>0.0</td>\n",
              "      <td>NaN</td>\n",
              "      <td>NaN</td>\n",
              "      <td>NaN</td>\n",
              "      <td>NaN</td>\n",
              "      <td>NaN</td>\n",
              "      <td>NaN</td>\n",
              "      <td>...</td>\n",
              "      <td>NaN</td>\n",
              "      <td>NaN</td>\n",
              "      <td>NaN</td>\n",
              "      <td>NaN</td>\n",
              "      <td>NaN</td>\n",
              "      <td>NaN</td>\n",
              "      <td>NaN</td>\n",
              "      <td>NaN</td>\n",
              "      <td>NaN</td>\n",
              "      <td>NaN</td>\n",
              "    </tr>\n",
              "    <tr>\n",
              "      <th>1</th>\n",
              "      <td>2010</td>\n",
              "      <td>0.0</td>\n",
              "      <td>7.0</td>\n",
              "      <td>0.0</td>\n",
              "      <td>NaN</td>\n",
              "      <td>NaN</td>\n",
              "      <td>NaN</td>\n",
              "      <td>NaN</td>\n",
              "      <td>NaN</td>\n",
              "      <td>NaN</td>\n",
              "      <td>...</td>\n",
              "      <td>NaN</td>\n",
              "      <td>NaN</td>\n",
              "      <td>NaN</td>\n",
              "      <td>NaN</td>\n",
              "      <td>NaN</td>\n",
              "      <td>NaN</td>\n",
              "      <td>NaN</td>\n",
              "      <td>NaN</td>\n",
              "      <td>NaN</td>\n",
              "      <td>NaN</td>\n",
              "    </tr>\n",
              "    <tr>\n",
              "      <th>2</th>\n",
              "      <td>3010</td>\n",
              "      <td>3020.0</td>\n",
              "      <td>1.0</td>\n",
              "      <td>0.0</td>\n",
              "      <td>9.0</td>\n",
              "      <td>1938.0</td>\n",
              "      <td>-7778.0</td>\n",
              "      <td>0.0</td>\n",
              "      <td>3.0</td>\n",
              "      <td>1.0</td>\n",
              "      <td>...</td>\n",
              "      <td>-0.58662</td>\n",
              "      <td>-0.66936</td>\n",
              "      <td>1.04423</td>\n",
              "      <td>1.02390</td>\n",
              "      <td>1.53372</td>\n",
              "      <td>0.47688</td>\n",
              "      <td>-1.28083</td>\n",
              "      <td>-1.51568</td>\n",
              "      <td>4.3</td>\n",
              "      <td>E</td>\n",
              "    </tr>\n",
              "    <tr>\n",
              "      <th>3</th>\n",
              "      <td>3020</td>\n",
              "      <td>3010.0</td>\n",
              "      <td>1.0</td>\n",
              "      <td>0.0</td>\n",
              "      <td>1.0</td>\n",
              "      <td>1936.0</td>\n",
              "      <td>-8752.0</td>\n",
              "      <td>0.0</td>\n",
              "      <td>3.0</td>\n",
              "      <td>1.0</td>\n",
              "      <td>...</td>\n",
              "      <td>-0.06204</td>\n",
              "      <td>-0.70205</td>\n",
              "      <td>-1.06050</td>\n",
              "      <td>-1.08282</td>\n",
              "      <td>0.85439</td>\n",
              "      <td>-0.62488</td>\n",
              "      <td>-1.29031</td>\n",
              "      <td>0.40118</td>\n",
              "      <td>4.3</td>\n",
              "      <td>E</td>\n",
              "    </tr>\n",
              "    <tr>\n",
              "      <th>4</th>\n",
              "      <td>10001010</td>\n",
              "      <td>0.0</td>\n",
              "      <td>8.0</td>\n",
              "      <td>0.0</td>\n",
              "      <td>NaN</td>\n",
              "      <td>NaN</td>\n",
              "      <td>NaN</td>\n",
              "      <td>NaN</td>\n",
              "      <td>NaN</td>\n",
              "      <td>NaN</td>\n",
              "      <td>...</td>\n",
              "      <td>NaN</td>\n",
              "      <td>NaN</td>\n",
              "      <td>NaN</td>\n",
              "      <td>NaN</td>\n",
              "      <td>NaN</td>\n",
              "      <td>NaN</td>\n",
              "      <td>NaN</td>\n",
              "      <td>NaN</td>\n",
              "      <td>NaN</td>\n",
              "      <td>NaN</td>\n",
              "    </tr>\n",
              "  </tbody>\n",
              "</table>\n",
              "<p>5 rows × 10824 columns</p>\n",
              "</div>\n",
              "      <button class=\"colab-df-convert\" onclick=\"convertToInteractive('df-87d3132a-f940-4541-b64d-192dd473c5a9')\"\n",
              "              title=\"Convert this dataframe to an interactive table.\"\n",
              "              style=\"display:none;\">\n",
              "        \n",
              "  <svg xmlns=\"http://www.w3.org/2000/svg\" height=\"24px\"viewBox=\"0 0 24 24\"\n",
              "       width=\"24px\">\n",
              "    <path d=\"M0 0h24v24H0V0z\" fill=\"none\"/>\n",
              "    <path d=\"M18.56 5.44l.94 2.06.94-2.06 2.06-.94-2.06-.94-.94-2.06-.94 2.06-2.06.94zm-11 1L8.5 8.5l.94-2.06 2.06-.94-2.06-.94L8.5 2.5l-.94 2.06-2.06.94zm10 10l.94 2.06.94-2.06 2.06-.94-2.06-.94-.94-2.06-.94 2.06-2.06.94z\"/><path d=\"M17.41 7.96l-1.37-1.37c-.4-.4-.92-.59-1.43-.59-.52 0-1.04.2-1.43.59L10.3 9.45l-7.72 7.72c-.78.78-.78 2.05 0 2.83L4 21.41c.39.39.9.59 1.41.59.51 0 1.02-.2 1.41-.59l7.78-7.78 2.81-2.81c.8-.78.8-2.07 0-2.86zM5.41 20L4 18.59l7.72-7.72 1.47 1.35L5.41 20z\"/>\n",
              "  </svg>\n",
              "      </button>\n",
              "      \n",
              "  <style>\n",
              "    .colab-df-container {\n",
              "      display:flex;\n",
              "      flex-wrap:wrap;\n",
              "      gap: 12px;\n",
              "    }\n",
              "\n",
              "    .colab-df-convert {\n",
              "      background-color: #E8F0FE;\n",
              "      border: none;\n",
              "      border-radius: 50%;\n",
              "      cursor: pointer;\n",
              "      display: none;\n",
              "      fill: #1967D2;\n",
              "      height: 32px;\n",
              "      padding: 0 0 0 0;\n",
              "      width: 32px;\n",
              "    }\n",
              "\n",
              "    .colab-df-convert:hover {\n",
              "      background-color: #E2EBFA;\n",
              "      box-shadow: 0px 1px 2px rgba(60, 64, 67, 0.3), 0px 1px 3px 1px rgba(60, 64, 67, 0.15);\n",
              "      fill: #174EA6;\n",
              "    }\n",
              "\n",
              "    [theme=dark] .colab-df-convert {\n",
              "      background-color: #3B4455;\n",
              "      fill: #D2E3FC;\n",
              "    }\n",
              "\n",
              "    [theme=dark] .colab-df-convert:hover {\n",
              "      background-color: #434B5C;\n",
              "      box-shadow: 0px 1px 3px 1px rgba(0, 0, 0, 0.15);\n",
              "      filter: drop-shadow(0px 1px 2px rgba(0, 0, 0, 0.3));\n",
              "      fill: #FFFFFF;\n",
              "    }\n",
              "  </style>\n",
              "\n",
              "      <script>\n",
              "        const buttonEl =\n",
              "          document.querySelector('#df-87d3132a-f940-4541-b64d-192dd473c5a9 button.colab-df-convert');\n",
              "        buttonEl.style.display =\n",
              "          google.colab.kernel.accessAllowed ? 'block' : 'none';\n",
              "\n",
              "        async function convertToInteractive(key) {\n",
              "          const element = document.querySelector('#df-87d3132a-f940-4541-b64d-192dd473c5a9');\n",
              "          const dataTable =\n",
              "            await google.colab.kernel.invokeFunction('convertToInteractive',\n",
              "                                                     [key], {});\n",
              "          if (!dataTable) return;\n",
              "\n",
              "          const docLinkHtml = 'Like what you see? Visit the ' +\n",
              "            '<a target=\"_blank\" href=https://colab.research.google.com/notebooks/data_table.ipynb>data table notebook</a>'\n",
              "            + ' to learn more about interactive tables.';\n",
              "          element.innerHTML = '';\n",
              "          dataTable['output_type'] = 'display_data';\n",
              "          await google.colab.output.renderOutput(dataTable, element);\n",
              "          const docLink = document.createElement('div');\n",
              "          docLink.innerHTML = docLinkHtml;\n",
              "          element.appendChild(docLink);\n",
              "        }\n",
              "      </script>\n",
              "    </div>\n",
              "  </div>\n",
              "  "
            ]
          },
          "metadata": {},
          "execution_count": 24
        }
      ]
    },
    {
      "cell_type": "markdown",
      "source": [
        "## Drop columns with more than 65% of missing values"
      ],
      "metadata": {
        "id": "5xwniIvY531W"
      }
    },
    {
      "cell_type": "markdown",
      "source": [
        "If we happened to just count the number of missing values in each row without any further consideration, we would miss the fact that some values are missing not because they were not recorded, but because it would make no sense for them to be.\n",
        "\n",
        "To avoid this problem, we will check, when a value is missing, if the respondant had been interviewed during the considered wage or not: if he hasn't been interviewed, then we don't take the related missing values in consideration."
      ],
      "metadata": {
        "id": "l1-WAJzwraJ9"
      }
    },
    {
      "cell_type": "code",
      "source": [
        "# We check how many wages are available in the database.\n",
        "for col in data.columns:\n",
        "  if \"INW\" in col:\n",
        "    print(col, end=\" ; \")"
      ],
      "metadata": {
        "colab": {
          "base_uri": "https://localhost:8080/"
        },
        "id": "5Ma9xs6FG2Ah",
        "outputId": "ef4497fa-ffa3-4a2c-a381-3715889d603c"
      },
      "execution_count": null,
      "outputs": [
        {
          "output_type": "stream",
          "name": "stdout",
          "text": [
            "INW1 ; INW2 ; INW3 ; INW4 ; INW5 ; INW6 ; INW7 ; INW8 ; INW9 ; INW10 ; INW11 ; INW12 ; INW13 ; INW14 ; "
          ]
        }
      ]
    },
    {
      "cell_type": "code",
      "source": [
        "# To explore with more details the number of columns with a given missing values rate, we will plot the associated curve.\n",
        "def count_columns(missing_values_thresholds, data):\n",
        "  \"\"\"\n",
        "  Return a numpy array with, for each threshold, the number of columns in 'data'\n",
        "  that present a missing values rate greater than 'threshold'\n",
        "  \"\"\"\n",
        "  array_of_counts = np.zeros(len(thresholds))\n",
        "\n",
        "  for i in range(len(thresholds)):\n",
        "    threshold = thresholds[i]\n",
        "\n",
        "    # We look for columns with a missing values rate greater than 'threshold'.\n",
        "    criteria = data.isna().sum()/data.shape[0] >= threshold # This criteria is True for columns with too much missing values.\n",
        "    array_of_counts[i] += len(criteria.index[criteria])\n",
        "  \n",
        "  return array_of_counts\n",
        "\n",
        "thresholds = np.arange(0, 1, 0.05)\n",
        "columns_distribution = np.zeros(len(thresholds))\n",
        "\n",
        "regex = re.compile(\"[0-9]+\")\n",
        "\n",
        "# First, we proceed for each waves-related variables\n",
        "number_of_such_variables = 0\n",
        "for wave in range(1, 15):\n",
        "  # We collect all columns related to current wave.\n",
        "  wave_columns = [col for col in data.columns if len(regex.findall(col)) != 0 and regex.findall(col)[0] == str(wave)]\n",
        "  wave_data = data.loc[data[f\"INW{wave}\"] == 1, wave_columns]\n",
        "\n",
        "  # We now evaluate the distribution of columns for each threshold.\n",
        "  columns_distribution_for_this_wave = count_columns(thresholds, wave_data)\n",
        "  columns_distribution += columns_distribution_for_this_wave\n",
        "\n",
        "  # Then we plot it.\n",
        "  plt.plot(thresholds, columns_distribution_for_this_wave/columns_distribution_for_this_wave[0], label=f\"wave {wave}\", ls=\"-\"*(wave//10+1))\n",
        "\n",
        "  # This is pure verbose.\n",
        "  number_of_such_variables += wave_data.shape[1]\n",
        "  print(f\"wave {wave}: {wave_data.shape[1]} ; overall: {number_of_such_variables}\")\n",
        "\n",
        "# Second, we proceed for all the other variables.\n",
        "columns_of_interest = [col for col in data.columns if len(regex.findall(col)) == 0]\n",
        "data_of_interest = data[columns_of_interest]\n",
        "\n",
        "# We now evaluate the distribution of columns for each threshold.\n",
        "columns_distribution_for_these_data = count_columns(thresholds, data_of_interest)\n",
        "columns_distribution += columns_distribution_for_these_data\n",
        "\n",
        "# Then we plot it.\n",
        "plt.plot(thresholds, columns_distribution_for_these_data/columns_distribution_for_these_data[0], label=\"others\", ls = \"--\")\n",
        "\n",
        "plt.xticks([0.0, 0.1, 0.2, 0.3, 0.4, 0.5, 0.6, 0.7, 0.8, 0.9, 1.0], [f\"{x*10}%\" for x in range(0, 11)])\n",
        "plt.yticks([0.0, 0.2, 0.4, 0.6, 0.8, 1.0], [f\"{x*20}%\" for x in range(0, 6)])\n",
        "\n",
        "plt.xlabel(\"Missing values ratio\", fontsize=12)\n",
        "plt.ylabel(\"Columns ratio\", fontsize=12)\n",
        "plt.title(\"Distribution of columns w.r.t missing values ratio\", fontsize=13)\n",
        "\n",
        "plt.legend(bbox_to_anchor=(1.05, 1.0))\n",
        "plt.tight_layout()\n",
        "\n",
        "plt.grid()\n",
        "plt.show() "
      ],
      "metadata": {
        "colab": {
          "base_uri": "https://localhost:8080/",
          "height": 540
        },
        "id": "THcS_jvl0A5S",
        "outputId": "c1f3aa9f-6989-4332-bc93-017f20727b91"
      },
      "execution_count": null,
      "outputs": [
        {
          "output_type": "stream",
          "name": "stdout",
          "text": [
            "wave 1: 743 ; overall: 743\n",
            "wave 2: 965 ; overall: 1708\n",
            "wave 3: 974 ; overall: 2682\n",
            "wave 4: 1042 ; overall: 3724\n",
            "wave 5: 1032 ; overall: 4756\n",
            "wave 6: 1069 ; overall: 5825\n",
            "wave 7: 1074 ; overall: 6899\n",
            "wave 8: 1123 ; overall: 8022\n",
            "wave 9: 1133 ; overall: 9155\n",
            "wave 10: 1169 ; overall: 10324\n",
            "wave 11: 1162 ; overall: 11486\n",
            "wave 12: 1144 ; overall: 12630\n",
            "wave 13: 1172 ; overall: 13802\n",
            "wave 14: 1153 ; overall: 14955\n"
          ]
        },
        {
          "output_type": "display_data",
          "data": {
            "text/plain": [
              "<Figure size 432x288 with 1 Axes>"
            ],
            "image/png": "[encoded data removed]"
          },
          "metadata": {
            "needs_background": "light"
          }
        }
      ]
    },
    {
      "cell_type": "markdown",
      "source": [
        "The graph above is meant to be interpreted like this: among the variables collected from the interviews in wave 1, 60% of them present more than 10% missing values.\n",
        "\n",
        "Overall, every waves present an identical distribution.\n",
        "The one curve that distinguishes itself is the 'others' curve: it looks like the number of columns of this category which present a missing values ratio between 60% and 70% behave differently. This can be explained by the fact that genetic data only concerns 36% of individuals, so it presents a missing values ratio of 64% (see the code below)."
      ],
      "metadata": {
        "id": "6OsDgoMmDMYi"
      }
    },
    {
      "cell_type": "code",
      "source": [
        "print(\"Genetic data concerns {}% of the individuals.\".format(100 - (data[\"genetic_Section_A_or_E\"].isna().sum()/data.shape[0]).round(4)*100))"
      ],
      "metadata": {
        "colab": {
          "base_uri": "https://localhost:8080/"
        },
        "id": "bnuuHdnsFRxq",
        "outputId": "c0b33901-4b27-4059-f404-6c02d5ea4f7c"
      },
      "execution_count": null,
      "outputs": [
        {
          "output_type": "stream",
          "name": "stdout",
          "text": [
            "Genetic data concerns 35.97% of the individuals.\n"
          ]
        }
      ]
    },
    {
      "cell_type": "code",
      "source": [
        "plt.plot(thresholds, columns_distribution, marker=\"x\", ls=\"-\", lw = '1', color=\"purple\")\n",
        "\n",
        "plt.xticks([0.0, 0.1, 0.2, 0.3, 0.4, 0.5, 0.6, 0.7, 0.8, 0.9, 1.0], [f\"{x*10}%\" for x in range(0, 11)])\n",
        "\n",
        "plt.xlabel(\"Missing values ratio\", fontsize=12)\n",
        "plt.ylabel(\"Number of columns\", fontsize=12)\n",
        "plt.title(\"Distribution of columns w.r.t missing values ratio\", fontsize=13)\n",
        "\n",
        "plt.grid()\n",
        "plt.show()"
      ],
      "metadata": {
        "colab": {
          "base_uri": "https://localhost:8080/",
          "height": 298
        },
        "id": "Ap7Mbg0C1vWh",
        "outputId": "0b7c8fd1-3b5b-4525-8e9c-a4298a699eb2"
      },
      "execution_count": null,
      "outputs": [
        {
          "output_type": "display_data",
          "data": {
            "text/plain": [
              "<Figure size 432x288 with 1 Axes>"
            ],
            "image/png": "[encoded data removed]"
          },
          "metadata": {
            "needs_background": "light"
          }
        }
      ]
    },
    {
      "cell_type": "markdown",
      "source": [
        "This graph highlights that our database presents many missing values. To conserve genetic data, we decide to drop all columns with a missing values ration greater than 65%. It will erase about 4000 columns."
      ],
      "metadata": {
        "id": "tBfmx3oSIDYA"
      }
    },
    {
      "cell_type": "code",
      "source": [
        "max_missing_values_rate = 0.65"
      ],
      "metadata": {
        "id": "TLwB1f6qMHjB"
      },
      "execution_count": null,
      "outputs": []
    },
    {
      "cell_type": "code",
      "source": [
        "def columns_to_delete(threshold, data):\n",
        "  \"\"\"\n",
        "  Return a copy of the 'data' where columns with a missing_values_rate greater than threshold\n",
        "  have been deleted.\n",
        "  \"\"\"\n",
        "  # We look for columns with a missing values rate greater than 'threshold'.\n",
        "  criteria = data.isna().sum()/data.shape[0] >= threshold # This criteria is True for columns with too much missing values.\n",
        "  \n",
        "  return list(criteria.index(criteria))\n",
        "\n",
        "\n",
        "regex = re.compile(\"[0-9]+\")\n",
        "columns_to_delete = []\n",
        "\n",
        "# First, we proceed for each waves-related variables.\n",
        "for wave in range(1, 15):\n",
        "  print(wave, end= \" ; \")\n",
        "  # We collect all columns related to current wave.\n",
        "  wave_columns = [col for col in data.columns if len(regex.findall(col)) != 0 and regex.findall(col)[0] == str(wave)]\n",
        "  wave_data = data.loc[data[f\"INW{wave}\"] == 1, wave_columns]\n",
        "\n",
        "  # We identify columns to delete for this specific wave.\n",
        "  criteria = wave_data.isna().sum()/wave_data.shape[0] >= max_missing_values_rate\n",
        "  columns_to_delete += list(criteria.index[criteria])\n",
        "\n",
        "# Second, we proceed for all the other variables.\n",
        "columns_of_interest = [col for col in data.columns if len(regex.findall(col)) == 0]\n",
        "data_of_interest = data[columns_of_interest]\n",
        "\n",
        "criteria = data_of_interest.isna().sum()/data_of_interest.shape[0] >= max_missing_values_rate\n",
        "columns_to_delete += list(criteria.index[criteria])"
      ],
      "metadata": {
        "colab": {
          "base_uri": "https://localhost:8080/"
        },
        "id": "3OPemiPqpT6Z",
        "outputId": "216eba5f-8b34-4067-a8b2-ab7034163bd0"
      },
      "execution_count": null,
      "outputs": [
        {
          "output_type": "stream",
          "name": "stdout",
          "text": [
            "1 ; 2 ; 3 ; 4 ; 5 ; 6 ; 7 ; 8 ; 9 ; 10 ; 11 ; 12 ; 13 ; 14 ; "
          ]
        }
      ]
    },
    {
      "cell_type": "code",
      "source": [
        "print(\"Before drop, data shape =\", data.shape)\n",
        "data.info(memory_usage=\"deep\")"
      ],
      "metadata": {
        "colab": {
          "base_uri": "https://localhost:8080/"
        },
        "id": "J5zQWu9SVUw0",
        "outputId": "544607dc-f57b-403f-ee2c-5cbb4f78a07c"
      },
      "execution_count": null,
      "outputs": [
        {
          "output_type": "stream",
          "name": "stdout",
          "text": [
            "Before drop, data shape = (42233, 15104)\n",
            "<class 'pandas.core.frame.DataFrame'>\n",
            "RangeIndex: 42233 entries, 0 to 42232\n",
            "Columns: 15104 entries, HHIDPN to genetic_Section_A_or_E\n",
            "dtypes: float64(14977), int64(111), object(16)\n",
            "memory usage: 4.8 GB\n"
          ]
        }
      ]
    },
    {
      "cell_type": "code",
      "source": [
        "# Finally, we drop these columns\n",
        "data = data.drop(columns=columns_to_delete)\n",
        "\n",
        "print(\"After drop, data shape =\", data.shape)\n",
        "print(data.info(memory_usage=\"deep\"))"
      ],
      "metadata": {
        "id": "mg0JrfyYVauW",
        "colab": {
          "base_uri": "https://localhost:8080/"
        },
        "outputId": "1c875a58-bf40-4064-9523-0fa6ce36caf9"
      },
      "execution_count": null,
      "outputs": [
        {
          "output_type": "stream",
          "name": "stdout",
          "text": [
            "After drop, data shape = (42233, 10825)\n",
            "<class 'pandas.core.frame.DataFrame'>\n",
            "RangeIndex: 42233 entries, 0 to 42232\n",
            "Columns: 10825 entries, HHIDPN to genetic_Section_A_or_E\n",
            "dtypes: float64(10698), int64(111), object(16)\n",
            "memory usage: 3.4+ GB\n",
            "None\n"
          ]
        }
      ]
    },
    {
      "cell_type": "code",
      "source": [
        "15104 - 10825"
      ],
      "metadata": {
        "colab": {
          "base_uri": "https://localhost:8080/"
        },
        "id": "cN2fDv8-RD2G",
        "outputId": "14a73754-858f-4e61-8883-adff5f39bc8d"
      },
      "execution_count": null,
      "outputs": [
        {
          "output_type": "execute_result",
          "data": {
            "text/plain": [
              "4279"
            ]
          },
          "metadata": {},
          "execution_count": 14
        }
      ]
    },
    {
      "cell_type": "markdown",
      "source": [
        "We successfully dropped 15104  - 10825 = 4279 columns.\n",
        "\n",
        "The next step is to cast right dtypes: too many columns have been casted as float64."
      ],
      "metadata": {
        "id": "zbSOGJMGVgtr"
      }
    },
    {
      "cell_type": "markdown",
      "source": [
        "## Cast dtypes"
      ],
      "metadata": {
        "id": "p0Q2sofe289q"
      }
    },
    {
      "cell_type": "code",
      "source": [
        "data.info(memory_usage=\"deep\")"
      ],
      "metadata": {
        "colab": {
          "base_uri": "https://localhost:8080/"
        },
        "id": "QQAbfDU-U1Bn",
        "outputId": "f2c727fd-f661-4b5f-acc8-9268a538d120"
      },
      "execution_count": null,
      "outputs": [
        {
          "output_type": "stream",
          "name": "stdout",
          "text": [
            "<class 'pandas.core.frame.DataFrame'>\n",
            "RangeIndex: 42233 entries, 0 to 42232\n",
            "Columns: 10825 entries, HHIDPN to genetic_Section_A_or_E\n",
            "dtypes: float64(10698), int64(111), object(16)\n",
            "memory usage: 3.4 GB\n"
          ]
        }
      ]
    },
    {
      "cell_type": "markdown",
      "source": [
        "### Object dtypes"
      ],
      "metadata": {
        "id": "Ay8kafF3iOvT"
      }
    },
    {
      "cell_type": "markdown",
      "source": [
        "Only 16 columns have been casted as 'object'. Let us deal with them."
      ],
      "metadata": {
        "id": "BEIhTtUr0Wxm"
      }
    },
    {
      "cell_type": "code",
      "source": [
        "data.select_dtypes(include=[\"object\"]).head()"
      ],
      "metadata": {
        "colab": {
          "base_uri": "https://localhost:8080/",
          "height": 270
        },
        "id": "_8hcN7ArvgQ2",
        "outputId": "b051b66c-6145-4f9d-9efe-f969f6eb578e"
      },
      "execution_count": null,
      "outputs": [
        {
          "output_type": "execute_result",
          "data": {
            "text/plain": [
              "   H1HHIDC  H2HHIDC  H3HHIDC  H4HHIDC  H5HHIDC  H6HHIDC  H7HHIDC  H8HHIDC  \\\n",
              "0  0000010  0000010        .        .        .        .        .        .   \n",
              "1  0000020  0000020  0000020  0000020  0000020        .        .        .   \n",
              "2  0000030  0000030  0000030  0000030  0000030  0000030  0000030  0000030   \n",
              "3  0000030  0000030  0000030  0000030  0000030  0000030  0000030  0000030   \n",
              "4  0100010  0100010  0100010  0100010  0100010  0100010  0100010  0100010   \n",
              "\n",
              "   H9HHIDC H10HHIDC H11HHIDC H12HHIDC H13HHIDC H14HHIDC FILEVER  \\\n",
              "0        .        .        .        .        .        .       U   \n",
              "1        .        .        .        .        .        .       U   \n",
              "2  0000030  0000030  0000030        .        .        .       U   \n",
              "3  0000030  0000030  0000030  0000030        .        .       U   \n",
              "4  0100010  0100010  0100010  0100010  0100010        .       U   \n",
              "\n",
              "  genetic_Section_A_or_E  \n",
              "0                    NaN  \n",
              "1                    NaN  \n",
              "2                      E  \n",
              "3                      E  \n",
              "4                    NaN  "
            ],
            "text/html": [
              "\n",
              "  <div id=\"df-9663f470-84c7-4c05-81c2-98c31eede34f\">\n",
              "    <div class=\"colab-df-container\">\n",
              "      <div>\n",
              "<style scoped>\n",
              "    .dataframe tbody tr th:only-of-type {\n",
              "        vertical-align: middle;\n",
              "    }\n",
              "\n",
              "    .dataframe tbody tr th {\n",
              "        vertical-align: top;\n",
              "    }\n",
              "\n",
              "    .dataframe thead th {\n",
              "        text-align: right;\n",
              "    }\n",
              "</style>\n",
              "<table border=\"1\" class=\"dataframe\">\n",
              "  <thead>\n",
              "    <tr style=\"text-align: right;\">\n",
              "      <th></th>\n",
              "      <th>H1HHIDC</th>\n",
              "      <th>H2HHIDC</th>\n",
              "      <th>H3HHIDC</th>\n",
              "      <th>H4HHIDC</th>\n",
              "      <th>H5HHIDC</th>\n",
              "      <th>H6HHIDC</th>\n",
              "      <th>H7HHIDC</th>\n",
              "      <th>H8HHIDC</th>\n",
              "      <th>H9HHIDC</th>\n",
              "      <th>H10HHIDC</th>\n",
              "      <th>H11HHIDC</th>\n",
              "      <th>H12HHIDC</th>\n",
              "      <th>H13HHIDC</th>\n",
              "      <th>H14HHIDC</th>\n",
              "      <th>FILEVER</th>\n",
              "      <th>genetic_Section_A_or_E</th>\n",
              "    </tr>\n",
              "  </thead>\n",
              "  <tbody>\n",
              "    <tr>\n",
              "      <th>0</th>\n",
              "      <td>0000010</td>\n",
              "      <td>0000010</td>\n",
              "      <td>.</td>\n",
              "      <td>.</td>\n",
              "      <td>.</td>\n",
              "      <td>.</td>\n",
              "      <td>.</td>\n",
              "      <td>.</td>\n",
              "      <td>.</td>\n",
              "      <td>.</td>\n",
              "      <td>.</td>\n",
              "      <td>.</td>\n",
              "      <td>.</td>\n",
              "      <td>.</td>\n",
              "      <td>U</td>\n",
              "      <td>NaN</td>\n",
              "    </tr>\n",
              "    <tr>\n",
              "      <th>1</th>\n",
              "      <td>0000020</td>\n",
              "      <td>0000020</td>\n",
              "      <td>0000020</td>\n",
              "      <td>0000020</td>\n",
              "      <td>0000020</td>\n",
              "      <td>.</td>\n",
              "      <td>.</td>\n",
              "      <td>.</td>\n",
              "      <td>.</td>\n",
              "      <td>.</td>\n",
              "      <td>.</td>\n",
              "      <td>.</td>\n",
              "      <td>.</td>\n",
              "      <td>.</td>\n",
              "      <td>U</td>\n",
              "      <td>NaN</td>\n",
              "    </tr>\n",
              "    <tr>\n",
              "      <th>2</th>\n",
              "      <td>0000030</td>\n",
              "      <td>0000030</td>\n",
              "      <td>0000030</td>\n",
              "      <td>0000030</td>\n",
              "      <td>0000030</td>\n",
              "      <td>0000030</td>\n",
              "      <td>0000030</td>\n",
              "      <td>0000030</td>\n",
              "      <td>0000030</td>\n",
              "      <td>0000030</td>\n",
              "      <td>0000030</td>\n",
              "      <td>.</td>\n",
              "      <td>.</td>\n",
              "      <td>.</td>\n",
              "      <td>U</td>\n",
              "      <td>E</td>\n",
              "    </tr>\n",
              "    <tr>\n",
              "      <th>3</th>\n",
              "      <td>0000030</td>\n",
              "      <td>0000030</td>\n",
              "      <td>0000030</td>\n",
              "      <td>0000030</td>\n",
              "      <td>0000030</td>\n",
              "      <td>0000030</td>\n",
              "      <td>0000030</td>\n",
              "      <td>0000030</td>\n",
              "      <td>0000030</td>\n",
              "      <td>0000030</td>\n",
              "      <td>0000030</td>\n",
              "      <td>0000030</td>\n",
              "      <td>.</td>\n",
              "      <td>.</td>\n",
              "      <td>U</td>\n",
              "      <td>E</td>\n",
              "    </tr>\n",
              "    <tr>\n",
              "      <th>4</th>\n",
              "      <td>0100010</td>\n",
              "      <td>0100010</td>\n",
              "      <td>0100010</td>\n",
              "      <td>0100010</td>\n",
              "      <td>0100010</td>\n",
              "      <td>0100010</td>\n",
              "      <td>0100010</td>\n",
              "      <td>0100010</td>\n",
              "      <td>0100010</td>\n",
              "      <td>0100010</td>\n",
              "      <td>0100010</td>\n",
              "      <td>0100010</td>\n",
              "      <td>0100010</td>\n",
              "      <td>.</td>\n",
              "      <td>U</td>\n",
              "      <td>NaN</td>\n",
              "    </tr>\n",
              "  </tbody>\n",
              "</table>\n",
              "</div>\n",
              "      <button class=\"colab-df-convert\" onclick=\"convertToInteractive('df-9663f470-84c7-4c05-81c2-98c31eede34f')\"\n",
              "              title=\"Convert this dataframe to an interactive table.\"\n",
              "              style=\"display:none;\">\n",
              "        \n",
              "  <svg xmlns=\"http://www.w3.org/2000/svg\" height=\"24px\"viewBox=\"0 0 24 24\"\n",
              "       width=\"24px\">\n",
              "    <path d=\"M0 0h24v24H0V0z\" fill=\"none\"/>\n",
              "    <path d=\"M18.56 5.44l.94 2.06.94-2.06 2.06-.94-2.06-.94-.94-2.06-.94 2.06-2.06.94zm-11 1L8.5 8.5l.94-2.06 2.06-.94-2.06-.94L8.5 2.5l-.94 2.06-2.06.94zm10 10l.94 2.06.94-2.06 2.06-.94-2.06-.94-.94-2.06-.94 2.06-2.06.94z\"/><path d=\"M17.41 7.96l-1.37-1.37c-.4-.4-.92-.59-1.43-.59-.52 0-1.04.2-1.43.59L10.3 9.45l-7.72 7.72c-.78.78-.78 2.05 0 2.83L4 21.41c.39.39.9.59 1.41.59.51 0 1.02-.2 1.41-.59l7.78-7.78 2.81-2.81c.8-.78.8-2.07 0-2.86zM5.41 20L4 18.59l7.72-7.72 1.47 1.35L5.41 20z\"/>\n",
              "  </svg>\n",
              "      </button>\n",
              "      \n",
              "  <style>\n",
              "    .colab-df-container {\n",
              "      display:flex;\n",
              "      flex-wrap:wrap;\n",
              "      gap: 12px;\n",
              "    }\n",
              "\n",
              "    .colab-df-convert {\n",
              "      background-color: #E8F0FE;\n",
              "      border: none;\n",
              "      border-radius: 50%;\n",
              "      cursor: pointer;\n",
              "      display: none;\n",
              "      fill: #1967D2;\n",
              "      height: 32px;\n",
              "      padding: 0 0 0 0;\n",
              "      width: 32px;\n",
              "    }\n",
              "\n",
              "    .colab-df-convert:hover {\n",
              "      background-color: #E2EBFA;\n",
              "      box-shadow: 0px 1px 2px rgba(60, 64, 67, 0.3), 0px 1px 3px 1px rgba(60, 64, 67, 0.15);\n",
              "      fill: #174EA6;\n",
              "    }\n",
              "\n",
              "    [theme=dark] .colab-df-convert {\n",
              "      background-color: #3B4455;\n",
              "      fill: #D2E3FC;\n",
              "    }\n",
              "\n",
              "    [theme=dark] .colab-df-convert:hover {\n",
              "      background-color: #434B5C;\n",
              "      box-shadow: 0px 1px 3px 1px rgba(0, 0, 0, 0.15);\n",
              "      filter: drop-shadow(0px 1px 2px rgba(0, 0, 0, 0.3));\n",
              "      fill: #FFFFFF;\n",
              "    }\n",
              "  </style>\n",
              "\n",
              "      <script>\n",
              "        const buttonEl =\n",
              "          document.querySelector('#df-9663f470-84c7-4c05-81c2-98c31eede34f button.colab-df-convert');\n",
              "        buttonEl.style.display =\n",
              "          google.colab.kernel.accessAllowed ? 'block' : 'none';\n",
              "\n",
              "        async function convertToInteractive(key) {\n",
              "          const element = document.querySelector('#df-9663f470-84c7-4c05-81c2-98c31eede34f');\n",
              "          const dataTable =\n",
              "            await google.colab.kernel.invokeFunction('convertToInteractive',\n",
              "                                                     [key], {});\n",
              "          if (!dataTable) return;\n",
              "\n",
              "          const docLinkHtml = 'Like what you see? Visit the ' +\n",
              "            '<a target=\"_blank\" href=https://colab.research.google.com/notebooks/data_table.ipynb>data table notebook</a>'\n",
              "            + ' to learn more about interactive tables.';\n",
              "          element.innerHTML = '';\n",
              "          dataTable['output_type'] = 'display_data';\n",
              "          await google.colab.output.renderOutput(dataTable, element);\n",
              "          const docLink = document.createElement('div');\n",
              "          docLink.innerHTML = docLinkHtml;\n",
              "          element.appendChild(docLink);\n",
              "        }\n",
              "      </script>\n",
              "    </div>\n",
              "  </div>\n",
              "  "
            ]
          },
          "metadata": {},
          "execution_count": 17
        }
      ]
    },
    {
      "cell_type": "code",
      "source": [
        "data[\"genetic_Section_A_or_E\"] = data[\"genetic_Section_A_or_E\"].astype(\"category\") # this variable only takes 'A' and 'E' as values.\n",
        "data = data.drop(\"FILEVER\", axis=1) # this variable does not give information (each row is 'U')\n",
        "for i in range(1, 15):\n",
        "  col = f\"H{i}HHIDC\"\n",
        "  data[col] = data[col].replace(\"      .\", np.nan).astype(\"float64\") # We get rid of the '      .'."
      ],
      "metadata": {
        "id": "zj7mRhZ5za5B"
      },
      "execution_count": null,
      "outputs": []
    },
    {
      "cell_type": "code",
      "source": [
        "data.info()"
      ],
      "metadata": {
        "colab": {
          "base_uri": "https://localhost:8080/"
        },
        "id": "SI3Km8Vd34F-",
        "outputId": "01f2dfea-3bba-40d6-881b-e6a1db327ec4"
      },
      "execution_count": null,
      "outputs": [
        {
          "output_type": "stream",
          "name": "stdout",
          "text": [
            "<class 'pandas.core.frame.DataFrame'>\n",
            "RangeIndex: 42233 entries, 0 to 42232\n",
            "Columns: 10824 entries, HHIDPN to genetic_Section_A_or_E\n",
            "dtypes: category(1), float64(10712), int64(111)\n",
            "memory usage: 3.4 GB\n"
          ]
        }
      ]
    },
    {
      "cell_type": "markdown",
      "source": [
        "### Int dtypes"
      ],
      "metadata": {
        "id": "mRT4T9GKiTRN"
      }
    },
    {
      "cell_type": "code",
      "source": [
        "data.select_dtypes(include=[\"int64\"]).columns"
      ],
      "metadata": {
        "colab": {
          "base_uri": "https://localhost:8080/"
        },
        "id": "kTEDHLi4kKvh",
        "outputId": "6a37191a-c0ac-4103-f96f-1640ad502d7a"
      },
      "execution_count": null,
      "outputs": [
        {
          "output_type": "execute_result",
          "data": {
            "text/plain": [
              "Index(['HHIDPN', 'INW1', 'INW2', 'INW3', 'INW4', 'INW5', 'INW6', 'INW7',\n",
              "       'INW8', 'INW9',\n",
              "       ...\n",
              "       'R5IADL5H', 'R6IADL5H', 'R7IADL5H', 'R8IADL5H', 'R9IADL5H', 'R10IADL5H',\n",
              "       'R11IADL5H', 'R12IADL5H', 'R13IADL5H', 'R14IADL5H'],\n",
              "      dtype='object', length=111)"
            ]
          },
          "metadata": {},
          "execution_count": 20
        }
      ]
    },
    {
      "cell_type": "code",
      "source": [
        "data.select_dtypes(include=[\"int64\"]).isna().sum().max()"
      ],
      "metadata": {
        "colab": {
          "base_uri": "https://localhost:8080/"
        },
        "id": "Y9BjKHK2j9dw",
        "outputId": "dd0c9e1c-5783-43ab-dd5d-ad3e93bcc3d4"
      },
      "execution_count": null,
      "outputs": [
        {
          "output_type": "execute_result",
          "data": {
            "text/plain": [
              "0"
            ]
          },
          "metadata": {},
          "execution_count": 21
        }
      ]
    },
    {
      "cell_type": "markdown",
      "source": [
        "As we could have guessed, there is no particular problems with these columns."
      ],
      "metadata": {
        "id": "-Cxxj-xlkEDJ"
      }
    },
    {
      "cell_type": "markdown",
      "source": [
        "### Float dtypes"
      ],
      "metadata": {
        "id": "SqrmK02GmmlB"
      }
    },
    {
      "cell_type": "code",
      "source": [
        "data_unique = data.nunique()/data.count()"
      ],
      "metadata": {
        "id": "I5QvCnDVm10-"
      },
      "execution_count": null,
      "outputs": []
    },
    {
      "cell_type": "code",
      "source": [
        "number_of_classes = np.arange(0, 2, 0.01)\n",
        "percentages = []\n",
        "for n in number_of_classes:\n",
        "  percentages.append((data_unique<=n/100).sum())\n",
        "\n",
        "plt.plot(number_of_classes, percentages, 'x')\n",
        "\n",
        "x_ticks = [0.0, 0.25, 0.5, 0.75, 1.0, 1.25, 1.5, 1.75, 2.0]\n",
        "plt.xticks(x_ticks, [f\"{x}%\" for x in x_ticks])\n",
        "\n",
        "plt.xlabel(\"Unique values rate\", fontsize=12)\n",
        "plt.ylabel(\"Number of columns\", fontsize=12)\n",
        "plt.title(\"Number of columns w.r.t unique values rate\", fontsize=13)\n",
        "\n",
        "plt.grid()\n",
        "plt.show()"
      ],
      "metadata": {
        "colab": {
          "base_uri": "https://localhost:8080/",
          "height": 298
        },
        "id": "d-PpSjSXn9K8",
        "outputId": "4522d74d-9f15-4639-dd48-a16ff7305b2c"
      },
      "execution_count": null,
      "outputs": [
        {
          "output_type": "display_data",
          "data": {
            "text/plain": [
              "<Figure size 432x288 with 1 Axes>"
            ],
            "image/png": "[encoded data removed]"
          },
          "metadata": {
            "needs_background": "light"
          }
        }
      ]
    },
    {
      "cell_type": "markdown",
      "source": [
        "This graph let us reckon that the most majority of columns present categorical variables (as of the low number of different values).\n",
        "\n",
        "For future exploration of our database, we need to be aware of the type of each column. One may try to infer it with respect to the number of unique values each column take, and although this approach might prove itself right most of the time, it would cast numeric data to categorical ones or the other way around without any way for us to be informed of that. Hence, we will need to find another way to proceed. This will be the subject of the next notebook."
      ],
      "metadata": {
        "id": "R9MopJwFyAt2"
      }
    },
    {
      "cell_type": "markdown",
      "source": [
        "## Save the database"
      ],
      "metadata": {
        "id": "vZWCd-V3yW2g"
      }
    },
    {
      "cell_type": "code",
      "source": [
        "data.to_csv(\"first_drop_data.csv\", index=False)"
      ],
      "metadata": {
        "id": "MrNXFSDPzIv5"
      },
      "execution_count": null,
      "outputs": []
    }
  ]
}