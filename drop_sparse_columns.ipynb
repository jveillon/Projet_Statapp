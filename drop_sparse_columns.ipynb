{
  "nbformat": 4,
  "nbformat_minor": 0,
  "metadata": {
    "colab": {
      "provenance": [],
      "machine_shape": "hm",
      "collapsed_sections": [
        "5xwniIvY531W"
      ]
    },
    "kernelspec": {
      "name": "python3",
      "display_name": "Python 3"
    },
    "language_info": {
      "name": "python"
    },
    "gpuClass": "premium"
  },
  "cells": [
    {
      "cell_type": "markdown",
      "source": [
        "# Dropping of irrelevant or sparse columns"
      ],
      "metadata": {
        "id": "vptNZJvdx_t1"
      }
    },
    {
      "cell_type": "markdown",
      "source": [
        "The main goal of this notebook is to deal with missing values in the dataset, that forbid us to perform most of machine learning algorithms.\n",
        "\n",
        "We'll first import the database and get rid of some columns that only contain one value (thus providing no information whatsoever).\n",
        "We'll then drop columns that present more than 65% missing values (the threshold of 65% being chosen so that genetic variables, with a missing values ratio of 64%, are not overlooked)."
      ],
      "metadata": {
        "id": "FyPgb6FQzeu9"
      }
    },
    {
      "cell_type": "markdown",
      "source": [
        "## Libraries imports"
      ],
      "metadata": {
        "id": "-hseGhuOyENb"
      }
    },
    {
      "cell_type": "code",
      "execution_count": 1,
      "metadata": {
        "id": "WedXhY31r8LW"
      },
      "outputs": [],
      "source": [
        "# Basic imports\n",
        "import pandas as pd\n",
        "import numpy as np\n",
        "\n",
        "# Import to find the wave related to each variable\n",
        "import re\n",
        "\n",
        "# Imports to impute missing values\n",
        "from sklearn.impute import SimpleImputer\n",
        "import scipy\n",
        "\n",
        "import matplotlib.pyplot as plt\n",
        "import seaborn as sns"
      ]
    },
    {
      "cell_type": "markdown",
      "source": [
        "## Data import"
      ],
      "metadata": {
        "id": "QsRi-F93yudP"
      }
    },
    {
      "cell_type": "code",
      "source": [
        "data = pd.read_csv(\"/content/drive/MyDrive/Statapp/data_without_AE.csv\")"
      ],
      "metadata": {
        "colab": {
          "base_uri": "https://localhost:8080/"
        },
        "id": "3-Z9vAfIshSa",
        "outputId": "18c3c0da-f7ae-409e-d448-0b5d58c1051d"
      },
      "execution_count": 2,
      "outputs": [
        {
          "output_type": "stream",
          "name": "stderr",
          "text": [
            "<ipython-input-2-43685240b1fa>:1: DtypeWarning: Columns (1379,1380,1382,1388,1391,15103) have mixed types. Specify dtype option on import or set low_memory=False.\n",
            "  data = pd.read_csv(\"/content/drive/MyDrive/Statapp/data_without_AE.csv\")\n"
          ]
        }
      ]
    },
    {
      "cell_type": "code",
      "source": [
        "data.info(memory_usage=\"deep\")"
      ],
      "metadata": {
        "colab": {
          "base_uri": "https://localhost:8080/"
        },
        "id": "XUx8BhKmvVtd",
        "outputId": "bf3f3c8e-fe8b-44c9-9a5d-07351421e22d"
      },
      "execution_count": 3,
      "outputs": [
        {
          "output_type": "stream",
          "name": "stdout",
          "text": [
            "<class 'pandas.core.frame.DataFrame'>\n",
            "RangeIndex: 42233 entries, 0 to 42232\n",
            "Columns: 15104 entries, HHIDPN to genetic_Section_A_or_E\n",
            "dtypes: float64(14977), int64(111), object(16)\n",
            "memory usage: 4.8 GB\n"
          ]
        }
      ]
    },
    {
      "cell_type": "code",
      "source": [
        "data.head()"
      ],
      "metadata": {
        "colab": {
          "base_uri": "https://localhost:8080/",
          "height": 299
        },
        "id": "rsj85N-kwKcB",
        "outputId": "9de175c7-780c-4bbe-d4e6-3040ed47b743"
      },
      "execution_count": 4,
      "outputs": [
        {
          "output_type": "execute_result",
          "data": {
            "text/plain": [
              "     HHIDPN  S1HHIDPN  R1MSTAT  R1MPART  S1BMONTH  S1BYEAR  S1BDATE  S1BFLAG  \\\n",
              "0      1010       0.0      5.0      0.0       NaN      NaN      NaN      NaN   \n",
              "1      2010       0.0      7.0      0.0       NaN      NaN      NaN      NaN   \n",
              "2      3010    3020.0      1.0      0.0       9.0   1938.0  -7778.0      0.0   \n",
              "3      3020    3010.0      1.0      0.0       1.0   1936.0  -8752.0      0.0   \n",
              "4  10001010       0.0      8.0      0.0       NaN      NaN      NaN      NaN   \n",
              "\n",
              "   S1COHBYR  S1HRSAMP  ...  genetic_4_PP_COGENT17  genetic_4_SBP_COGENT17  \\\n",
              "0       NaN       NaN  ...                    NaN                     NaN   \n",
              "1       NaN       NaN  ...                    NaN                     NaN   \n",
              "2       3.0       1.0  ...               -0.58662                -0.66936   \n",
              "3       3.0       1.0  ...               -0.06204                -0.70205   \n",
              "4       NaN       NaN  ...                    NaN                     NaN   \n",
              "\n",
              "   genetic_4_EGFR_CKDGEN19  genetic_4_EGFRTE_CKDGEN19  \\\n",
              "0                      NaN                        NaN   \n",
              "1                      NaN                        NaN   \n",
              "2                  1.04423                    1.02390   \n",
              "3                 -1.06050                   -1.08282   \n",
              "4                      NaN                        NaN   \n",
              "\n",
              "   genetic_4_EA3_W23_SSGAC18  genetic_4_HBA1CAA_MAGIC17  \\\n",
              "0                        NaN                        NaN   \n",
              "1                        NaN                        NaN   \n",
              "2                    1.53372                    0.47688   \n",
              "3                    0.85439                   -0.62488   \n",
              "4                        NaN                        NaN   \n",
              "\n",
              "   genetic_4_HBA1CEA_MAGIC17  genetic_4_GCOG2_CHARGE18  genetic_VERSION  \\\n",
              "0                        NaN                       NaN              NaN   \n",
              "1                        NaN                       NaN              NaN   \n",
              "2                   -1.28083                  -1.51568              4.3   \n",
              "3                   -1.29031                   0.40118              4.3   \n",
              "4                        NaN                       NaN              NaN   \n",
              "\n",
              "   genetic_Section_A_or_E  \n",
              "0                     NaN  \n",
              "1                     NaN  \n",
              "2                       E  \n",
              "3                       E  \n",
              "4                     NaN  \n",
              "\n",
              "[5 rows x 15104 columns]"
            ],
            "text/html": [
              "\n",
              "  <div id=\"df-2b342577-214f-4d33-922a-534b61df3a64\">\n",
              "    <div class=\"colab-df-container\">\n",
              "      <div>\n",
              "<style scoped>\n",
              "    .dataframe tbody tr th:only-of-type {\n",
              "        vertical-align: middle;\n",
              "    }\n",
              "\n",
              "    .dataframe tbody tr th {\n",
              "        vertical-align: top;\n",
              "    }\n",
              "\n",
              "    .dataframe thead th {\n",
              "        text-align: right;\n",
              "    }\n",
              "</style>\n",
              "<table border=\"1\" class=\"dataframe\">\n",
              "  <thead>\n",
              "    <tr style=\"text-align: right;\">\n",
              "      <th></th>\n",
              "      <th>HHIDPN</th>\n",
              "      <th>S1HHIDPN</th>\n",
              "      <th>R1MSTAT</th>\n",
              "      <th>R1MPART</th>\n",
              "      <th>S1BMONTH</th>\n",
              "      <th>S1BYEAR</th>\n",
              "      <th>S1BDATE</th>\n",
              "      <th>S1BFLAG</th>\n",
              "      <th>S1COHBYR</th>\n",
              "      <th>S1HRSAMP</th>\n",
              "      <th>...</th>\n",
              "      <th>genetic_4_PP_COGENT17</th>\n",
              "      <th>genetic_4_SBP_COGENT17</th>\n",
              "      <th>genetic_4_EGFR_CKDGEN19</th>\n",
              "      <th>genetic_4_EGFRTE_CKDGEN19</th>\n",
              "      <th>genetic_4_EA3_W23_SSGAC18</th>\n",
              "      <th>genetic_4_HBA1CAA_MAGIC17</th>\n",
              "      <th>genetic_4_HBA1CEA_MAGIC17</th>\n",
              "      <th>genetic_4_GCOG2_CHARGE18</th>\n",
              "      <th>genetic_VERSION</th>\n",
              "      <th>genetic_Section_A_or_E</th>\n",
              "    </tr>\n",
              "  </thead>\n",
              "  <tbody>\n",
              "    <tr>\n",
              "      <th>0</th>\n",
              "      <td>1010</td>\n",
              "      <td>0.0</td>\n",
              "      <td>5.0</td>\n",
              "      <td>0.0</td>\n",
              "      <td>NaN</td>\n",
              "      <td>NaN</td>\n",
              "      <td>NaN</td>\n",
              "      <td>NaN</td>\n",
              "      <td>NaN</td>\n",
              "      <td>NaN</td>\n",
              "      <td>...</td>\n",
              "      <td>NaN</td>\n",
              "      <td>NaN</td>\n",
              "      <td>NaN</td>\n",
              "      <td>NaN</td>\n",
              "      <td>NaN</td>\n",
              "      <td>NaN</td>\n",
              "      <td>NaN</td>\n",
              "      <td>NaN</td>\n",
              "      <td>NaN</td>\n",
              "      <td>NaN</td>\n",
              "    </tr>\n",
              "    <tr>\n",
              "      <th>1</th>\n",
              "      <td>2010</td>\n",
              "      <td>0.0</td>\n",
              "      <td>7.0</td>\n",
              "      <td>0.0</td>\n",
              "      <td>NaN</td>\n",
              "      <td>NaN</td>\n",
              "      <td>NaN</td>\n",
              "      <td>NaN</td>\n",
              "      <td>NaN</td>\n",
              "      <td>NaN</td>\n",
              "      <td>...</td>\n",
              "      <td>NaN</td>\n",
              "      <td>NaN</td>\n",
              "      <td>NaN</td>\n",
              "      <td>NaN</td>\n",
              "      <td>NaN</td>\n",
              "      <td>NaN</td>\n",
              "      <td>NaN</td>\n",
              "      <td>NaN</td>\n",
              "      <td>NaN</td>\n",
              "      <td>NaN</td>\n",
              "    </tr>\n",
              "    <tr>\n",
              "      <th>2</th>\n",
              "      <td>3010</td>\n",
              "      <td>3020.0</td>\n",
              "      <td>1.0</td>\n",
              "      <td>0.0</td>\n",
              "      <td>9.0</td>\n",
              "      <td>1938.0</td>\n",
              "      <td>-7778.0</td>\n",
              "      <td>0.0</td>\n",
              "      <td>3.0</td>\n",
              "      <td>1.0</td>\n",
              "      <td>...</td>\n",
              "      <td>-0.58662</td>\n",
              "      <td>-0.66936</td>\n",
              "      <td>1.04423</td>\n",
              "      <td>1.02390</td>\n",
              "      <td>1.53372</td>\n",
              "      <td>0.47688</td>\n",
              "      <td>-1.28083</td>\n",
              "      <td>-1.51568</td>\n",
              "      <td>4.3</td>\n",
              "      <td>E</td>\n",
              "    </tr>\n",
              "    <tr>\n",
              "      <th>3</th>\n",
              "      <td>3020</td>\n",
              "      <td>3010.0</td>\n",
              "      <td>1.0</td>\n",
              "      <td>0.0</td>\n",
              "      <td>1.0</td>\n",
              "      <td>1936.0</td>\n",
              "      <td>-8752.0</td>\n",
              "      <td>0.0</td>\n",
              "      <td>3.0</td>\n",
              "      <td>1.0</td>\n",
              "      <td>...</td>\n",
              "      <td>-0.06204</td>\n",
              "      <td>-0.70205</td>\n",
              "      <td>-1.06050</td>\n",
              "      <td>-1.08282</td>\n",
              "      <td>0.85439</td>\n",
              "      <td>-0.62488</td>\n",
              "      <td>-1.29031</td>\n",
              "      <td>0.40118</td>\n",
              "      <td>4.3</td>\n",
              "      <td>E</td>\n",
              "    </tr>\n",
              "    <tr>\n",
              "      <th>4</th>\n",
              "      <td>10001010</td>\n",
              "      <td>0.0</td>\n",
              "      <td>8.0</td>\n",
              "      <td>0.0</td>\n",
              "      <td>NaN</td>\n",
              "      <td>NaN</td>\n",
              "      <td>NaN</td>\n",
              "      <td>NaN</td>\n",
              "      <td>NaN</td>\n",
              "      <td>NaN</td>\n",
              "      <td>...</td>\n",
              "      <td>NaN</td>\n",
              "      <td>NaN</td>\n",
              "      <td>NaN</td>\n",
              "      <td>NaN</td>\n",
              "      <td>NaN</td>\n",
              "      <td>NaN</td>\n",
              "      <td>NaN</td>\n",
              "      <td>NaN</td>\n",
              "      <td>NaN</td>\n",
              "      <td>NaN</td>\n",
              "    </tr>\n",
              "  </tbody>\n",
              "</table>\n",
              "<p>5 rows × 15104 columns</p>\n",
              "</div>\n",
              "      <button class=\"colab-df-convert\" onclick=\"convertToInteractive('df-2b342577-214f-4d33-922a-534b61df3a64')\"\n",
              "              title=\"Convert this dataframe to an interactive table.\"\n",
              "              style=\"display:none;\">\n",
              "        \n",
              "  <svg xmlns=\"http://www.w3.org/2000/svg\" height=\"24px\"viewBox=\"0 0 24 24\"\n",
              "       width=\"24px\">\n",
              "    <path d=\"M0 0h24v24H0V0z\" fill=\"none\"/>\n",
              "    <path d=\"M18.56 5.44l.94 2.06.94-2.06 2.06-.94-2.06-.94-.94-2.06-.94 2.06-2.06.94zm-11 1L8.5 8.5l.94-2.06 2.06-.94-2.06-.94L8.5 2.5l-.94 2.06-2.06.94zm10 10l.94 2.06.94-2.06 2.06-.94-2.06-.94-.94-2.06-.94 2.06-2.06.94z\"/><path d=\"M17.41 7.96l-1.37-1.37c-.4-.4-.92-.59-1.43-.59-.52 0-1.04.2-1.43.59L10.3 9.45l-7.72 7.72c-.78.78-.78 2.05 0 2.83L4 21.41c.39.39.9.59 1.41.59.51 0 1.02-.2 1.41-.59l7.78-7.78 2.81-2.81c.8-.78.8-2.07 0-2.86zM5.41 20L4 18.59l7.72-7.72 1.47 1.35L5.41 20z\"/>\n",
              "  </svg>\n",
              "      </button>\n",
              "      \n",
              "  <style>\n",
              "    .colab-df-container {\n",
              "      display:flex;\n",
              "      flex-wrap:wrap;\n",
              "      gap: 12px;\n",
              "    }\n",
              "\n",
              "    .colab-df-convert {\n",
              "      background-color: #E8F0FE;\n",
              "      border: none;\n",
              "      border-radius: 50%;\n",
              "      cursor: pointer;\n",
              "      display: none;\n",
              "      fill: #1967D2;\n",
              "      height: 32px;\n",
              "      padding: 0 0 0 0;\n",
              "      width: 32px;\n",
              "    }\n",
              "\n",
              "    .colab-df-convert:hover {\n",
              "      background-color: #E2EBFA;\n",
              "      box-shadow: 0px 1px 2px rgba(60, 64, 67, 0.3), 0px 1px 3px 1px rgba(60, 64, 67, 0.15);\n",
              "      fill: #174EA6;\n",
              "    }\n",
              "\n",
              "    [theme=dark] .colab-df-convert {\n",
              "      background-color: #3B4455;\n",
              "      fill: #D2E3FC;\n",
              "    }\n",
              "\n",
              "    [theme=dark] .colab-df-convert:hover {\n",
              "      background-color: #434B5C;\n",
              "      box-shadow: 0px 1px 3px 1px rgba(0, 0, 0, 0.15);\n",
              "      filter: drop-shadow(0px 1px 2px rgba(0, 0, 0, 0.3));\n",
              "      fill: #FFFFFF;\n",
              "    }\n",
              "  </style>\n",
              "\n",
              "      <script>\n",
              "        const buttonEl =\n",
              "          document.querySelector('#df-2b342577-214f-4d33-922a-534b61df3a64 button.colab-df-convert');\n",
              "        buttonEl.style.display =\n",
              "          google.colab.kernel.accessAllowed ? 'block' : 'none';\n",
              "\n",
              "        async function convertToInteractive(key) {\n",
              "          const element = document.querySelector('#df-2b342577-214f-4d33-922a-534b61df3a64');\n",
              "          const dataTable =\n",
              "            await google.colab.kernel.invokeFunction('convertToInteractive',\n",
              "                                                     [key], {});\n",
              "          if (!dataTable) return;\n",
              "\n",
              "          const docLinkHtml = 'Like what you see? Visit the ' +\n",
              "            '<a target=\"_blank\" href=https://colab.research.google.com/notebooks/data_table.ipynb>data table notebook</a>'\n",
              "            + ' to learn more about interactive tables.';\n",
              "          element.innerHTML = '';\n",
              "          dataTable['output_type'] = 'display_data';\n",
              "          await google.colab.output.renderOutput(dataTable, element);\n",
              "          const docLink = document.createElement('div');\n",
              "          docLink.innerHTML = docLinkHtml;\n",
              "          element.appendChild(docLink);\n",
              "        }\n",
              "      </script>\n",
              "    </div>\n",
              "  </div>\n",
              "  "
            ]
          },
          "metadata": {},
          "execution_count": 4
        }
      ]
    },
    {
      "cell_type": "markdown",
      "source": [
        "## Drop columns corresponding to the spouse of the respondent"
      ],
      "metadata": {
        "id": "hV_7mh-dWzy4"
      }
    },
    {
      "cell_type": "markdown",
      "source": [
        "A first glance at the database show that variables mainly concern the respondent (variable name starts with an 'R'), his spouse (variable name starts with an 'S') or his household (variable name starts with an 'H')."
      ],
      "metadata": {
        "id": "3DNITP81XaUD"
      }
    },
    {
      "cell_type": "code",
      "source": [
        "starting_characters = {}\n",
        "other_columns = []\n",
        "for col in data.columns:\n",
        "  if col[1] in \"123456789\":\n",
        "    if col[0] not in starting_characters.keys():\n",
        "      starting_characters[col[0]] = 1\n",
        "    else:\n",
        "      starting_characters[col[0]] += 1\n",
        "  else:\n",
        "    other_columns.append(col)\n",
        "\n",
        "print(f\"Dataset has {data.shape[1]} columns, of which:\\n >>> {len([col for col in data.columns if 'genetic_' in col])} are genetic variables;\\n >>> {sum(starting_characters.values())} start with a character in {starting_characters}.\")\n",
        "print(\"Here are the other columns:\\n\" + str(other_columns))"
      ],
      "metadata": {
        "colab": {
          "base_uri": "https://localhost:8080/"
        },
        "id": "VoooY3Syyx0S",
        "outputId": "98a3f1bd-80c6-4abc-93ce-638833dab7a1"
      },
      "execution_count": 5,
      "outputs": [
        {
          "output_type": "stream",
          "name": "stdout",
          "text": [
            "Dataset has 15104 columns, of which:\n",
            " >>> 85 are genetic variables;\n",
            " >>> 14684 start with a character in {'S': 7165, 'R': 6614, 'H': 905}.\n",
            "Here are the other columns:\n",
            "['HHIDPN', 'INW1', 'INW2', 'INW3', 'INW4', 'INW5', 'INW6', 'INW7', 'INW8', 'INW9', 'INW10', 'INW11', 'INW12', 'INW13', 'INW14', 'RASPID1', 'RASPID2', 'RASPID3', 'RASPID4', 'RASPCT', 'RAOAHDID', 'RAOHRSID', 'HHID', 'RAOVRLAP', 'HACOHORT', 'RAGENDER', 'RAHISPAN', 'RARACEM', 'RABMONTH', 'RABYEAR', 'RABDATE', 'RABFLAG', 'RADMONTH', 'RADYEAR', 'RADDATE', 'RADSRC', 'RADTIMTDTH', 'RADAGE_M', 'RADAGE_Y', 'RAEDYRS', 'RAEDEGRM', 'RAEDUC', 'RABPLACF', 'RARELIG', 'RAVETRN', 'RAMEDUC', 'RAFEDUC', 'RABPLACE', 'REXITWV', 'REPEXITWV1', 'REPEXITWV2', 'REPEXITWV3', 'RAWTSAMP', 'RAESTRAT', 'RAEHSAMP', 'RAAHDSMP', 'RAHRSAMP', 'RACOHBYR', 'RAHHIDPN', 'HAOAHDHH', 'RAOVRAYR', 'PN', 'REXITYR', 'REPLDEATH', 'REXPDEATH', 'RET2DEATH', 'RECENDIV', 'RECENREG', 'REPROXYSP', 'REPROXYREL', 'RESHHIDPN', 'REMSTAT', 'REMPART', 'REMSTATH', 'REIWBEG', 'REIWMID', 'REIWEND', 'REIWMIDF', 'RESPAGEM_B', 'RESPAGEM_M', 'RESPAGEM_E', 'RESPAGEY_B', 'RESPAGEY_M', 'RESPAGEY_E', 'RASLEEPEF', 'RAHIBPEF', 'RADIABEF', 'RACANCREF', 'RALUNGEF', 'RAHEARTEF', 'RASTROKEF', 'RAPSYCHEF', 'RAARTHREF', 'RAMEMRYEF', 'RAALZHEEF', 'RADEMENEF', 'REPRMEM', 'RELOST', 'REWANDER', 'REALONE', 'REHALUC', 'RENRSHOM', 'RENRSTIM', 'REDOCTOR', 'REDOCTIM', 'REDRUGS', 'REHOMCAR', 'RENRSNIT', 'RENHMLIV', 'RENHMMVM', 'RENHMMVY', 'REHOSP', 'REHSPTIM', 'REHSPNIT', 'RESPCFAC', 'RENHMDAY', 'REHPCSTY', 'REHPCTIM', 'REHPCNIT', 'REOOPMDO', 'REOOPMDOF', 'REOOPMD', 'REOOPMDF', 'RASSRECV', 'RASSAGEM', 'RASSAGEB', 'SASSRECV', 'SASSAGEM', 'SASSAGEB', 'RADTYPE1', 'RADTYPE2', 'RADTYPE3', 'RADTYPE4', 'RADTYPE5', 'RADTYPE6', 'RADTYPE7', 'RADTYPE8', 'RADTYPE9', 'RADTYPE10', 'RADTYPE11', 'RADAPPM1', 'RADAPPM2', 'RADAPPM3', 'RADAPPM4', 'RADAPPM5', 'RADAPPM6', 'RADAPPM7', 'RADAPPM8', 'RADAPPM9', 'RADAPPM10', 'RADAPPM11', 'RADAPPY1', 'RADAPPY2', 'RADAPPY3', 'RADAPPY4', 'RADAPPY5', 'RADAPPY6', 'RADAPPY7', 'RADAPPY8', 'RADAPPY9', 'RADAPPY10', 'RADAPPY11', 'RADREAM1', 'RADREAM2', 'RADREAM3', 'RADREAM4', 'RADREAM5', 'RADREAM6', 'RADREAM7', 'RADREAM8', 'RADREAM9', 'RADREAM10', 'RADREAM11', 'RADREAY1', 'RADREAY2', 'RADREAY3', 'RADREAY4', 'RADREAY5', 'RADREAY6', 'RADREAY7', 'RADREAY8', 'RADREAY9', 'RADREAY10', 'RADREAY11', 'RADRECM1', 'RADRECM2', 'RADRECM3', 'RADRECM4', 'RADRECM5', 'RADRECM6', 'RADRECM7', 'RADRECM8', 'RADRECM9', 'RADRECM10', 'RADRECM11', 'RADRECY1', 'RADRECY2', 'RADRECY3', 'RADRECY4', 'RADRECY5', 'RADRECY6', 'RADRECY7', 'RADRECY8', 'RADRECY9', 'RADRECY10', 'RADRECY11', 'RADENDM1', 'RADENDM2', 'RADENDM3', 'RADENDM4', 'RADENDM5', 'RADENDM6', 'RADENDM7', 'RADENDM8', 'RADENDM9', 'RADENDM10', 'RADENDM11', 'RADENDY1', 'RADENDY2', 'RADENDY3', 'RADENDY4', 'RADENDY5', 'RADENDY6', 'RADENDY7', 'RADENDY8', 'RADENDY9', 'RADENDY10', 'RADENDY11', 'RADSTAT1', 'RADSTAT2', 'RADSTAT3', 'RADSTAT4', 'RADSTAT5', 'RADSTAT6', 'RADSTAT7', 'RADSTAT8', 'RADSTAT9', 'RADSTAT10', 'RADSTAT11', 'RADNEPI', 'RADAPPD1', 'RADAPPD2', 'RADAPPD3', 'RADAPPD4', 'RADAPPD5', 'RADAPPD6', 'RADAPPD7', 'RADAPPD8', 'RADAPPD9', 'RADAPPD10', 'RADAPPD11', 'RADREAD1', 'RADREAD2', 'RADREAD3', 'RADREAD4', 'RADREAD5', 'RADREAD6', 'RADREAD7', 'RADREAD8', 'RADREAD9', 'RADREAD10', 'RADREAD11', 'RADRECD1', 'RADRECD2', 'RADRECD3', 'RADRECD4', 'RADRECD5', 'RADRECD6', 'RADRECD7', 'RADRECD8', 'RADRECD9', 'RADRECD10', 'RADRECD11', 'RADENDD1', 'RADENDD2', 'RADENDD3', 'RADENDD4', 'RADENDD5', 'RADENDD6', 'RADENDD7', 'RADENDD8', 'RADENDD9', 'RADENDD10', 'RADENDD11', 'VERSION', 'REGOVMR', 'REGOVMDS', 'REGOVMDD', 'REGOVVA', 'REHIGOV', 'REMRPREM', 'RECOVR', 'RECOVS', 'REHESRC3', 'REHESRC2', 'REHESRC1', 'REPRPCNT', 'REPRPRM1', 'REPRPRM2', 'REPRPRM3', 'REPRSRC1', 'REPRSRC2', 'REPRSRC3', 'REHILTC', 'RETYLTC', 'RELTCPRM', 'RAEVBRN', 'RAEVBRNF', 'REDRESSH', 'REWALKRH', 'REBATHH', 'REEATH', 'REBEDH', 'RETOILTH', 'REMEALSH', 'RESHOPH', 'REPHONEH', 'REMEDSH', 'REDRESST', 'REWALKRT', 'REBATHT', 'REEATT', 'REBEDT', 'RETOILTT', 'REMEALST', 'RESHOPT', 'REPHONET', 'REMEDST', 'REBEDRID', 'REMONEYH', 'RESUPER', 'READL5H', 'READL6H', 'REIADL5H', 'FILEVER', 'genetic_PC1_5A', 'genetic_PC1_5B', 'genetic_PC1_5C', 'genetic_PC1_5D', 'genetic_PC1_5E', 'genetic_PC6_10A', 'genetic_PC6_10B', 'genetic_PC6_10C', 'genetic_PC6_10D', 'genetic_PC6_10E', 'genetic_4_GENCOG_CHARGE15', 'genetic_4_BMI_GIANT15', 'genetic_4_HEIGHT_GIANT14', 'genetic_4_SCZ_PGC14', 'genetic_4_EDU2_SSGAC16', 'genetic_4_EVRSMK_TAG10', 'genetic_4_AD_IGAP13', 'genetic_4_AD2_IGAP13', 'genetic_4_WC_GIANT15', 'genetic_4_WHR_GIANT15', 'genetic_4_NEUROT_SSGAC16', 'genetic_4_WELLB_SSGAC16', 'genetic_4_DEPSYMP_SSGAC16', 'genetic_4_CD_CARDIOGRAM11', 'genetic_4_MI_CARDIOGRAM15', 'genetic_4_CORT_CORNET14', 'genetic_4_T2D_DIAGRAM12', 'genetic_4_BIP_PGC11', 'genetic_4_ADHD_PGC17', 'genetic_4_ADHD_PGC10', 'genetic_4_XDISORDER_PGC13', 'genetic_4_MENA_REPROGEN14', 'genetic_4_MENO_REPROGEN15', 'genetic_4_MDD_PGC13', 'genetic_4_CPD_TAG10', 'genetic_4_EXTRAVER_GPC16', 'genetic_4_AUTISM_PGC17', 'genetic_4_LONG_CHARGE15', 'genetic_4_AB_BROAD17', 'genetic_4_EDU3_SSGAC18', 'genetic_4_OCD_IOCDF17', 'genetic_4_AFBC_SOCGEN16', 'genetic_4_AFBF_SOCGEN16', 'genetic_4_AFBM_SOCGEN16', 'genetic_4_NEBC_SOCGEN16', 'genetic_4_NEBF_SOCGEN16', 'genetic_4_NEBM_SOCGEN16', 'genetic_4_MDD2_PGC18', 'genetic_4_PTSDAA_PGC18', 'genetic_4_PTSDEA_PGC18', 'genetic_4_PTSDC_PGC18', 'genetic_4_HDL_GLGC13', 'genetic_4_LDL_GLGC13', 'genetic_4_TC_GLGC13', 'genetic_4_ANXFS_ANGST16', 'genetic_4_ANXCC_ANGST16', 'genetic_4_BUN_CKDGEN19', 'genetic_4_BUNTE_CKDGEN19', 'genetic_4_CKD_CKDGEN19', 'genetic_4_CKDTE_CKDGEN19', 'genetic_4_DBP_COGENT17', 'genetic_4_BMI2_GIANT18', 'genetic_4_HEIGHT2_GIANT18', 'genetic_4_AI_GSCAN19', 'genetic_4_CPD_GSCAN19', 'genetic_4_DPW_GSCAN19', 'genetic_4_SC_GSCAN19', 'genetic_4_SI_GSCAN19', 'genetic_4_HTN_COGENT17', 'genetic_4_CANNABIS_ICC18', 'genetic_4_GWAD2NA_IGAP19', 'genetic_4_01AD2NA_IGAP19', 'genetic_4_GWAD2WA_IGAP19', 'genetic_4_01AD2WA_IGAP19', 'genetic_4_ALC_PGC18', 'genetic_4_PP_COGENT17', 'genetic_4_SBP_COGENT17', 'genetic_4_EGFR_CKDGEN19', 'genetic_4_EGFRTE_CKDGEN19', 'genetic_4_EA3_W23_SSGAC18', 'genetic_4_HBA1CAA_MAGIC17', 'genetic_4_HBA1CEA_MAGIC17', 'genetic_4_GCOG2_CHARGE18', 'genetic_VERSION', 'genetic_Section_A_or_E']\n"
          ]
        }
      ]
    },
    {
      "cell_type": "code",
      "source": [
        "columns_spouse = [col for col in data.columns if col[0] == \"S\" and col[1] in \"123456789\"]"
      ],
      "metadata": {
        "id": "uCtXh_zRW5ue"
      },
      "execution_count": 6,
      "outputs": []
    },
    {
      "cell_type": "code",
      "source": [
        "# Spouses who also are respondents\n",
        "list_of_spouses = set()\n",
        "for wave in range(1, 15):\n",
        "  wave_spouses = set(data[f\"S{wave}HHIDPN\"].dropna().unique())\n",
        "  list_of_spouses.update(wave_spouses)\n",
        "\n",
        "count=0\n",
        "for spouse in list_of_spouses:\n",
        "  if spouse in data[\"HHIDPN\"].values:\n",
        "    count+=1\n",
        "\n",
        "print(f\"Among the {len(list_of_spouses)} spouses, {count} of them also happen to be respondents.\")"
      ],
      "metadata": {
        "colab": {
          "base_uri": "https://localhost:8080/"
        },
        "id": "Zk1a1w4zYFNG",
        "outputId": "cd738e77-dd3c-4b5f-c6ba-5357c1db25a4"
      },
      "execution_count": 7,
      "outputs": [
        {
          "output_type": "stream",
          "name": "stdout",
          "text": [
            "Among the 31655 spouses, 30272 of them also happen to be respondents.\n"
          ]
        }
      ]
    },
    {
      "cell_type": "markdown",
      "source": [
        "We see that among the 31655 spouses, 30272 are also respondents. This means that at the cost of 1383 individuals, we can delete 7165 columns.\n",
        "\n",
        "We shall then proceed."
      ],
      "metadata": {
        "id": "TgSUKjMW2iwo"
      }
    },
    {
      "cell_type": "code",
      "source": [
        "data = data.drop(columns = columns_spouse)\n"
      ],
      "metadata": {
        "id": "FQmDdn20cNtW"
      },
      "execution_count": 8,
      "outputs": []
    },
    {
      "cell_type": "code",
      "source": [
        "data.info(memory_usage=\"deep\")"
      ],
      "metadata": {
        "colab": {
          "base_uri": "https://localhost:8080/"
        },
        "id": "-9zndfVY4Mzo",
        "outputId": "df0c8d2e-ed2a-4752-ca47-a11d2377bd63"
      },
      "execution_count": 9,
      "outputs": [
        {
          "output_type": "stream",
          "name": "stdout",
          "text": [
            "<class 'pandas.core.frame.DataFrame'>\n",
            "RangeIndex: 42233 entries, 0 to 42232\n",
            "Columns: 7939 entries, HHIDPN to genetic_Section_A_or_E\n",
            "dtypes: float64(7812), int64(111), object(16)\n",
            "memory usage: 2.5 GB\n"
          ]
        }
      ]
    },
    {
      "cell_type": "markdown",
      "source": [
        "## Track temporal variables and delete sparse columns"
      ],
      "metadata": {
        "id": "k4ty5QZmNKIj"
      }
    },
    {
      "cell_type": "markdown",
      "source": [
        "We want to delete columns with a missing values rate too high.\n",
        "\n",
        "If we happened to just count the number of missing values in each row without any further consideration, we would miss the fact that some values are missing not because they were not recorded, but because it would make no sense for them to be.\n",
        "\n",
        "To avoid this problem, we will check, when a value is missing, if the respondent had been interviewed during the considered wage or not: if he hasn't been interviewed, then we don't take the related missing values in consideration."
      ],
      "metadata": {
        "id": "l1-WAJzwraJ9"
      }
    },
    {
      "cell_type": "code",
      "source": [
        "# We check how many waves are available in the database.\n",
        "for col in data.columns:\n",
        "  if \"INW\" in col:\n",
        "    print(col, end=\" ; \")"
      ],
      "metadata": {
        "colab": {
          "base_uri": "https://localhost:8080/"
        },
        "id": "5Ma9xs6FG2Ah",
        "outputId": "0f44d0b0-05d1-41ea-e86f-43bce8c9f297"
      },
      "execution_count": 10,
      "outputs": [
        {
          "output_type": "stream",
          "name": "stdout",
          "text": [
            "INW1 ; INW2 ; INW3 ; INW4 ; INW5 ; INW6 ; INW7 ; INW8 ; INW9 ; INW10 ; INW11 ; INW12 ; INW13 ; INW14 ; "
          ]
        }
      ]
    },
    {
      "cell_type": "code",
      "source": [
        "# To explore with more details the number of columns with a given missing values rate, we will plot the associated curve.\n",
        "def count_columns(missing_values_thresholds, data):\n",
        "  \"\"\"\n",
        "  Return a numpy array with, for each threshold, the number of columns in 'data'\n",
        "  that present a missing values rate greater than 'threshold'\n",
        "  \"\"\"\n",
        "  array_of_counts = np.zeros(len(thresholds))\n",
        "\n",
        "  for i in range(len(thresholds)):\n",
        "    threshold = thresholds[i]\n",
        "\n",
        "    # We look for columns with a missing values rate greater than 'threshold'.\n",
        "    criteria = data.isna().sum()/data.shape[0] >= threshold # This criteria is True for columns with too much missing values.\n",
        "    array_of_counts[i] += len(criteria.index[criteria])\n",
        "  \n",
        "  return array_of_counts\n",
        "\n",
        "thresholds = np.arange(0, 1, 0.05)\n",
        "columns_distribution = np.zeros(len(thresholds))\n",
        "\n",
        "regex = re.compile(\"[0-9]+\")\n",
        "\n",
        "# First, we proceed for each waves-related variables\n",
        "number_of_such_variables = 0\n",
        "for wave in range(1, 15):\n",
        "  # We collect all columns related to current wave.\n",
        "  wave_columns = [col for col in data.columns if len(regex.findall(col)) != 0 and regex.findall(col)[0] == str(wave)]\n",
        "  wave_data = data.loc[data[f\"INW{wave}\"] == 1, wave_columns]\n",
        "\n",
        "  # We now evaluate the distribution of columns for each threshold.\n",
        "  columns_distribution_for_this_wave = count_columns(thresholds, wave_data)\n",
        "  columns_distribution += columns_distribution_for_this_wave\n",
        "\n",
        "  # Then we plot it.\n",
        "  plt.plot(thresholds, columns_distribution_for_this_wave/columns_distribution_for_this_wave[0], label=f\"wave {wave}\", ls=\"-\"*(wave//10+1))\n",
        "\n",
        "  # This is pure verbose.\n",
        "  number_of_such_variables += wave_data.shape[1]\n",
        "  print(f\"wave {wave}: {wave_data.shape[1]} ; overall: {number_of_such_variables}\")\n",
        "\n",
        "# Second, we proceed for all the other variables.\n",
        "columns_of_interest = [col for col in data.columns if len(regex.findall(col)) == 0]\n",
        "data_of_interest = data[columns_of_interest]\n",
        "\n",
        "# We now evaluate the distribution of columns for each threshold.\n",
        "columns_distribution_for_these_data = count_columns(thresholds, data_of_interest)\n",
        "columns_distribution += columns_distribution_for_these_data\n",
        "\n",
        "# Then we plot it.\n",
        "plt.plot(thresholds, columns_distribution_for_these_data/columns_distribution_for_these_data[0], label=\"others\", ls = \"--\")\n",
        "\n",
        "plt.xticks([0.0, 0.1, 0.2, 0.3, 0.4, 0.5, 0.6, 0.7, 0.8, 0.9, 1.0], [f\"{x*10}%\" for x in range(0, 11)])\n",
        "plt.yticks([0.0, 0.2, 0.4, 0.6, 0.8, 1.0], [f\"{x*20}%\" for x in range(0, 6)])\n",
        "\n",
        "plt.xlabel(\"Missing values ratio\", fontsize=12)\n",
        "plt.ylabel(\"Columns ratio\", fontsize=12)\n",
        "plt.title(\"Distribution of columns w.r.t missing values ratio\", fontsize=13)\n",
        "\n",
        "plt.legend(bbox_to_anchor=(1.05, 1.0))\n",
        "plt.tight_layout()\n",
        "\n",
        "plt.grid()\n",
        "plt.show() "
      ],
      "metadata": {
        "colab": {
          "base_uri": "https://localhost:8080/",
          "height": 730
        },
        "id": "THcS_jvl0A5S",
        "outputId": "78cbc6c9-b70a-40aa-b0cf-d302a45b8f43"
      },
      "execution_count": 11,
      "outputs": [
        {
          "output_type": "stream",
          "name": "stdout",
          "text": [
            "wave 1: 392 ; overall: 392\n",
            "wave 2: 505 ; overall: 897\n",
            "wave 3: 504 ; overall: 1401\n",
            "wave 4: 574 ; overall: 1975\n",
            "wave 5: 533 ; overall: 2508\n",
            "wave 6: 559 ; overall: 3067\n",
            "wave 7: 560 ; overall: 3627\n",
            "wave 8: 583 ; overall: 4210\n",
            "wave 9: 591 ; overall: 4801\n",
            "wave 10: 610 ; overall: 5411\n",
            "wave 11: 602 ; overall: 6013\n",
            "wave 12: 586 ; overall: 6599\n",
            "wave 13: 601 ; overall: 7200\n",
            "wave 14: 590 ; overall: 7790\n"
          ]
        },
        {
          "output_type": "display_data",
          "data": {
            "text/plain": [
              "<Figure size 640x480 with 1 Axes>"
            ],
            "image/png": "[encoded data removed]"
          },
          "metadata": {}
        }
      ]
    },
    {
      "cell_type": "markdown",
      "source": [
        "The graph above is meant to be interpreted like this: among the variables collected from the interviews in wave 2, 40% of them present more than 45% missing values.\n",
        "\n",
        "Overall, every waves present an identical distribution.\n",
        "The one curve that distinguishes itself is the 'others' curve: it looks like the number of columns of this category which present a missing values ratio between 60% and 70% behave differently. This can be explained by the fact that genetic data only concerns 36% of individuals, so it presents a missing values ratio of 64% (see the code below)."
      ],
      "metadata": {
        "id": "6OsDgoMmDMYi"
      }
    },
    {
      "cell_type": "code",
      "source": [
        "print(\"Genetic data concerns {}% of the individuals.\".format(100 - (data[\"genetic_Section_A_or_E\"].isna().sum()/data.shape[0]).round(4)*100))"
      ],
      "metadata": {
        "colab": {
          "base_uri": "https://localhost:8080/"
        },
        "id": "bnuuHdnsFRxq",
        "outputId": "62a17547-02a1-42bc-85a6-d5e7596a08e0"
      },
      "execution_count": 12,
      "outputs": [
        {
          "output_type": "stream",
          "name": "stdout",
          "text": [
            "Genetic data concerns 35.97% of the individuals.\n"
          ]
        }
      ]
    },
    {
      "cell_type": "code",
      "source": [
        "plt.plot(thresholds, columns_distribution, marker=\"x\", ls=\"-\", lw = '1', color=\"purple\")\n",
        "\n",
        "plt.xticks([0.0, 0.1, 0.2, 0.3, 0.4, 0.5, 0.6, 0.7, 0.8, 0.9, 1.0], [f\"{x*10}%\" for x in range(0, 11)])\n",
        "\n",
        "plt.xlabel(\"Missing values ratio\", fontsize=12)\n",
        "plt.ylabel(\"Number of columns\", fontsize=12)\n",
        "plt.title(\"Distribution of columns w.r.t missing values ratio\", fontsize=13)\n",
        "\n",
        "plt.grid()\n",
        "plt.show()"
      ],
      "metadata": {
        "colab": {
          "base_uri": "https://localhost:8080/",
          "height": 476
        },
        "id": "Ap7Mbg0C1vWh",
        "outputId": "a6a1558f-4602-4dd3-cd9f-46a87a3720ad"
      },
      "execution_count": 13,
      "outputs": [
        {
          "output_type": "display_data",
          "data": {
            "text/plain": [
              "<Figure size 640x480 with 1 Axes>"
            ],
            "image/png": "[encoded data removed]"
          },
          "metadata": {}
        }
      ]
    },
    {
      "cell_type": "markdown",
      "source": [
        "This graph highlights that our database presents many missing values. To conserve genetic data, we decide to drop all columns with a missing values ration greater than 65%.\n",
        "\n",
        "However, attention is needed. The vast majority of the columns in our dataset are in fact timed realizations of one global variable. Take R1MSTAT for example. It appears that R1MSTAT, R2MSTAT, ..., R14MSTAT are the responses of individuals to the same question, say RwMSTAT, asked at different waves. Hence, it may make sense for these 14 variables to not be treated separately: if we delete R12MSTAT, we shall delete R1MSTAT, R2MSTAT, etc. If we keep one column, we keep all of them.\n",
        "\n",
        "We shall then track which variables are like RwMSTAT."
      ],
      "metadata": {
        "id": "tBfmx3oSIDYA"
      }
    },
    {
      "cell_type": "code",
      "source": [
        "temporal_variables = {}\n",
        "columns = [col for col in data.columns if \"genetic_\" not in col and col[1] in \"123456789\"]\n",
        "for col in columns:\n",
        "  char = col[0]\n",
        "  if col[2] in \"01234\":\n",
        "    wave = col[1:3]\n",
        "    suffix = col[3:]\n",
        "  else:\n",
        "    if col[2] in \"56789\":\n",
        "      print(col)\n",
        "      break\n",
        "    wave = col[1]\n",
        "    suffix = col[2:]\n",
        "  variable = char + 'w' + suffix\n",
        "  \n",
        "  if variable in temporal_variables.keys():\n",
        "    temporal_variables[variable].append(int(wave))\n",
        "  else:\n",
        "    temporal_variables[variable] = [int(wave)]\n"
      ],
      "metadata": {
        "id": "iqfJJpZTN5j-"
      },
      "execution_count": 14,
      "outputs": []
    },
    {
      "cell_type": "code",
      "source": [
        "temporal_variables_NaN = {}\n",
        "for var in temporal_variables.keys():\n",
        "  temporal_variables_NaN[var] = np.empty((14))\n",
        "  temporal_variables_NaN[var][:] = np.nan\n",
        "\n",
        "print(\"Waves explored:\", end=\" \")\n",
        "for wave in range(1, 15):\n",
        "  wave_columns = [var for var in temporal_variables.keys() if wave in temporal_variables[var]]\n",
        "  wave_columns_name = [col.replace('w', str(wave)) for col in wave_columns]\n",
        "  data_wave = data.loc[data[f\"INW{wave}\"]==1, wave_columns_name]\n",
        "  data_wave_NaN = data_wave.isna().sum()/data_wave.shape[0]\n",
        "  \n",
        "  for var in wave_columns:\n",
        "    temporal_variables_NaN[var][wave-1] = data_wave_NaN[var.replace('w', str(wave))]\n",
        "  print(wave, end=\" \")\n",
        "\n",
        "temporal_variables_NaN = pd.DataFrame(temporal_variables_NaN)"
      ],
      "metadata": {
        "colab": {
          "base_uri": "https://localhost:8080/"
        },
        "id": "-mT_KMo4n4PS",
        "outputId": "faa07b05-eeeb-463b-baa2-021ce7fb7bdf"
      },
      "execution_count": 15,
      "outputs": [
        {
          "output_type": "stream",
          "name": "stdout",
          "text": [
            "Waves explored: 1 2 3 4 5 6 7 8 9 10 11 12 13 14 "
          ]
        }
      ]
    },
    {
      "cell_type": "code",
      "source": [
        "temporal_variables_NaN"
      ],
      "metadata": {
        "colab": {
          "base_uri": "https://localhost:8080/",
          "height": 581
        },
        "id": "lxB6qmylrzN0",
        "outputId": "42e9ba61-b0aa-42be-b7cb-c73eecab6a5c"
      },
      "execution_count": 16,
      "outputs": [
        {
          "output_type": "execute_result",
          "data": {
            "text/plain": [
              "     RwMSTAT  RwMPART    RwMRCT  RwMLEN  RwMCURLN  RwMLENM  RwMDIV  RwMWID  \\\n",
              "0   0.000000      0.0  0.003003     0.0  0.193013      0.0     0.0     0.0   \n",
              "1   0.000000      0.0  0.003462     0.0  0.310203      0.0     0.0     0.0   \n",
              "2   0.003502      0.0  0.003335     0.0  0.321049      0.0     0.0     0.0   \n",
              "3   0.001122      0.0  0.002853     0.0  0.334409      0.0     0.0     0.0   \n",
              "4   0.001022      0.0  0.003014     0.0  0.350495      0.0     0.0     0.0   \n",
              "5   0.000826      0.0  0.003193     0.0  0.371208      0.0     0.0     0.0   \n",
              "6   0.000745      0.0  0.003130     0.0  0.365493      0.0     0.0     0.0   \n",
              "7   0.000108      0.0  0.003249     0.0  0.379988      0.0     0.0     0.0   \n",
              "8   0.000116      0.0  0.003369     0.0  0.394610      0.0     0.0     0.0   \n",
              "9   0.000272      0.0  0.003585     0.0  0.397250      0.0     0.0     0.0   \n",
              "10  0.000778      0.0  0.003065     0.0  0.413934      0.0     0.0     0.0   \n",
              "11  0.001013      0.0  0.003201     0.0  0.430522      0.0     0.0     0.0   \n",
              "12  0.001530      0.0  0.003730     0.0  0.435874      0.0     0.0     0.0   \n",
              "13  0.001516      0.0  0.003616     0.0  0.445293      0.0     0.0     0.0   \n",
              "\n",
              "      RwMNEV    RwMEND  ...  RwADL5H   RwADL6A   RwADL6H  RwIADL5H  RwINHPTN  \\\n",
              "0   0.000000  0.003003  ...      NaN       NaN       NaN       NaN       NaN   \n",
              "1   0.000000  0.003462  ...      0.0  0.581458  0.581407       NaN       NaN   \n",
              "2   0.000000  0.003335  ...      0.0  0.002168  0.000000       0.0       NaN   \n",
              "3   0.000140  0.002853  ...      0.0  0.001450  0.000000       0.0       NaN   \n",
              "4   0.000102  0.003014  ...      0.0  0.001430  0.000000       0.0       0.0   \n",
              "5   0.000055  0.003193  ...      0.0  0.000551  0.000000       0.0       0.0   \n",
              "6   0.000099  0.003130  ...      0.0  0.000646  0.000000       0.0       0.0   \n",
              "7   0.000108  0.003249  ...      0.0  0.000704  0.000000       0.0       0.0   \n",
              "8   0.000058  0.003369  ...      0.0  0.000639  0.000000       0.0       0.0   \n",
              "9   0.000091  0.003585  ...      0.0  0.005991  0.000000       0.0       0.0   \n",
              "10  0.000049  0.003065  ...      0.0  0.000924  0.000000       0.0       0.0   \n",
              "11  0.000053  0.003201  ...      0.0  0.000907  0.000000       0.0       0.0   \n",
              "12  0.000096  0.003730  ...      0.0  0.001769  0.000000       0.0       0.0   \n",
              "13  0.000058  0.003616  ...      0.0  0.001516  0.000000       0.0       0.0   \n",
              "\n",
              "    RwHLPRTN  RwHLPDYST  RwHLPHRST  RwHLPPDTN  RwHLPPDTA  \n",
              "0        NaN        NaN        NaN        NaN        NaN  \n",
              "1        NaN        NaN        NaN        NaN        NaN  \n",
              "2        NaN        NaN        NaN        NaN        NaN  \n",
              "3        NaN        NaN        NaN        NaN        NaN  \n",
              "4   0.003320   0.005516   0.013076   0.866074   0.004699  \n",
              "5   0.003193   0.004569   0.011340   0.857748   0.004459  \n",
              "6   0.003925   0.005266   0.012370   0.865815   0.005018  \n",
              "7   0.003357   0.004981   0.012074   0.855379   0.004927  \n",
              "8   0.003136   0.004124   0.010919   0.853575   0.005111  \n",
              "9   0.002768   0.005401   0.013888   0.847009   0.005945  \n",
              "10  0.002968   0.005887   0.013769   0.846502   0.006325  \n",
              "11  0.004214   0.007468   0.015896   0.836187   0.006774  \n",
              "12  0.004591   0.007699   0.016211   0.849704   0.006073  \n",
              "13  0.003441   0.007815   0.014814   0.854252   0.005074  \n",
              "\n",
              "[14 rows x 730 columns]"
            ],
            "text/html": [
              "\n",
              "  <div id=\"df-3971d0ab-8450-4e25-8edc-33306d66df65\">\n",
              "    <div class=\"colab-df-container\">\n",
              "      <div>\n",
              "<style scoped>\n",
              "    .dataframe tbody tr th:only-of-type {\n",
              "        vertical-align: middle;\n",
              "    }\n",
              "\n",
              "    .dataframe tbody tr th {\n",
              "        vertical-align: top;\n",
              "    }\n",
              "\n",
              "    .dataframe thead th {\n",
              "        text-align: right;\n",
              "    }\n",
              "</style>\n",
              "<table border=\"1\" class=\"dataframe\">\n",
              "  <thead>\n",
              "    <tr style=\"text-align: right;\">\n",
              "      <th></th>\n",
              "      <th>RwMSTAT</th>\n",
              "      <th>RwMPART</th>\n",
              "      <th>RwMRCT</th>\n",
              "      <th>RwMLEN</th>\n",
              "      <th>RwMCURLN</th>\n",
              "      <th>RwMLENM</th>\n",
              "      <th>RwMDIV</th>\n",
              "      <th>RwMWID</th>\n",
              "      <th>RwMNEV</th>\n",
              "      <th>RwMEND</th>\n",
              "      <th>...</th>\n",
              "      <th>RwADL5H</th>\n",
              "      <th>RwADL6A</th>\n",
              "      <th>RwADL6H</th>\n",
              "      <th>RwIADL5H</th>\n",
              "      <th>RwINHPTN</th>\n",
              "      <th>RwHLPRTN</th>\n",
              "      <th>RwHLPDYST</th>\n",
              "      <th>RwHLPHRST</th>\n",
              "      <th>RwHLPPDTN</th>\n",
              "      <th>RwHLPPDTA</th>\n",
              "    </tr>\n",
              "  </thead>\n",
              "  <tbody>\n",
              "    <tr>\n",
              "      <th>0</th>\n",
              "      <td>0.000000</td>\n",
              "      <td>0.0</td>\n",
              "      <td>0.003003</td>\n",
              "      <td>0.0</td>\n",
              "      <td>0.193013</td>\n",
              "      <td>0.0</td>\n",
              "      <td>0.0</td>\n",
              "      <td>0.0</td>\n",
              "      <td>0.000000</td>\n",
              "      <td>0.003003</td>\n",
              "      <td>...</td>\n",
              "      <td>NaN</td>\n",
              "      <td>NaN</td>\n",
              "      <td>NaN</td>\n",
              "      <td>NaN</td>\n",
              "      <td>NaN</td>\n",
              "      <td>NaN</td>\n",
              "      <td>NaN</td>\n",
              "      <td>NaN</td>\n",
              "      <td>NaN</td>\n",
              "      <td>NaN</td>\n",
              "    </tr>\n",
              "    <tr>\n",
              "      <th>1</th>\n",
              "      <td>0.000000</td>\n",
              "      <td>0.0</td>\n",
              "      <td>0.003462</td>\n",
              "      <td>0.0</td>\n",
              "      <td>0.310203</td>\n",
              "      <td>0.0</td>\n",
              "      <td>0.0</td>\n",
              "      <td>0.0</td>\n",
              "      <td>0.000000</td>\n",
              "      <td>0.003462</td>\n",
              "      <td>...</td>\n",
              "      <td>0.0</td>\n",
              "      <td>0.581458</td>\n",
              "      <td>0.581407</td>\n",
              "      <td>NaN</td>\n",
              "      <td>NaN</td>\n",
              "      <td>NaN</td>\n",
              "      <td>NaN</td>\n",
              "      <td>NaN</td>\n",
              "      <td>NaN</td>\n",
              "      <td>NaN</td>\n",
              "    </tr>\n",
              "    <tr>\n",
              "      <th>2</th>\n",
              "      <td>0.003502</td>\n",
              "      <td>0.0</td>\n",
              "      <td>0.003335</td>\n",
              "      <td>0.0</td>\n",
              "      <td>0.321049</td>\n",
              "      <td>0.0</td>\n",
              "      <td>0.0</td>\n",
              "      <td>0.0</td>\n",
              "      <td>0.000000</td>\n",
              "      <td>0.003335</td>\n",
              "      <td>...</td>\n",
              "      <td>0.0</td>\n",
              "      <td>0.002168</td>\n",
              "      <td>0.000000</td>\n",
              "      <td>0.0</td>\n",
              "      <td>NaN</td>\n",
              "      <td>NaN</td>\n",
              "      <td>NaN</td>\n",
              "      <td>NaN</td>\n",
              "      <td>NaN</td>\n",
              "      <td>NaN</td>\n",
              "    </tr>\n",
              "    <tr>\n",
              "      <th>3</th>\n",
              "      <td>0.001122</td>\n",
              "      <td>0.0</td>\n",
              "      <td>0.002853</td>\n",
              "      <td>0.0</td>\n",
              "      <td>0.334409</td>\n",
              "      <td>0.0</td>\n",
              "      <td>0.0</td>\n",
              "      <td>0.0</td>\n",
              "      <td>0.000140</td>\n",
              "      <td>0.002853</td>\n",
              "      <td>...</td>\n",
              "      <td>0.0</td>\n",
              "      <td>0.001450</td>\n",
              "      <td>0.000000</td>\n",
              "      <td>0.0</td>\n",
              "      <td>NaN</td>\n",
              "      <td>NaN</td>\n",
              "      <td>NaN</td>\n",
              "      <td>NaN</td>\n",
              "      <td>NaN</td>\n",
              "      <td>NaN</td>\n",
              "    </tr>\n",
              "    <tr>\n",
              "      <th>4</th>\n",
              "      <td>0.001022</td>\n",
              "      <td>0.0</td>\n",
              "      <td>0.003014</td>\n",
              "      <td>0.0</td>\n",
              "      <td>0.350495</td>\n",
              "      <td>0.0</td>\n",
              "      <td>0.0</td>\n",
              "      <td>0.0</td>\n",
              "      <td>0.000102</td>\n",
              "      <td>0.003014</td>\n",
              "      <td>...</td>\n",
              "      <td>0.0</td>\n",
              "      <td>0.001430</td>\n",
              "      <td>0.000000</td>\n",
              "      <td>0.0</td>\n",
              "      <td>0.0</td>\n",
              "      <td>0.003320</td>\n",
              "      <td>0.005516</td>\n",
              "      <td>0.013076</td>\n",
              "      <td>0.866074</td>\n",
              "      <td>0.004699</td>\n",
              "    </tr>\n",
              "    <tr>\n",
              "      <th>5</th>\n",
              "      <td>0.000826</td>\n",
              "      <td>0.0</td>\n",
              "      <td>0.003193</td>\n",
              "      <td>0.0</td>\n",
              "      <td>0.371208</td>\n",
              "      <td>0.0</td>\n",
              "      <td>0.0</td>\n",
              "      <td>0.0</td>\n",
              "      <td>0.000055</td>\n",
              "      <td>0.003193</td>\n",
              "      <td>...</td>\n",
              "      <td>0.0</td>\n",
              "      <td>0.000551</td>\n",
              "      <td>0.000000</td>\n",
              "      <td>0.0</td>\n",
              "      <td>0.0</td>\n",
              "      <td>0.003193</td>\n",
              "      <td>0.004569</td>\n",
              "      <td>0.011340</td>\n",
              "      <td>0.857748</td>\n",
              "      <td>0.004459</td>\n",
              "    </tr>\n",
              "    <tr>\n",
              "      <th>6</th>\n",
              "      <td>0.000745</td>\n",
              "      <td>0.0</td>\n",
              "      <td>0.003130</td>\n",
              "      <td>0.0</td>\n",
              "      <td>0.365493</td>\n",
              "      <td>0.0</td>\n",
              "      <td>0.0</td>\n",
              "      <td>0.0</td>\n",
              "      <td>0.000099</td>\n",
              "      <td>0.003130</td>\n",
              "      <td>...</td>\n",
              "      <td>0.0</td>\n",
              "      <td>0.000646</td>\n",
              "      <td>0.000000</td>\n",
              "      <td>0.0</td>\n",
              "      <td>0.0</td>\n",
              "      <td>0.003925</td>\n",
              "      <td>0.005266</td>\n",
              "      <td>0.012370</td>\n",
              "      <td>0.865815</td>\n",
              "      <td>0.005018</td>\n",
              "    </tr>\n",
              "    <tr>\n",
              "      <th>7</th>\n",
              "      <td>0.000108</td>\n",
              "      <td>0.0</td>\n",
              "      <td>0.003249</td>\n",
              "      <td>0.0</td>\n",
              "      <td>0.379988</td>\n",
              "      <td>0.0</td>\n",
              "      <td>0.0</td>\n",
              "      <td>0.0</td>\n",
              "      <td>0.000108</td>\n",
              "      <td>0.003249</td>\n",
              "      <td>...</td>\n",
              "      <td>0.0</td>\n",
              "      <td>0.000704</td>\n",
              "      <td>0.000000</td>\n",
              "      <td>0.0</td>\n",
              "      <td>0.0</td>\n",
              "      <td>0.003357</td>\n",
              "      <td>0.004981</td>\n",
              "      <td>0.012074</td>\n",
              "      <td>0.855379</td>\n",
              "      <td>0.004927</td>\n",
              "    </tr>\n",
              "    <tr>\n",
              "      <th>8</th>\n",
              "      <td>0.000116</td>\n",
              "      <td>0.0</td>\n",
              "      <td>0.003369</td>\n",
              "      <td>0.0</td>\n",
              "      <td>0.394610</td>\n",
              "      <td>0.0</td>\n",
              "      <td>0.0</td>\n",
              "      <td>0.0</td>\n",
              "      <td>0.000058</td>\n",
              "      <td>0.003369</td>\n",
              "      <td>...</td>\n",
              "      <td>0.0</td>\n",
              "      <td>0.000639</td>\n",
              "      <td>0.000000</td>\n",
              "      <td>0.0</td>\n",
              "      <td>0.0</td>\n",
              "      <td>0.003136</td>\n",
              "      <td>0.004124</td>\n",
              "      <td>0.010919</td>\n",
              "      <td>0.853575</td>\n",
              "      <td>0.005111</td>\n",
              "    </tr>\n",
              "    <tr>\n",
              "      <th>9</th>\n",
              "      <td>0.000272</td>\n",
              "      <td>0.0</td>\n",
              "      <td>0.003585</td>\n",
              "      <td>0.0</td>\n",
              "      <td>0.397250</td>\n",
              "      <td>0.0</td>\n",
              "      <td>0.0</td>\n",
              "      <td>0.0</td>\n",
              "      <td>0.000091</td>\n",
              "      <td>0.003585</td>\n",
              "      <td>...</td>\n",
              "      <td>0.0</td>\n",
              "      <td>0.005991</td>\n",
              "      <td>0.000000</td>\n",
              "      <td>0.0</td>\n",
              "      <td>0.0</td>\n",
              "      <td>0.002768</td>\n",
              "      <td>0.005401</td>\n",
              "      <td>0.013888</td>\n",
              "      <td>0.847009</td>\n",
              "      <td>0.005945</td>\n",
              "    </tr>\n",
              "    <tr>\n",
              "      <th>10</th>\n",
              "      <td>0.000778</td>\n",
              "      <td>0.0</td>\n",
              "      <td>0.003065</td>\n",
              "      <td>0.0</td>\n",
              "      <td>0.413934</td>\n",
              "      <td>0.0</td>\n",
              "      <td>0.0</td>\n",
              "      <td>0.0</td>\n",
              "      <td>0.000049</td>\n",
              "      <td>0.003065</td>\n",
              "      <td>...</td>\n",
              "      <td>0.0</td>\n",
              "      <td>0.000924</td>\n",
              "      <td>0.000000</td>\n",
              "      <td>0.0</td>\n",
              "      <td>0.0</td>\n",
              "      <td>0.002968</td>\n",
              "      <td>0.005887</td>\n",
              "      <td>0.013769</td>\n",
              "      <td>0.846502</td>\n",
              "      <td>0.006325</td>\n",
              "    </tr>\n",
              "    <tr>\n",
              "      <th>11</th>\n",
              "      <td>0.001013</td>\n",
              "      <td>0.0</td>\n",
              "      <td>0.003201</td>\n",
              "      <td>0.0</td>\n",
              "      <td>0.430522</td>\n",
              "      <td>0.0</td>\n",
              "      <td>0.0</td>\n",
              "      <td>0.0</td>\n",
              "      <td>0.000053</td>\n",
              "      <td>0.003201</td>\n",
              "      <td>...</td>\n",
              "      <td>0.0</td>\n",
              "      <td>0.000907</td>\n",
              "      <td>0.000000</td>\n",
              "      <td>0.0</td>\n",
              "      <td>0.0</td>\n",
              "      <td>0.004214</td>\n",
              "      <td>0.007468</td>\n",
              "      <td>0.015896</td>\n",
              "      <td>0.836187</td>\n",
              "      <td>0.006774</td>\n",
              "    </tr>\n",
              "    <tr>\n",
              "      <th>12</th>\n",
              "      <td>0.001530</td>\n",
              "      <td>0.0</td>\n",
              "      <td>0.003730</td>\n",
              "      <td>0.0</td>\n",
              "      <td>0.435874</td>\n",
              "      <td>0.0</td>\n",
              "      <td>0.0</td>\n",
              "      <td>0.0</td>\n",
              "      <td>0.000096</td>\n",
              "      <td>0.003730</td>\n",
              "      <td>...</td>\n",
              "      <td>0.0</td>\n",
              "      <td>0.001769</td>\n",
              "      <td>0.000000</td>\n",
              "      <td>0.0</td>\n",
              "      <td>0.0</td>\n",
              "      <td>0.004591</td>\n",
              "      <td>0.007699</td>\n",
              "      <td>0.016211</td>\n",
              "      <td>0.849704</td>\n",
              "      <td>0.006073</td>\n",
              "    </tr>\n",
              "    <tr>\n",
              "      <th>13</th>\n",
              "      <td>0.001516</td>\n",
              "      <td>0.0</td>\n",
              "      <td>0.003616</td>\n",
              "      <td>0.0</td>\n",
              "      <td>0.445293</td>\n",
              "      <td>0.0</td>\n",
              "      <td>0.0</td>\n",
              "      <td>0.0</td>\n",
              "      <td>0.000058</td>\n",
              "      <td>0.003616</td>\n",
              "      <td>...</td>\n",
              "      <td>0.0</td>\n",
              "      <td>0.001516</td>\n",
              "      <td>0.000000</td>\n",
              "      <td>0.0</td>\n",
              "      <td>0.0</td>\n",
              "      <td>0.003441</td>\n",
              "      <td>0.007815</td>\n",
              "      <td>0.014814</td>\n",
              "      <td>0.854252</td>\n",
              "      <td>0.005074</td>\n",
              "    </tr>\n",
              "  </tbody>\n",
              "</table>\n",
              "<p>14 rows × 730 columns</p>\n",
              "</div>\n",
              "      <button class=\"colab-df-convert\" onclick=\"convertToInteractive('df-3971d0ab-8450-4e25-8edc-33306d66df65')\"\n",
              "              title=\"Convert this dataframe to an interactive table.\"\n",
              "              style=\"display:none;\">\n",
              "        \n",
              "  <svg xmlns=\"http://www.w3.org/2000/svg\" height=\"24px\"viewBox=\"0 0 24 24\"\n",
              "       width=\"24px\">\n",
              "    <path d=\"M0 0h24v24H0V0z\" fill=\"none\"/>\n",
              "    <path d=\"M18.56 5.44l.94 2.06.94-2.06 2.06-.94-2.06-.94-.94-2.06-.94 2.06-2.06.94zm-11 1L8.5 8.5l.94-2.06 2.06-.94-2.06-.94L8.5 2.5l-.94 2.06-2.06.94zm10 10l.94 2.06.94-2.06 2.06-.94-2.06-.94-.94-2.06-.94 2.06-2.06.94z\"/><path d=\"M17.41 7.96l-1.37-1.37c-.4-.4-.92-.59-1.43-.59-.52 0-1.04.2-1.43.59L10.3 9.45l-7.72 7.72c-.78.78-.78 2.05 0 2.83L4 21.41c.39.39.9.59 1.41.59.51 0 1.02-.2 1.41-.59l7.78-7.78 2.81-2.81c.8-.78.8-2.07 0-2.86zM5.41 20L4 18.59l7.72-7.72 1.47 1.35L5.41 20z\"/>\n",
              "  </svg>\n",
              "      </button>\n",
              "      \n",
              "  <style>\n",
              "    .colab-df-container {\n",
              "      display:flex;\n",
              "      flex-wrap:wrap;\n",
              "      gap: 12px;\n",
              "    }\n",
              "\n",
              "    .colab-df-convert {\n",
              "      background-color: #E8F0FE;\n",
              "      border: none;\n",
              "      border-radius: 50%;\n",
              "      cursor: pointer;\n",
              "      display: none;\n",
              "      fill: #1967D2;\n",
              "      height: 32px;\n",
              "      padding: 0 0 0 0;\n",
              "      width: 32px;\n",
              "    }\n",
              "\n",
              "    .colab-df-convert:hover {\n",
              "      background-color: #E2EBFA;\n",
              "      box-shadow: 0px 1px 2px rgba(60, 64, 67, 0.3), 0px 1px 3px 1px rgba(60, 64, 67, 0.15);\n",
              "      fill: #174EA6;\n",
              "    }\n",
              "\n",
              "    [theme=dark] .colab-df-convert {\n",
              "      background-color: #3B4455;\n",
              "      fill: #D2E3FC;\n",
              "    }\n",
              "\n",
              "    [theme=dark] .colab-df-convert:hover {\n",
              "      background-color: #434B5C;\n",
              "      box-shadow: 0px 1px 3px 1px rgba(0, 0, 0, 0.15);\n",
              "      filter: drop-shadow(0px 1px 2px rgba(0, 0, 0, 0.3));\n",
              "      fill: #FFFFFF;\n",
              "    }\n",
              "  </style>\n",
              "\n",
              "      <script>\n",
              "        const buttonEl =\n",
              "          document.querySelector('#df-3971d0ab-8450-4e25-8edc-33306d66df65 button.colab-df-convert');\n",
              "        buttonEl.style.display =\n",
              "          google.colab.kernel.accessAllowed ? 'block' : 'none';\n",
              "\n",
              "        async function convertToInteractive(key) {\n",
              "          const element = document.querySelector('#df-3971d0ab-8450-4e25-8edc-33306d66df65');\n",
              "          const dataTable =\n",
              "            await google.colab.kernel.invokeFunction('convertToInteractive',\n",
              "                                                     [key], {});\n",
              "          if (!dataTable) return;\n",
              "\n",
              "          const docLinkHtml = 'Like what you see? Visit the ' +\n",
              "            '<a target=\"_blank\" href=https://colab.research.google.com/notebooks/data_table.ipynb>data table notebook</a>'\n",
              "            + ' to learn more about interactive tables.';\n",
              "          element.innerHTML = '';\n",
              "          dataTable['output_type'] = 'display_data';\n",
              "          await google.colab.output.renderOutput(dataTable, element);\n",
              "          const docLink = document.createElement('div');\n",
              "          docLink.innerHTML = docLinkHtml;\n",
              "          element.appendChild(docLink);\n",
              "        }\n",
              "      </script>\n",
              "    </div>\n",
              "  </div>\n",
              "  "
            ]
          },
          "metadata": {},
          "execution_count": 16
        }
      ]
    },
    {
      "cell_type": "markdown",
      "source": [
        "In the dataframe above, the index corresponds to the wave - 1, and each case corresponds to the missing values rate for the observed variable during a specific rate.\n",
        "\n",
        "We will delete all variables which present an average missing rate (average realized across all available waves) of at least 65%."
      ],
      "metadata": {
        "id": "Vk_g9IRTr5Cx"
      }
    },
    {
      "cell_type": "code",
      "source": [
        "max_missing_values_rate = 0.65"
      ],
      "metadata": {
        "id": "TLwB1f6qMHjB"
      },
      "execution_count": 17,
      "outputs": []
    },
    {
      "cell_type": "code",
      "source": [
        "print(f\"There are {(temporal_variables_NaN.mean()>=max_missing_values_rate).sum()} variables with an average missing rate of more than {int(max_missing_values_rate*100)}%.\")\n",
        "print(f\"It corresponds to {(~temporal_variables_NaN[[col for col in temporal_variables_NaN.columns if temporal_variables_NaN[col].mean()>=max_missing_values_rate]].isna()).sum().sum()} columns in our original dataset.\")"
      ],
      "metadata": {
        "colab": {
          "base_uri": "https://localhost:8080/"
        },
        "id": "SgZTyb-SoE8L",
        "outputId": "fda6ca90-2aad-4ab7-f73a-9e9ab29e996a"
      },
      "execution_count": 18,
      "outputs": [
        {
          "output_type": "stream",
          "name": "stdout",
          "text": [
            "There are 156 variables with an average missing rate of more than 65%.\n",
            "It corresponds to 1577 columns in our original dataset.\n"
          ]
        }
      ]
    },
    {
      "cell_type": "code",
      "source": [
        "# We collect columns to delete.\n",
        "criteria = temporal_variables_NaN.mean()>=max_missing_values_rate\n",
        "var_to_delete = list(criteria.index[criteria]) # Variables to delete\n",
        "\n",
        "columns_to_delete = []\n",
        "for var in var_to_delete:\n",
        "  available_waves = list(temporal_variables_NaN.loc[~temporal_variables_NaN[var].isna(), var].index)\n",
        "  for wave in available_waves:\n",
        "    columns_to_delete.append(var.replace('w', str(wave+1)))"
      ],
      "metadata": {
        "id": "YrXYqVhUu1Em"
      },
      "execution_count": 19,
      "outputs": []
    },
    {
      "cell_type": "code",
      "source": [
        "print(\"Before drop, data shape =\", data.shape, end=\"\\n\\n\")\n",
        "data.info(memory_usage=\"deep\")"
      ],
      "metadata": {
        "colab": {
          "base_uri": "https://localhost:8080/"
        },
        "id": "J5zQWu9SVUw0",
        "outputId": "a374def0-25b6-44d2-bfd8-f7efeef9ccdf"
      },
      "execution_count": 20,
      "outputs": [
        {
          "output_type": "stream",
          "name": "stdout",
          "text": [
            "Before drop, data shape = (42233, 7939)\n",
            "\n",
            "<class 'pandas.core.frame.DataFrame'>\n",
            "RangeIndex: 42233 entries, 0 to 42232\n",
            "Columns: 7939 entries, HHIDPN to genetic_Section_A_or_E\n",
            "dtypes: float64(7812), int64(111), object(16)\n",
            "memory usage: 2.5 GB\n"
          ]
        }
      ]
    },
    {
      "cell_type": "markdown",
      "source": [
        "We successfully dropped the temporal columns with a missing rate too high.\n",
        "\n",
        "Remain the non-temporal columns."
      ],
      "metadata": {
        "id": "zbSOGJMGVgtr"
      }
    },
    {
      "cell_type": "code",
      "source": [
        "columns = [col for col in data.columns if \"genetic_\" not in col and col[1] not in \"123456789\"]\n",
        "len(columns)"
      ],
      "metadata": {
        "colab": {
          "base_uri": "https://localhost:8080/"
        },
        "id": "nKXAAOqb0RL4",
        "outputId": "01b31073-94f2-4251-a693-23deec27e892"
      },
      "execution_count": 21,
      "outputs": [
        {
          "output_type": "execute_result",
          "data": {
            "text/plain": [
              "335"
            ]
          },
          "metadata": {},
          "execution_count": 21
        }
      ]
    },
    {
      "cell_type": "code",
      "source": [
        "columns_with_number = [col for col in columns if \"1\" in col or \"2\" in col or \"3\" in col or \"4\" in col or \"5\" in col or \"6\" in col or \"7\" in col or \"8\" in col or \"9\" in col]\n",
        "data_with_number = data[columns_with_number]\n",
        "missing_ratio_data_with_number = (data_with_number.isna().sum()/data_with_number.shape[0]).sort_values()\n",
        "missing_ratio_data_with_number.to_dict()\n",
        "criteria = (data_with_number.isna().sum()/data_with_number.shape[0]>= 0.65)\n",
        "columns_to_delete += list(criteria.index[criteria])\n",
        "columns_to_delete += [\"RASPID1\"] # Manually added, as it presents 26% of missing values but is a useless column."
      ],
      "metadata": {
        "id": "0nyXdocq1G7U"
      },
      "execution_count": 22,
      "outputs": []
    },
    {
      "cell_type": "code",
      "source": [
        "columns_without_number = [col for col in columns if col not in columns_with_number and \"FILEVER\" not in col]\n",
        "data_without_number = data[columns_without_number]\n",
        "criteria = (data_without_number.isna().sum()/data_without_number.shape[0]>= 0.65)\n",
        "columns_to_delete += list(criteria.index[criteria])"
      ],
      "metadata": {
        "id": "yh0eN2B38Eek"
      },
      "execution_count": 23,
      "outputs": []
    },
    {
      "cell_type": "code",
      "source": [
        "# Finally, we drop these columns\n",
        "data = data.drop(columns=columns_to_delete)\n",
        "\n",
        "print(\"After drop, data shape =\", data.shape, end=\"\\n\\n\")\n",
        "print(data.info(memory_usage=\"deep\"))"
      ],
      "metadata": {
        "id": "mg0JrfyYVauW",
        "colab": {
          "base_uri": "https://localhost:8080/"
        },
        "outputId": "49ab258a-4713-484f-f78b-dd6c05731938"
      },
      "execution_count": 24,
      "outputs": [
        {
          "output_type": "stream",
          "name": "stdout",
          "text": [
            "After drop, data shape = (42233, 6131)\n",
            "\n",
            "<class 'pandas.core.frame.DataFrame'>\n",
            "RangeIndex: 42233 entries, 0 to 42232\n",
            "Columns: 6131 entries, HHIDPN to genetic_Section_A_or_E\n",
            "dtypes: float64(6004), int64(111), object(16)\n",
            "memory usage: 2.0 GB\n",
            "None\n"
          ]
        }
      ]
    },
    {
      "cell_type": "markdown",
      "source": [
        "The next step is to cast right dtypes: too many columns have been casted as float64, and some of them as object. Let us see if there is something we can do about it."
      ],
      "metadata": {
        "id": "8QgI0cKl0QOy"
      }
    },
    {
      "cell_type": "markdown",
      "source": [
        "## Cast dtypes"
      ],
      "metadata": {
        "id": "p0Q2sofe289q"
      }
    },
    {
      "cell_type": "code",
      "source": [
        "data.info(memory_usage=\"deep\")"
      ],
      "metadata": {
        "colab": {
          "base_uri": "https://localhost:8080/"
        },
        "id": "QQAbfDU-U1Bn",
        "outputId": "54d40dd8-aff7-47b8-ca87-4c82cf1a968c"
      },
      "execution_count": 25,
      "outputs": [
        {
          "output_type": "stream",
          "name": "stdout",
          "text": [
            "<class 'pandas.core.frame.DataFrame'>\n",
            "RangeIndex: 42233 entries, 0 to 42232\n",
            "Columns: 6131 entries, HHIDPN to genetic_Section_A_or_E\n",
            "dtypes: float64(6004), int64(111), object(16)\n",
            "memory usage: 2.0 GB\n"
          ]
        }
      ]
    },
    {
      "cell_type": "markdown",
      "source": [
        "### Object dtypes"
      ],
      "metadata": {
        "id": "Ay8kafF3iOvT"
      }
    },
    {
      "cell_type": "markdown",
      "source": [
        "Only 16 columns have been casted as 'object'. Let us deal with them."
      ],
      "metadata": {
        "id": "BEIhTtUr0Wxm"
      }
    },
    {
      "cell_type": "code",
      "source": [
        "data.select_dtypes(include=[\"object\"]).head()"
      ],
      "metadata": {
        "colab": {
          "base_uri": "https://localhost:8080/",
          "height": 270
        },
        "id": "_8hcN7ArvgQ2",
        "outputId": "b307fbc4-f438-48b8-c0a5-2d6ce559813f"
      },
      "execution_count": 26,
      "outputs": [
        {
          "output_type": "execute_result",
          "data": {
            "text/plain": [
              "   H1HHIDC  H2HHIDC  H3HHIDC  H4HHIDC  H5HHIDC  H6HHIDC  H7HHIDC  H8HHIDC  \\\n",
              "0  0000010  0000010        .        .        .        .        .        .   \n",
              "1  0000020  0000020  0000020  0000020  0000020        .        .        .   \n",
              "2  0000030  0000030  0000030  0000030  0000030  0000030  0000030  0000030   \n",
              "3  0000030  0000030  0000030  0000030  0000030  0000030  0000030  0000030   \n",
              "4  0100010  0100010  0100010  0100010  0100010  0100010  0100010  0100010   \n",
              "\n",
              "   H9HHIDC H10HHIDC H11HHIDC H12HHIDC H13HHIDC H14HHIDC FILEVER  \\\n",
              "0        .        .        .        .        .        .       U   \n",
              "1        .        .        .        .        .        .       U   \n",
              "2  0000030  0000030  0000030        .        .        .       U   \n",
              "3  0000030  0000030  0000030  0000030        .        .       U   \n",
              "4  0100010  0100010  0100010  0100010  0100010        .       U   \n",
              "\n",
              "  genetic_Section_A_or_E  \n",
              "0                    NaN  \n",
              "1                    NaN  \n",
              "2                      E  \n",
              "3                      E  \n",
              "4                    NaN  "
            ],
            "text/html": [
              "\n",
              "  <div id=\"df-ae731573-be1e-4181-8433-d2433dbad18a\">\n",
              "    <div class=\"colab-df-container\">\n",
              "      <div>\n",
              "<style scoped>\n",
              "    .dataframe tbody tr th:only-of-type {\n",
              "        vertical-align: middle;\n",
              "    }\n",
              "\n",
              "    .dataframe tbody tr th {\n",
              "        vertical-align: top;\n",
              "    }\n",
              "\n",
              "    .dataframe thead th {\n",
              "        text-align: right;\n",
              "    }\n",
              "</style>\n",
              "<table border=\"1\" class=\"dataframe\">\n",
              "  <thead>\n",
              "    <tr style=\"text-align: right;\">\n",
              "      <th></th>\n",
              "      <th>H1HHIDC</th>\n",
              "      <th>H2HHIDC</th>\n",
              "      <th>H3HHIDC</th>\n",
              "      <th>H4HHIDC</th>\n",
              "      <th>H5HHIDC</th>\n",
              "      <th>H6HHIDC</th>\n",
              "      <th>H7HHIDC</th>\n",
              "      <th>H8HHIDC</th>\n",
              "      <th>H9HHIDC</th>\n",
              "      <th>H10HHIDC</th>\n",
              "      <th>H11HHIDC</th>\n",
              "      <th>H12HHIDC</th>\n",
              "      <th>H13HHIDC</th>\n",
              "      <th>H14HHIDC</th>\n",
              "      <th>FILEVER</th>\n",
              "      <th>genetic_Section_A_or_E</th>\n",
              "    </tr>\n",
              "  </thead>\n",
              "  <tbody>\n",
              "    <tr>\n",
              "      <th>0</th>\n",
              "      <td>0000010</td>\n",
              "      <td>0000010</td>\n",
              "      <td>.</td>\n",
              "      <td>.</td>\n",
              "      <td>.</td>\n",
              "      <td>.</td>\n",
              "      <td>.</td>\n",
              "      <td>.</td>\n",
              "      <td>.</td>\n",
              "      <td>.</td>\n",
              "      <td>.</td>\n",
              "      <td>.</td>\n",
              "      <td>.</td>\n",
              "      <td>.</td>\n",
              "      <td>U</td>\n",
              "      <td>NaN</td>\n",
              "    </tr>\n",
              "    <tr>\n",
              "      <th>1</th>\n",
              "      <td>0000020</td>\n",
              "      <td>0000020</td>\n",
              "      <td>0000020</td>\n",
              "      <td>0000020</td>\n",
              "      <td>0000020</td>\n",
              "      <td>.</td>\n",
              "      <td>.</td>\n",
              "      <td>.</td>\n",
              "      <td>.</td>\n",
              "      <td>.</td>\n",
              "      <td>.</td>\n",
              "      <td>.</td>\n",
              "      <td>.</td>\n",
              "      <td>.</td>\n",
              "      <td>U</td>\n",
              "      <td>NaN</td>\n",
              "    </tr>\n",
              "    <tr>\n",
              "      <th>2</th>\n",
              "      <td>0000030</td>\n",
              "      <td>0000030</td>\n",
              "      <td>0000030</td>\n",
              "      <td>0000030</td>\n",
              "      <td>0000030</td>\n",
              "      <td>0000030</td>\n",
              "      <td>0000030</td>\n",
              "      <td>0000030</td>\n",
              "      <td>0000030</td>\n",
              "      <td>0000030</td>\n",
              "      <td>0000030</td>\n",
              "      <td>.</td>\n",
              "      <td>.</td>\n",
              "      <td>.</td>\n",
              "      <td>U</td>\n",
              "      <td>E</td>\n",
              "    </tr>\n",
              "    <tr>\n",
              "      <th>3</th>\n",
              "      <td>0000030</td>\n",
              "      <td>0000030</td>\n",
              "      <td>0000030</td>\n",
              "      <td>0000030</td>\n",
              "      <td>0000030</td>\n",
              "      <td>0000030</td>\n",
              "      <td>0000030</td>\n",
              "      <td>0000030</td>\n",
              "      <td>0000030</td>\n",
              "      <td>0000030</td>\n",
              "      <td>0000030</td>\n",
              "      <td>0000030</td>\n",
              "      <td>.</td>\n",
              "      <td>.</td>\n",
              "      <td>U</td>\n",
              "      <td>E</td>\n",
              "    </tr>\n",
              "    <tr>\n",
              "      <th>4</th>\n",
              "      <td>0100010</td>\n",
              "      <td>0100010</td>\n",
              "      <td>0100010</td>\n",
              "      <td>0100010</td>\n",
              "      <td>0100010</td>\n",
              "      <td>0100010</td>\n",
              "      <td>0100010</td>\n",
              "      <td>0100010</td>\n",
              "      <td>0100010</td>\n",
              "      <td>0100010</td>\n",
              "      <td>0100010</td>\n",
              "      <td>0100010</td>\n",
              "      <td>0100010</td>\n",
              "      <td>.</td>\n",
              "      <td>U</td>\n",
              "      <td>NaN</td>\n",
              "    </tr>\n",
              "  </tbody>\n",
              "</table>\n",
              "</div>\n",
              "      <button class=\"colab-df-convert\" onclick=\"convertToInteractive('df-ae731573-be1e-4181-8433-d2433dbad18a')\"\n",
              "              title=\"Convert this dataframe to an interactive table.\"\n",
              "              style=\"display:none;\">\n",
              "        \n",
              "  <svg xmlns=\"http://www.w3.org/2000/svg\" height=\"24px\"viewBox=\"0 0 24 24\"\n",
              "       width=\"24px\">\n",
              "    <path d=\"M0 0h24v24H0V0z\" fill=\"none\"/>\n",
              "    <path d=\"M18.56 5.44l.94 2.06.94-2.06 2.06-.94-2.06-.94-.94-2.06-.94 2.06-2.06.94zm-11 1L8.5 8.5l.94-2.06 2.06-.94-2.06-.94L8.5 2.5l-.94 2.06-2.06.94zm10 10l.94 2.06.94-2.06 2.06-.94-2.06-.94-.94-2.06-.94 2.06-2.06.94z\"/><path d=\"M17.41 7.96l-1.37-1.37c-.4-.4-.92-.59-1.43-.59-.52 0-1.04.2-1.43.59L10.3 9.45l-7.72 7.72c-.78.78-.78 2.05 0 2.83L4 21.41c.39.39.9.59 1.41.59.51 0 1.02-.2 1.41-.59l7.78-7.78 2.81-2.81c.8-.78.8-2.07 0-2.86zM5.41 20L4 18.59l7.72-7.72 1.47 1.35L5.41 20z\"/>\n",
              "  </svg>\n",
              "      </button>\n",
              "      \n",
              "  <style>\n",
              "    .colab-df-container {\n",
              "      display:flex;\n",
              "      flex-wrap:wrap;\n",
              "      gap: 12px;\n",
              "    }\n",
              "\n",
              "    .colab-df-convert {\n",
              "      background-color: #E8F0FE;\n",
              "      border: none;\n",
              "      border-radius: 50%;\n",
              "      cursor: pointer;\n",
              "      display: none;\n",
              "      fill: #1967D2;\n",
              "      height: 32px;\n",
              "      padding: 0 0 0 0;\n",
              "      width: 32px;\n",
              "    }\n",
              "\n",
              "    .colab-df-convert:hover {\n",
              "      background-color: #E2EBFA;\n",
              "      box-shadow: 0px 1px 2px rgba(60, 64, 67, 0.3), 0px 1px 3px 1px rgba(60, 64, 67, 0.15);\n",
              "      fill: #174EA6;\n",
              "    }\n",
              "\n",
              "    [theme=dark] .colab-df-convert {\n",
              "      background-color: #3B4455;\n",
              "      fill: #D2E3FC;\n",
              "    }\n",
              "\n",
              "    [theme=dark] .colab-df-convert:hover {\n",
              "      background-color: #434B5C;\n",
              "      box-shadow: 0px 1px 3px 1px rgba(0, 0, 0, 0.15);\n",
              "      filter: drop-shadow(0px 1px 2px rgba(0, 0, 0, 0.3));\n",
              "      fill: #FFFFFF;\n",
              "    }\n",
              "  </style>\n",
              "\n",
              "      <script>\n",
              "        const buttonEl =\n",
              "          document.querySelector('#df-ae731573-be1e-4181-8433-d2433dbad18a button.colab-df-convert');\n",
              "        buttonEl.style.display =\n",
              "          google.colab.kernel.accessAllowed ? 'block' : 'none';\n",
              "\n",
              "        async function convertToInteractive(key) {\n",
              "          const element = document.querySelector('#df-ae731573-be1e-4181-8433-d2433dbad18a');\n",
              "          const dataTable =\n",
              "            await google.colab.kernel.invokeFunction('convertToInteractive',\n",
              "                                                     [key], {});\n",
              "          if (!dataTable) return;\n",
              "\n",
              "          const docLinkHtml = 'Like what you see? Visit the ' +\n",
              "            '<a target=\"_blank\" href=https://colab.research.google.com/notebooks/data_table.ipynb>data table notebook</a>'\n",
              "            + ' to learn more about interactive tables.';\n",
              "          element.innerHTML = '';\n",
              "          dataTable['output_type'] = 'display_data';\n",
              "          await google.colab.output.renderOutput(dataTable, element);\n",
              "          const docLink = document.createElement('div');\n",
              "          docLink.innerHTML = docLinkHtml;\n",
              "          element.appendChild(docLink);\n",
              "        }\n",
              "      </script>\n",
              "    </div>\n",
              "  </div>\n",
              "  "
            ]
          },
          "metadata": {},
          "execution_count": 26
        }
      ]
    },
    {
      "cell_type": "code",
      "source": [
        "data[\"genetic_Section_A_or_E\"] = data[\"genetic_Section_A_or_E\"].astype(\"category\") # this variable only takes 'A' and 'E' as values.\n",
        "data = data.drop(\"FILEVER\", axis=1) # this variable does not give information (each row is 'U')\n",
        "for i in range(1, 15):\n",
        "  col = f\"H{i}HHIDC\"\n",
        "  data[col] = data[col].replace(\"      .\", np.nan).astype(\"float64\") # We get rid of the '      .'."
      ],
      "metadata": {
        "id": "zj7mRhZ5za5B"
      },
      "execution_count": 27,
      "outputs": []
    },
    {
      "cell_type": "code",
      "source": [
        "data.info()"
      ],
      "metadata": {
        "colab": {
          "base_uri": "https://localhost:8080/"
        },
        "id": "SI3Km8Vd34F-",
        "outputId": "a4763fbe-4523-4cc6-fbdf-b1bb9d8f3adf"
      },
      "execution_count": 28,
      "outputs": [
        {
          "output_type": "stream",
          "name": "stdout",
          "text": [
            "<class 'pandas.core.frame.DataFrame'>\n",
            "RangeIndex: 42233 entries, 0 to 42232\n",
            "Columns: 6130 entries, HHIDPN to genetic_Section_A_or_E\n",
            "dtypes: category(1), float64(6018), int64(111)\n",
            "memory usage: 1.9 GB\n"
          ]
        }
      ]
    },
    {
      "cell_type": "markdown",
      "source": [
        "### Int dtypes"
      ],
      "metadata": {
        "id": "mRT4T9GKiTRN"
      }
    },
    {
      "cell_type": "code",
      "source": [
        "data.select_dtypes(include=[\"int64\"]).columns"
      ],
      "metadata": {
        "colab": {
          "base_uri": "https://localhost:8080/"
        },
        "id": "kTEDHLi4kKvh",
        "outputId": "1fba26d9-d85a-4c36-a1de-ced3fa8d2486"
      },
      "execution_count": 29,
      "outputs": [
        {
          "output_type": "execute_result",
          "data": {
            "text/plain": [
              "Index(['HHIDPN', 'INW1', 'INW2', 'INW3', 'INW4', 'INW5', 'INW6', 'INW7',\n",
              "       'INW8', 'INW9',\n",
              "       ...\n",
              "       'R5IADL5H', 'R6IADL5H', 'R7IADL5H', 'R8IADL5H', 'R9IADL5H', 'R10IADL5H',\n",
              "       'R11IADL5H', 'R12IADL5H', 'R13IADL5H', 'R14IADL5H'],\n",
              "      dtype='object', length=111)"
            ]
          },
          "metadata": {},
          "execution_count": 29
        }
      ]
    },
    {
      "cell_type": "code",
      "source": [
        "data.select_dtypes(include=[\"int64\"]).isna().sum().max()"
      ],
      "metadata": {
        "colab": {
          "base_uri": "https://localhost:8080/"
        },
        "id": "Y9BjKHK2j9dw",
        "outputId": "6f4a7cf9-d92c-486f-9047-b56fe905b357"
      },
      "execution_count": 30,
      "outputs": [
        {
          "output_type": "execute_result",
          "data": {
            "text/plain": [
              "0"
            ]
          },
          "metadata": {},
          "execution_count": 30
        }
      ]
    },
    {
      "cell_type": "markdown",
      "source": [
        "As we could have guessed, there is no particular issue with these columns."
      ],
      "metadata": {
        "id": "-Cxxj-xlkEDJ"
      }
    },
    {
      "cell_type": "markdown",
      "source": [
        "### Float dtypes"
      ],
      "metadata": {
        "id": "SqrmK02GmmlB"
      }
    },
    {
      "cell_type": "code",
      "source": [
        "data_unique = data.nunique()/data.count()"
      ],
      "metadata": {
        "id": "I5QvCnDVm10-"
      },
      "execution_count": 31,
      "outputs": []
    },
    {
      "cell_type": "code",
      "source": [
        "number_of_classes = np.arange(0, 2, 0.01)\n",
        "percentages = []\n",
        "for n in number_of_classes:\n",
        "  percentages.append((data_unique<=n/100).sum())\n",
        "\n",
        "plt.plot(number_of_classes, percentages, 'x')\n",
        "\n",
        "x_ticks = [0.0, 0.25, 0.5, 0.75, 1.0, 1.25, 1.5, 1.75, 2.0]\n",
        "plt.xticks(x_ticks, [f\"{x}%\" for x in x_ticks])\n",
        "\n",
        "plt.xlabel(\"Unique values rate\", fontsize=12)\n",
        "plt.ylabel(\"Number of columns\", fontsize=12)\n",
        "plt.title(\"Number of columns w.r.t unique values rate\", fontsize=13)\n",
        "\n",
        "plt.grid()\n",
        "plt.show()"
      ],
      "metadata": {
        "colab": {
          "base_uri": "https://localhost:8080/",
          "height": 476
        },
        "id": "d-PpSjSXn9K8",
        "outputId": "44a396d3-40d3-4aea-f3d8-d50fa284fe7b"
      },
      "execution_count": 32,
      "outputs": [
        {
          "output_type": "display_data",
          "data": {
            "text/plain": [
              "<Figure size 640x480 with 1 Axes>"
            ],
            "image/png": "[encoded data removed]"
          },
          "metadata": {}
        }
      ]
    },
    {
      "cell_type": "markdown",
      "source": [
        "This graph let us reckon that the most majority of columns present categorical variables (as of the low number of different values).\n",
        "\n",
        "For future exploration of our database, we need to be aware of the type of each column. One may try to infer it with respect to the number of unique values each column take, and although this approach might prove itself right most of the time, it would cast numeric data to categorical ones or the other way around without any way for us to be informed of that. Hence, we will need to find another way to proceed. This will be the subject of the next notebook."
      ],
      "metadata": {
        "id": "R9MopJwFyAt2"
      }
    },
    {
      "cell_type": "markdown",
      "source": [
        "## Save the database"
      ],
      "metadata": {
        "id": "vZWCd-V3yW2g"
      }
    },
    {
      "cell_type": "code",
      "source": [
        "data.to_csv(\"first_drop_data.csv\", index=False)"
      ],
      "metadata": {
        "id": "MrNXFSDPzIv5"
      },
      "execution_count": 33,
      "outputs": []
    }
  ]
}