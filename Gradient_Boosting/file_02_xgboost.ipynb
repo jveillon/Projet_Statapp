{
  "nbformat": 4,
  "nbformat_minor": 0,
  "metadata": {
    "colab": {
      "provenance": [],
      "machine_shape": "hm",
      "gpuType": "V100"
    },
    "kernelspec": {
      "name": "python3",
      "display_name": "Python 3"
    },
    "language_info": {
      "name": "python"
    },
    "gpuClass": "standard",
    "accelerator": "GPU"
  },
  "cells": [
    {
      "cell_type": "markdown",
      "source": [
        "The goal of this notebook is to get started with xgboost and apply it to our data."
      ],
      "metadata": {
        "id": "xTaN1HZW4bzF"
      }
    },
    {
      "cell_type": "markdown",
      "source": [
        "## Libraries imports"
      ],
      "metadata": {
        "id": "qn60zhr34k8Q"
      }
    },
    {
      "cell_type": "code",
      "execution_count": 1,
      "metadata": {
        "id": "RNtY0sgU4Yam"
      },
      "outputs": [],
      "source": [
        "!cp \"/content/drive/MyDrive/Statapp/file_04_HMLasso.py\" \"HMLasso.py\""
      ]
    },
    {
      "cell_type": "code",
      "source": [
        "!cp \"/content/drive/MyDrive/Statapp/manipulate_data.py\" \"manipulate_data.py\""
      ],
      "metadata": {
        "id": "WSl7LwPhCWg-"
      },
      "execution_count": 2,
      "outputs": []
    },
    {
      "cell_type": "code",
      "source": [
        "import pandas as pd\n",
        "import numpy as np\n",
        "\n",
        "import matplotlib.pyplot as plt\n",
        "\n",
        "from sklearn.preprocessing import StandardScaler # To standardize the data\n",
        "from sklearn.model_selection import train_test_split\n",
        "from sklearn.model_selection import GridSearchCV\n",
        "from sklearn.metrics import r2_score\n",
        "\n",
        "import xgboost as xgb # eXtreme Gradient Boosting\n",
        "import HMLasso as hml # Lasso with High Missing Rate\n",
        "import manipulate_data as manip # Useful functions"
      ],
      "metadata": {
        "id": "QcWrrHIO5Mub"
      },
      "execution_count": 3,
      "outputs": []
    },
    {
      "cell_type": "markdown",
      "source": [
        "## Data imports"
      ],
      "metadata": {
        "id": "4wQxywQeFup_"
      }
    },
    {
      "cell_type": "code",
      "source": [
        "columns_types = pd.read_csv(\"/content/drive/MyDrive/Statapp/data_03_columns_types.csv\")\n",
        "data = pd.read_csv(\"/content/drive/MyDrive/Statapp/data_03.csv\")\n",
        "# data = pd.read_csv(\"/content/drive/MyDrive/Statapp/data_04.csv\")"
      ],
      "metadata": {
        "colab": {
          "base_uri": "https://localhost:8080/"
        },
        "id": "prYeZzhzFxRG",
        "outputId": "1c7f2b2f-525e-4524-f22b-c11c9710391c"
      },
      "execution_count": 4,
      "outputs": [
        {
          "output_type": "stream",
          "name": "stderr",
          "text": [
            "<ipython-input-4-ebb31028c845>:2: DtypeWarning: Columns (4146) have mixed types. Specify dtype option on import or set low_memory=False.\n",
            "  data = pd.read_csv(\"/content/drive/MyDrive/Statapp/data_03.csv\")\n"
          ]
        }
      ]
    },
    {
      "cell_type": "code",
      "source": [
        "data.info(memory_usage=\"deep\")"
      ],
      "metadata": {
        "colab": {
          "base_uri": "https://localhost:8080/"
        },
        "id": "OJ-y-xKYGCKL",
        "outputId": "1ee8a351-9d1a-4b30-b39a-b64ce684e976"
      },
      "execution_count": 5,
      "outputs": [
        {
          "output_type": "stream",
          "name": "stdout",
          "text": [
            "<class 'pandas.core.frame.DataFrame'>\n",
            "RangeIndex: 42232 entries, 0 to 42231\n",
            "Columns: 4161 entries, HHIDPN to GHI14\n",
            "dtypes: float64(4061), int64(99), object(1)\n",
            "memory usage: 1.3 GB\n"
          ]
        }
      ]
    },
    {
      "cell_type": "markdown",
      "source": [
        "## Trying XGBoost"
      ],
      "metadata": {
        "id": "DXHRrq2rC9_c"
      }
    },
    {
      "cell_type": "markdown",
      "source": [
        "This section is dedicated to the use of XGBoost as a regressor to predict the index."
      ],
      "metadata": {
        "id": "yMoyOpRn9gB7"
      }
    },
    {
      "cell_type": "markdown",
      "source": [
        "### Using HMLasso"
      ],
      "metadata": {
        "id": "aIuWDm_KJOau"
      }
    },
    {
      "cell_type": "markdown",
      "source": [
        "To speed up the calculations, we made the choice to use the HMLasso to select only a few variables that could be useful. To achieve this subgoal, we first proceed to training the HMLasso on (X, y) where X is the matrix of (HHIDPN, wave) individuals and y is the GHIw."
      ],
      "metadata": {
        "id": "fzomLmy29ewC"
      }
    },
    {
      "cell_type": "code",
      "source": [
        "untimed_data = manip.drop_time(data, keep_genetic=False)\n",
        "untimed_data.info(memory_usage=\"deep\")"
      ],
      "metadata": {
        "colab": {
          "base_uri": "https://localhost:8080/"
        },
        "id": "Xchd7Go69R9U",
        "outputId": "2a5a38db-cf77-4d23-bd18-fc9d532f4b17"
      },
      "execution_count": 6,
      "outputs": [
        {
          "output_type": "stream",
          "name": "stdout",
          "text": [
            "<class 'pandas.core.frame.DataFrame'>\n",
            "RangeIndex: 264618 entries, 0 to 264617\n",
            "Columns: 192 entries, HHIDPN to GHIw\n",
            "dtypes: float64(190), int64(2)\n",
            "memory usage: 387.6 MB\n"
          ]
        }
      ]
    },
    {
      "cell_type": "code",
      "source": [
        "X = untimed_data.drop(columns=[\"HHIDPN\", \"GHIw\"]).values\n",
        "y = untimed_data[\"GHIw\"].values"
      ],
      "metadata": {
        "id": "27NyamRK-uWX"
      },
      "execution_count": 7,
      "outputs": []
    },
    {
      "cell_type": "code",
      "source": [
        "y_scaled = y - y.mean()\n",
        "\n",
        "scaler_X = StandardScaler()\n",
        "X_scaled = scaler_X.fit_transform(X)"
      ],
      "metadata": {
        "id": "62wHTqgd_bMG"
      },
      "execution_count": 8,
      "outputs": []
    },
    {
      "cell_type": "code",
      "source": [
        "hml.ERRORS_HANDLING = \"ignore\"\n",
        "lasso = hml.HMLasso(mu = 100, verbose = True)\n",
        "lasso.fit(X_scaled, y_scaled)"
      ],
      "metadata": {
        "id": "vEFrp1aA_J86"
      },
      "execution_count": null,
      "outputs": []
    },
    {
      "cell_type": "code",
      "source": [
        "columns_for_lasso = untimed_data.drop(columns = [\"HHIDPN\", \"GHIw\"]).columns\n",
        "criteria = pd.Series(abs(lasso.beta_opt) > 1e-9)\n",
        "columns_to_keep = list(pd.Series(columns_for_lasso)[criteria.index[criteria]])"
      ],
      "metadata": {
        "id": "rYSGiAKT_4kL"
      },
      "execution_count": 16,
      "outputs": []
    },
    {
      "cell_type": "code",
      "source": [
        "# Loading data\n",
        "waves = [1,2,3,4,5,6,7,8,9,10,11,12,13,14]\n",
        "columns_to_keep_for_each_wave = [var.replace('w', str(wave)) for var in columns_to_keep for wave in waves] + [var for var in data.columns if 'genetic_' in var]\n",
        "working_data = manip.get_sample(data, waves = waves)\n",
        "\n",
        "working_data = working_data[['HHIDPN'] + columns_to_keep_for_each_wave + [f'GHI{wave}' for wave in range(1, 15)]]\n",
        "working_data.info(memory_usage=\"deep\")"
      ],
      "metadata": {
        "id": "uZipTjCGGF4m",
        "colab": {
          "base_uri": "https://localhost:8080/"
        },
        "outputId": "3d8f92c4-def7-4d99-a7fa-f5f4508ad142"
      },
      "execution_count": 34,
      "outputs": [
        {
          "output_type": "stream",
          "name": "stdout",
          "text": [
            "<class 'pandas.core.frame.DataFrame'>\n",
            "RangeIndex: 3396 entries, 0 to 3395\n",
            "Columns: 1500 entries, HHIDPN to GHI14\n",
            "dtypes: float64(1498), int64(1), object(1)\n",
            "memory usage: 39.0 MB\n"
          ]
        }
      ]
    },
    {
      "cell_type": "code",
      "source": [
        "# Formatting the database\n",
        "variables_per_type = manip.get_columns_types(working_data, columns_types)\n",
        "\n",
        "working_data[variables_per_type[\"Char\"]] = working_data[variables_per_type[\"Char\"]].astype('category')\n",
        "working_data[variables_per_type[\"Categ\"]] = working_data[variables_per_type[\"Categ\"]].astype('category')\n",
        "\n",
        "working_data.info(memory_usage=\"deep\")"
      ],
      "metadata": {
        "id": "YcFEGMUXEG0f",
        "colab": {
          "base_uri": "https://localhost:8080/"
        },
        "outputId": "2dbadbb9-3b0d-4926-a2c2-13fd0554ef85"
      },
      "execution_count": 35,
      "outputs": [
        {
          "output_type": "stream",
          "name": "stdout",
          "text": [
            "<class 'pandas.core.frame.DataFrame'>\n",
            "RangeIndex: 3396 entries, 0 to 3395\n",
            "Columns: 1500 entries, HHIDPN to GHI14\n",
            "dtypes: category(855), float64(644), int64(1)\n",
            "memory usage: 19.7 MB\n"
          ]
        }
      ]
    },
    {
      "cell_type": "code",
      "source": [
        "FeatureTypes = []\n",
        "for col in working_data.dtypes:\n",
        "  if col == \"category\":\n",
        "    FeatureTypes.append('c') # 'c' for categorical\n",
        "  else:\n",
        "    FeatureTypes.append('q') # 'q' for quantitative"
      ],
      "metadata": {
        "id": "JQSW-ZvHQN1v"
      },
      "execution_count": 36,
      "outputs": []
    },
    {
      "cell_type": "markdown",
      "source": [
        "### Training with different data"
      ],
      "metadata": {
        "id": "uOqBpAxOJcNG"
      }
    },
    {
      "cell_type": "code",
      "source": [
        "def train_model(working_data, data_to_use=\"all\", simulation=\"short\", params_grid=None, random_state=None, verbose=False):\n",
        "  \"\"\"\n",
        "  Main function to train XGBoost Regressor.\n",
        "  \n",
        "  inputs:\n",
        "  - working_data: the database on which the estimator will be trained and tested.\n",
        "  - data_to_use:\n",
        "     > 'all' = socioeconomic data, genetic data, precedent GHI are used for prediction\n",
        "     > 'socio' = only socioeconomic data are used\n",
        "     > 'sociogenetic' = only socioeconomic and genetic data are used\n",
        "     > 'socioghi' = only socioeconomic data and precedent GHI are used\n",
        "  - simulation:\n",
        "     > 'short' = only a few hyperparameters will be tested. Does not take more than 10 minutes.\n",
        "     > 'long' = a lot of hyperparameters will be tested. Can take up to 3h.\n",
        "  - params_grid = the parameters to cross validate. If this option is specified, simulation is ignored.\n",
        "  \"\"\"\n",
        "\n",
        "  # Creating (X, y)\n",
        "  basic_columns = [\"genetic_VERSION\", \"genetic_Section_A_or_E\", \"HHIDPN\", \"GHI14\"]\n",
        "  genetic_columns = [col for col in working_data.columns if 'genetic_' in col and col != 'genetic_VERSION' and col != 'genetic_Section_A_or_E']\n",
        "  GHI_columns = [f'GHI{wave}' for wave in range(1, 14)]\n",
        "\n",
        "  message = {'all' : \"Socioeconomic data, genetic data, precedent GHI will be used for prediction.\",\n",
        "             'socio' : \"Only socioeconomic data will be used for prediction.\",\n",
        "             'sociogenetic' : \"Only socioeconomic data and genetic data will be used for prediction.\",\n",
        "             'socioghi' : \"Only socioeconomic data and precedent GHI will be used for prediction.\"}\n",
        "  if data_to_use == 'all':\n",
        "    columns_to_delete = basic_columns\n",
        "  elif data_to_use == 'socio':\n",
        "    columns_to_delete = basic_columns + genetic_columns + GHI_columns\n",
        "  elif data_to_use == 'sociogenetic':\n",
        "    columns_to_delete = basic_columns + GHI_columns\n",
        "  elif data_to_use == 'socioghi':\n",
        "    columns_to_delete = basic_columns + genetic_columns\n",
        "  \n",
        "  if verbose:\n",
        "    print(message[data_to_use])\n",
        "\n",
        "  X = working_data.drop(columns = columns_to_delete)\n",
        "  y = working_data[\"GHI14\"]\n",
        "\n",
        "  # Splitting into Training and Testing sets\n",
        "  X_train, X_test, y_train, y_test = train_test_split(X, y, test_size=0.2, random_state=random_state)\n",
        "\n",
        "\n",
        "  # Performing cross-validation to train and fine-tune the model\n",
        "  model = xgb.XGBRegressor(tree_method='gpu_hist', enable_categorical=True, FeatureTypes=FeatureTypes)\n",
        "\n",
        "  if params_grid is None:\n",
        "    if simulation == 'long':\n",
        "      params_grid = {\"eta\" : [0.1, 0.05, 0.03, 0.01], # learning rate\n",
        "                    \"lambda\" : [1, 0.5, 2], # coefficient for L2 penalization\n",
        "                    \"alpha\" : [0, 0.5, 1], # coefficient for L1 penalization\n",
        "                    \"max_depth\" : [3, 4, 5], # max depth of trees\n",
        "                    \"n_estimators\" : [100, 200] # number of trees\n",
        "                    }\n",
        "    elif simulation == 'short':\n",
        "      params_grid = {\"eta\" : [0.05, 0.03], # learning rate\n",
        "                    \"lambda\" : [1, 0.5], # coefficient for L2 penalization\n",
        "                    \"alpha\" : [0.5, 1], # coefficient for L1 penalization\n",
        "                    \"max_depth\" : [3, 4], # max depth of trees\n",
        "                    \"n_estimators\" : [100] # number of trees\n",
        "                    }\n",
        "\n",
        "  grid = GridSearchCV(model, params_grid, refit = True, verbose = verbose, n_jobs=-1, scoring=\"r2\") \n",
        "  grid.fit(X_train, y_train)\n",
        "\n",
        "  results = pd.DataFrame(grid.cv_results_)\n",
        "  # results.drop(columns = [col for col in results.columns if \"split\" in col or \"time\" in col]+[\"params\"]).sort_values(by=[\"rank_test_score\"]).head(5)\n",
        "\n",
        "  if verbose:\n",
        "    print(\"Model refitted with best hyperparameters.\")\n",
        "    print(\"Best parameters : \" + str(grid.best_params_))\n",
        "    print(\"R2 score on train : \", str(grid.score(X_train, y_train)))\n",
        "    print(\"R2 score on test : \", str(grid.score(X_test, y_test)))\n",
        "  \n",
        "  # Storing results\n",
        "  final_results = {}\n",
        "  final_results[\"data\"] = data_to_use\n",
        "  final_results[\"best_parameters\"] = list(grid.best_params_.items())\n",
        "  final_results[\"r2_train\"] = grid.score(X_train, y_train)\n",
        "  final_results[\"r2_test\"] = grid.score(X_test, y_test)\n",
        "\n",
        "  return final_results"
      ],
      "metadata": {
        "id": "3-u9vy50gawa"
      },
      "execution_count": 87,
      "outputs": []
    },
    {
      "cell_type": "code",
      "source": [
        "# # QUICK SIMULATION\n",
        "# params_grid = {\"eta\" : [0.05, 0.03], # learning rate\n",
        "#               \"lambda\" : [1], # coefficient for L2 penalization\n",
        "#               \"alpha\" : [0.5], # coefficient for L1 penalization\n",
        "#               \"max_depth\" : [3], # max depth of trees\n",
        "#               \"n_estimators\" : [100] # number of trees\n",
        "#               }\n",
        "\n",
        "# LONG SIMULATION\n",
        "params_grid = {\"eta\" : [0.05, 0.03], # learning rate\n",
        "               \"lambda\" : [1, 0.5], # coefficient for L2 penalization\n",
        "               \"alpha\" : [0.5, 1], # coefficient for L1 penalization\n",
        "               \"max_depth\" : [3, 4], # max depth of trees\n",
        "               \"n_estimators\" : [100] # number of trees\n",
        "              }"
      ],
      "metadata": {
        "id": "0bKcPA2quO_h"
      },
      "execution_count": 85,
      "outputs": []
    },
    {
      "cell_type": "code",
      "source": [
        "results = {\"Random_state\" : [], \"Data_used\" : [], \"best_parameters\" : [], \"r2_test\" : []}\n",
        "\n",
        "number_of_simulations = 100\n",
        "for random_state in range(number_of_simulations):\n",
        "  for data_to_use in ['all', 'socio', 'sociogenetic', 'socioghi']:\n",
        "    result = train_model(working_data, data_to_use=data_to_use, params_grid=params_grid, random_state=random_state)\n",
        "    results[\"Random_state\"].append(random_state)\n",
        "    results[\"Data_used\"].append(data_to_use)\n",
        "    results[\"best_parameters\"].append(result[\"best_parameters\"])\n",
        "    results[\"r2_test\"].append(result[\"r2_test\"])\n",
        "\n",
        "results = pd.DataFrame(results).sort_values(\"r2_test\", ascending=False)"
      ],
      "metadata": {
        "id": "9AOlOe5dkXYu"
      },
      "execution_count": null,
      "outputs": []
    },
    {
      "cell_type": "code",
      "source": [
        "results.to_csv(\"XGBoost_simulation.csv\", index=False)"
      ],
      "metadata": {
        "id": "a_POBbklyweU"
      },
      "execution_count": 97,
      "outputs": []
    },
    {
      "cell_type": "code",
      "source": [
        "results.groupby([\"Data_used\"])[\"r2_test\"].agg({\"mean\", \"std\", \"count\"})"
      ],
      "metadata": {
        "colab": {
          "base_uri": "https://localhost:8080/",
          "height": 206
        },
        "id": "2p5jaU5s1oiR",
        "outputId": "5f6f0ebb-0343-4f69-d824-6fbd4f9f3307"
      },
      "execution_count": 101,
      "outputs": [
        {
          "output_type": "execute_result",
          "data": {
            "text/plain": [
              "                  mean  count       std\n",
              "Data_used                              \n",
              "all           0.366520      5  0.036591\n",
              "socio         0.207468      5  0.023647\n",
              "sociogenetic  0.205570      5  0.023094\n",
              "socioghi      0.364475      5  0.036558"
            ],
            "text/html": [
              "\n",
              "  <div id=\"df-d474ab5f-015a-42de-9489-c1a5a15a6610\">\n",
              "    <div class=\"colab-df-container\">\n",
              "      <div>\n",
              "<style scoped>\n",
              "    .dataframe tbody tr th:only-of-type {\n",
              "        vertical-align: middle;\n",
              "    }\n",
              "\n",
              "    .dataframe tbody tr th {\n",
              "        vertical-align: top;\n",
              "    }\n",
              "\n",
              "    .dataframe thead th {\n",
              "        text-align: right;\n",
              "    }\n",
              "</style>\n",
              "<table border=\"1\" class=\"dataframe\">\n",
              "  <thead>\n",
              "    <tr style=\"text-align: right;\">\n",
              "      <th></th>\n",
              "      <th>mean</th>\n",
              "      <th>count</th>\n",
              "      <th>std</th>\n",
              "    </tr>\n",
              "    <tr>\n",
              "      <th>Data_used</th>\n",
              "      <th></th>\n",
              "      <th></th>\n",
              "      <th></th>\n",
              "    </tr>\n",
              "  </thead>\n",
              "  <tbody>\n",
              "    <tr>\n",
              "      <th>all</th>\n",
              "      <td>0.366520</td>\n",
              "      <td>5</td>\n",
              "      <td>0.036591</td>\n",
              "    </tr>\n",
              "    <tr>\n",
              "      <th>socio</th>\n",
              "      <td>0.207468</td>\n",
              "      <td>5</td>\n",
              "      <td>0.023647</td>\n",
              "    </tr>\n",
              "    <tr>\n",
              "      <th>sociogenetic</th>\n",
              "      <td>0.205570</td>\n",
              "      <td>5</td>\n",
              "      <td>0.023094</td>\n",
              "    </tr>\n",
              "    <tr>\n",
              "      <th>socioghi</th>\n",
              "      <td>0.364475</td>\n",
              "      <td>5</td>\n",
              "      <td>0.036558</td>\n",
              "    </tr>\n",
              "  </tbody>\n",
              "</table>\n",
              "</div>\n",
              "      <button class=\"colab-df-convert\" onclick=\"convertToInteractive('df-d474ab5f-015a-42de-9489-c1a5a15a6610')\"\n",
              "              title=\"Convert this dataframe to an interactive table.\"\n",
              "              style=\"display:none;\">\n",
              "        \n",
              "  <svg xmlns=\"http://www.w3.org/2000/svg\" height=\"24px\"viewBox=\"0 0 24 24\"\n",
              "       width=\"24px\">\n",
              "    <path d=\"M0 0h24v24H0V0z\" fill=\"none\"/>\n",
              "    <path d=\"M18.56 5.44l.94 2.06.94-2.06 2.06-.94-2.06-.94-.94-2.06-.94 2.06-2.06.94zm-11 1L8.5 8.5l.94-2.06 2.06-.94-2.06-.94L8.5 2.5l-.94 2.06-2.06.94zm10 10l.94 2.06.94-2.06 2.06-.94-2.06-.94-.94-2.06-.94 2.06-2.06.94z\"/><path d=\"M17.41 7.96l-1.37-1.37c-.4-.4-.92-.59-1.43-.59-.52 0-1.04.2-1.43.59L10.3 9.45l-7.72 7.72c-.78.78-.78 2.05 0 2.83L4 21.41c.39.39.9.59 1.41.59.51 0 1.02-.2 1.41-.59l7.78-7.78 2.81-2.81c.8-.78.8-2.07 0-2.86zM5.41 20L4 18.59l7.72-7.72 1.47 1.35L5.41 20z\"/>\n",
              "  </svg>\n",
              "      </button>\n",
              "      \n",
              "  <style>\n",
              "    .colab-df-container {\n",
              "      display:flex;\n",
              "      flex-wrap:wrap;\n",
              "      gap: 12px;\n",
              "    }\n",
              "\n",
              "    .colab-df-convert {\n",
              "      background-color: #E8F0FE;\n",
              "      border: none;\n",
              "      border-radius: 50%;\n",
              "      cursor: pointer;\n",
              "      display: none;\n",
              "      fill: #1967D2;\n",
              "      height: 32px;\n",
              "      padding: 0 0 0 0;\n",
              "      width: 32px;\n",
              "    }\n",
              "\n",
              "    .colab-df-convert:hover {\n",
              "      background-color: #E2EBFA;\n",
              "      box-shadow: 0px 1px 2px rgba(60, 64, 67, 0.3), 0px 1px 3px 1px rgba(60, 64, 67, 0.15);\n",
              "      fill: #174EA6;\n",
              "    }\n",
              "\n",
              "    [theme=dark] .colab-df-convert {\n",
              "      background-color: #3B4455;\n",
              "      fill: #D2E3FC;\n",
              "    }\n",
              "\n",
              "    [theme=dark] .colab-df-convert:hover {\n",
              "      background-color: #434B5C;\n",
              "      box-shadow: 0px 1px 3px 1px rgba(0, 0, 0, 0.15);\n",
              "      filter: drop-shadow(0px 1px 2px rgba(0, 0, 0, 0.3));\n",
              "      fill: #FFFFFF;\n",
              "    }\n",
              "  </style>\n",
              "\n",
              "      <script>\n",
              "        const buttonEl =\n",
              "          document.querySelector('#df-d474ab5f-015a-42de-9489-c1a5a15a6610 button.colab-df-convert');\n",
              "        buttonEl.style.display =\n",
              "          google.colab.kernel.accessAllowed ? 'block' : 'none';\n",
              "\n",
              "        async function convertToInteractive(key) {\n",
              "          const element = document.querySelector('#df-d474ab5f-015a-42de-9489-c1a5a15a6610');\n",
              "          const dataTable =\n",
              "            await google.colab.kernel.invokeFunction('convertToInteractive',\n",
              "                                                     [key], {});\n",
              "          if (!dataTable) return;\n",
              "\n",
              "          const docLinkHtml = 'Like what you see? Visit the ' +\n",
              "            '<a target=\"_blank\" href=https://colab.research.google.com/notebooks/data_table.ipynb>data table notebook</a>'\n",
              "            + ' to learn more about interactive tables.';\n",
              "          element.innerHTML = '';\n",
              "          dataTable['output_type'] = 'display_data';\n",
              "          await google.colab.output.renderOutput(dataTable, element);\n",
              "          const docLink = document.createElement('div');\n",
              "          docLink.innerHTML = docLinkHtml;\n",
              "          element.appendChild(docLink);\n",
              "        }\n",
              "      </script>\n",
              "    </div>\n",
              "  </div>\n",
              "  "
            ]
          },
          "metadata": {},
          "execution_count": 101
        }
      ]
    }
  ]
}