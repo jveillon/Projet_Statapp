{
  "nbformat": 4,
  "nbformat_minor": 0,
  "metadata": {
    "colab": {
      "provenance": [],
      "machine_shape": "hm",
      "gpuType": "T4"
    },
    "kernelspec": {
      "name": "python3",
      "display_name": "Python 3"
    },
    "language_info": {
      "name": "python"
    },
    "gpuClass": "standard"
  },
  "cells": [
    {
      "cell_type": "markdown",
      "source": [
        "The goal of this notebook is to get started with random forest and apply it to our data."
      ],
      "metadata": {
        "id": "u8iIPtozXlg8"
      }
    },
    {
      "cell_type": "markdown",
      "source": [
        "## Libraries imports"
      ],
      "metadata": {
        "id": "_oUBb1xwXpzT"
      }
    },
    {
      "cell_type": "code",
      "execution_count": null,
      "metadata": {
        "id": "zPUur2g8XgWv"
      },
      "outputs": [],
      "source": [
        "!cp \"/content/drive/MyDrive/Statapp/file_04_HMLasso.py\" \"HMLasso.py\"\n",
        "!cp \"/content/drive/MyDrive/Statapp/manipulate_data.py\" \"manipulate_data.py\""
      ]
    },
    {
      "cell_type": "code",
      "source": [
        "import pandas as pd\n",
        "import numpy as np\n",
        "\n",
        "import matplotlib.pyplot as plt\n",
        "\n",
        "from sklearn.preprocessing import StandardScaler # To standardize the data\n",
        "from sklearn.model_selection import train_test_split\n",
        "from sklearn.model_selection import GridSearchCV\n",
        "from sklearn.model_selection import RandomizedSearchCV\n",
        "from sklearn.metrics import r2_score\n",
        "from sklearn.metrics import mean_squared_error\n",
        "from sklearn.metrics import recall_score\n",
        "from sklearn.metrics import precision_score\n",
        "from sklearn.metrics import f1_score\n",
        "\n",
        "# from cuml.ensemble import RandomForestClassifier # Classifier\n",
        "# from cuml.ensemble import RandomForestRegressor # Regressor\n",
        "from sklearn.ensemble import RandomForestClassifier # Classifier\n",
        "from sklearn.ensemble import RandomForestRegressor # Regressor\n",
        "import HMLasso as hml # Lasso with High Missing Rate\n",
        "import manipulate_data as manip # Useful functions\n",
        "\n",
        "from sklearn.experimental import enable_iterative_imputer\n",
        "from sklearn.impute import IterativeImputer\n",
        "from sklearn.impute import SimpleImputer\n",
        "\n",
        "import time # To measure elapsed time during simulation"
      ],
      "metadata": {
        "id": "sf2KetRqXkN_"
      },
      "execution_count": null,
      "outputs": []
    },
    {
      "cell_type": "markdown",
      "source": [
        "## Data imports"
      ],
      "metadata": {
        "id": "-vcRicR5YWwk"
      }
    },
    {
      "cell_type": "code",
      "source": [
        "columns_types = pd.read_csv(\"/content/drive/MyDrive/Statapp/data_03_columns_types.csv\") # Potentialy useless\n",
        "data = pd.read_csv(\"/content/drive/MyDrive/Statapp/data_04.csv\") # We use one hot encoded variables\n",
        "data.info(memory_usage=\"deep\")"
      ],
      "metadata": {
        "colab": {
          "base_uri": "https://localhost:8080/"
        },
        "id": "vIUPtBZDYYi-",
        "outputId": "6311bd1c-fc45-4477-d811-a9df021ef9ae"
      },
      "execution_count": null,
      "outputs": [
        {
          "output_type": "stream",
          "name": "stderr",
          "text": [
            "<ipython-input-3-e8eae813f21d>:2: DtypeWarning: Columns (2684) have mixed types. Specify dtype option on import or set low_memory=False.\n",
            "  data = pd.read_csv(\"/content/drive/MyDrive/Statapp/data_04.csv\") # We use one hot encoded variables\n"
          ]
        },
        {
          "output_type": "stream",
          "name": "stdout",
          "text": [
            "<class 'pandas.core.frame.DataFrame'>\n",
            "RangeIndex: 42232 entries, 0 to 42231\n",
            "Columns: 11429 entries, HHIDPN to R14IADL5H_5\n",
            "dtypes: float64(11377), int64(51), object(1)\n",
            "memory usage: 3.6 GB\n"
          ]
        }
      ]
    },
    {
      "cell_type": "markdown",
      "source": [
        "## Trying RandomForest"
      ],
      "metadata": {
        "id": "bPMMWxvjYumB"
      }
    },
    {
      "cell_type": "markdown",
      "source": [
        "### Using Lasso"
      ],
      "metadata": {
        "id": "jlKIru8yYwDq"
      }
    },
    {
      "cell_type": "code",
      "source": [
        "# Get (X, y)\n",
        "untimed_data = manip.drop_time(data, keep_genetic=False)\n",
        "print(untimed_data.info(memory_usage=\"deep\"))\n",
        "\n",
        "X = untimed_data.drop(columns=[\"HHIDPN\", \"GHIw\"]).values\n",
        "y = untimed_data[\"GHIw\"].values\n",
        "\n",
        "y_scaled = y - y.mean()\n",
        "X_scaled = StandardScaler().fit_transform(X)\n",
        "\n",
        "# Fit the HMLasso\n",
        "hml.ERRORS_HANDLING = \"ignore\"\n",
        "lasso = hml.HMLasso(mu = 100, verbose = False)\n",
        "lasso.fit(X_scaled, y_scaled)\n",
        "\n",
        "# The lasso dropped some columns. We save the ones that we shall not drop\n",
        "columns_for_lasso = untimed_data.drop(columns = [\"HHIDPN\", \"GHIw\"]).columns\n",
        "criteria = pd.Series(abs(lasso.beta_opt) > 1e-9)\n",
        "columns_to_keep = list(pd.Series(columns_for_lasso)[criteria.index[criteria]])\n",
        "\n",
        "# Loading only individuals present in all waves.\n",
        "waves = [1,2,3,4,5,6,7,8,9,10,11,12,13,14]\n",
        "columns_to_keep_for_each_wave = [var.replace('w', str(wave)) for var in columns_to_keep for wave in waves] + [var for var in data.columns if 'genetic_' in var]\n",
        "working_data = manip.get_sample(data, waves = waves)\n",
        "\n",
        "# We finally select columns agreed by the lasso\n",
        "working_data = working_data[['HHIDPN'] + columns_to_keep_for_each_wave + [f'GHI{wave}' for wave in range(1, 15)]]\n",
        "print(working_data.info(memory_usage=\"deep\"))"
      ],
      "metadata": {
        "colab": {
          "base_uri": "https://localhost:8080/"
        },
        "id": "NsXLaOWOYtej",
        "outputId": "60afee4c-298e-42b9-84df-a7cc8966bcc1"
      },
      "execution_count": null,
      "outputs": [
        {
          "output_type": "stream",
          "name": "stdout",
          "text": [
            "<class 'pandas.core.frame.DataFrame'>\n",
            "RangeIndex: 264618 entries, 0 to 264617\n",
            "Columns: 455 entries, HHIDPN to GHIw\n",
            "dtypes: float64(454), int64(1)\n",
            "memory usage: 918.6 MB\n",
            "None\n",
            "[Warning] Sigma_opt is not PSD, its minimum eigenvalue is (-3.9297837355401136e-05+0j). Error handled by adding (3.9297837355401136e-05-0j) to each eigenvalue.\n",
            "<class 'pandas.core.frame.DataFrame'>\n",
            "RangeIndex: 3396 entries, 0 to 3395\n",
            "Columns: 1822 entries, HHIDPN to GHI14\n",
            "dtypes: float64(1820), int64(1), object(1)\n",
            "memory usage: 47.4 MB\n",
            "None\n"
          ]
        }
      ]
    },
    {
      "cell_type": "code",
      "source": [
        "del data"
      ],
      "metadata": {
        "id": "nlVUMu6wQE-J"
      },
      "execution_count": null,
      "outputs": []
    },
    {
      "cell_type": "markdown",
      "source": [
        "### RandomForest Regressor"
      ],
      "metadata": {
        "id": "AKVPlf8fZAHF"
      }
    },
    {
      "cell_type": "code",
      "source": [
        "def train_model(working_data, data_to_use=\"all\", params_grid=None, how=\"regressor\", n_bins=5, random_state=None, verbose=False):\n",
        "  \"\"\"\n",
        "  Main function to train RandomForest model.\n",
        "  \n",
        "  inputs:\n",
        "  - working_data: the database on which the estimator will be trained and tested.\n",
        "  - data_to_use:\n",
        "     > 'all' = socioeconomic data, genetic data, precedent GHI are used for prediction\n",
        "     > 'socio' = only socioeconomic data are used\n",
        "     > 'sociogenetic' = only socioeconomic and genetic data are used\n",
        "     > 'socioghi' = only socioeconomic data and precedent GHI are used\n",
        "  - simulation:\n",
        "     > 'short' = only a few hyperparameters will be tested. Does not take more than 10 minutes.\n",
        "     > 'long' = a lot of hyperparameters will be tested. Can take up to 3h.\n",
        "  - params_grid: the parameters to cross validate. If this option is specified, simulation is ignored.\n",
        "  - how:\n",
        "     > 'regressor' = a RandomForestRegressor will be trained.\n",
        "     > 'classifier' = a RandomForestClassifier will be trained.\n",
        "    n_bins: number of bins for the classifier. Ignored if how == 'regressor'.\n",
        "  - random_state: the random_state used in the split train/test.\n",
        "  - verbose: True or False\n",
        "\n",
        "  Preferred use: before using this function, apply lasso to select relevant columns.\n",
        "  \"\"\"\n",
        "  assert how in [\"regressor\", \"classifier\"]\n",
        "  if verbose:\n",
        "    print(how, \" model will be fitted.\")\n",
        "\n",
        "  ##############################################################################\n",
        "  # Creating (X, y)\n",
        "  ##############################################################################\n",
        "\n",
        "  ##################### 'data_to_use' handling #################################\n",
        "  message = {'all' : \"Socioeconomic data, genetic data, precedent GHI will be used for prediction.\",\n",
        "             'socio' : \"Only socioeconomic data will be used for prediction.\",\n",
        "             'sociogenetic' : \"Only socioeconomic data and genetic data will be used for prediction.\",\n",
        "             'socioghi' : \"Only socioeconomic data and precedent GHI will be used for prediction.\"}\n",
        "\n",
        "  basic_columns = [\"genetic_VERSION\", \"genetic_Section_A_or_E\", \"HHIDPN\", \"GHI14\"]\n",
        "  genetic_columns = [col for col in working_data.columns if 'genetic_' in col and col != 'genetic_VERSION' and col != 'genetic_Section_A_or_E']\n",
        "  GHI_columns = [f'GHI{wave}' for wave in range(1, 14)]\n",
        "\n",
        "  if data_to_use == 'all':\n",
        "    columns_to_delete = basic_columns\n",
        "  elif data_to_use == 'socio':\n",
        "    columns_to_delete = basic_columns + genetic_columns + GHI_columns\n",
        "  elif data_to_use == 'sociogenetic':\n",
        "    columns_to_delete = basic_columns + GHI_columns\n",
        "  elif data_to_use == 'socioghi':\n",
        "    columns_to_delete = basic_columns + genetic_columns\n",
        "  \n",
        "  if verbose:\n",
        "    print(message[data_to_use])\n",
        "\n",
        "  if data_to_use in ['all', 'socio', 'sociogenetic', 'socioghi']:\n",
        "    X = working_data.drop(columns = columns_to_delete)\n",
        "  elif data_to_use == 'ghi':\n",
        "    X = working_data[GHI_columns]\n",
        "\n",
        "  ############################### select y #####################################\n",
        "  if how == \"regressor\":\n",
        "    y = working_data[\"GHI14\"]\n",
        "  if how == \"classifier\":\n",
        "    y = pd.cut(working_data[\"GHI14\"], n_bins, labels=list(range(n_bins)))\n",
        "\n",
        "  # Splitting into Training and Testing sets\n",
        "  X_train, X_test, y_train, y_test = train_test_split(X, y, test_size=0.2, random_state=random_state)\n",
        "\n",
        "  # Imputing variables\n",
        "  imp = SimpleImputer(strategy=\"mean\")\n",
        "  imp.fit(X_train)\n",
        "  X_train = imp.transform(X_train)\n",
        "  X_test = imp.transform(X_test)\n",
        "\n",
        "  ##############################################################################\n",
        "  # Performing cross-validation to train and fine-tune the model\n",
        "  ##############################################################################\n",
        "\n",
        "  ############################# select model ###################################\n",
        "  if how == \"regressor\":\n",
        "    model = RandomForestRegressor()\n",
        "  if how == \"classifier\":\n",
        "    model = RandomForestClassifier()\n",
        "\n",
        "  ########################### select scoring method ############################\n",
        "  if how == \"regressor\":\n",
        "    scoring = 'r2'\n",
        "  if how == \"classifier\":\n",
        "    scoring = 'accuracy'\n",
        "\n",
        "  ########################### Training the model ###############################\n",
        "  grid = GridSearchCV(model, params_grid, refit = True,\n",
        "                      verbose = verbose, n_jobs=-1, scoring=scoring) \n",
        "  grid.fit(X_train, y_train)\n",
        "\n",
        "  results = pd.DataFrame(grid.cv_results_)\n",
        "\n",
        "  if verbose:\n",
        "    print(\"Model refitted with best hyperparameters.\")\n",
        "    print(\"Best parameters : \" + str(grid.best_params_))\n",
        "    print(\"R2 score on train : \", str(grid.score(X_train, y_train)))\n",
        "    print(\"R2 score on test : \", str(grid.score(X_test, y_test)))\n",
        "  \n",
        "  # Storing results\n",
        "  final_results = {}\n",
        "  final_results[\"data\"] = data_to_use\n",
        "  final_results[\"best_parameters\"] = list(grid.best_params_.items())\n",
        "\n",
        "  y_train_pred = grid.predict(X_train)\n",
        "  y_test_pred = grid.predict(X_test)\n",
        "  if how == \"regressor\":\n",
        "    final_results[\"r2_train\"] = grid.score(X_train, y_train)\n",
        "    final_results[\"r2_test\"] = grid.score(X_test, y_test)\n",
        "    final_results[\"rmse_train\"] = np.sqrt(mean_squared_error(y_train, y_train_pred))\n",
        "    final_results[\"rmse_test\"] = np.sqrt(mean_squared_error(y_test, y_test_pred))\n",
        "\n",
        "  if how == \"classifier\":\n",
        "    final_results[\"accuracy_train\"] = grid.score(X_train, y_train)\n",
        "    final_results[\"accuracy_test\"] = grid.score(X_test, y_test)\n",
        "\n",
        "    final_results[\"recall_train\"] = np.nan\n",
        "    final_results[\"recall_test\"] = np.nan\n",
        "    final_results[\"precision_train\"] = np.nan\n",
        "    final_results[\"precision_test\"] = np.nan\n",
        "    final_results[\"f1_train\"] = np.nan\n",
        "    final_results[\"f1_test\"] = np.nan\n",
        "    if n_bins == 2:\n",
        "      final_results[\"recall_train\"] = recall_score(y_train, y_train_pred)\n",
        "      final_results[\"recall_test\"] = recall_score(y_test, y_test_pred)\n",
        "      final_results[\"precision_train\"] = precision_score(y_train, y_train_pred)\n",
        "      final_results[\"precision_test\"] = precision_score(y_test, y_test_pred)\n",
        "      final_results[\"f1_train\"] = f1_score(y_train, y_train_pred)\n",
        "      final_results[\"f1_test\"] = f1_score(y_test, y_test_pred)\n",
        "      \n",
        "  return final_results"
      ],
      "metadata": {
        "id": "uPvEF2o_dJlj"
      },
      "execution_count": null,
      "outputs": []
    },
    {
      "cell_type": "code",
      "source": [
        "# SHORT SIMULATION\n",
        "params_grid_short = {\"n_estimators\" : [100, 200], # number of trees\n",
        "                     \"criterion\" : [\"gini\"],\n",
        "                     \"max_depth\" : [3, 4, 5],\n",
        "                     \"max_samples\" : [0.8, 1.0],\n",
        "                     \"bootstrap\" : [True],\n",
        "                     \"verbose\" : [1]\n",
        "                    }\n",
        "\n",
        "# MEDIUM SIMULATION\n",
        "params_grid_medium = {\"n_estimators\" : [100, 200], # number of trees\n",
        "                     \"criterion\" : [\"squared_error\", \"absolute_error\", \"friedman_mse\", \"poisson\"],\n",
        "                     \"max_depth\" : [5, 6, 7, 8, 9, 10],\n",
        "                     \"max_samples\" : [0.5, 0.7, 1.0],\n",
        "                     \"bootstrap\" : [True],\n",
        "                     \"verbose\" : [1]\n",
        "                    }\n",
        "\n",
        "# LONG SIMULATION\n",
        "params_grid_long = {\n",
        "              'n_estimators': [100, 200], # number of trees\n",
        "              'max_depth': [4, 5, 6], # Lower depth can reduce overfitting\n",
        "              'max_leaf_nodes': [4, 6],#, 8], # Lower max_leaf_nodes can reduce overfitting\n",
        "              'min_samples_leaf': [10, 20] #[5, 10, 20] # Higher values can reduce overfitting\n",
        "              }\n",
        "params_grid = {\"short\" : params_grid_short, \"long\" : params_grid_long, \"medium\" : params_grid_medium}"
      ],
      "metadata": {
        "id": "fY7HxvdUk2xR"
      },
      "execution_count": null,
      "outputs": []
    },
    {
      "cell_type": "code",
      "source": [
        "# Initialize the parameters of the simulation\n",
        "results_regression = {\"Iteration\" : [], \"Data_used\" : [], \"best_parameters\" : [], \"r2_train\" : [], \"r2_test\" : [], \"rmse_train\" : [], \"rmse_test\" : []}\n",
        "speed = \"short\"\n",
        "number_of_simulations = 10\n",
        "\n",
        "t0 = time.time()\n",
        "for iteration in range(number_of_simulations):\n",
        "\n",
        "  t_beginning = time.time()\n",
        "\n",
        "  # We train the model and store the results.\n",
        "  for data_to_use in ['all', 'socio', 'sociogenetic', 'socioghi', 'ghi']:\n",
        "    result = train_model(working_data, data_to_use=data_to_use, random_state=None, params_grid=params_grid[speed], how=\"regressor\")\n",
        "    results_regression[\"Iteration\"].append(iteration)\n",
        "    results_regression[\"Data_used\"].append(data_to_use)\n",
        "    results_regression[\"best_parameters\"].append(result[\"best_parameters\"])\n",
        "    results_regression[\"r2_train\"].append(result[\"r2_train\"])\n",
        "    results_regression[\"r2_test\"].append(result[\"r2_test\"])\n",
        "    results_regression[\"rmse_train\"].append(result[\"rmse_train\"])\n",
        "    results_regression[\"rmse_test\"].append(result[\"rmse_test\"])\n",
        "    \n",
        "  t_end = time.time()\n",
        "\n",
        "  print(\"iteration: \", iteration, \" - elapsed_time: \", t_end - t_beginning)\n",
        "\n",
        "print(\"Simulation completed.\")\n",
        "print(\"Overall elapsed_time = \", time.time() - t0)\n",
        "\n",
        "# Storing the results\n",
        "results_regression = pd.DataFrame(results_regression).sort_values(\"r2_test\", ascending=False)\n",
        "results_regression.to_csv(\"RandomForest_regression_simulation.csv\", index=False)\n",
        "\n",
        "# Display \n",
        "results_regression.groupby([\"Data_used\"])[\"r2_test\", \"rmse_test\"].agg({\"mean\", \"std\", \"count\", \"max\", \"min\"})"
      ],
      "metadata": {
        "id": "XkVMkmcAuxyP"
      },
      "execution_count": null,
      "outputs": []
    },
    {
      "cell_type": "markdown",
      "source": [
        "### Random Forest Classifier"
      ],
      "metadata": {
        "id": "KPqQc3JaLyc7"
      }
    },
    {
      "cell_type": "markdown",
      "source": [
        "Another way to see the problem is to see whether or not RandomForest is able to classify people with respect to their health.\n",
        "\n",
        "At the end of section 'Using HMLasso', we have the working_data. Let us construct a new variable, namely 'GHC' for 'Global Health Class' with 5 categories."
      ],
      "metadata": {
        "id": "qLN4p-QnL11G"
      }
    },
    {
      "cell_type": "code",
      "source": [
        "# Initialize the parameters of the simulation\n",
        "results_classification = {\"Iteration\": [], \"n_bins\": [], \"best_parameters\": [], \n",
        "                          \"accuracy_train\" : [], \"accuracy_test\": [],\n",
        "                          \"recall_train\": [], \"recall_test\": [],\n",
        "                          \"precision_train\": [], \"precision_test\": [],\n",
        "                          \"f1_train\": [], \"f1_test\": []}\n",
        "speed = \"short\"\n",
        "number_of_simulations = 10\n",
        "n_bins_max = 11\n",
        "\n",
        "t0 = time.time()\n",
        "for iteration in range(0, number_of_simulations):\n",
        "\n",
        "  t_beginning = time.time()\n",
        "\n",
        "  # We train the model and store the results.\n",
        "  for n_bins in range(2, n_bins_max):\n",
        "    result = train_model(working_data, data_to_use='all', random_state=None, params_grid=params_grid[speed], how=\"classifier\", n_bins=n_bins)\n",
        "    results_classification[\"Iteration\"].append(iteration)\n",
        "    results_classification[\"n_bins\"].append(n_bins)\n",
        "    results_classification[\"best_parameters\"].append(result[\"best_parameters\"])\n",
        "    results_classification[\"accuracy_train\"].append(result[\"accuracy_train\"])\n",
        "    results_classification[\"accuracy_test\"].append(result[\"accuracy_test\"])\n",
        "    \n",
        "    results_classification[\"recall_train\"].append(result[\"recall_train\"])\n",
        "    results_classification[\"recall_test\"].append(result[\"recall_test\"])\n",
        "    results_classification[\"precision_train\"].append(result[\"precision_train\"])\n",
        "    results_classification[\"precision_test\"].append(result[\"precision_test\"])\n",
        "    results_classification[\"f1_train\"].append(result[\"f1_train\"])\n",
        "    results_classification[\"f1_test\"].append(result[\"f1_test\"])\n",
        "    \n",
        "  t_end = time.time()\n",
        "\n",
        "  print(\"iteration: \", iteration, \" - elapsed_time: \", t_end - t_beginning)\n",
        "\n",
        "print(\"Simulation completed.\")\n",
        "print(\"Overall elapsed_time = \", time.time() - t0)\n",
        "\n",
        "# Storing the results\n",
        "results_classification = pd.DataFrame(results_classification).sort_values(\"accuracy_test\", ascending=False)\n",
        "results_classification.to_csv(\"RandomForest_classification_simulation.csv\", index=False)\n",
        "\n",
        "# Display \n",
        "results_classification.groupby([\"n_bins\"])[\"accuracy_test\"].agg({\"mean\", \"std\", \"count\", \"max\", \"min\"})"
      ],
      "metadata": {
        "id": "otQ7_JHzL7od"
      },
      "execution_count": null,
      "outputs": []
    },
    {
      "cell_type": "code",
      "source": [
        "results_classification.groupby([\"n_bins\"])[\"accuracy_test\"].mean().plot()\n",
        "plt.grid()\n",
        "plt.xlabel(\"Number of classes\")\n",
        "plt.ylabel(\"Accuracy on test set\")\n",
        "plt.title(\"Accuracy w.r.t number of classes\")\n",
        "plt.show()"
      ],
      "metadata": {
        "id": "QW1J37h-mHK_",
        "colab": {
          "base_uri": "https://localhost:8080/",
          "height": 472
        },
        "outputId": "4d3563fe-e180-400c-d803-593b8d69b4dd"
      },
      "execution_count": null,
      "outputs": [
        {
          "output_type": "display_data",
          "data": {
            "text/plain": [
              "<Figure size 640x480 with 1 Axes>"
            ],
            "image/png": "[encoded data removed]"
          },
          "metadata": {}
        }
      ]
    },
    {
      "cell_type": "code",
      "source": [
        "results_classification.groupby([\"n_bins\"])[\"accuracy_test\"].mean()*results_classification.groupby([\"n_bins\"])[\"accuracy_test\"].mean().index"
      ],
      "metadata": {
        "colab": {
          "base_uri": "https://localhost:8080/"
        },
        "id": "9X-qakDsHvcP",
        "outputId": "594ac3af-ffdb-462a-ae7f-2fc31569dbe1"
      },
      "execution_count": null,
      "outputs": [
        {
          "output_type": "execute_result",
          "data": {
            "text/plain": [
              "n_bins\n",
              "2     1.464412\n",
              "3     1.707353\n",
              "4     1.827059\n",
              "5     2.030147\n",
              "6     2.107941\n",
              "7     2.378971\n",
              "8     2.636471\n",
              "9     2.655000\n",
              "10    2.670588\n",
              "dtype: float64"
            ]
          },
          "metadata": {},
          "execution_count": 10
        }
      ]
    },
    {
      "cell_type": "code",
      "source": [
        "results_classification.groupby([\"n_bins\"])[\"accuracy_test\"].mean()"
      ],
      "metadata": {
        "id": "WLc-ZjO_H6qN",
        "colab": {
          "base_uri": "https://localhost:8080/"
        },
        "outputId": "6b05fda6-1d9d-4fdd-b52a-3ab96f1c36c3"
      },
      "execution_count": null,
      "outputs": [
        {
          "output_type": "execute_result",
          "data": {
            "text/plain": [
              "n_bins\n",
              "2     0.732206\n",
              "3     0.569118\n",
              "4     0.456765\n",
              "5     0.406029\n",
              "6     0.351324\n",
              "7     0.339853\n",
              "8     0.329559\n",
              "9     0.295000\n",
              "10    0.267059\n",
              "Name: accuracy_test, dtype: float64"
            ]
          },
          "metadata": {},
          "execution_count": 11
        }
      ]
    },
    {
      "cell_type": "code",
      "source": [
        "results_classification.groupby([\"n_bins\"])[\"accuracy_test\", \"f1_test\", \"recall_test\", \"precision_test\"].mean()"
      ],
      "metadata": {
        "id": "XVtc99DCF1ty",
        "colab": {
          "base_uri": "https://localhost:8080/",
          "height": 417
        },
        "outputId": "ceaeced6-dd75-45bf-8498-74aef926e5bb"
      },
      "execution_count": null,
      "outputs": [
        {
          "output_type": "stream",
          "name": "stderr",
          "text": [
            "<ipython-input-12-01ca52aef037>:1: FutureWarning: Indexing with multiple keys (implicitly converted to a tuple of keys) will be deprecated, use a list instead.\n",
            "  results_classification.groupby([\"n_bins\"])[\"accuracy_test\", \"f1_test\", \"recall_test\", \"precision_test\"].mean()\n"
          ]
        },
        {
          "output_type": "execute_result",
          "data": {
            "text/plain": [
              "        accuracy_test   f1_test  recall_test  precision_test\n",
              "n_bins                                                      \n",
              "2            0.732206  0.764571     0.777158        0.752893\n",
              "3            0.569118       NaN          NaN             NaN\n",
              "4            0.456765       NaN          NaN             NaN\n",
              "5            0.406029       NaN          NaN             NaN\n",
              "6            0.351324       NaN          NaN             NaN\n",
              "7            0.339853       NaN          NaN             NaN\n",
              "8            0.329559       NaN          NaN             NaN\n",
              "9            0.295000       NaN          NaN             NaN\n",
              "10           0.267059       NaN          NaN             NaN"
            ],
            "text/html": [
              "\n",
              "  <div id=\"df-13aebd84-5f9c-434f-8913-ba6c7733acd8\">\n",
              "    <div class=\"colab-df-container\">\n",
              "      <div>\n",
              "<style scoped>\n",
              "    .dataframe tbody tr th:only-of-type {\n",
              "        vertical-align: middle;\n",
              "    }\n",
              "\n",
              "    .dataframe tbody tr th {\n",
              "        vertical-align: top;\n",
              "    }\n",
              "\n",
              "    .dataframe thead th {\n",
              "        text-align: right;\n",
              "    }\n",
              "</style>\n",
              "<table border=\"1\" class=\"dataframe\">\n",
              "  <thead>\n",
              "    <tr style=\"text-align: right;\">\n",
              "      <th></th>\n",
              "      <th>accuracy_test</th>\n",
              "      <th>f1_test</th>\n",
              "      <th>recall_test</th>\n",
              "      <th>precision_test</th>\n",
              "    </tr>\n",
              "    <tr>\n",
              "      <th>n_bins</th>\n",
              "      <th></th>\n",
              "      <th></th>\n",
              "      <th></th>\n",
              "      <th></th>\n",
              "    </tr>\n",
              "  </thead>\n",
              "  <tbody>\n",
              "    <tr>\n",
              "      <th>2</th>\n",
              "      <td>0.732206</td>\n",
              "      <td>0.764571</td>\n",
              "      <td>0.777158</td>\n",
              "      <td>0.752893</td>\n",
              "    </tr>\n",
              "    <tr>\n",
              "      <th>3</th>\n",
              "      <td>0.569118</td>\n",
              "      <td>NaN</td>\n",
              "      <td>NaN</td>\n",
              "      <td>NaN</td>\n",
              "    </tr>\n",
              "    <tr>\n",
              "      <th>4</th>\n",
              "      <td>0.456765</td>\n",
              "      <td>NaN</td>\n",
              "      <td>NaN</td>\n",
              "      <td>NaN</td>\n",
              "    </tr>\n",
              "    <tr>\n",
              "      <th>5</th>\n",
              "      <td>0.406029</td>\n",
              "      <td>NaN</td>\n",
              "      <td>NaN</td>\n",
              "      <td>NaN</td>\n",
              "    </tr>\n",
              "    <tr>\n",
              "      <th>6</th>\n",
              "      <td>0.351324</td>\n",
              "      <td>NaN</td>\n",
              "      <td>NaN</td>\n",
              "      <td>NaN</td>\n",
              "    </tr>\n",
              "    <tr>\n",
              "      <th>7</th>\n",
              "      <td>0.339853</td>\n",
              "      <td>NaN</td>\n",
              "      <td>NaN</td>\n",
              "      <td>NaN</td>\n",
              "    </tr>\n",
              "    <tr>\n",
              "      <th>8</th>\n",
              "      <td>0.329559</td>\n",
              "      <td>NaN</td>\n",
              "      <td>NaN</td>\n",
              "      <td>NaN</td>\n",
              "    </tr>\n",
              "    <tr>\n",
              "      <th>9</th>\n",
              "      <td>0.295000</td>\n",
              "      <td>NaN</td>\n",
              "      <td>NaN</td>\n",
              "      <td>NaN</td>\n",
              "    </tr>\n",
              "    <tr>\n",
              "      <th>10</th>\n",
              "      <td>0.267059</td>\n",
              "      <td>NaN</td>\n",
              "      <td>NaN</td>\n",
              "      <td>NaN</td>\n",
              "    </tr>\n",
              "  </tbody>\n",
              "</table>\n",
              "</div>\n",
              "      <button class=\"colab-df-convert\" onclick=\"convertToInteractive('df-13aebd84-5f9c-434f-8913-ba6c7733acd8')\"\n",
              "              title=\"Convert this dataframe to an interactive table.\"\n",
              "              style=\"display:none;\">\n",
              "        \n",
              "  <svg xmlns=\"http://www.w3.org/2000/svg\" height=\"24px\"viewBox=\"0 0 24 24\"\n",
              "       width=\"24px\">\n",
              "    <path d=\"M0 0h24v24H0V0z\" fill=\"none\"/>\n",
              "    <path d=\"M18.56 5.44l.94 2.06.94-2.06 2.06-.94-2.06-.94-.94-2.06-.94 2.06-2.06.94zm-11 1L8.5 8.5l.94-2.06 2.06-.94-2.06-.94L8.5 2.5l-.94 2.06-2.06.94zm10 10l.94 2.06.94-2.06 2.06-.94-2.06-.94-.94-2.06-.94 2.06-2.06.94z\"/><path d=\"M17.41 7.96l-1.37-1.37c-.4-.4-.92-.59-1.43-.59-.52 0-1.04.2-1.43.59L10.3 9.45l-7.72 7.72c-.78.78-.78 2.05 0 2.83L4 21.41c.39.39.9.59 1.41.59.51 0 1.02-.2 1.41-.59l7.78-7.78 2.81-2.81c.8-.78.8-2.07 0-2.86zM5.41 20L4 18.59l7.72-7.72 1.47 1.35L5.41 20z\"/>\n",
              "  </svg>\n",
              "      </button>\n",
              "      \n",
              "  <style>\n",
              "    .colab-df-container {\n",
              "      display:flex;\n",
              "      flex-wrap:wrap;\n",
              "      gap: 12px;\n",
              "    }\n",
              "\n",
              "    .colab-df-convert {\n",
              "      background-color: #E8F0FE;\n",
              "      border: none;\n",
              "      border-radius: 50%;\n",
              "      cursor: pointer;\n",
              "      display: none;\n",
              "      fill: #1967D2;\n",
              "      height: 32px;\n",
              "      padding: 0 0 0 0;\n",
              "      width: 32px;\n",
              "    }\n",
              "\n",
              "    .colab-df-convert:hover {\n",
              "      background-color: #E2EBFA;\n",
              "      box-shadow: 0px 1px 2px rgba(60, 64, 67, 0.3), 0px 1px 3px 1px rgba(60, 64, 67, 0.15);\n",
              "      fill: #174EA6;\n",
              "    }\n",
              "\n",
              "    [theme=dark] .colab-df-convert {\n",
              "      background-color: #3B4455;\n",
              "      fill: #D2E3FC;\n",
              "    }\n",
              "\n",
              "    [theme=dark] .colab-df-convert:hover {\n",
              "      background-color: #434B5C;\n",
              "      box-shadow: 0px 1px 3px 1px rgba(0, 0, 0, 0.15);\n",
              "      filter: drop-shadow(0px 1px 2px rgba(0, 0, 0, 0.3));\n",
              "      fill: #FFFFFF;\n",
              "    }\n",
              "  </style>\n",
              "\n",
              "      <script>\n",
              "        const buttonEl =\n",
              "          document.querySelector('#df-13aebd84-5f9c-434f-8913-ba6c7733acd8 button.colab-df-convert');\n",
              "        buttonEl.style.display =\n",
              "          google.colab.kernel.accessAllowed ? 'block' : 'none';\n",
              "\n",
              "        async function convertToInteractive(key) {\n",
              "          const element = document.querySelector('#df-13aebd84-5f9c-434f-8913-ba6c7733acd8');\n",
              "          const dataTable =\n",
              "            await google.colab.kernel.invokeFunction('convertToInteractive',\n",
              "                                                     [key], {});\n",
              "          if (!dataTable) return;\n",
              "\n",
              "          const docLinkHtml = 'Like what you see? Visit the ' +\n",
              "            '<a target=\"_blank\" href=https://colab.research.google.com/notebooks/data_table.ipynb>data table notebook</a>'\n",
              "            + ' to learn more about interactive tables.';\n",
              "          element.innerHTML = '';\n",
              "          dataTable['output_type'] = 'display_data';\n",
              "          await google.colab.output.renderOutput(dataTable, element);\n",
              "          const docLink = document.createElement('div');\n",
              "          docLink.innerHTML = docLinkHtml;\n",
              "          element.appendChild(docLink);\n",
              "        }\n",
              "      </script>\n",
              "    </div>\n",
              "  </div>\n",
              "  "
            ]
          },
          "metadata": {},
          "execution_count": 12
        }
      ]
    }
  ]
}