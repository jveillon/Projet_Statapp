{
 "cells": [
  {
   "cell_type": "code",
   "execution_count": 1,
   "id": "79ba64ca",
   "metadata": {},
   "outputs": [],
   "source": [
    "import numpy as np\n",
    "import pandas as pd"
   ]
  },
  {
   "cell_type": "code",
   "execution_count": 2,
   "id": "1c9205d6",
   "metadata": {},
   "outputs": [
    {
     "name": "stderr",
     "output_type": "stream",
     "text": [
      "C:\\Users\\kerya\\AppData\\Local\\Temp\\ipykernel_18860\\1072190214.py:1: DtypeWarning: Columns (1379,1380,1382,1388,1391) have mixed types. Specify dtype option on import or set low_memory=False.\n",
      "  dataBase = pd.read_csv(\"merged_all.csv\")\n"
     ]
    }
   ],
   "source": [
    "dataBase = pd.read_csv(\"merged_all.csv\")"
   ]
  },
  {
   "cell_type": "code",
   "execution_count": 5,
   "id": "11f29e57",
   "metadata": {},
   "outputs": [],
   "source": [
    "############################################################################################\n",
    "# Pre-merge of Section A and E checks.\n",
    "############################################################################################\n",
    "\n",
    "# We check whether or not keeping columns from both sections A and E is needed.\n",
    "\n",
    "# Columns of section A\n",
    "columns_section_A = ['HHID.x', 'PN.x', 'PC1_5A.x', 'PC1_5B.x', 'PC1_5C.x', 'PC1_5D.x',\n",
    "       'PC1_5E.x', 'PC6_10A.x', 'PC6_10B.x', 'PC6_10C.x', 'PC6_10D.x',\n",
    "       'PC6_10E.x', 'A4_GENCOG_CHARGE15', 'A4_BMI_GIANT15',\n",
    "       'A4_HEIGHT_GIANT14', 'A4_SCZ_PGC14', 'A4_EDU2_SSGAC16',\n",
    "       'A4_EVRSMK_TAG10', 'A4_AD_IGAP13', 'A4_AD2_IGAP13', 'A4_WC_GIANT15',\n",
    "       'A4_WHR_GIANT15', 'A4_NEUROT_SSGAC16', 'A4_WELLB_SSGAC16',\n",
    "       'A4_DEPSYMP_SSGAC16', 'A4_CD_CARDIOGRAM11', 'A4_MI_CARDIOGRAM15',\n",
    "       'A4_CORT_CORNET14', 'A4_T2D_DIAGRAM12', 'A4_BIP_PGC11', 'A4_ADHD_PGC17',\n",
    "       'A4_ADHD_PGC10', 'A4_XDISORDER_PGC13', 'A4_MENA_REPROGEN14',\n",
    "       'A4_MENO_REPROGEN15', 'A4_MDD_PGC13', 'A4_CPD_TAG10',\n",
    "       'A4_EXTRAVER_GPC16', 'A4_AUTISM_PGC17', 'A4_LONG_CHARGE15',\n",
    "       'A4_AB_BROAD17', 'A4_EDU3_SSGAC18', 'A4_OCD_IOCDF17',\n",
    "       'A4_AFBC_SOCGEN16', 'A4_AFBF_SOCGEN16', 'A4_AFBM_SOCGEN16',\n",
    "       'A4_NEBC_SOCGEN16', 'A4_NEBF_SOCGEN16', 'A4_NEBM_SOCGEN16',\n",
    "       'A4_MDD2_PGC18', 'A4_PTSDAA_PGC18', 'A4_PTSDEA_PGC18', 'A4_PTSDC_PGC18',\n",
    "       'A4_HDL_GLGC13', 'A4_LDL_GLGC13', 'A4_TC_GLGC13', 'A4_ANXFS_ANGST16',\n",
    "       'A4_ANXCC_ANGST16', 'A4_BUN_CKDGEN19', 'A4_BUNTE_CKDGEN19',\n",
    "       'A4_CKD_CKDGEN19', 'A4_CKDTE_CKDGEN19', 'A4_DBP_COGENT17',\n",
    "       'A4_BMI2_GIANT18', 'A4_HEIGHT2_GIANT18', 'A4_AI_GSCAN19',\n",
    "       'A4_CPD_GSCAN19', 'A4_DPW_GSCAN19', 'A4_SC_GSCAN19', 'A4_SI_GSCAN19',\n",
    "       'A4_HTN_COGENT17', 'A4_CANNABIS_ICC18', 'A4_GWAD2NA_IGAP19',\n",
    "       'A4_01AD2NA_IGAP19', 'A4_GWAD2WA_IGAP19', 'A4_01AD2WA_IGAP19',\n",
    "       'A4_ALC_PGC18', 'A4_PP_COGENT17', 'A4_SBP_COGENT17', 'A4_EGFR_CKDGEN19',\n",
    "       'A4_EGFRTE_CKDGEN19', 'A4_EA3_W23_SSGAC18', 'A4_HBA1CAA_MAGIC17',\n",
    "       'A4_HBA1CEA_MAGIC17', 'A4_GCOG2_CHARGE18', 'VERSION.x']\n",
    "\n",
    "# Columns of section E\n",
    "columns_section_E = ['HHID.y', 'PN.y', 'PC1_5A.y', 'PC1_5B.y', 'PC1_5C.y', 'PC1_5D.y',\n",
    "       'PC1_5E.y', 'PC6_10A.y', 'PC6_10B.y', 'PC6_10C.y', 'PC6_10D.y',\n",
    "       'PC6_10E.y', 'E4_GENCOG_CHARGE15', 'E4_BMI_GIANT15',\n",
    "       'E4_HEIGHT_GIANT14', 'E4_SCZ_PGC14', 'E4_EDU2_SSGAC16',\n",
    "       'E4_EVRSMK_TAG10', 'E4_AD_IGAP13', 'E4_AD2_IGAP13', 'E4_WC_GIANT15',\n",
    "       'E4_WHR_GIANT15', 'E4_NEUROT_SSGAC16', 'E4_WELLB_SSGAC16',\n",
    "       'E4_DEPSYMP_SSGAC16', 'E4_CD_CARDIOGRAM11', 'E4_MI_CARDIOGRAM15',\n",
    "       'E4_CORT_CORNET14', 'E4_T2D_DIAGRAM12', 'E4_BIP_PGC11', 'E4_ADHD_PGC17',\n",
    "       'E4_ADHD_PGC10', 'E4_XDISORDER_PGC13', 'E4_MENA_REPROGEN14',\n",
    "       'E4_MENO_REPROGEN15', 'E4_MDD_PGC13', 'E4_CPD_TAG10',\n",
    "       'E4_EXTRAVER_GPC16', 'E4_AUTISM_PGC17', 'E4_LONG_CHARGE15',\n",
    "       'E4_AB_BROAD17', 'E4_EDU3_SSGAC18', 'E4_OCD_IOCDF17',\n",
    "       'E4_AFBC_SOCGEN16', 'E4_AFBF_SOCGEN16', 'E4_AFBM_SOCGEN16',\n",
    "       'E4_NEBC_SOCGEN16', 'E4_NEBF_SOCGEN16', 'E4_NEBM_SOCGEN16',\n",
    "       'E4_MDD2_PGC18', 'E4_PTSDAA_PGC18', 'E4_PTSDEA_PGC18', 'E4_PTSDC_PGC18',\n",
    "       'E4_HDL_GLGC13', 'E4_LDL_GLGC13', 'E4_TC_GLGC13', 'E4_ANXFS_ANGST16',\n",
    "       'E4_ANXCC_ANGST16', 'E4_BUN_CKDGEN19', 'E4_BUNTE_CKDGEN19',\n",
    "       'E4_CKD_CKDGEN19', 'E4_CKDTE_CKDGEN19', 'E4_DBP_COGENT17',\n",
    "       'E4_BMI2_GIANT18', 'E4_HEIGHT2_GIANT18', 'E4_AI_GSCAN19',\n",
    "       'E4_CPD_GSCAN19', 'E4_DPW_GSCAN19', 'E4_SC_GSCAN19', 'E4_SI_GSCAN19',\n",
    "       'E4_HTN_COGENT17', 'E4_CANNABIS_ICC18', 'E4_GWAD2NA_IGAP19',\n",
    "       'E4_01AD2NA_IGAP19', 'E4_GWAD2WA_IGAP19', 'E4_01AD2WA_IGAP19',\n",
    "       'E4_ALC_PGC18', 'E4_PP_COGENT17', 'E4_SBP_COGENT17', 'E4_EGFR_CKDGEN19',\n",
    "       'E4_EGFRTE_CKDGEN19', 'E4_EA3_W23_SSGAC18', 'E4_HBA1CAA_MAGIC17',\n",
    "       'E4_HBA1CEA_MAGIC17', 'E4_GCOG2_CHARGE18', 'VERSION.y']\n",
    "\n",
    "number_of_genetic_variables = len(columns_section_E) # Number of variables in one section.\n",
    "for i in range(number_of_genetic_variables):\n",
    "    var_section_A = columns_section_A[i]\n",
    "    var_section_E = columns_section_E[i]\n",
    "\n",
    "    # Normally, each individual i is present in only one Section, so for any genetic variable V, we must have\n",
    "    # V_sectionA(i) = NaN or V_sectionE(i) = NaN. We check that.\n",
    "    if not dataBase.loc[(~dataBase[var_section_A].isna()) & (~dataBase[var_section_E].isna()), \"HHIDPN\"].empty:\n",
    "        raise Exception(\"Variable %u presents conflicts between section A and E.\" % var_section_A)"
   ]
  },
  {
   "cell_type": "code",
   "execution_count": 6,
   "id": "1ff5e5d4",
   "metadata": {},
   "outputs": [],
   "source": [
    "############################################################################################\n",
    "# Merge of sections A and E.\n",
    "############################################################################################\n",
    "\n",
    "# We now create new variabbles whose name will start with 'M' for 'Merged'.\n",
    "for i in range(number_of_genetic_variables):\n",
    "    var_section_A = columns_section_A[i]\n",
    "    first_char = var_section_A[0]\n",
    "    \n",
    "    if first_char==\"A\": # for instance : \"A4_AD_IGAP13\" or \"A4_ADHD_PGC17\"\n",
    "        var_section_merged = \"M\" + var_section_A[1:] # It becomes \"M4_AD_IGAP13\" ou \"M4_ADHD_PGC17\"\n",
    "    else: # for instance : \"PC1_5A.x\" or \"PC6_10D.y\" or \"VERSION.x\"\n",
    "        var_section_merged = var_section_A[:-1] + \"M\" # It becomes \"PC1_5A.M\" or PC6_10D.M\" or \"VERSION.M\"\n",
    "    \n",
    "    # We save the newly created variable.\n",
    "    dataBase[var_section_merged] = dataBase[var_section_A].combine_first(dataBase[var_section_E])\n",
    "\n",
    "# We create a new variable, named 'Section_A_or_E', to know where does the value of 'var_section_merged' comes from.\n",
    "dataBase[\"Section_A_or_E\"] = np.nan\n",
    "dataBase.loc[dataBase[var_section_merged] == dataBase[var_section_A], \"Section_A_or_E\"] = \"A\"\n",
    "dataBase.loc[dataBase[var_section_merged] == dataBase[var_section_E], \"Section_A_or_E\"] = \"E\""
   ]
  },
  {
   "cell_type": "code",
   "execution_count": 13,
   "id": "efa1d5ec",
   "metadata": {},
   "outputs": [],
   "source": [
    "############################################################################################\n",
    "# Deleting old data from sections A and E.\n",
    "############################################################################################\n",
    "dataBase.drop(columns_section_A[2:], axis=1, inplace=True)\n",
    "#dataBase.drop(columns_section_E, axis=1, inplace=True)"
   ]
  }
 ],
 "metadata": {
  "kernelspec": {
   "display_name": "Python 3 (ipykernel)",
   "language": "python",
   "name": "python3"
  },
  "language_info": {
   "codemirror_mode": {
    "name": "ipython",
    "version": 3
   },
   "file_extension": ".py",
   "mimetype": "text/x-python",
   "name": "python",
   "nbconvert_exporter": "python",
   "pygments_lexer": "ipython3",
   "version": "3.9.13"
  }
 },
 "nbformat": 4,
 "nbformat_minor": 5
}
